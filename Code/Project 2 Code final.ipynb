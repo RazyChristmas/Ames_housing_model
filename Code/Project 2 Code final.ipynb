{
 "cells": [
  {
   "cell_type": "markdown",
   "metadata": {},
   "source": [
    "# Problem Statement:"
   ]
  },
  {
   "cell_type": "markdown",
   "metadata": {},
   "source": [
    "Acclaimed real estate firm House Sellers Plus has had a sudden change in leadership! Following a mid-life crisis executive director Jerry Seller has stepped down. Taking his place is his inexperienced son, Ben Seller. Ben has brought in a data science expert to provide the groundwork on evaluating the value of all the homes currently owned by the firm in Aimes, Iowa. \n",
    "\n",
    "Thankfully the Ames Assessor’s Office has provided to the firm a collection of data on the sale of houses in the area, which can be used to gain some insight into the housing market in the city.\n",
    "\n",
    "This project will require the cleaning and use of the Ames housing data set in order to create models that can predict the sale price of a house. After cleaning the data I will use my newly acquired skills of modeling to attempt to find out what features predict the sale price of a house and build a model that can be used to do just that: predict the price of a house. \n"
   ]
  },
  {
   "cell_type": "markdown",
   "metadata": {},
   "source": [
    "# Background Research:"
   ]
  },
  {
   "cell_type": "markdown",
   "metadata": {},
   "source": [
    "According to an article written for [Opendoor](https://www.opendoor.com/w/blog/factors-that-influence-home-value#:~:text=The%20local%20market,homes%20it's%20a%20seller's%20market.), a digital platform for buying and selling residential real estate,  two of the most essential factors affecting the price of a house are the overall home size, and the age of the house. Using the data and simple models I will look at how much those two factors hold true to predicting housing prices. I also plan to build a more complex model using much more of the data and other features noted in the article to try to build a more robust model. "
   ]
  },
  {
   "cell_type": "markdown",
   "metadata": {},
   "source": [
    "# imports"
   ]
  },
  {
   "cell_type": "code",
   "execution_count": 1,
   "metadata": {
    "ExecuteTime": {
     "end_time": "2021-04-17T01:57:45.345862Z",
     "start_time": "2021-04-17T01:57:43.406151Z"
    }
   },
   "outputs": [],
   "source": [
    "#standard imports\n",
    "import pandas as pd\n",
    "import numpy as np\n",
    "import matplotlib.pyplot as plt\n",
    "import seaborn as sns\n",
    "\n",
    "# modeling imports\n",
    "from sklearn.linear_model import LinearRegression\n",
    "from sklearn.model_selection import train_test_split, cross_val_score\n",
    "from sklearn.preprocessing import StandardScaler, PolynomialFeatures\n",
    "from sklearn.metrics import mean_squared_error, r2_score\n",
    "from sklearn.linear_model import Ridge, RidgeCV\n",
    "from sklearn.linear_model import Lasso, LassoCV\n",
    "from sklearn.dummy import DummyRegressor"
   ]
  },
  {
   "cell_type": "code",
   "execution_count": 2,
   "metadata": {
    "ExecuteTime": {
     "end_time": "2021-04-17T01:57:45.393905Z",
     "start_time": "2021-04-17T01:57:45.347864Z"
    }
   },
   "outputs": [],
   "source": [
    "housing = pd.read_csv('./datasets/train.csv')\n",
    "housingtest = pd.read_csv('./datasets/test.csv')\n",
    "\n",
    "train_ids = housing['Id']\n",
    "test_ids = housingtest['Id']"
   ]
  },
  {
   "cell_type": "code",
   "execution_count": 3,
   "metadata": {
    "ExecuteTime": {
     "end_time": "2021-04-17T01:57:45.424931Z",
     "start_time": "2021-04-17T01:57:45.398910Z"
    },
    "scrolled": false
   },
   "outputs": [
    {
     "name": "stdout",
     "output_type": "stream",
     "text": [
      "<class 'pandas.core.frame.DataFrame'>\n",
      "RangeIndex: 2051 entries, 0 to 2050\n",
      "Data columns (total 81 columns):\n",
      " #   Column           Non-Null Count  Dtype  \n",
      "---  ------           --------------  -----  \n",
      " 0   Id               2051 non-null   int64  \n",
      " 1   PID              2051 non-null   int64  \n",
      " 2   MS SubClass      2051 non-null   int64  \n",
      " 3   MS Zoning        2051 non-null   object \n",
      " 4   Lot Frontage     1721 non-null   float64\n",
      " 5   Lot Area         2051 non-null   int64  \n",
      " 6   Street           2051 non-null   object \n",
      " 7   Alley            140 non-null    object \n",
      " 8   Lot Shape        2051 non-null   object \n",
      " 9   Land Contour     2051 non-null   object \n",
      " 10  Utilities        2051 non-null   object \n",
      " 11  Lot Config       2051 non-null   object \n",
      " 12  Land Slope       2051 non-null   object \n",
      " 13  Neighborhood     2051 non-null   object \n",
      " 14  Condition 1      2051 non-null   object \n",
      " 15  Condition 2      2051 non-null   object \n",
      " 16  Bldg Type        2051 non-null   object \n",
      " 17  House Style      2051 non-null   object \n",
      " 18  Overall Qual     2051 non-null   int64  \n",
      " 19  Overall Cond     2051 non-null   int64  \n",
      " 20  Year Built       2051 non-null   int64  \n",
      " 21  Year Remod/Add   2051 non-null   int64  \n",
      " 22  Roof Style       2051 non-null   object \n",
      " 23  Roof Matl        2051 non-null   object \n",
      " 24  Exterior 1st     2051 non-null   object \n",
      " 25  Exterior 2nd     2051 non-null   object \n",
      " 26  Mas Vnr Type     2029 non-null   object \n",
      " 27  Mas Vnr Area     2029 non-null   float64\n",
      " 28  Exter Qual       2051 non-null   object \n",
      " 29  Exter Cond       2051 non-null   object \n",
      " 30  Foundation       2051 non-null   object \n",
      " 31  Bsmt Qual        1996 non-null   object \n",
      " 32  Bsmt Cond        1996 non-null   object \n",
      " 33  Bsmt Exposure    1993 non-null   object \n",
      " 34  BsmtFin Type 1   1996 non-null   object \n",
      " 35  BsmtFin SF 1     2050 non-null   float64\n",
      " 36  BsmtFin Type 2   1995 non-null   object \n",
      " 37  BsmtFin SF 2     2050 non-null   float64\n",
      " 38  Bsmt Unf SF      2050 non-null   float64\n",
      " 39  Total Bsmt SF    2050 non-null   float64\n",
      " 40  Heating          2051 non-null   object \n",
      " 41  Heating QC       2051 non-null   object \n",
      " 42  Central Air      2051 non-null   object \n",
      " 43  Electrical       2051 non-null   object \n",
      " 44  1st Flr SF       2051 non-null   int64  \n",
      " 45  2nd Flr SF       2051 non-null   int64  \n",
      " 46  Low Qual Fin SF  2051 non-null   int64  \n",
      " 47  Gr Liv Area      2051 non-null   int64  \n",
      " 48  Bsmt Full Bath   2049 non-null   float64\n",
      " 49  Bsmt Half Bath   2049 non-null   float64\n",
      " 50  Full Bath        2051 non-null   int64  \n",
      " 51  Half Bath        2051 non-null   int64  \n",
      " 52  Bedroom AbvGr    2051 non-null   int64  \n",
      " 53  Kitchen AbvGr    2051 non-null   int64  \n",
      " 54  Kitchen Qual     2051 non-null   object \n",
      " 55  TotRms AbvGrd    2051 non-null   int64  \n",
      " 56  Functional       2051 non-null   object \n",
      " 57  Fireplaces       2051 non-null   int64  \n",
      " 58  Fireplace Qu     1051 non-null   object \n",
      " 59  Garage Type      1938 non-null   object \n",
      " 60  Garage Yr Blt    1937 non-null   float64\n",
      " 61  Garage Finish    1937 non-null   object \n",
      " 62  Garage Cars      2050 non-null   float64\n",
      " 63  Garage Area      2050 non-null   float64\n",
      " 64  Garage Qual      1937 non-null   object \n",
      " 65  Garage Cond      1937 non-null   object \n",
      " 66  Paved Drive      2051 non-null   object \n",
      " 67  Wood Deck SF     2051 non-null   int64  \n",
      " 68  Open Porch SF    2051 non-null   int64  \n",
      " 69  Enclosed Porch   2051 non-null   int64  \n",
      " 70  3Ssn Porch       2051 non-null   int64  \n",
      " 71  Screen Porch     2051 non-null   int64  \n",
      " 72  Pool Area        2051 non-null   int64  \n",
      " 73  Pool QC          9 non-null      object \n",
      " 74  Fence            400 non-null    object \n",
      " 75  Misc Feature     65 non-null     object \n",
      " 76  Misc Val         2051 non-null   int64  \n",
      " 77  Mo Sold          2051 non-null   int64  \n",
      " 78  Yr Sold          2051 non-null   int64  \n",
      " 79  Sale Type        2051 non-null   object \n",
      " 80  SalePrice        2051 non-null   int64  \n",
      "dtypes: float64(11), int64(28), object(42)\n",
      "memory usage: 1.3+ MB\n"
     ]
    }
   ],
   "source": [
    "housing.info()"
   ]
  },
  {
   "cell_type": "markdown",
   "metadata": {},
   "source": [
    "The data set is in generally pretty good shape, with 26 or so columns having nulls, but really only 6 or so that will need serious work. Without outlier(spoilers: there are outliers) I anticipate being able to keep most of the data."
   ]
  },
  {
   "cell_type": "markdown",
   "metadata": {},
   "source": [
    "# Cleaning Train Data:"
   ]
  },
  {
   "cell_type": "code",
   "execution_count": 4,
   "metadata": {
    "ExecuteTime": {
     "end_time": "2021-04-17T01:57:45.456959Z",
     "start_time": "2021-04-17T01:57:45.426934Z"
    }
   },
   "outputs": [
    {
     "data": {
      "text/plain": [
       "Pool QC           2042\n",
       "Misc Feature      1986\n",
       "Alley             1911\n",
       "Fence             1651\n",
       "Fireplace Qu      1000\n",
       "Lot Frontage       330\n",
       "Garage Finish      114\n",
       "Garage Cond        114\n",
       "Garage Qual        114\n",
       "Garage Yr Blt      114\n",
       "Garage Type        113\n",
       "Bsmt Exposure       58\n",
       "BsmtFin Type 2      56\n",
       "BsmtFin Type 1      55\n",
       "Bsmt Cond           55\n",
       "Bsmt Qual           55\n",
       "Mas Vnr Type        22\n",
       "Mas Vnr Area        22\n",
       "Bsmt Half Bath       2\n",
       "Bsmt Full Bath       2\n",
       "Garage Cars          1\n",
       "Garage Area          1\n",
       "Bsmt Unf SF          1\n",
       "BsmtFin SF 2         1\n",
       "Total Bsmt SF        1\n",
       "BsmtFin SF 1         1\n",
       "dtype: int64"
      ]
     },
     "execution_count": 4,
     "metadata": {},
     "output_type": "execute_result"
    }
   ],
   "source": [
    "nulls = housing.isnull().sum().sort_values(ascending =False)\n",
    "nulls[nulls > 0]"
   ]
  },
  {
   "cell_type": "markdown",
   "metadata": {},
   "source": [
    "There are a lot of data types that are categorical based on the scale: Excellent, Good, Typical, Fair, Poor. If the house didn't have the object of this category it was imputed as NA. an example of this would be for the fireplace quality category, if the house didn't have a category it was input as null values. Adjusting this to a number scale, excellent = 5, good = 4, typical = 3, fair = 2, poor = 1, and 0 for everything else. This will allows for the null values to be replaced with non-null zeros, and make the columns easier to work with as they will be in numbers and not strings. Thanks to [Kevin Crystal](https://medium.com/@kevin.a.crystal/intermediate-data-cleaning-195e1af3ccf9)'s blog post to help identify some patterns to clean and some code ideas to clean them."
   ]
  },
  {
   "cell_type": "code",
   "execution_count": 5,
   "metadata": {
    "ExecuteTime": {
     "end_time": "2021-04-17T01:57:45.472973Z",
     "start_time": "2021-04-17T01:57:45.458962Z"
    }
   },
   "outputs": [],
   "source": [
    "# function to replace the ex - poor scale with numbers, replacing NA and nulls with zeros.\n",
    "#also changes the column to a numeric column instead of a object column.\n",
    "def scale_excellent(df, column_list):\n",
    "    for column in column_list:\n",
    "        df[column] = df[column].map({'Ex': 5,'Gd': 4, 'TA': 3,\"Fa\":2, 'Po': 1, 'NA':0})\n",
    "        df[column] = pd.to_numeric(df[column])\n",
    "        df[column] = df[column].fillna(0)"
   ]
  },
  {
   "cell_type": "code",
   "execution_count": 6,
   "metadata": {
    "ExecuteTime": {
     "end_time": "2021-04-17T01:57:45.488987Z",
     "start_time": "2021-04-17T01:57:45.475976Z"
    }
   },
   "outputs": [],
   "source": [
    "#columns to clean\n",
    "cleaning_list = ['Bsmt Qual','Bsmt Cond','Exter Qual','Exter Cond','Fireplace Qu','Garage Qual', \n",
    "                'Garage Cond', 'Heating QC','Kitchen Qual', 'Pool QC']"
   ]
  },
  {
   "cell_type": "code",
   "execution_count": 7,
   "metadata": {
    "ExecuteTime": {
     "end_time": "2021-04-17T01:57:45.521016Z",
     "start_time": "2021-04-17T01:57:45.490990Z"
    }
   },
   "outputs": [],
   "source": [
    "scale_excellent(housing, cleaning_list)"
   ]
  },
  {
   "cell_type": "markdown",
   "metadata": {},
   "source": [
    "A lot of the other null categories are also in rating scales, just not excellent to poor, this takes a bit more work but re-mapping all of them to be numerical will also deal with a large amount of the null values. "
   ]
  },
  {
   "cell_type": "code",
   "execution_count": 8,
   "metadata": {
    "ExecuteTime": {
     "end_time": "2021-04-17T01:57:45.537030Z",
     "start_time": "2021-04-17T01:57:45.523018Z"
    }
   },
   "outputs": [],
   "source": [
    "#remaps a dictonary to a data frame, will make cleaing test data later easier to have this function.\n",
    "def scale_other(column, reassign_dict, df): \n",
    "    df[column] = pd.to_numeric(df[column].map(reassign_dict))\n",
    "    df[column] = df[column].fillna(0)"
   ]
  },
  {
   "cell_type": "code",
   "execution_count": 9,
   "metadata": {
    "ExecuteTime": {
     "end_time": "2021-04-17T01:57:45.583071Z",
     "start_time": "2021-04-17T01:57:45.538032Z"
    }
   },
   "outputs": [],
   "source": [
    "scale_excellent(housing, cleaning_list)\n",
    "scale_other('Lot Shape', {'Reg':3,'IR1':2,'IR2': 1, 'IR3': 0}, housing)\n",
    "scale_other('Utilities', {'AllPub':3,'NoSewr':2,'NoSeWa': 1, 'ELO': 0}, housing)\n",
    "scale_other('Land Slope', {'Gtl':2,'Mod': 1, 'Sev': 0}, housing)\n",
    "scale_other('Bsmt Exposure', {'GD': 4, 'Av':3,'Mn':2,'No': 1, 'NA': 0}, housing)\n",
    "scale_other('BsmtFin Type 1', {'GLQ': 6 ,'ALQ':5,'BLQ':4, 'REC':3,'LWQ':2,'UNF': 1, 'NA': 0}, housing)\n",
    "scale_other('BsmtFin Type 2', {'GLQ': 6 ,'ALQ':5,'BLQ':4, 'REC':3,'LWQ':2,'UNF': 1, 'NA': 0}, housing)\n",
    "scale_other('Electrical', {'SBrKr': 4, 'FuseA':3,'FuseF':2,'FuseP': 1, 'NA': 0}, housing)\n",
    "scale_other('Functional', {'Typ': 7, 'Min1': 6 ,'Min2':5,'Mod':4, 'Maj1':3,'Maj2':2,'Sev': 1, 'NA': 0}, housing)\n",
    "scale_other('Garage Finish', {'Fin':3,'Rfn':2,'Unf': 1,}, housing)\n",
    "scale_other('Paved Drive', {'Y':2,'P': 1, 'N': 0}, housing)\n",
    "scale_other('Fence', {'GdPrv': 4, 'MnPrv':3,'GdWo':2,'MnWw': 1, 'NA': 0}, housing)"
   ]
  },
  {
   "cell_type": "code",
   "execution_count": 10,
   "metadata": {
    "ExecuteTime": {
     "end_time": "2021-04-17T01:57:45.599085Z",
     "start_time": "2021-04-17T01:57:45.585073Z"
    }
   },
   "outputs": [
    {
     "data": {
      "text/plain": [
       "Misc Feature      1986\n",
       "Alley             1911\n",
       "Lot Frontage       330\n",
       "Garage Yr Blt      114\n",
       "Garage Type        113\n",
       "Mas Vnr Type        22\n",
       "Mas Vnr Area        22\n",
       "Bsmt Half Bath       2\n",
       "Bsmt Full Bath       2\n",
       "BsmtFin SF 1         1\n",
       "Garage Cars          1\n",
       "Garage Area          1\n",
       "Total Bsmt SF        1\n",
       "Bsmt Unf SF          1\n",
       "BsmtFin SF 2         1\n",
       "dtype: int64"
      ]
     },
     "execution_count": 10,
     "metadata": {},
     "output_type": "execute_result"
    }
   ],
   "source": [
    "nulls = housing.isnull().sum().sort_values(ascending =False)\n",
    "nulls[nulls > 0]"
   ]
  },
  {
   "cell_type": "markdown",
   "metadata": {},
   "source": [
    "There are only 2051 data points, so having over 1900 data points be null seems like those columns cant be saved. filling in 71% of that data with the mean or with a zero value will have large adverse effects on the model, so I will remove these two columns. I am also removing the PID column because it is just an extra identification number, which I don't want interacting with in my models. "
   ]
  },
  {
   "cell_type": "code",
   "execution_count": 11,
   "metadata": {
    "ExecuteTime": {
     "end_time": "2021-04-17T01:57:45.644125Z",
     "start_time": "2021-04-17T01:57:45.602088Z"
    }
   },
   "outputs": [],
   "source": [
    "housing.drop(columns=['Misc Feature', 'Alley','PID'], inplace=True)"
   ]
  },
  {
   "cell_type": "code",
   "execution_count": 12,
   "metadata": {
    "ExecuteTime": {
     "end_time": "2021-04-17T01:57:45.660140Z",
     "start_time": "2021-04-17T01:57:45.646127Z"
    }
   },
   "outputs": [
    {
     "data": {
      "text/plain": [
       "Lot Frontage      330\n",
       "Garage Yr Blt     114\n",
       "Garage Type       113\n",
       "Mas Vnr Area       22\n",
       "Mas Vnr Type       22\n",
       "Bsmt Full Bath      2\n",
       "Bsmt Half Bath      2\n",
       "BsmtFin SF 1        1\n",
       "Garage Cars         1\n",
       "Garage Area         1\n",
       "BsmtFin SF 2        1\n",
       "Total Bsmt SF       1\n",
       "Bsmt Unf SF         1\n",
       "dtype: int64"
      ]
     },
     "execution_count": 12,
     "metadata": {},
     "output_type": "execute_result"
    }
   ],
   "source": [
    "nulls = housing.isnull().sum().sort_values(ascending =False)\n",
    "nulls[nulls > 0]"
   ]
  },
  {
   "cell_type": "markdown",
   "metadata": {},
   "source": [
    "looking at the garage data to look and see what type of data I should fill in. The plan is to build a small data frame to look and see if peopless garages were built the year they remodeled or the year their house was built to decide what value to impute with."
   ]
  },
  {
   "cell_type": "code",
   "execution_count": 13,
   "metadata": {
    "ExecuteTime": {
     "end_time": "2021-04-17T01:57:45.675152Z",
     "start_time": "2021-04-17T01:57:45.662141Z"
    }
   },
   "outputs": [],
   "source": [
    "garageinfo = housing[['Garage Yr Blt', 'Year Built', 'Year Remod/Add']].copy()"
   ]
  },
  {
   "cell_type": "code",
   "execution_count": 14,
   "metadata": {
    "ExecuteTime": {
     "end_time": "2021-04-17T01:57:45.722193Z",
     "start_time": "2021-04-17T01:57:45.677157Z"
    }
   },
   "outputs": [
    {
     "data": {
      "text/html": [
       "<div>\n",
       "<style scoped>\n",
       "    .dataframe tbody tr th:only-of-type {\n",
       "        vertical-align: middle;\n",
       "    }\n",
       "\n",
       "    .dataframe tbody tr th {\n",
       "        vertical-align: top;\n",
       "    }\n",
       "\n",
       "    .dataframe thead th {\n",
       "        text-align: right;\n",
       "    }\n",
       "</style>\n",
       "<table border=\"1\" class=\"dataframe\">\n",
       "  <thead>\n",
       "    <tr style=\"text-align: right;\">\n",
       "      <th></th>\n",
       "      <th>Garage Yr Blt</th>\n",
       "      <th>Year Built</th>\n",
       "      <th>Year Remod/Add</th>\n",
       "    </tr>\n",
       "  </thead>\n",
       "  <tbody>\n",
       "    <tr>\n",
       "      <th>0</th>\n",
       "      <td>1976.0</td>\n",
       "      <td>1976</td>\n",
       "      <td>2005</td>\n",
       "    </tr>\n",
       "    <tr>\n",
       "      <th>1</th>\n",
       "      <td>1997.0</td>\n",
       "      <td>1996</td>\n",
       "      <td>1997</td>\n",
       "    </tr>\n",
       "    <tr>\n",
       "      <th>2</th>\n",
       "      <td>1953.0</td>\n",
       "      <td>1953</td>\n",
       "      <td>2007</td>\n",
       "    </tr>\n",
       "    <tr>\n",
       "      <th>3</th>\n",
       "      <td>2007.0</td>\n",
       "      <td>2006</td>\n",
       "      <td>2007</td>\n",
       "    </tr>\n",
       "    <tr>\n",
       "      <th>4</th>\n",
       "      <td>1957.0</td>\n",
       "      <td>1900</td>\n",
       "      <td>1993</td>\n",
       "    </tr>\n",
       "  </tbody>\n",
       "</table>\n",
       "</div>"
      ],
      "text/plain": [
       "   Garage Yr Blt  Year Built  Year Remod/Add\n",
       "0         1976.0        1976            2005\n",
       "1         1997.0        1996            1997\n",
       "2         1953.0        1953            2007\n",
       "3         2007.0        2006            2007\n",
       "4         1957.0        1900            1993"
      ]
     },
     "execution_count": 14,
     "metadata": {},
     "output_type": "execute_result"
    }
   ],
   "source": [
    "garageinfo.head()"
   ]
  },
  {
   "cell_type": "code",
   "execution_count": 15,
   "metadata": {
    "ExecuteTime": {
     "end_time": "2021-04-17T01:57:45.737207Z",
     "start_time": "2021-04-17T01:57:45.724196Z"
    }
   },
   "outputs": [],
   "source": [
    "garageinfo['Garage built'] = garageinfo['Garage Yr Blt'] - garageinfo['Year Built']"
   ]
  },
  {
   "cell_type": "code",
   "execution_count": 16,
   "metadata": {
    "ExecuteTime": {
     "end_time": "2021-04-17T01:57:45.753221Z",
     "start_time": "2021-04-17T01:57:45.739209Z"
    }
   },
   "outputs": [
    {
     "data": {
      "text/plain": [
       "True     1564\n",
       "False     487\n",
       "Name: Garage built, dtype: int64"
      ]
     },
     "execution_count": 16,
     "metadata": {},
     "output_type": "execute_result"
    }
   ],
   "source": [
    "garageinfo['Garage built'].map(lambda x: True if x == 0 else False).value_counts()\n",
    "#true if the garage was built in the same year as the house. "
   ]
  },
  {
   "cell_type": "markdown",
   "metadata": {},
   "source": [
    "We see mostly true values, which means in most of the cases the garage was built in the same year as the house, so I will impute with the same value as the year the house was built. "
   ]
  },
  {
   "cell_type": "code",
   "execution_count": 17,
   "metadata": {
    "ExecuteTime": {
     "end_time": "2021-04-17T01:57:45.785250Z",
     "start_time": "2021-04-17T01:57:45.754222Z"
    }
   },
   "outputs": [],
   "source": [
    "housing['Garage Yr Blt'].fillna(value=housing['Year Built'], inplace=True)"
   ]
  },
  {
   "cell_type": "code",
   "execution_count": 18,
   "metadata": {
    "ExecuteTime": {
     "end_time": "2021-04-17T01:57:45.800264Z",
     "start_time": "2021-04-17T01:57:45.786251Z"
    }
   },
   "outputs": [
    {
     "data": {
      "text/plain": [
       "Lot Frontage      330\n",
       "Garage Type       113\n",
       "Mas Vnr Type       22\n",
       "Mas Vnr Area       22\n",
       "Bsmt Half Bath      2\n",
       "Bsmt Full Bath      2\n",
       "BsmtFin SF 2        1\n",
       "Bsmt Unf SF         1\n",
       "Total Bsmt SF       1\n",
       "BsmtFin SF 1        1\n",
       "Garage Cars         1\n",
       "Garage Area         1\n",
       "dtype: int64"
      ]
     },
     "execution_count": 18,
     "metadata": {},
     "output_type": "execute_result"
    }
   ],
   "source": [
    "nulls = housing.isnull().sum().sort_values(ascending =False)\n",
    "nulls[nulls > 0]"
   ]
  },
  {
   "cell_type": "markdown",
   "metadata": {},
   "source": [
    "for the rest of these data types, I will go through the value counts and determine if they would be better served imputed by the mean or the mode. If there is a good spread of the data (and it's not categorical) I will use the mean, if the data is very skewed towards one answer I will impute the mode into the columns. "
   ]
  },
  {
   "cell_type": "code",
   "execution_count": 19,
   "metadata": {
    "ExecuteTime": {
     "end_time": "2021-04-17T01:57:45.832290Z",
     "start_time": "2021-04-17T01:57:45.802265Z"
    }
   },
   "outputs": [
    {
     "data": {
      "text/plain": [
       "Lot Frontage      330\n",
       "Garage Type       113\n",
       "Mas Vnr Type       22\n",
       "Mas Vnr Area       22\n",
       "Bsmt Half Bath      2\n",
       "Bsmt Full Bath      2\n",
       "BsmtFin SF 2        1\n",
       "Bsmt Unf SF         1\n",
       "Total Bsmt SF       1\n",
       "BsmtFin SF 1        1\n",
       "Garage Cars         1\n",
       "Garage Area         1\n",
       "dtype: int64"
      ]
     },
     "execution_count": 19,
     "metadata": {},
     "output_type": "execute_result"
    }
   ],
   "source": [
    "nulls = housing.isnull().sum().sort_values(ascending =False)\n",
    "nulls[nulls > 0]"
   ]
  },
  {
   "cell_type": "code",
   "execution_count": 20,
   "metadata": {
    "ExecuteTime": {
     "end_time": "2021-04-17T01:57:45.864320Z",
     "start_time": "2021-04-17T01:57:45.834294Z"
    }
   },
   "outputs": [],
   "source": [
    "#list to store which of the remaining variables will get which type of imputation. \n",
    "mean_list = [] \n",
    "mode_list_string = []\n",
    "mode_list_int = []"
   ]
  },
  {
   "cell_type": "code",
   "execution_count": 21,
   "metadata": {
    "ExecuteTime": {
     "end_time": "2021-04-17T01:57:45.895348Z",
     "start_time": "2021-04-17T01:57:45.869323Z"
    }
   },
   "outputs": [
    {
     "data": {
      "text/plain": [
       "53      21.0\n",
       "1534    21.0\n",
       "787     21.0\n",
       "796     21.0\n",
       "1834    21.0\n",
       "        ... \n",
       "2016     NaN\n",
       "2022     NaN\n",
       "2028     NaN\n",
       "2031     NaN\n",
       "2047     NaN\n",
       "Name: Lot Frontage, Length: 2051, dtype: float64"
      ]
     },
     "execution_count": 21,
     "metadata": {},
     "output_type": "execute_result"
    }
   ],
   "source": [
    "housing['Lot Frontage'].sort_values()"
   ]
  },
  {
   "cell_type": "code",
   "execution_count": 22,
   "metadata": {
    "ExecuteTime": {
     "end_time": "2021-04-17T01:57:45.910364Z",
     "start_time": "2021-04-17T01:57:45.898349Z"
    }
   },
   "outputs": [
    {
     "data": {
      "text/plain": [
       "60.0     179\n",
       "70.0      96\n",
       "80.0      94\n",
       "50.0      90\n",
       "65.0      71\n",
       "        ... \n",
       "22.0       1\n",
       "155.0      1\n",
       "153.0      1\n",
       "119.0      1\n",
       "135.0      1\n",
       "Name: Lot Frontage, Length: 118, dtype: int64"
      ]
     },
     "execution_count": 22,
     "metadata": {},
     "output_type": "execute_result"
    }
   ],
   "source": [
    "housing['Lot Frontage'].value_counts()"
   ]
  },
  {
   "cell_type": "markdown",
   "metadata": {},
   "source": [
    "Use the mean for lot frontage."
   ]
  },
  {
   "cell_type": "code",
   "execution_count": 23,
   "metadata": {
    "ExecuteTime": {
     "end_time": "2021-04-17T01:57:45.926386Z",
     "start_time": "2021-04-17T01:57:45.912361Z"
    }
   },
   "outputs": [],
   "source": [
    "mean_list.append('Lot Frontage')"
   ]
  },
  {
   "cell_type": "code",
   "execution_count": 24,
   "metadata": {
    "ExecuteTime": {
     "end_time": "2021-04-17T01:57:45.957401Z",
     "start_time": "2021-04-17T01:57:45.928376Z"
    },
    "scrolled": false
   },
   "outputs": [
    {
     "data": {
      "text/plain": [
       "Attchd     1213\n",
       "Detchd      536\n",
       "BuiltIn     132\n",
       "Basment      27\n",
       "2Types       19\n",
       "CarPort      11\n",
       "Name: Garage Type, dtype: int64"
      ]
     },
     "execution_count": 24,
     "metadata": {},
     "output_type": "execute_result"
    }
   ],
   "source": [
    "housing['Garage Type'].value_counts() #mode"
   ]
  },
  {
   "cell_type": "markdown",
   "metadata": {},
   "source": [
    "Use the mode for garage type, most are Attached style."
   ]
  },
  {
   "cell_type": "code",
   "execution_count": 25,
   "metadata": {
    "ExecuteTime": {
     "end_time": "2021-04-17T01:57:45.972414Z",
     "start_time": "2021-04-17T01:57:45.959403Z"
    }
   },
   "outputs": [],
   "source": [
    "mode_list_string.append('Garage Type')"
   ]
  },
  {
   "cell_type": "code",
   "execution_count": 26,
   "metadata": {
    "ExecuteTime": {
     "end_time": "2021-04-17T01:57:45.988428Z",
     "start_time": "2021-04-17T01:57:45.974416Z"
    },
    "scrolled": false
   },
   "outputs": [
    {
     "data": {
      "text/plain": [
       "0.0      1216\n",
       "120.0      11\n",
       "176.0      10\n",
       "200.0      10\n",
       "180.0       9\n",
       "         ... \n",
       "57.0        1\n",
       "572.0       1\n",
       "65.0        1\n",
       "567.0       1\n",
       "161.0       1\n",
       "Name: Mas Vnr Area, Length: 373, dtype: int64"
      ]
     },
     "execution_count": 26,
     "metadata": {},
     "output_type": "execute_result"
    }
   ],
   "source": [
    "housing['Mas Vnr Area'].value_counts() #mode"
   ]
  },
  {
   "cell_type": "markdown",
   "metadata": {},
   "source": [
    "Use the mode for veneered area."
   ]
  },
  {
   "cell_type": "code",
   "execution_count": 27,
   "metadata": {
    "ExecuteTime": {
     "end_time": "2021-04-17T01:57:46.004442Z",
     "start_time": "2021-04-17T01:57:45.990430Z"
    }
   },
   "outputs": [],
   "source": [
    "mode_list_int.append('Mas Vnr Area')"
   ]
  },
  {
   "cell_type": "code",
   "execution_count": 28,
   "metadata": {
    "ExecuteTime": {
     "end_time": "2021-04-17T01:57:46.019456Z",
     "start_time": "2021-04-17T01:57:46.007448Z"
    },
    "scrolled": true
   },
   "outputs": [
    {
     "data": {
      "text/plain": [
       "None       1218\n",
       "BrkFace     630\n",
       "Stone       168\n",
       "BrkCmn       13\n",
       "Name: Mas Vnr Type, dtype: int64"
      ]
     },
     "execution_count": 28,
     "metadata": {},
     "output_type": "execute_result"
    }
   ],
   "source": [
    "housing['Mas Vnr Type'].value_counts() #mode"
   ]
  },
  {
   "cell_type": "markdown",
   "metadata": {},
   "source": [
    "Use the mode for veneer type."
   ]
  },
  {
   "cell_type": "code",
   "execution_count": 29,
   "metadata": {
    "ExecuteTime": {
     "end_time": "2021-04-17T01:57:46.035470Z",
     "start_time": "2021-04-17T01:57:46.020457Z"
    }
   },
   "outputs": [],
   "source": [
    "mode_list_string.append('Mas Vnr Type')"
   ]
  },
  {
   "cell_type": "code",
   "execution_count": 30,
   "metadata": {
    "ExecuteTime": {
     "end_time": "2021-04-17T01:57:46.050483Z",
     "start_time": "2021-04-17T01:57:46.037473Z"
    },
    "scrolled": true
   },
   "outputs": [
    {
     "data": {
      "text/plain": [
       "0.0    1923\n",
       "1.0     122\n",
       "2.0       4\n",
       "Name: Bsmt Half Bath, dtype: int64"
      ]
     },
     "execution_count": 30,
     "metadata": {},
     "output_type": "execute_result"
    }
   ],
   "source": [
    "housing['Bsmt Half Bath'].value_counts() #mode"
   ]
  },
  {
   "cell_type": "markdown",
   "metadata": {},
   "source": [
    "Use the mode for the count of half bathrooms in the basement."
   ]
  },
  {
   "cell_type": "code",
   "execution_count": 31,
   "metadata": {
    "ExecuteTime": {
     "end_time": "2021-04-17T01:57:46.066497Z",
     "start_time": "2021-04-17T01:57:46.052485Z"
    }
   },
   "outputs": [],
   "source": [
    "mode_list_int.append('Bsmt Half Bath')"
   ]
  },
  {
   "cell_type": "code",
   "execution_count": 32,
   "metadata": {
    "ExecuteTime": {
     "end_time": "2021-04-17T01:57:46.082511Z",
     "start_time": "2021-04-17T01:57:46.067498Z"
    },
    "scrolled": true
   },
   "outputs": [
    {
     "data": {
      "text/plain": [
       "0.0    1200\n",
       "1.0     824\n",
       "2.0      23\n",
       "3.0       2\n",
       "Name: Bsmt Full Bath, dtype: int64"
      ]
     },
     "execution_count": 32,
     "metadata": {},
     "output_type": "execute_result"
    }
   ],
   "source": [
    "housing['Bsmt Full Bath'].value_counts() #mean"
   ]
  },
  {
   "cell_type": "markdown",
   "metadata": {},
   "source": [
    "Use the mean for the full bathroom count in the basement"
   ]
  },
  {
   "cell_type": "code",
   "execution_count": 33,
   "metadata": {
    "ExecuteTime": {
     "end_time": "2021-04-17T01:57:46.098527Z",
     "start_time": "2021-04-17T01:57:46.083512Z"
    }
   },
   "outputs": [],
   "source": [
    "mean_list.append('Bsmt Full Bath')"
   ]
  },
  {
   "cell_type": "code",
   "execution_count": 34,
   "metadata": {
    "ExecuteTime": {
     "end_time": "2021-04-17T01:57:46.114544Z",
     "start_time": "2021-04-17T01:57:46.100530Z"
    },
    "scrolled": true
   },
   "outputs": [
    {
     "data": {
      "text/plain": [
       "0.0      1803\n",
       "294.0       5\n",
       "162.0       3\n",
       "539.0       3\n",
       "72.0        3\n",
       "         ... \n",
       "712.0       1\n",
       "529.0       1\n",
       "215.0       1\n",
       "252.0       1\n",
       "823.0       1\n",
       "Name: BsmtFin SF 2, Length: 205, dtype: int64"
      ]
     },
     "execution_count": 34,
     "metadata": {},
     "output_type": "execute_result"
    }
   ],
   "source": [
    "housing['BsmtFin SF 2'].value_counts() #mode"
   ]
  },
  {
   "cell_type": "markdown",
   "metadata": {},
   "source": [
    "Use the mode for the square footage of the finished basement."
   ]
  },
  {
   "cell_type": "code",
   "execution_count": 35,
   "metadata": {
    "ExecuteTime": {
     "end_time": "2021-04-17T01:57:46.130555Z",
     "start_time": "2021-04-17T01:57:46.116544Z"
    }
   },
   "outputs": [],
   "source": [
    "mode_list_int.append('BsmtFin SF 2')"
   ]
  },
  {
   "cell_type": "code",
   "execution_count": 36,
   "metadata": {
    "ExecuteTime": {
     "end_time": "2021-04-17T01:57:46.146568Z",
     "start_time": "2021-04-17T01:57:46.131556Z"
    },
    "scrolled": true
   },
   "outputs": [
    {
     "data": {
      "text/plain": [
       "0.0       165\n",
       "384.0      14\n",
       "672.0      11\n",
       "728.0      10\n",
       "816.0       9\n",
       "         ... \n",
       "494.0       1\n",
       "1323.0      1\n",
       "1041.0      1\n",
       "314.0       1\n",
       "2062.0      1\n",
       "Name: Bsmt Unf SF, Length: 967, dtype: int64"
      ]
     },
     "execution_count": 36,
     "metadata": {},
     "output_type": "execute_result"
    }
   ],
   "source": [
    "housing['Bsmt Unf SF'].value_counts() #mean"
   ]
  },
  {
   "cell_type": "markdown",
   "metadata": {},
   "source": [
    "Use the mean for unfinshed square footage in the basement."
   ]
  },
  {
   "cell_type": "code",
   "execution_count": 37,
   "metadata": {
    "ExecuteTime": {
     "end_time": "2021-04-17T01:57:46.162583Z",
     "start_time": "2021-04-17T01:57:46.148571Z"
    }
   },
   "outputs": [],
   "source": [
    "mean_list.append('Bsmt Unf SF')"
   ]
  },
  {
   "cell_type": "code",
   "execution_count": 38,
   "metadata": {
    "ExecuteTime": {
     "end_time": "2021-04-17T01:57:46.178597Z",
     "start_time": "2021-04-17T01:57:46.164585Z"
    },
    "scrolled": true
   },
   "outputs": [
    {
     "data": {
      "text/plain": [
       "0.0       54\n",
       "864.0     51\n",
       "672.0     20\n",
       "1040.0    20\n",
       "816.0     17\n",
       "          ..\n",
       "842.0      1\n",
       "752.0      1\n",
       "1232.0     1\n",
       "1480.0     1\n",
       "1125.0     1\n",
       "Name: Total Bsmt SF, Length: 892, dtype: int64"
      ]
     },
     "execution_count": 38,
     "metadata": {},
     "output_type": "execute_result"
    }
   ],
   "source": [
    "housing['Total Bsmt SF'].value_counts() # mean"
   ]
  },
  {
   "cell_type": "markdown",
   "metadata": {},
   "source": [
    "Use the mean for the total basemente square footage."
   ]
  },
  {
   "cell_type": "code",
   "execution_count": 39,
   "metadata": {
    "ExecuteTime": {
     "end_time": "2021-04-17T01:57:46.193611Z",
     "start_time": "2021-04-17T01:57:46.180609Z"
    }
   },
   "outputs": [],
   "source": [
    "mean_list.append('Total Bsmt SF')"
   ]
  },
  {
   "cell_type": "code",
   "execution_count": 40,
   "metadata": {
    "ExecuteTime": {
     "end_time": "2021-04-17T01:57:46.209625Z",
     "start_time": "2021-04-17T01:57:46.195613Z"
    },
    "scrolled": true
   },
   "outputs": [
    {
     "data": {
      "text/plain": [
       "0.0      657\n",
       "24.0      17\n",
       "16.0      10\n",
       "300.0      7\n",
       "384.0      7\n",
       "        ... \n",
       "848.0      1\n",
       "70.0       1\n",
       "688.0      1\n",
       "472.0      1\n",
       "661.0      1\n",
       "Name: BsmtFin SF 1, Length: 821, dtype: int64"
      ]
     },
     "execution_count": 40,
     "metadata": {},
     "output_type": "execute_result"
    }
   ],
   "source": [
    "housing['BsmtFin SF 1'].value_counts() # mean"
   ]
  },
  {
   "cell_type": "markdown",
   "metadata": {},
   "source": [
    "Use the mean for the square footage of the finished basement 1."
   ]
  },
  {
   "cell_type": "code",
   "execution_count": 41,
   "metadata": {
    "ExecuteTime": {
     "end_time": "2021-04-17T01:57:46.225640Z",
     "start_time": "2021-04-17T01:57:46.212628Z"
    }
   },
   "outputs": [],
   "source": [
    "mean_list.append('BsmtFin SF 1')"
   ]
  },
  {
   "cell_type": "code",
   "execution_count": 42,
   "metadata": {
    "ExecuteTime": {
     "end_time": "2021-04-17T01:57:46.241652Z",
     "start_time": "2021-04-17T01:57:46.227643Z"
    },
    "scrolled": true
   },
   "outputs": [
    {
     "data": {
      "text/plain": [
       "2.0    1136\n",
       "1.0     524\n",
       "3.0     263\n",
       "0.0     113\n",
       "4.0      13\n",
       "5.0       1\n",
       "Name: Garage Cars, dtype: int64"
      ]
     },
     "execution_count": 42,
     "metadata": {},
     "output_type": "execute_result"
    }
   ],
   "source": [
    "housing['Garage Cars'].value_counts() # mean"
   ]
  },
  {
   "cell_type": "markdown",
   "metadata": {},
   "source": [
    "Use the mean for the number of cars the garage can hold."
   ]
  },
  {
   "cell_type": "code",
   "execution_count": 43,
   "metadata": {
    "ExecuteTime": {
     "end_time": "2021-04-17T01:57:46.257668Z",
     "start_time": "2021-04-17T01:57:46.243655Z"
    }
   },
   "outputs": [],
   "source": [
    "mean_list.append('Garage Cars')"
   ]
  },
  {
   "cell_type": "code",
   "execution_count": 44,
   "metadata": {
    "ExecuteTime": {
     "end_time": "2021-04-17T01:57:46.273680Z",
     "start_time": "2021-04-17T01:57:46.259671Z"
    },
    "scrolled": true
   },
   "outputs": [
    {
     "data": {
      "text/plain": [
       "0.0       113\n",
       "440.0      70\n",
       "576.0      69\n",
       "484.0      52\n",
       "528.0      46\n",
       "         ... \n",
       "406.0       1\n",
       "309.0       1\n",
       "580.0       1\n",
       "1184.0      1\n",
       "557.0       1\n",
       "Name: Garage Area, Length: 514, dtype: int64"
      ]
     },
     "execution_count": 44,
     "metadata": {},
     "output_type": "execute_result"
    }
   ],
   "source": [
    "housing['Garage Area'].value_counts() #mean"
   ]
  },
  {
   "cell_type": "markdown",
   "metadata": {},
   "source": [
    "Use the mean for the area of the garage."
   ]
  },
  {
   "cell_type": "code",
   "execution_count": 45,
   "metadata": {
    "ExecuteTime": {
     "end_time": "2021-04-17T01:57:46.289694Z",
     "start_time": "2021-04-17T01:57:46.274681Z"
    }
   },
   "outputs": [],
   "source": [
    "mean_list.append('Garage Area')"
   ]
  },
  {
   "cell_type": "code",
   "execution_count": 46,
   "metadata": {
    "ExecuteTime": {
     "end_time": "2021-04-17T01:57:46.305708Z",
     "start_time": "2021-04-17T01:57:46.290696Z"
    }
   },
   "outputs": [],
   "source": [
    "#used to replace the nulls with the mean of a column.\n",
    "def replace_mean(df, column_list):\n",
    "    for column in column_list:\n",
    "        df[column].fillna(df[column].mean(), inplace=True)"
   ]
  },
  {
   "cell_type": "code",
   "execution_count": 47,
   "metadata": {
    "ExecuteTime": {
     "end_time": "2021-04-17T01:57:46.320721Z",
     "start_time": "2021-04-17T01:57:46.306709Z"
    }
   },
   "outputs": [],
   "source": [
    "#used to replace the nulls with the mode if it is a numeric value\n",
    "def replace_mode(df, column_list):\n",
    "    for column in column_list:\n",
    "        df[column].fillna(int(df[column].mode()), inplace=True)"
   ]
  },
  {
   "cell_type": "code",
   "execution_count": 48,
   "metadata": {
    "ExecuteTime": {
     "end_time": "2021-04-17T01:57:46.336735Z",
     "start_time": "2021-04-17T01:57:46.322723Z"
    }
   },
   "outputs": [],
   "source": [
    "replace_mean(housing, mean_list)"
   ]
  },
  {
   "cell_type": "code",
   "execution_count": 49,
   "metadata": {
    "ExecuteTime": {
     "end_time": "2021-04-17T01:57:46.351749Z",
     "start_time": "2021-04-17T01:57:46.338737Z"
    }
   },
   "outputs": [],
   "source": [
    "replace_mode(housing, mode_list_int)"
   ]
  },
  {
   "cell_type": "markdown",
   "metadata": {},
   "source": [
    "Fill in the non-numeric mode nulls nulls."
   ]
  },
  {
   "cell_type": "code",
   "execution_count": 50,
   "metadata": {
    "ExecuteTime": {
     "end_time": "2021-04-17T01:57:46.367764Z",
     "start_time": "2021-04-17T01:57:46.353752Z"
    }
   },
   "outputs": [
    {
     "data": {
      "text/plain": [
       "['Garage Type', 'Mas Vnr Type']"
      ]
     },
     "execution_count": 50,
     "metadata": {},
     "output_type": "execute_result"
    }
   ],
   "source": [
    "mode_list_string"
   ]
  },
  {
   "cell_type": "code",
   "execution_count": 51,
   "metadata": {
    "ExecuteTime": {
     "end_time": "2021-04-17T01:57:46.383777Z",
     "start_time": "2021-04-17T01:57:46.369766Z"
    }
   },
   "outputs": [],
   "source": [
    "housing['Garage Type'].fillna('Attchd', inplace=True)"
   ]
  },
  {
   "cell_type": "code",
   "execution_count": 52,
   "metadata": {
    "ExecuteTime": {
     "end_time": "2021-04-17T01:57:46.399791Z",
     "start_time": "2021-04-17T01:57:46.385780Z"
    }
   },
   "outputs": [],
   "source": [
    "housing['Mas Vnr Type'].fillna('None', inplace=True)"
   ]
  },
  {
   "cell_type": "code",
   "execution_count": 53,
   "metadata": {
    "ExecuteTime": {
     "end_time": "2021-04-17T01:57:46.415808Z",
     "start_time": "2021-04-17T01:57:46.400792Z"
    },
    "scrolled": true
   },
   "outputs": [
    {
     "data": {
      "text/plain": [
       "Series([], dtype: int64)"
      ]
     },
     "execution_count": 53,
     "metadata": {},
     "output_type": "execute_result"
    }
   ],
   "source": [
    "nulls = housing.isnull().sum().sort_values(ascending =False)\n",
    "nulls[nulls > 0]"
   ]
  },
  {
   "cell_type": "markdown",
   "metadata": {},
   "source": [
    "All the nulls are finally delt with, now just need to deal with other outliers spotted in EDA"
   ]
  },
  {
   "cell_type": "code",
   "execution_count": 54,
   "metadata": {
    "ExecuteTime": {
     "end_time": "2021-04-17T01:57:46.430819Z",
     "start_time": "2021-04-17T01:57:46.416807Z"
    },
    "scrolled": true
   },
   "outputs": [
    {
     "data": {
      "text/plain": [
       "951     1872.0\n",
       "136     1875.0\n",
       "1204    1890.0\n",
       "457     1895.0\n",
       "1793    1895.0\n",
       "         ...  \n",
       "1671    2009.0\n",
       "625     2009.0\n",
       "144     2010.0\n",
       "1241    2010.0\n",
       "1699    2207.0\n",
       "Name: Garage Yr Blt, Length: 2051, dtype: float64"
      ]
     },
     "execution_count": 54,
     "metadata": {},
     "output_type": "execute_result"
    }
   ],
   "source": [
    "housing['Garage Yr Blt'].sort_values()"
   ]
  },
  {
   "cell_type": "markdown",
   "metadata": {},
   "source": [
    "A house appears to have been built in 2207, lets take a look at the row"
   ]
  },
  {
   "cell_type": "code",
   "execution_count": 55,
   "metadata": {
    "ExecuteTime": {
     "end_time": "2021-04-17T01:57:46.446833Z",
     "start_time": "2021-04-17T01:57:46.432820Z"
    }
   },
   "outputs": [
    {
     "data": {
      "text/plain": [
       "Garage Yr Blt     2207\n",
       "Year Remod/Add    2007\n",
       "Name: 1699, dtype: object"
      ]
     },
     "execution_count": 55,
     "metadata": {},
     "output_type": "execute_result"
    }
   ],
   "source": [
    "housing.loc[1699, [\"Garage Yr Blt\", 'Year Remod/Add']]"
   ]
  },
  {
   "cell_type": "markdown",
   "metadata": {},
   "source": [
    "Assumed as a clerical error, should be 2007 not 2207."
   ]
  },
  {
   "cell_type": "code",
   "execution_count": 56,
   "metadata": {
    "ExecuteTime": {
     "end_time": "2021-04-17T01:57:46.462847Z",
     "start_time": "2021-04-17T01:57:46.448836Z"
    }
   },
   "outputs": [],
   "source": [
    "housing.at[1699, 'Garage Yr Blt'] = 2007"
   ]
  },
  {
   "cell_type": "code",
   "execution_count": 57,
   "metadata": {
    "ExecuteTime": {
     "end_time": "2021-04-17T01:57:46.478861Z",
     "start_time": "2021-04-17T01:57:46.464849Z"
    }
   },
   "outputs": [
    {
     "data": {
      "text/plain": [
       "Garage Yr Blt     2007\n",
       "Year Remod/Add    2007\n",
       "Name: 1699, dtype: object"
      ]
     },
     "execution_count": 57,
     "metadata": {},
     "output_type": "execute_result"
    }
   ],
   "source": [
    "housing.loc[1699, [\"Garage Yr Blt\", 'Year Remod/Add']]"
   ]
  },
  {
   "cell_type": "markdown",
   "metadata": {},
   "source": [
    "Removing the outliers warned about in the data dictionary. "
   ]
  },
  {
   "cell_type": "code",
   "execution_count": 58,
   "metadata": {
    "ExecuteTime": {
     "end_time": "2021-04-17T01:57:46.494875Z",
     "start_time": "2021-04-17T01:57:46.480863Z"
    }
   },
   "outputs": [],
   "source": [
    "housing['Gr Liv Area']= housing['Gr Liv Area'].map(lambda x: np.nan if x >4000 else x)\n",
    "housing.dropna(inplace=True)"
   ]
  },
  {
   "cell_type": "code",
   "execution_count": 59,
   "metadata": {
    "ExecuteTime": {
     "end_time": "2021-04-17T01:57:46.509888Z",
     "start_time": "2021-04-17T01:57:46.496880Z"
    }
   },
   "outputs": [],
   "source": [
    "housing['Lot Area']= housing['Lot Area'].map(lambda x: np.nan if x >7000 else x)\n",
    "housing.dropna(inplace=True)"
   ]
  },
  {
   "cell_type": "code",
   "execution_count": 60,
   "metadata": {
    "ExecuteTime": {
     "end_time": "2021-04-17T01:57:46.650012Z",
     "start_time": "2021-04-17T01:57:46.511890Z"
    }
   },
   "outputs": [
    {
     "data": {
      "text/html": [
       "<div>\n",
       "<style scoped>\n",
       "    .dataframe tbody tr th:only-of-type {\n",
       "        vertical-align: middle;\n",
       "    }\n",
       "\n",
       "    .dataframe tbody tr th {\n",
       "        vertical-align: top;\n",
       "    }\n",
       "\n",
       "    .dataframe thead th {\n",
       "        text-align: right;\n",
       "    }\n",
       "</style>\n",
       "<table border=\"1\" class=\"dataframe\">\n",
       "  <thead>\n",
       "    <tr style=\"text-align: right;\">\n",
       "      <th></th>\n",
       "      <th>count</th>\n",
       "      <th>mean</th>\n",
       "      <th>std</th>\n",
       "      <th>min</th>\n",
       "      <th>25%</th>\n",
       "      <th>50%</th>\n",
       "      <th>75%</th>\n",
       "      <th>max</th>\n",
       "    </tr>\n",
       "  </thead>\n",
       "  <tbody>\n",
       "    <tr>\n",
       "      <th>Id</th>\n",
       "      <td>410.0</td>\n",
       "      <td>1477.185366</td>\n",
       "      <td>854.518612</td>\n",
       "      <td>8.0</td>\n",
       "      <td>740.50</td>\n",
       "      <td>1497.5</td>\n",
       "      <td>2231.25</td>\n",
       "      <td>2920.0</td>\n",
       "    </tr>\n",
       "    <tr>\n",
       "      <th>MS SubClass</th>\n",
       "      <td>410.0</td>\n",
       "      <td>94.987805</td>\n",
       "      <td>53.852214</td>\n",
       "      <td>20.0</td>\n",
       "      <td>50.00</td>\n",
       "      <td>120.0</td>\n",
       "      <td>160.00</td>\n",
       "      <td>190.0</td>\n",
       "    </tr>\n",
       "    <tr>\n",
       "      <th>Lot Frontage</th>\n",
       "      <td>410.0</td>\n",
       "      <td>48.622997</td>\n",
       "      <td>17.182752</td>\n",
       "      <td>21.0</td>\n",
       "      <td>35.00</td>\n",
       "      <td>50.0</td>\n",
       "      <td>60.00</td>\n",
       "      <td>153.0</td>\n",
       "    </tr>\n",
       "    <tr>\n",
       "      <th>Lot Area</th>\n",
       "      <td>410.0</td>\n",
       "      <td>4635.260976</td>\n",
       "      <td>1670.354178</td>\n",
       "      <td>1300.0</td>\n",
       "      <td>3185.50</td>\n",
       "      <td>4980.0</td>\n",
       "      <td>6060.00</td>\n",
       "      <td>7000.0</td>\n",
       "    </tr>\n",
       "    <tr>\n",
       "      <th>Lot Shape</th>\n",
       "      <td>410.0</td>\n",
       "      <td>2.790244</td>\n",
       "      <td>0.453082</td>\n",
       "      <td>0.0</td>\n",
       "      <td>3.00</td>\n",
       "      <td>3.0</td>\n",
       "      <td>3.00</td>\n",
       "      <td>3.0</td>\n",
       "    </tr>\n",
       "    <tr>\n",
       "      <th>Utilities</th>\n",
       "      <td>410.0</td>\n",
       "      <td>3.000000</td>\n",
       "      <td>0.000000</td>\n",
       "      <td>3.0</td>\n",
       "      <td>3.00</td>\n",
       "      <td>3.0</td>\n",
       "      <td>3.00</td>\n",
       "      <td>3.0</td>\n",
       "    </tr>\n",
       "    <tr>\n",
       "      <th>Land Slope</th>\n",
       "      <td>410.0</td>\n",
       "      <td>1.948780</td>\n",
       "      <td>0.231527</td>\n",
       "      <td>0.0</td>\n",
       "      <td>2.00</td>\n",
       "      <td>2.0</td>\n",
       "      <td>2.00</td>\n",
       "      <td>2.0</td>\n",
       "    </tr>\n",
       "    <tr>\n",
       "      <th>Overall Qual</th>\n",
       "      <td>410.0</td>\n",
       "      <td>5.939024</td>\n",
       "      <td>1.322622</td>\n",
       "      <td>1.0</td>\n",
       "      <td>5.00</td>\n",
       "      <td>6.0</td>\n",
       "      <td>7.00</td>\n",
       "      <td>10.0</td>\n",
       "    </tr>\n",
       "    <tr>\n",
       "      <th>Overall Cond</th>\n",
       "      <td>410.0</td>\n",
       "      <td>5.678049</td>\n",
       "      <td>1.171694</td>\n",
       "      <td>1.0</td>\n",
       "      <td>5.00</td>\n",
       "      <td>5.0</td>\n",
       "      <td>6.00</td>\n",
       "      <td>9.0</td>\n",
       "    </tr>\n",
       "    <tr>\n",
       "      <th>Year Built</th>\n",
       "      <td>410.0</td>\n",
       "      <td>1964.621951</td>\n",
       "      <td>33.272396</td>\n",
       "      <td>1872.0</td>\n",
       "      <td>1935.00</td>\n",
       "      <td>1971.0</td>\n",
       "      <td>2000.00</td>\n",
       "      <td>2009.0</td>\n",
       "    </tr>\n",
       "    <tr>\n",
       "      <th>Year Remod/Add</th>\n",
       "      <td>410.0</td>\n",
       "      <td>1981.334146</td>\n",
       "      <td>22.174856</td>\n",
       "      <td>1950.0</td>\n",
       "      <td>1955.25</td>\n",
       "      <td>1984.0</td>\n",
       "      <td>2003.00</td>\n",
       "      <td>2010.0</td>\n",
       "    </tr>\n",
       "    <tr>\n",
       "      <th>Mas Vnr Area</th>\n",
       "      <td>410.0</td>\n",
       "      <td>63.548780</td>\n",
       "      <td>141.928660</td>\n",
       "      <td>0.0</td>\n",
       "      <td>0.00</td>\n",
       "      <td>0.0</td>\n",
       "      <td>48.75</td>\n",
       "      <td>1129.0</td>\n",
       "    </tr>\n",
       "    <tr>\n",
       "      <th>Exter Qual</th>\n",
       "      <td>410.0</td>\n",
       "      <td>0.000000</td>\n",
       "      <td>0.000000</td>\n",
       "      <td>0.0</td>\n",
       "      <td>0.00</td>\n",
       "      <td>0.0</td>\n",
       "      <td>0.00</td>\n",
       "      <td>0.0</td>\n",
       "    </tr>\n",
       "    <tr>\n",
       "      <th>Exter Cond</th>\n",
       "      <td>410.0</td>\n",
       "      <td>0.000000</td>\n",
       "      <td>0.000000</td>\n",
       "      <td>0.0</td>\n",
       "      <td>0.00</td>\n",
       "      <td>0.0</td>\n",
       "      <td>0.00</td>\n",
       "      <td>0.0</td>\n",
       "    </tr>\n",
       "    <tr>\n",
       "      <th>Bsmt Qual</th>\n",
       "      <td>410.0</td>\n",
       "      <td>0.000000</td>\n",
       "      <td>0.000000</td>\n",
       "      <td>0.0</td>\n",
       "      <td>0.00</td>\n",
       "      <td>0.0</td>\n",
       "      <td>0.00</td>\n",
       "      <td>0.0</td>\n",
       "    </tr>\n",
       "    <tr>\n",
       "      <th>Bsmt Cond</th>\n",
       "      <td>410.0</td>\n",
       "      <td>0.000000</td>\n",
       "      <td>0.000000</td>\n",
       "      <td>0.0</td>\n",
       "      <td>0.00</td>\n",
       "      <td>0.0</td>\n",
       "      <td>0.00</td>\n",
       "      <td>0.0</td>\n",
       "    </tr>\n",
       "    <tr>\n",
       "      <th>Bsmt Exposure</th>\n",
       "      <td>410.0</td>\n",
       "      <td>1.226829</td>\n",
       "      <td>0.769061</td>\n",
       "      <td>0.0</td>\n",
       "      <td>1.00</td>\n",
       "      <td>1.0</td>\n",
       "      <td>1.00</td>\n",
       "      <td>3.0</td>\n",
       "    </tr>\n",
       "    <tr>\n",
       "      <th>BsmtFin Type 1</th>\n",
       "      <td>410.0</td>\n",
       "      <td>2.941463</td>\n",
       "      <td>2.763097</td>\n",
       "      <td>0.0</td>\n",
       "      <td>0.00</td>\n",
       "      <td>4.0</td>\n",
       "      <td>6.00</td>\n",
       "      <td>6.0</td>\n",
       "    </tr>\n",
       "    <tr>\n",
       "      <th>BsmtFin SF 1</th>\n",
       "      <td>410.0</td>\n",
       "      <td>351.751952</td>\n",
       "      <td>368.036344</td>\n",
       "      <td>0.0</td>\n",
       "      <td>0.00</td>\n",
       "      <td>281.0</td>\n",
       "      <td>548.75</td>\n",
       "      <td>1573.0</td>\n",
       "    </tr>\n",
       "    <tr>\n",
       "      <th>BsmtFin Type 2</th>\n",
       "      <td>410.0</td>\n",
       "      <td>0.192683</td>\n",
       "      <td>0.940501</td>\n",
       "      <td>0.0</td>\n",
       "      <td>0.00</td>\n",
       "      <td>0.0</td>\n",
       "      <td>0.00</td>\n",
       "      <td>6.0</td>\n",
       "    </tr>\n",
       "    <tr>\n",
       "      <th>BsmtFin SF 2</th>\n",
       "      <td>410.0</td>\n",
       "      <td>31.000000</td>\n",
       "      <td>127.824050</td>\n",
       "      <td>0.0</td>\n",
       "      <td>0.00</td>\n",
       "      <td>0.0</td>\n",
       "      <td>0.00</td>\n",
       "      <td>1120.0</td>\n",
       "    </tr>\n",
       "    <tr>\n",
       "      <th>Bsmt Unf SF</th>\n",
       "      <td>410.0</td>\n",
       "      <td>502.284703</td>\n",
       "      <td>362.996912</td>\n",
       "      <td>0.0</td>\n",
       "      <td>208.50</td>\n",
       "      <td>425.0</td>\n",
       "      <td>738.00</td>\n",
       "      <td>1550.0</td>\n",
       "    </tr>\n",
       "    <tr>\n",
       "      <th>Total Bsmt SF</th>\n",
       "      <td>410.0</td>\n",
       "      <td>885.153629</td>\n",
       "      <td>328.330299</td>\n",
       "      <td>0.0</td>\n",
       "      <td>634.75</td>\n",
       "      <td>846.5</td>\n",
       "      <td>1078.00</td>\n",
       "      <td>1742.0</td>\n",
       "    </tr>\n",
       "    <tr>\n",
       "      <th>Heating QC</th>\n",
       "      <td>410.0</td>\n",
       "      <td>0.000000</td>\n",
       "      <td>0.000000</td>\n",
       "      <td>0.0</td>\n",
       "      <td>0.00</td>\n",
       "      <td>0.0</td>\n",
       "      <td>0.00</td>\n",
       "      <td>0.0</td>\n",
       "    </tr>\n",
       "    <tr>\n",
       "      <th>Electrical</th>\n",
       "      <td>410.0</td>\n",
       "      <td>0.339024</td>\n",
       "      <td>0.916936</td>\n",
       "      <td>0.0</td>\n",
       "      <td>0.00</td>\n",
       "      <td>0.0</td>\n",
       "      <td>0.00</td>\n",
       "      <td>3.0</td>\n",
       "    </tr>\n",
       "    <tr>\n",
       "      <th>1st Flr SF</th>\n",
       "      <td>410.0</td>\n",
       "      <td>952.029268</td>\n",
       "      <td>311.877372</td>\n",
       "      <td>334.0</td>\n",
       "      <td>742.00</td>\n",
       "      <td>881.0</td>\n",
       "      <td>1152.00</td>\n",
       "      <td>1778.0</td>\n",
       "    </tr>\n",
       "    <tr>\n",
       "      <th>2nd Flr SF</th>\n",
       "      <td>410.0</td>\n",
       "      <td>288.890244</td>\n",
       "      <td>319.521716</td>\n",
       "      <td>0.0</td>\n",
       "      <td>0.00</td>\n",
       "      <td>0.0</td>\n",
       "      <td>582.75</td>\n",
       "      <td>1230.0</td>\n",
       "    </tr>\n",
       "    <tr>\n",
       "      <th>Low Qual Fin SF</th>\n",
       "      <td>410.0</td>\n",
       "      <td>8.748780</td>\n",
       "      <td>59.821273</td>\n",
       "      <td>0.0</td>\n",
       "      <td>0.00</td>\n",
       "      <td>0.0</td>\n",
       "      <td>0.00</td>\n",
       "      <td>697.0</td>\n",
       "    </tr>\n",
       "    <tr>\n",
       "      <th>Gr Liv Area</th>\n",
       "      <td>410.0</td>\n",
       "      <td>1249.668293</td>\n",
       "      <td>309.979812</td>\n",
       "      <td>334.0</td>\n",
       "      <td>1035.50</td>\n",
       "      <td>1248.0</td>\n",
       "      <td>1456.00</td>\n",
       "      <td>2521.0</td>\n",
       "    </tr>\n",
       "    <tr>\n",
       "      <th>Bsmt Full Bath</th>\n",
       "      <td>410.0</td>\n",
       "      <td>0.352262</td>\n",
       "      <td>0.482725</td>\n",
       "      <td>0.0</td>\n",
       "      <td>0.00</td>\n",
       "      <td>0.0</td>\n",
       "      <td>1.00</td>\n",
       "      <td>2.0</td>\n",
       "    </tr>\n",
       "    <tr>\n",
       "      <th>Bsmt Half Bath</th>\n",
       "      <td>410.0</td>\n",
       "      <td>0.073171</td>\n",
       "      <td>0.269949</td>\n",
       "      <td>0.0</td>\n",
       "      <td>0.00</td>\n",
       "      <td>0.0</td>\n",
       "      <td>0.00</td>\n",
       "      <td>2.0</td>\n",
       "    </tr>\n",
       "    <tr>\n",
       "      <th>Full Bath</th>\n",
       "      <td>410.0</td>\n",
       "      <td>1.429268</td>\n",
       "      <td>0.500486</td>\n",
       "      <td>0.0</td>\n",
       "      <td>1.00</td>\n",
       "      <td>1.0</td>\n",
       "      <td>2.00</td>\n",
       "      <td>2.0</td>\n",
       "    </tr>\n",
       "    <tr>\n",
       "      <th>Half Bath</th>\n",
       "      <td>410.0</td>\n",
       "      <td>0.280488</td>\n",
       "      <td>0.455190</td>\n",
       "      <td>0.0</td>\n",
       "      <td>0.00</td>\n",
       "      <td>0.0</td>\n",
       "      <td>1.00</td>\n",
       "      <td>2.0</td>\n",
       "    </tr>\n",
       "    <tr>\n",
       "      <th>Bedroom AbvGr</th>\n",
       "      <td>410.0</td>\n",
       "      <td>2.373171</td>\n",
       "      <td>0.762676</td>\n",
       "      <td>0.0</td>\n",
       "      <td>2.00</td>\n",
       "      <td>2.0</td>\n",
       "      <td>3.00</td>\n",
       "      <td>6.0</td>\n",
       "    </tr>\n",
       "    <tr>\n",
       "      <th>Kitchen AbvGr</th>\n",
       "      <td>410.0</td>\n",
       "      <td>1.021951</td>\n",
       "      <td>0.146703</td>\n",
       "      <td>1.0</td>\n",
       "      <td>1.00</td>\n",
       "      <td>1.0</td>\n",
       "      <td>1.00</td>\n",
       "      <td>2.0</td>\n",
       "    </tr>\n",
       "    <tr>\n",
       "      <th>Kitchen Qual</th>\n",
       "      <td>410.0</td>\n",
       "      <td>0.000000</td>\n",
       "      <td>0.000000</td>\n",
       "      <td>0.0</td>\n",
       "      <td>0.00</td>\n",
       "      <td>0.0</td>\n",
       "      <td>0.00</td>\n",
       "      <td>0.0</td>\n",
       "    </tr>\n",
       "    <tr>\n",
       "      <th>TotRms AbvGrd</th>\n",
       "      <td>410.0</td>\n",
       "      <td>5.495122</td>\n",
       "      <td>1.164355</td>\n",
       "      <td>2.0</td>\n",
       "      <td>5.00</td>\n",
       "      <td>5.0</td>\n",
       "      <td>6.00</td>\n",
       "      <td>11.0</td>\n",
       "    </tr>\n",
       "    <tr>\n",
       "      <th>Functional</th>\n",
       "      <td>410.0</td>\n",
       "      <td>6.853659</td>\n",
       "      <td>0.701412</td>\n",
       "      <td>1.0</td>\n",
       "      <td>7.00</td>\n",
       "      <td>7.0</td>\n",
       "      <td>7.00</td>\n",
       "      <td>7.0</td>\n",
       "    </tr>\n",
       "    <tr>\n",
       "      <th>Fireplaces</th>\n",
       "      <td>410.0</td>\n",
       "      <td>0.400000</td>\n",
       "      <td>0.524230</td>\n",
       "      <td>0.0</td>\n",
       "      <td>0.00</td>\n",
       "      <td>0.0</td>\n",
       "      <td>1.00</td>\n",
       "      <td>2.0</td>\n",
       "    </tr>\n",
       "    <tr>\n",
       "      <th>Fireplace Qu</th>\n",
       "      <td>410.0</td>\n",
       "      <td>0.000000</td>\n",
       "      <td>0.000000</td>\n",
       "      <td>0.0</td>\n",
       "      <td>0.00</td>\n",
       "      <td>0.0</td>\n",
       "      <td>0.00</td>\n",
       "      <td>0.0</td>\n",
       "    </tr>\n",
       "    <tr>\n",
       "      <th>Garage Yr Blt</th>\n",
       "      <td>410.0</td>\n",
       "      <td>1970.097561</td>\n",
       "      <td>30.830878</td>\n",
       "      <td>1872.0</td>\n",
       "      <td>1941.25</td>\n",
       "      <td>1975.0</td>\n",
       "      <td>2000.00</td>\n",
       "      <td>2009.0</td>\n",
       "    </tr>\n",
       "    <tr>\n",
       "      <th>Garage Finish</th>\n",
       "      <td>410.0</td>\n",
       "      <td>1.112195</td>\n",
       "      <td>1.016777</td>\n",
       "      <td>0.0</td>\n",
       "      <td>0.00</td>\n",
       "      <td>1.0</td>\n",
       "      <td>1.00</td>\n",
       "      <td>3.0</td>\n",
       "    </tr>\n",
       "    <tr>\n",
       "      <th>Garage Cars</th>\n",
       "      <td>410.0</td>\n",
       "      <td>1.419512</td>\n",
       "      <td>0.705972</td>\n",
       "      <td>0.0</td>\n",
       "      <td>1.00</td>\n",
       "      <td>2.0</td>\n",
       "      <td>2.00</td>\n",
       "      <td>3.0</td>\n",
       "    </tr>\n",
       "    <tr>\n",
       "      <th>Garage Area</th>\n",
       "      <td>410.0</td>\n",
       "      <td>357.990244</td>\n",
       "      <td>179.489741</td>\n",
       "      <td>0.0</td>\n",
       "      <td>249.25</td>\n",
       "      <td>390.0</td>\n",
       "      <td>481.50</td>\n",
       "      <td>924.0</td>\n",
       "    </tr>\n",
       "    <tr>\n",
       "      <th>Garage Qual</th>\n",
       "      <td>410.0</td>\n",
       "      <td>0.000000</td>\n",
       "      <td>0.000000</td>\n",
       "      <td>0.0</td>\n",
       "      <td>0.00</td>\n",
       "      <td>0.0</td>\n",
       "      <td>0.00</td>\n",
       "      <td>0.0</td>\n",
       "    </tr>\n",
       "    <tr>\n",
       "      <th>Garage Cond</th>\n",
       "      <td>410.0</td>\n",
       "      <td>0.000000</td>\n",
       "      <td>0.000000</td>\n",
       "      <td>0.0</td>\n",
       "      <td>0.00</td>\n",
       "      <td>0.0</td>\n",
       "      <td>0.00</td>\n",
       "      <td>0.0</td>\n",
       "    </tr>\n",
       "    <tr>\n",
       "      <th>Paved Drive</th>\n",
       "      <td>410.0</td>\n",
       "      <td>1.792683</td>\n",
       "      <td>0.587935</td>\n",
       "      <td>0.0</td>\n",
       "      <td>2.00</td>\n",
       "      <td>2.0</td>\n",
       "      <td>2.00</td>\n",
       "      <td>2.0</td>\n",
       "    </tr>\n",
       "    <tr>\n",
       "      <th>Wood Deck SF</th>\n",
       "      <td>410.0</td>\n",
       "      <td>70.368293</td>\n",
       "      <td>102.140483</td>\n",
       "      <td>0.0</td>\n",
       "      <td>0.00</td>\n",
       "      <td>0.0</td>\n",
       "      <td>142.75</td>\n",
       "      <td>728.0</td>\n",
       "    </tr>\n",
       "    <tr>\n",
       "      <th>Open Porch SF</th>\n",
       "      <td>410.0</td>\n",
       "      <td>37.707317</td>\n",
       "      <td>59.350702</td>\n",
       "      <td>0.0</td>\n",
       "      <td>0.00</td>\n",
       "      <td>0.0</td>\n",
       "      <td>54.00</td>\n",
       "      <td>444.0</td>\n",
       "    </tr>\n",
       "    <tr>\n",
       "      <th>Enclosed Porch</th>\n",
       "      <td>410.0</td>\n",
       "      <td>22.795122</td>\n",
       "      <td>52.665591</td>\n",
       "      <td>0.0</td>\n",
       "      <td>0.00</td>\n",
       "      <td>0.0</td>\n",
       "      <td>0.00</td>\n",
       "      <td>296.0</td>\n",
       "    </tr>\n",
       "    <tr>\n",
       "      <th>3Ssn Porch</th>\n",
       "      <td>410.0</td>\n",
       "      <td>2.397561</td>\n",
       "      <td>18.527070</td>\n",
       "      <td>0.0</td>\n",
       "      <td>0.00</td>\n",
       "      <td>0.0</td>\n",
       "      <td>0.00</td>\n",
       "      <td>168.0</td>\n",
       "    </tr>\n",
       "    <tr>\n",
       "      <th>Screen Porch</th>\n",
       "      <td>410.0</td>\n",
       "      <td>8.500000</td>\n",
       "      <td>35.723076</td>\n",
       "      <td>0.0</td>\n",
       "      <td>0.00</td>\n",
       "      <td>0.0</td>\n",
       "      <td>0.00</td>\n",
       "      <td>225.0</td>\n",
       "    </tr>\n",
       "    <tr>\n",
       "      <th>Pool Area</th>\n",
       "      <td>410.0</td>\n",
       "      <td>0.000000</td>\n",
       "      <td>0.000000</td>\n",
       "      <td>0.0</td>\n",
       "      <td>0.00</td>\n",
       "      <td>0.0</td>\n",
       "      <td>0.00</td>\n",
       "      <td>0.0</td>\n",
       "    </tr>\n",
       "    <tr>\n",
       "      <th>Pool QC</th>\n",
       "      <td>410.0</td>\n",
       "      <td>0.000000</td>\n",
       "      <td>0.000000</td>\n",
       "      <td>0.0</td>\n",
       "      <td>0.00</td>\n",
       "      <td>0.0</td>\n",
       "      <td>0.00</td>\n",
       "      <td>0.0</td>\n",
       "    </tr>\n",
       "    <tr>\n",
       "      <th>Fence</th>\n",
       "      <td>410.0</td>\n",
       "      <td>0.475610</td>\n",
       "      <td>1.116947</td>\n",
       "      <td>0.0</td>\n",
       "      <td>0.00</td>\n",
       "      <td>0.0</td>\n",
       "      <td>0.00</td>\n",
       "      <td>4.0</td>\n",
       "    </tr>\n",
       "    <tr>\n",
       "      <th>Misc Val</th>\n",
       "      <td>410.0</td>\n",
       "      <td>11.829268</td>\n",
       "      <td>176.941746</td>\n",
       "      <td>0.0</td>\n",
       "      <td>0.00</td>\n",
       "      <td>0.0</td>\n",
       "      <td>0.00</td>\n",
       "      <td>3500.0</td>\n",
       "    </tr>\n",
       "    <tr>\n",
       "      <th>Mo Sold</th>\n",
       "      <td>410.0</td>\n",
       "      <td>6.180488</td>\n",
       "      <td>2.721212</td>\n",
       "      <td>1.0</td>\n",
       "      <td>4.00</td>\n",
       "      <td>6.0</td>\n",
       "      <td>8.00</td>\n",
       "      <td>12.0</td>\n",
       "    </tr>\n",
       "    <tr>\n",
       "      <th>Yr Sold</th>\n",
       "      <td>410.0</td>\n",
       "      <td>2007.792683</td>\n",
       "      <td>1.316974</td>\n",
       "      <td>2006.0</td>\n",
       "      <td>2007.00</td>\n",
       "      <td>2008.0</td>\n",
       "      <td>2009.00</td>\n",
       "      <td>2010.0</td>\n",
       "    </tr>\n",
       "    <tr>\n",
       "      <th>SalePrice</th>\n",
       "      <td>410.0</td>\n",
       "      <td>143255.258537</td>\n",
       "      <td>52569.127991</td>\n",
       "      <td>37900.0</td>\n",
       "      <td>109500.00</td>\n",
       "      <td>134000.0</td>\n",
       "      <td>165362.50</td>\n",
       "      <td>392500.0</td>\n",
       "    </tr>\n",
       "  </tbody>\n",
       "</table>\n",
       "</div>"
      ],
      "text/plain": [
       "                 count           mean           std      min        25%  \\\n",
       "Id               410.0    1477.185366    854.518612      8.0     740.50   \n",
       "MS SubClass      410.0      94.987805     53.852214     20.0      50.00   \n",
       "Lot Frontage     410.0      48.622997     17.182752     21.0      35.00   \n",
       "Lot Area         410.0    4635.260976   1670.354178   1300.0    3185.50   \n",
       "Lot Shape        410.0       2.790244      0.453082      0.0       3.00   \n",
       "Utilities        410.0       3.000000      0.000000      3.0       3.00   \n",
       "Land Slope       410.0       1.948780      0.231527      0.0       2.00   \n",
       "Overall Qual     410.0       5.939024      1.322622      1.0       5.00   \n",
       "Overall Cond     410.0       5.678049      1.171694      1.0       5.00   \n",
       "Year Built       410.0    1964.621951     33.272396   1872.0    1935.00   \n",
       "Year Remod/Add   410.0    1981.334146     22.174856   1950.0    1955.25   \n",
       "Mas Vnr Area     410.0      63.548780    141.928660      0.0       0.00   \n",
       "Exter Qual       410.0       0.000000      0.000000      0.0       0.00   \n",
       "Exter Cond       410.0       0.000000      0.000000      0.0       0.00   \n",
       "Bsmt Qual        410.0       0.000000      0.000000      0.0       0.00   \n",
       "Bsmt Cond        410.0       0.000000      0.000000      0.0       0.00   \n",
       "Bsmt Exposure    410.0       1.226829      0.769061      0.0       1.00   \n",
       "BsmtFin Type 1   410.0       2.941463      2.763097      0.0       0.00   \n",
       "BsmtFin SF 1     410.0     351.751952    368.036344      0.0       0.00   \n",
       "BsmtFin Type 2   410.0       0.192683      0.940501      0.0       0.00   \n",
       "BsmtFin SF 2     410.0      31.000000    127.824050      0.0       0.00   \n",
       "Bsmt Unf SF      410.0     502.284703    362.996912      0.0     208.50   \n",
       "Total Bsmt SF    410.0     885.153629    328.330299      0.0     634.75   \n",
       "Heating QC       410.0       0.000000      0.000000      0.0       0.00   \n",
       "Electrical       410.0       0.339024      0.916936      0.0       0.00   \n",
       "1st Flr SF       410.0     952.029268    311.877372    334.0     742.00   \n",
       "2nd Flr SF       410.0     288.890244    319.521716      0.0       0.00   \n",
       "Low Qual Fin SF  410.0       8.748780     59.821273      0.0       0.00   \n",
       "Gr Liv Area      410.0    1249.668293    309.979812    334.0    1035.50   \n",
       "Bsmt Full Bath   410.0       0.352262      0.482725      0.0       0.00   \n",
       "Bsmt Half Bath   410.0       0.073171      0.269949      0.0       0.00   \n",
       "Full Bath        410.0       1.429268      0.500486      0.0       1.00   \n",
       "Half Bath        410.0       0.280488      0.455190      0.0       0.00   \n",
       "Bedroom AbvGr    410.0       2.373171      0.762676      0.0       2.00   \n",
       "Kitchen AbvGr    410.0       1.021951      0.146703      1.0       1.00   \n",
       "Kitchen Qual     410.0       0.000000      0.000000      0.0       0.00   \n",
       "TotRms AbvGrd    410.0       5.495122      1.164355      2.0       5.00   \n",
       "Functional       410.0       6.853659      0.701412      1.0       7.00   \n",
       "Fireplaces       410.0       0.400000      0.524230      0.0       0.00   \n",
       "Fireplace Qu     410.0       0.000000      0.000000      0.0       0.00   \n",
       "Garage Yr Blt    410.0    1970.097561     30.830878   1872.0    1941.25   \n",
       "Garage Finish    410.0       1.112195      1.016777      0.0       0.00   \n",
       "Garage Cars      410.0       1.419512      0.705972      0.0       1.00   \n",
       "Garage Area      410.0     357.990244    179.489741      0.0     249.25   \n",
       "Garage Qual      410.0       0.000000      0.000000      0.0       0.00   \n",
       "Garage Cond      410.0       0.000000      0.000000      0.0       0.00   \n",
       "Paved Drive      410.0       1.792683      0.587935      0.0       2.00   \n",
       "Wood Deck SF     410.0      70.368293    102.140483      0.0       0.00   \n",
       "Open Porch SF    410.0      37.707317     59.350702      0.0       0.00   \n",
       "Enclosed Porch   410.0      22.795122     52.665591      0.0       0.00   \n",
       "3Ssn Porch       410.0       2.397561     18.527070      0.0       0.00   \n",
       "Screen Porch     410.0       8.500000     35.723076      0.0       0.00   \n",
       "Pool Area        410.0       0.000000      0.000000      0.0       0.00   \n",
       "Pool QC          410.0       0.000000      0.000000      0.0       0.00   \n",
       "Fence            410.0       0.475610      1.116947      0.0       0.00   \n",
       "Misc Val         410.0      11.829268    176.941746      0.0       0.00   \n",
       "Mo Sold          410.0       6.180488      2.721212      1.0       4.00   \n",
       "Yr Sold          410.0    2007.792683      1.316974   2006.0    2007.00   \n",
       "SalePrice        410.0  143255.258537  52569.127991  37900.0  109500.00   \n",
       "\n",
       "                      50%        75%       max  \n",
       "Id                 1497.5    2231.25    2920.0  \n",
       "MS SubClass         120.0     160.00     190.0  \n",
       "Lot Frontage         50.0      60.00     153.0  \n",
       "Lot Area           4980.0    6060.00    7000.0  \n",
       "Lot Shape             3.0       3.00       3.0  \n",
       "Utilities             3.0       3.00       3.0  \n",
       "Land Slope            2.0       2.00       2.0  \n",
       "Overall Qual          6.0       7.00      10.0  \n",
       "Overall Cond          5.0       6.00       9.0  \n",
       "Year Built         1971.0    2000.00    2009.0  \n",
       "Year Remod/Add     1984.0    2003.00    2010.0  \n",
       "Mas Vnr Area          0.0      48.75    1129.0  \n",
       "Exter Qual            0.0       0.00       0.0  \n",
       "Exter Cond            0.0       0.00       0.0  \n",
       "Bsmt Qual             0.0       0.00       0.0  \n",
       "Bsmt Cond             0.0       0.00       0.0  \n",
       "Bsmt Exposure         1.0       1.00       3.0  \n",
       "BsmtFin Type 1        4.0       6.00       6.0  \n",
       "BsmtFin SF 1        281.0     548.75    1573.0  \n",
       "BsmtFin Type 2        0.0       0.00       6.0  \n",
       "BsmtFin SF 2          0.0       0.00    1120.0  \n",
       "Bsmt Unf SF         425.0     738.00    1550.0  \n",
       "Total Bsmt SF       846.5    1078.00    1742.0  \n",
       "Heating QC            0.0       0.00       0.0  \n",
       "Electrical            0.0       0.00       3.0  \n",
       "1st Flr SF          881.0    1152.00    1778.0  \n",
       "2nd Flr SF            0.0     582.75    1230.0  \n",
       "Low Qual Fin SF       0.0       0.00     697.0  \n",
       "Gr Liv Area        1248.0    1456.00    2521.0  \n",
       "Bsmt Full Bath        0.0       1.00       2.0  \n",
       "Bsmt Half Bath        0.0       0.00       2.0  \n",
       "Full Bath             1.0       2.00       2.0  \n",
       "Half Bath             0.0       1.00       2.0  \n",
       "Bedroom AbvGr         2.0       3.00       6.0  \n",
       "Kitchen AbvGr         1.0       1.00       2.0  \n",
       "Kitchen Qual          0.0       0.00       0.0  \n",
       "TotRms AbvGrd         5.0       6.00      11.0  \n",
       "Functional            7.0       7.00       7.0  \n",
       "Fireplaces            0.0       1.00       2.0  \n",
       "Fireplace Qu          0.0       0.00       0.0  \n",
       "Garage Yr Blt      1975.0    2000.00    2009.0  \n",
       "Garage Finish         1.0       1.00       3.0  \n",
       "Garage Cars           2.0       2.00       3.0  \n",
       "Garage Area         390.0     481.50     924.0  \n",
       "Garage Qual           0.0       0.00       0.0  \n",
       "Garage Cond           0.0       0.00       0.0  \n",
       "Paved Drive           2.0       2.00       2.0  \n",
       "Wood Deck SF          0.0     142.75     728.0  \n",
       "Open Porch SF         0.0      54.00     444.0  \n",
       "Enclosed Porch        0.0       0.00     296.0  \n",
       "3Ssn Porch            0.0       0.00     168.0  \n",
       "Screen Porch          0.0       0.00     225.0  \n",
       "Pool Area             0.0       0.00       0.0  \n",
       "Pool QC               0.0       0.00       0.0  \n",
       "Fence                 0.0       0.00       4.0  \n",
       "Misc Val              0.0       0.00    3500.0  \n",
       "Mo Sold               6.0       8.00      12.0  \n",
       "Yr Sold            2008.0    2009.00    2010.0  \n",
       "SalePrice        134000.0  165362.50  392500.0  "
      ]
     },
     "execution_count": 60,
     "metadata": {},
     "output_type": "execute_result"
    }
   ],
   "source": [
    "housing.describe().T"
   ]
  },
  {
   "cell_type": "markdown",
   "metadata": {},
   "source": [
    "Double checking for weird or strange min, max, average values, it looks good! lets clean the test data to be in the same state!"
   ]
  },
  {
   "cell_type": "markdown",
   "metadata": {},
   "source": [
    "# cleaning test data"
   ]
  },
  {
   "cell_type": "code",
   "execution_count": 61,
   "metadata": {
    "ExecuteTime": {
     "end_time": "2021-04-17T01:57:46.666028Z",
     "start_time": "2021-04-17T01:57:46.652014Z"
    },
    "scrolled": true
   },
   "outputs": [
    {
     "data": {
      "text/plain": [
       "Pool QC           874\n",
       "Misc Feature      837\n",
       "Alley             820\n",
       "Fence             706\n",
       "Fireplace Qu      422\n",
       "Lot Frontage      160\n",
       "Garage Cond        45\n",
       "Garage Qual        45\n",
       "Garage Yr Blt      45\n",
       "Garage Finish      45\n",
       "Garage Type        44\n",
       "Bsmt Exposure      25\n",
       "BsmtFin Type 1     25\n",
       "Bsmt Qual          25\n",
       "BsmtFin Type 2     25\n",
       "Bsmt Cond          25\n",
       "Mas Vnr Area        1\n",
       "Mas Vnr Type        1\n",
       "Electrical          1\n",
       "dtype: int64"
      ]
     },
     "execution_count": 61,
     "metadata": {},
     "output_type": "execute_result"
    }
   ],
   "source": [
    "nulls = housingtest.isnull().sum().sort_values(ascending =False)\n",
    "nulls[nulls > 0]"
   ]
  },
  {
   "cell_type": "markdown",
   "metadata": {},
   "source": [
    "test data will have the same kind of nulls as the training data. Running it through all the same functions and commands will solve any issues. note: do not have to drop outliers in test data as we do no know if they are there and dont want to modify the Y values of the test data."
   ]
  },
  {
   "cell_type": "code",
   "execution_count": 62,
   "metadata": {
    "ExecuteTime": {
     "end_time": "2021-04-17T01:57:46.713068Z",
     "start_time": "2021-04-17T01:57:46.668028Z"
    }
   },
   "outputs": [],
   "source": [
    "scale_excellent(housingtest, cleaning_list)\n",
    "scale_other('Lot Shape', {'Reg':3,'IR1':2,'IR2': 1, 'IR3': 0}, housingtest)\n",
    "scale_other('Utilities', {'AllPub':3,'NoSewr':2,'NoSeWa': 1, 'ELO': 0}, housingtest)\n",
    "scale_other('Land Slope', {'Gtl':2,'Mod': 1, 'Sev': 0}, housingtest)\n",
    "scale_other('Bsmt Exposure', {'GD': 4, 'Av':3,'Mn':2,'No': 1, 'NA': 0}, housingtest)\n",
    "scale_other('BsmtFin Type 1', {'GLQ': 6 ,'ALQ':5,'BLQ':4, 'REC':3,'LWQ':2,'UNF': 1, 'NA': 0}, housingtest)\n",
    "scale_other('BsmtFin Type 2', {'GLQ': 6 ,'ALQ':5,'BLQ':4, 'REC':3,'LWQ':2,'UNF': 1, 'NA': 0}, housingtest)\n",
    "scale_other('Electrical', {'SBrKr': 4, 'FuseA':3,'FuseF':2,'FuseP': 1, 'NA': 0}, housingtest)\n",
    "scale_other('Functional', {'Typ': 7, 'Min1': 6 ,'Min2':5,'Mod':4, 'Maj1':3,'Maj2':2,'Sev': 1, 'NA': 0}, housing)\n",
    "scale_other('Garage Finish', {'Fin':3,'Rfn':2,'Unf': 1,}, housingtest)\n",
    "scale_other('Paved Drive', {'Y':2,'P': 1, 'N': 0}, housingtest)\n",
    "scale_other('Fence', {'GdPrv': 4, 'MnPrv':3,'GdWo':2,'MnWw': 1, 'NA': 0}, housingtest)\n",
    "housingtest.drop(columns=['Misc Feature', 'Alley', 'PID'], inplace=True)\n",
    "housingtest['Garage Yr Blt'].fillna(value=housingtest['Year Built'], inplace=True)\n",
    "replace_mean(housingtest, mean_list)\n",
    "replace_mode(housingtest, mode_list_int)\n",
    "housingtest['Garage Type'].fillna('Attchd', inplace=True)\n",
    "housingtest['Mas Vnr Type'].fillna('None', inplace=True)\n"
   ]
  },
  {
   "cell_type": "code",
   "execution_count": 63,
   "metadata": {
    "ExecuteTime": {
     "end_time": "2021-04-17T01:57:46.729082Z",
     "start_time": "2021-04-17T01:57:46.714068Z"
    }
   },
   "outputs": [
    {
     "name": "stdout",
     "output_type": "stream",
     "text": [
      "<class 'pandas.core.frame.DataFrame'>\n",
      "RangeIndex: 878 entries, 0 to 877\n",
      "Data columns (total 77 columns):\n",
      " #   Column           Non-Null Count  Dtype  \n",
      "---  ------           --------------  -----  \n",
      " 0   Id               878 non-null    int64  \n",
      " 1   MS SubClass      878 non-null    int64  \n",
      " 2   MS Zoning        878 non-null    object \n",
      " 3   Lot Frontage     878 non-null    float64\n",
      " 4   Lot Area         878 non-null    int64  \n",
      " 5   Street           878 non-null    object \n",
      " 6   Lot Shape        878 non-null    int64  \n",
      " 7   Land Contour     878 non-null    object \n",
      " 8   Utilities        878 non-null    int64  \n",
      " 9   Lot Config       878 non-null    object \n",
      " 10  Land Slope       878 non-null    int64  \n",
      " 11  Neighborhood     878 non-null    object \n",
      " 12  Condition 1      878 non-null    object \n",
      " 13  Condition 2      878 non-null    object \n",
      " 14  Bldg Type        878 non-null    object \n",
      " 15  House Style      878 non-null    object \n",
      " 16  Overall Qual     878 non-null    int64  \n",
      " 17  Overall Cond     878 non-null    int64  \n",
      " 18  Year Built       878 non-null    int64  \n",
      " 19  Year Remod/Add   878 non-null    int64  \n",
      " 20  Roof Style       878 non-null    object \n",
      " 21  Roof Matl        878 non-null    object \n",
      " 22  Exterior 1st     878 non-null    object \n",
      " 23  Exterior 2nd     878 non-null    object \n",
      " 24  Mas Vnr Type     878 non-null    object \n",
      " 25  Mas Vnr Area     878 non-null    float64\n",
      " 26  Exter Qual       878 non-null    int64  \n",
      " 27  Exter Cond       878 non-null    int64  \n",
      " 28  Foundation       878 non-null    object \n",
      " 29  Bsmt Qual        878 non-null    float64\n",
      " 30  Bsmt Cond        878 non-null    float64\n",
      " 31  Bsmt Exposure    878 non-null    float64\n",
      " 32  BsmtFin Type 1   878 non-null    float64\n",
      " 33  BsmtFin SF 1     878 non-null    int64  \n",
      " 34  BsmtFin Type 2   878 non-null    float64\n",
      " 35  BsmtFin SF 2     878 non-null    int64  \n",
      " 36  Bsmt Unf SF      878 non-null    int64  \n",
      " 37  Total Bsmt SF    878 non-null    int64  \n",
      " 38  Heating          878 non-null    object \n",
      " 39  Heating QC       878 non-null    int64  \n",
      " 40  Central Air      878 non-null    object \n",
      " 41  Electrical       878 non-null    float64\n",
      " 42  1st Flr SF       878 non-null    int64  \n",
      " 43  2nd Flr SF       878 non-null    int64  \n",
      " 44  Low Qual Fin SF  878 non-null    int64  \n",
      " 45  Gr Liv Area      878 non-null    int64  \n",
      " 46  Bsmt Full Bath   878 non-null    int64  \n",
      " 47  Bsmt Half Bath   878 non-null    int64  \n",
      " 48  Full Bath        878 non-null    int64  \n",
      " 49  Half Bath        878 non-null    int64  \n",
      " 50  Bedroom AbvGr    878 non-null    int64  \n",
      " 51  Kitchen AbvGr    878 non-null    int64  \n",
      " 52  Kitchen Qual     878 non-null    int64  \n",
      " 53  TotRms AbvGrd    878 non-null    int64  \n",
      " 54  Functional       878 non-null    object \n",
      " 55  Fireplaces       878 non-null    int64  \n",
      " 56  Fireplace Qu     878 non-null    float64\n",
      " 57  Garage Type      878 non-null    object \n",
      " 58  Garage Yr Blt    878 non-null    float64\n",
      " 59  Garage Finish    878 non-null    float64\n",
      " 60  Garage Cars      878 non-null    int64  \n",
      " 61  Garage Area      878 non-null    int64  \n",
      " 62  Garage Qual      878 non-null    float64\n",
      " 63  Garage Cond      878 non-null    float64\n",
      " 64  Paved Drive      878 non-null    int64  \n",
      " 65  Wood Deck SF     878 non-null    int64  \n",
      " 66  Open Porch SF    878 non-null    int64  \n",
      " 67  Enclosed Porch   878 non-null    int64  \n",
      " 68  3Ssn Porch       878 non-null    int64  \n",
      " 69  Screen Porch     878 non-null    int64  \n",
      " 70  Pool Area        878 non-null    int64  \n",
      " 71  Pool QC          878 non-null    float64\n",
      " 72  Fence            878 non-null    float64\n",
      " 73  Misc Val         878 non-null    int64  \n",
      " 74  Mo Sold          878 non-null    int64  \n",
      " 75  Yr Sold          878 non-null    int64  \n",
      " 76  Sale Type        878 non-null    object \n",
      "dtypes: float64(15), int64(42), object(20)\n",
      "memory usage: 528.3+ KB\n"
     ]
    }
   ],
   "source": [
    "housingtest.info()"
   ]
  },
  {
   "cell_type": "code",
   "execution_count": 64,
   "metadata": {
    "ExecuteTime": {
     "end_time": "2021-04-17T01:57:46.745096Z",
     "start_time": "2021-04-17T01:57:46.730083Z"
    },
    "scrolled": true
   },
   "outputs": [
    {
     "data": {
      "text/plain": [
       "Series([], dtype: int64)"
      ]
     },
     "execution_count": 64,
     "metadata": {},
     "output_type": "execute_result"
    }
   ],
   "source": [
    "nulls = housingtest.isnull().sum().sort_values(ascending =False)\n",
    "nulls[nulls > 0]"
   ]
  },
  {
   "cell_type": "markdown",
   "metadata": {},
   "source": [
    "Test data also appears to be cleaned. "
   ]
  },
  {
   "cell_type": "markdown",
   "metadata": {},
   "source": [
    "# feature engineering"
   ]
  },
  {
   "cell_type": "markdown",
   "metadata": {},
   "source": [
    "For the modeling process I only want to use features that have correlation scores higher than 0.3. With so many features that have a risk of being co-linear, .3 seems like a good starting point to me to be able to pin down features of the data set that can most greatly impact my model. In this feature engineering section I will pull out the features that have that correlation and then check the type of column they are. In order to avoid having a crazy amount of dummied columns and having to relate them to their relative dropped columns, there will be a lot of binning to make these categories more approachable. "
   ]
  },
  {
   "cell_type": "code",
   "execution_count": 65,
   "metadata": {
    "ExecuteTime": {
     "end_time": "2021-04-17T01:57:46.761110Z",
     "start_time": "2021-04-17T01:57:46.746098Z"
    }
   },
   "outputs": [],
   "source": [
    " #accepts input of a data frame and returns a list of column names\n",
    "# who have correlations above or below the specified amount.\n",
    "def check_correlation(df, percent, target, dummied = False):\n",
    "    if dummied:\n",
    "        df = pd.get_dummies(df, drop_first=True)\n",
    "    corr = df.corr()\n",
    "    highcorr = corr[(corr[target] > percent) | (corr[target] < (-1*percent))]\n",
    "    output = list(highcorr.index)\n",
    "    output.remove(target)\n",
    "    return output"
   ]
  },
  {
   "cell_type": "code",
   "execution_count": 66,
   "metadata": {
    "ExecuteTime": {
     "end_time": "2021-04-17T01:57:46.793138Z",
     "start_time": "2021-04-17T01:57:46.772121Z"
    }
   },
   "outputs": [],
   "source": [
    "thirty_corr = check_correlation(housing,.3, 'SalePrice')"
   ]
  },
  {
   "cell_type": "code",
   "execution_count": 67,
   "metadata": {
    "ExecuteTime": {
     "end_time": "2021-04-17T01:57:46.808151Z",
     "start_time": "2021-04-17T01:57:46.799143Z"
    },
    "scrolled": true
   },
   "outputs": [
    {
     "data": {
      "text/plain": [
       "['Lot Shape',\n",
       " 'Overall Qual',\n",
       " 'Year Built',\n",
       " 'Year Remod/Add',\n",
       " 'BsmtFin Type 1',\n",
       " 'BsmtFin SF 1',\n",
       " 'Total Bsmt SF',\n",
       " '1st Flr SF',\n",
       " 'Gr Liv Area',\n",
       " 'Bsmt Full Bath',\n",
       " 'Full Bath',\n",
       " 'Fireplaces',\n",
       " 'Garage Yr Blt',\n",
       " 'Garage Finish',\n",
       " 'Garage Cars',\n",
       " 'Garage Area',\n",
       " 'Paved Drive']"
      ]
     },
     "execution_count": 67,
     "metadata": {},
     "output_type": "execute_result"
    }
   ],
   "source": [
    "thirty_corr"
   ]
  },
  {
   "cell_type": "code",
   "execution_count": 68,
   "metadata": {
    "ExecuteTime": {
     "end_time": "2021-04-17T01:57:46.870206Z",
     "start_time": "2021-04-17T01:57:46.810153Z"
    }
   },
   "outputs": [],
   "source": [
    "thirty_corr_dumm =check_correlation(housing,.3, 'SalePrice', dummied=True)"
   ]
  },
  {
   "cell_type": "code",
   "execution_count": 69,
   "metadata": {
    "ExecuteTime": {
     "end_time": "2021-04-17T01:57:46.886221Z",
     "start_time": "2021-04-17T01:57:46.871207Z"
    }
   },
   "outputs": [
    {
     "data": {
      "text/plain": [
       "['Lot Shape',\n",
       " 'Overall Qual',\n",
       " 'Year Built',\n",
       " 'Year Remod/Add',\n",
       " 'BsmtFin Type 1',\n",
       " 'BsmtFin SF 1',\n",
       " 'Total Bsmt SF',\n",
       " '1st Flr SF',\n",
       " 'Gr Liv Area',\n",
       " 'Bsmt Full Bath',\n",
       " 'Full Bath',\n",
       " 'Fireplaces',\n",
       " 'Garage Yr Blt',\n",
       " 'Garage Finish',\n",
       " 'Garage Cars',\n",
       " 'Garage Area',\n",
       " 'Paved Drive',\n",
       " 'MS Zoning_FV',\n",
       " 'MS Zoning_RM',\n",
       " 'Neighborhood_Somerst',\n",
       " 'Bldg Type_TwnhsE',\n",
       " 'House Style_1Story',\n",
       " 'Mas Vnr Type_None',\n",
       " 'Mas Vnr Type_Stone',\n",
       " 'Foundation_CBlock',\n",
       " 'Foundation_PConc',\n",
       " 'Central Air_Y',\n",
       " 'Garage Type_Attchd',\n",
       " 'Sale Type_New']"
      ]
     },
     "execution_count": 69,
     "metadata": {},
     "output_type": "execute_result"
    }
   ],
   "source": [
    "thirty_corr_dumm"
   ]
  },
  {
   "cell_type": "markdown",
   "metadata": {},
   "source": [
    "## binning"
   ]
  },
  {
   "cell_type": "markdown",
   "metadata": {},
   "source": [
    "I am going to bin a lot of the dummied variables based on how well they were correlated. The dummied variables that I want to use appear to be neighborhood, Exterior, Masonry veneer type, foundation type, garage type, and sale type."
   ]
  },
  {
   "cell_type": "code",
   "execution_count": 70,
   "metadata": {
    "ExecuteTime": {
     "end_time": "2021-04-17T01:57:46.901234Z",
     "start_time": "2021-04-17T01:57:46.888224Z"
    },
    "scrolled": true
   },
   "outputs": [
    {
     "data": {
      "text/plain": [
       "OldTown    62\n",
       "BrkSide    53\n",
       "Somerst    47\n",
       "Edwards    25\n",
       "MeadowV    24\n",
       "Blmngtn    22\n",
       "IDOTRR     21\n",
       "BrDale     19\n",
       "SWISU      18\n",
       "NridgHt    17\n",
       "NPkVill    17\n",
       "StoneBr    16\n",
       "Crawfor    15\n",
       "NAmes      11\n",
       "CollgCr    11\n",
       "Mitchel     8\n",
       "Sawyer      8\n",
       "Blueste     6\n",
       "Timber      3\n",
       "ClearCr     3\n",
       "Greens      3\n",
       "Landmrk     1\n",
       "Name: Neighborhood, dtype: int64"
      ]
     },
     "execution_count": 70,
     "metadata": {},
     "output_type": "execute_result"
    }
   ],
   "source": [
    "housing['Neighborhood'].value_counts()"
   ]
  },
  {
   "cell_type": "code",
   "execution_count": 71,
   "metadata": {
    "ExecuteTime": {
     "end_time": "2021-04-17T01:57:46.917248Z",
     "start_time": "2021-04-17T01:57:46.903234Z"
    }
   },
   "outputs": [
    {
     "data": {
      "text/plain": [
       "Neighborhood\n",
       "MeadowV    100231.250000\n",
       "BrDale     103371.052632\n",
       "IDOTRR     107330.952381\n",
       "OldTown    108577.161290\n",
       "Edwards    118940.000000\n",
       "BrkSide    118950.943396\n",
       "SWISU      123071.333333\n",
       "Sawyer     124781.250000\n",
       "NAmes      133909.090909\n",
       "Landmrk    137000.000000\n",
       "NPkVill    140476.470588\n",
       "Blueste    144566.666667\n",
       "Mitchel    145812.500000\n",
       "ClearCr    150466.666667\n",
       "CollgCr    157677.272727\n",
       "Greens     188666.666667\n",
       "Somerst    190270.106383\n",
       "Blmngtn    200417.681818\n",
       "NridgHt    208975.882353\n",
       "Crawfor    210570.933333\n",
       "StoneBr    212437.500000\n",
       "Timber     214000.000000\n",
       "Name: SalePrice, dtype: float64"
      ]
     },
     "execution_count": 71,
     "metadata": {},
     "output_type": "execute_result"
    }
   ],
   "source": [
    "housing.groupby('Neighborhood')['SalePrice'].mean().sort_values()"
   ]
  },
  {
   "cell_type": "markdown",
   "metadata": {
    "ExecuteTime": {
     "end_time": "2021-04-15T23:29:45.795263Z",
     "start_time": "2021-04-15T23:29:45.781251Z"
    }
   },
   "source": [
    "Gonna make some bins for the price of neighborhoods. 3 if price above 300k, 2 if between 200k and 300k, 1 if between 100k and 200k."
   ]
  },
  {
   "cell_type": "code",
   "execution_count": 72,
   "metadata": {
    "ExecuteTime": {
     "end_time": "2021-04-17T01:57:46.932261Z",
     "start_time": "2021-04-17T01:57:46.919249Z"
    }
   },
   "outputs": [],
   "source": [
    " neighborhoods_dict = {\n",
    "     'MeadowV': 1, \"IDOTRR\": 1, \"BrDale\": 1, 'OldTown': 1, 'BrkSide': 1, 'Edwards': 1, 'SWISU': 1,\n",
    "     'Landmrk': 1, 'Sawyer': 1, 'NPkVill': 1, 'Blueste': 1, 'NAmes': 1, 'Mitchel': 1, 'SawyerW': 1,\n",
    "     'Greens' : 1, 'Gilbert': 1, 'NWAmes': 1, 'Blmngtn': 2, 'CollgCr': 2, 'Crawfor': 2, 'ClearCr': 2,\n",
    "     'Somerst': 2, 'Timber' : 2, 'Veenker' : 2, \"GrnHill\": 2, 'NoRidge': 3, 'NridgHt': 3, 'StoneBr':3\n",
    " }"
   ]
  },
  {
   "cell_type": "code",
   "execution_count": 73,
   "metadata": {
    "ExecuteTime": {
     "end_time": "2021-04-17T01:57:46.948276Z",
     "start_time": "2021-04-17T01:57:46.933262Z"
    }
   },
   "outputs": [],
   "source": [
    "housing['Neighborhood'] = housing['Neighborhood'].map(neighborhoods_dict)"
   ]
  },
  {
   "cell_type": "code",
   "execution_count": 74,
   "metadata": {
    "ExecuteTime": {
     "end_time": "2021-04-17T01:57:46.963288Z",
     "start_time": "2021-04-17T01:57:46.950277Z"
    },
    "scrolled": true
   },
   "outputs": [
    {
     "data": {
      "text/plain": [
       "Neighborhood\n",
       "1    117553.507246\n",
       "2    191468.297030\n",
       "3    210654.242424\n",
       "Name: SalePrice, dtype: float64"
      ]
     },
     "execution_count": 74,
     "metadata": {},
     "output_type": "execute_result"
    }
   ],
   "source": [
    "housing.groupby('Neighborhood')['SalePrice'].mean().sort_values()"
   ]
  },
  {
   "cell_type": "markdown",
   "metadata": {},
   "source": [
    "In the next section I will look at a lot of categorical variables, and just group all the small values into a category such as 'other' just to give the column a little bit more clarity."
   ]
  },
  {
   "cell_type": "code",
   "execution_count": 75,
   "metadata": {
    "ExecuteTime": {
     "end_time": "2021-04-17T01:57:46.979303Z",
     "start_time": "2021-04-17T01:57:46.965290Z"
    }
   },
   "outputs": [
    {
     "data": {
      "text/plain": [
       "MetalSd    0.253659\n",
       "VinylSd    0.241463\n",
       "Wd Sdng    0.173171\n",
       "HdBoard    0.100000\n",
       "CemntBd    0.097561\n",
       "Plywood    0.051220\n",
       "AsbShng    0.029268\n",
       "WdShing    0.021951\n",
       "Stucco     0.017073\n",
       "BrkFace    0.012195\n",
       "CBlock     0.002439\n",
       "Name: Exterior 1st, dtype: float64"
      ]
     },
     "execution_count": 75,
     "metadata": {},
     "output_type": "execute_result"
    }
   ],
   "source": [
    "housing['Exterior 1st'].value_counts(normalize=True)"
   ]
  },
  {
   "cell_type": "code",
   "execution_count": 76,
   "metadata": {
    "ExecuteTime": {
     "end_time": "2021-04-17T01:57:46.995316Z",
     "start_time": "2021-04-17T01:57:46.981304Z"
    }
   },
   "outputs": [],
   "source": [
    "housing['Exterior 1st'] = housing['Exterior 1st'].map(lambda x: 'other' if x in ['BrkComm', 'CBlock', 'Stone', 'AsphShn', 'ImStucc'] else x)          "
   ]
  },
  {
   "cell_type": "code",
   "execution_count": 77,
   "metadata": {
    "ExecuteTime": {
     "end_time": "2021-04-17T01:57:47.010330Z",
     "start_time": "2021-04-17T01:57:46.997319Z"
    }
   },
   "outputs": [
    {
     "data": {
      "text/plain": [
       "MetalSd    0.253659\n",
       "VinylSd    0.241463\n",
       "Wd Sdng    0.173171\n",
       "HdBoard    0.100000\n",
       "CemntBd    0.097561\n",
       "Plywood    0.051220\n",
       "AsbShng    0.029268\n",
       "WdShing    0.021951\n",
       "Stucco     0.017073\n",
       "BrkFace    0.012195\n",
       "other      0.002439\n",
       "Name: Exterior 1st, dtype: float64"
      ]
     },
     "execution_count": 77,
     "metadata": {},
     "output_type": "execute_result"
    }
   ],
   "source": [
    "housing['Exterior 1st'].value_counts(normalize=True)"
   ]
  },
  {
   "cell_type": "code",
   "execution_count": 78,
   "metadata": {
    "ExecuteTime": {
     "end_time": "2021-04-17T01:57:47.026345Z",
     "start_time": "2021-04-17T01:57:47.011331Z"
    }
   },
   "outputs": [
    {
     "data": {
      "text/plain": [
       "MetalSd    0.248780\n",
       "VinylSd    0.229268\n",
       "Wd Sdng    0.151220\n",
       "CmentBd    0.097561\n",
       "HdBoard    0.082927\n",
       "Wd Shng    0.053659\n",
       "Plywood    0.046341\n",
       "Brk Cmn    0.034146\n",
       "AsbShng    0.021951\n",
       "Stucco     0.019512\n",
       "ImStucc    0.004878\n",
       "BrkFace    0.004878\n",
       "CBlock     0.004878\n",
       "Name: Exterior 2nd, dtype: float64"
      ]
     },
     "execution_count": 78,
     "metadata": {},
     "output_type": "execute_result"
    }
   ],
   "source": [
    "housing['Exterior 2nd'].value_counts(normalize=True)"
   ]
  },
  {
   "cell_type": "code",
   "execution_count": 79,
   "metadata": {
    "ExecuteTime": {
     "end_time": "2021-04-17T01:57:47.042360Z",
     "start_time": "2021-04-17T01:57:47.028347Z"
    }
   },
   "outputs": [],
   "source": [
    "housing['Exterior 2nd'] = housing['Exterior 2nd'].map(lambda x: 'other' if x in ['Brk Cmn', 'Stone', 'CBlock', 'AsphShn', 'ImStucc'] else x)          "
   ]
  },
  {
   "cell_type": "code",
   "execution_count": 80,
   "metadata": {
    "ExecuteTime": {
     "end_time": "2021-04-17T01:57:47.058372Z",
     "start_time": "2021-04-17T01:57:47.044360Z"
    }
   },
   "outputs": [
    {
     "data": {
      "text/plain": [
       "MetalSd    0.248780\n",
       "VinylSd    0.229268\n",
       "Wd Sdng    0.151220\n",
       "CmentBd    0.097561\n",
       "HdBoard    0.082927\n",
       "Wd Shng    0.053659\n",
       "Plywood    0.046341\n",
       "other      0.043902\n",
       "AsbShng    0.021951\n",
       "Stucco     0.019512\n",
       "BrkFace    0.004878\n",
       "Name: Exterior 2nd, dtype: float64"
      ]
     },
     "execution_count": 80,
     "metadata": {},
     "output_type": "execute_result"
    }
   ],
   "source": [
    "housing['Exterior 2nd'].value_counts(normalize=True)"
   ]
  },
  {
   "cell_type": "code",
   "execution_count": 81,
   "metadata": {
    "ExecuteTime": {
     "end_time": "2021-04-17T01:57:47.073385Z",
     "start_time": "2021-04-17T01:57:47.060378Z"
    },
    "scrolled": false
   },
   "outputs": [
    {
     "data": {
      "text/plain": [
       "None       0.700000\n",
       "BrkFace    0.219512\n",
       "Stone      0.078049\n",
       "BrkCmn     0.002439\n",
       "Name: Mas Vnr Type, dtype: float64"
      ]
     },
     "execution_count": 81,
     "metadata": {},
     "output_type": "execute_result"
    }
   ],
   "source": [
    "housing['Mas Vnr Type'].value_counts(normalize=True)"
   ]
  },
  {
   "cell_type": "code",
   "execution_count": 82,
   "metadata": {
    "ExecuteTime": {
     "end_time": "2021-04-17T01:57:47.089399Z",
     "start_time": "2021-04-17T01:57:47.075389Z"
    }
   },
   "outputs": [],
   "source": [
    "housing['Mas Vnr Type'] = housing['Mas Vnr Type'].map(lambda x: x if x in ['None', 'BrkFace'] else 'other')"
   ]
  },
  {
   "cell_type": "code",
   "execution_count": 83,
   "metadata": {
    "ExecuteTime": {
     "end_time": "2021-04-17T01:57:47.104413Z",
     "start_time": "2021-04-17T01:57:47.091401Z"
    }
   },
   "outputs": [
    {
     "data": {
      "text/plain": [
       "None       0.700000\n",
       "BrkFace    0.219512\n",
       "other      0.080488\n",
       "Name: Mas Vnr Type, dtype: float64"
      ]
     },
     "execution_count": 83,
     "metadata": {},
     "output_type": "execute_result"
    }
   ],
   "source": [
    "housing['Mas Vnr Type'].value_counts(normalize=True)"
   ]
  },
  {
   "cell_type": "code",
   "execution_count": 84,
   "metadata": {
    "ExecuteTime": {
     "end_time": "2021-04-17T01:57:47.120427Z",
     "start_time": "2021-04-17T01:57:47.106415Z"
    },
    "scrolled": false
   },
   "outputs": [
    {
     "data": {
      "text/plain": [
       "Attchd     0.495122\n",
       "Detchd     0.446341\n",
       "BuiltIn    0.034146\n",
       "Basment    0.017073\n",
       "CarPort    0.004878\n",
       "2Types     0.002439\n",
       "Name: Garage Type, dtype: float64"
      ]
     },
     "execution_count": 84,
     "metadata": {},
     "output_type": "execute_result"
    }
   ],
   "source": [
    "housing['Garage Type'].value_counts(normalize=True)"
   ]
  },
  {
   "cell_type": "code",
   "execution_count": 85,
   "metadata": {
    "ExecuteTime": {
     "end_time": "2021-04-17T01:57:47.135440Z",
     "start_time": "2021-04-17T01:57:47.122429Z"
    }
   },
   "outputs": [],
   "source": [
    "housing['Garage Type'] = housing['Garage Type'].map(lambda x: 'other' if x in ['CarPort', '2Types'] else x)  "
   ]
  },
  {
   "cell_type": "code",
   "execution_count": 86,
   "metadata": {
    "ExecuteTime": {
     "end_time": "2021-04-17T01:57:47.151454Z",
     "start_time": "2021-04-17T01:57:47.137442Z"
    }
   },
   "outputs": [
    {
     "data": {
      "text/plain": [
       "Attchd     0.495122\n",
       "Detchd     0.446341\n",
       "BuiltIn    0.034146\n",
       "Basment    0.017073\n",
       "other      0.007317\n",
       "Name: Garage Type, dtype: float64"
      ]
     },
     "execution_count": 86,
     "metadata": {},
     "output_type": "execute_result"
    }
   ],
   "source": [
    "housing['Garage Type'].value_counts(normalize=True)"
   ]
  },
  {
   "cell_type": "code",
   "execution_count": 87,
   "metadata": {
    "ExecuteTime": {
     "end_time": "2021-04-17T01:57:47.166468Z",
     "start_time": "2021-04-17T01:57:47.153457Z"
    },
    "scrolled": true
   },
   "outputs": [
    {
     "data": {
      "text/plain": [
       "WD       368\n",
       "New       23\n",
       "COD       11\n",
       "ConLD      5\n",
       "CWD        2\n",
       "ConLI      1\n",
       "Name: Sale Type, dtype: int64"
      ]
     },
     "execution_count": 87,
     "metadata": {},
     "output_type": "execute_result"
    }
   ],
   "source": [
    "housing['Sale Type'].value_counts()"
   ]
  },
  {
   "cell_type": "code",
   "execution_count": 88,
   "metadata": {
    "ExecuteTime": {
     "end_time": "2021-04-17T01:57:47.182482Z",
     "start_time": "2021-04-17T01:57:47.168470Z"
    }
   },
   "outputs": [],
   "source": [
    "housing['Sale Type'] = housing['Sale Type'].map(lambda x: 1 if x == 'WD ' else 0)"
   ]
  },
  {
   "cell_type": "code",
   "execution_count": 89,
   "metadata": {
    "ExecuteTime": {
     "end_time": "2021-04-17T01:57:47.197495Z",
     "start_time": "2021-04-17T01:57:47.183483Z"
    }
   },
   "outputs": [
    {
     "data": {
      "text/plain": [
       "1    0.897561\n",
       "0    0.102439\n",
       "Name: Sale Type, dtype: float64"
      ]
     },
     "execution_count": 89,
     "metadata": {},
     "output_type": "execute_result"
    }
   ],
   "source": [
    "housing['Sale Type'].value_counts(normalize=True)"
   ]
  },
  {
   "cell_type": "code",
   "execution_count": 90,
   "metadata": {
    "ExecuteTime": {
     "end_time": "2021-04-17T01:57:47.213509Z",
     "start_time": "2021-04-17T01:57:47.199498Z"
    }
   },
   "outputs": [
    {
     "data": {
      "text/plain": [
       "PConc     0.421951\n",
       "CBlock    0.363415\n",
       "BrkTil    0.200000\n",
       "Slab      0.007317\n",
       "Stone     0.004878\n",
       "Wood      0.002439\n",
       "Name: Foundation, dtype: float64"
      ]
     },
     "execution_count": 90,
     "metadata": {},
     "output_type": "execute_result"
    }
   ],
   "source": [
    "housing['Foundation'].value_counts(normalize=True)"
   ]
  },
  {
   "cell_type": "code",
   "execution_count": 91,
   "metadata": {
    "ExecuteTime": {
     "end_time": "2021-04-17T01:57:47.229523Z",
     "start_time": "2021-04-17T01:57:47.214510Z"
    }
   },
   "outputs": [],
   "source": [
    "housing['Foundation'] = housing['Foundation'].map(lambda x: 'other' if x in ['Slab', 'Stone', 'Wood'] else x)  "
   ]
  },
  {
   "cell_type": "code",
   "execution_count": 92,
   "metadata": {
    "ExecuteTime": {
     "end_time": "2021-04-17T01:57:47.245538Z",
     "start_time": "2021-04-17T01:57:47.231526Z"
    },
    "scrolled": false
   },
   "outputs": [
    {
     "data": {
      "text/plain": [
       "PConc     0.421951\n",
       "CBlock    0.363415\n",
       "BrkTil    0.200000\n",
       "other     0.014634\n",
       "Name: Foundation, dtype: float64"
      ]
     },
     "execution_count": 92,
     "metadata": {},
     "output_type": "execute_result"
    }
   ],
   "source": [
    "housing['Foundation'].value_counts(normalize=True)"
   ]
  },
  {
   "cell_type": "markdown",
   "metadata": {},
   "source": [
    "## Creating a few extra columns:"
   ]
  },
  {
   "cell_type": "markdown",
   "metadata": {},
   "source": [
    " Creating a total square foot column:"
   ]
  },
  {
   "cell_type": "code",
   "execution_count": 93,
   "metadata": {
    "ExecuteTime": {
     "end_time": "2021-04-17T01:57:47.261552Z",
     "start_time": "2021-04-17T01:57:47.247539Z"
    }
   },
   "outputs": [],
   "source": [
    "housing['total_sf'] = housing['Gr Liv Area'] + housing['Total Bsmt SF']\n"
   ]
  },
  {
   "cell_type": "markdown",
   "metadata": {},
   "source": [
    "Adding a recently built feature:"
   ]
  },
  {
   "cell_type": "code",
   "execution_count": 94,
   "metadata": {
    "ExecuteTime": {
     "end_time": "2021-04-17T01:57:47.277566Z",
     "start_time": "2021-04-17T01:57:47.263554Z"
    }
   },
   "outputs": [],
   "source": [
    "housing['recently built'] = (housing['Year Built'] > 2000).astype(int)"
   ]
  },
  {
   "cell_type": "markdown",
   "metadata": {},
   "source": [
    "redefining our variable list, so we can use them when modeling later on."
   ]
  },
  {
   "cell_type": "code",
   "execution_count": 95,
   "metadata": {
    "ExecuteTime": {
     "end_time": "2021-04-17T01:57:47.293580Z",
     "start_time": "2021-04-17T01:57:47.279567Z"
    }
   },
   "outputs": [],
   "source": [
    "thirty_corr = check_correlation(housing, .3, 'SalePrice')"
   ]
  },
  {
   "cell_type": "code",
   "execution_count": 96,
   "metadata": {
    "ExecuteTime": {
     "end_time": "2021-04-17T01:57:47.308593Z",
     "start_time": "2021-04-17T01:57:47.296589Z"
    }
   },
   "outputs": [
    {
     "data": {
      "text/plain": [
       "['Lot Shape',\n",
       " 'Neighborhood',\n",
       " 'Overall Qual',\n",
       " 'Year Built',\n",
       " 'Year Remod/Add',\n",
       " 'BsmtFin Type 1',\n",
       " 'BsmtFin SF 1',\n",
       " 'Total Bsmt SF',\n",
       " '1st Flr SF',\n",
       " 'Gr Liv Area',\n",
       " 'Bsmt Full Bath',\n",
       " 'Full Bath',\n",
       " 'Fireplaces',\n",
       " 'Garage Yr Blt',\n",
       " 'Garage Finish',\n",
       " 'Garage Cars',\n",
       " 'Garage Area',\n",
       " 'Paved Drive',\n",
       " 'total_sf',\n",
       " 'recently built']"
      ]
     },
     "execution_count": 96,
     "metadata": {},
     "output_type": "execute_result"
    }
   ],
   "source": [
    "thirty_corr"
   ]
  },
  {
   "cell_type": "code",
   "execution_count": 97,
   "metadata": {
    "ExecuteTime": {
     "end_time": "2021-04-17T01:57:47.356083Z",
     "start_time": "2021-04-17T01:57:47.309594Z"
    }
   },
   "outputs": [],
   "source": [
    "thirty_corr_dumm =check_correlation(housing,.3, 'SalePrice', dummied=True)"
   ]
  },
  {
   "cell_type": "code",
   "execution_count": 98,
   "metadata": {
    "ExecuteTime": {
     "end_time": "2021-04-17T01:57:47.371096Z",
     "start_time": "2021-04-17T01:57:47.358085Z"
    }
   },
   "outputs": [
    {
     "data": {
      "text/plain": [
       "['Lot Shape',\n",
       " 'Neighborhood',\n",
       " 'Overall Qual',\n",
       " 'Year Built',\n",
       " 'Year Remod/Add',\n",
       " 'BsmtFin Type 1',\n",
       " 'BsmtFin SF 1',\n",
       " 'Total Bsmt SF',\n",
       " '1st Flr SF',\n",
       " 'Gr Liv Area',\n",
       " 'Bsmt Full Bath',\n",
       " 'Full Bath',\n",
       " 'Fireplaces',\n",
       " 'Garage Yr Blt',\n",
       " 'Garage Finish',\n",
       " 'Garage Cars',\n",
       " 'Garage Area',\n",
       " 'Paved Drive',\n",
       " 'total_sf',\n",
       " 'recently built',\n",
       " 'MS Zoning_FV',\n",
       " 'MS Zoning_RM',\n",
       " 'Bldg Type_TwnhsE',\n",
       " 'House Style_1Story',\n",
       " 'Mas Vnr Type_None',\n",
       " 'Mas Vnr Type_other',\n",
       " 'Foundation_CBlock',\n",
       " 'Foundation_PConc',\n",
       " 'Central Air_Y']"
      ]
     },
     "execution_count": 98,
     "metadata": {},
     "output_type": "execute_result"
    }
   ],
   "source": [
    "thirty_corr_dumm"
   ]
  },
  {
   "cell_type": "code",
   "execution_count": null,
   "metadata": {},
   "outputs": [],
   "source": []
  },
  {
   "cell_type": "markdown",
   "metadata": {},
   "source": [
    "# feature engineering matching on test data"
   ]
  },
  {
   "cell_type": "code",
   "execution_count": 99,
   "metadata": {
    "ExecuteTime": {
     "end_time": "2021-04-17T01:57:47.387110Z",
     "start_time": "2021-04-17T01:57:47.373098Z"
    }
   },
   "outputs": [],
   "source": [
    "# bins\n",
    "housingtest['Neighborhood'] = housingtest['Neighborhood'].map(neighborhoods_dict)\n",
    "housingtest['Exterior 1st'] = housingtest['Exterior 1st'].map(lambda x: 'other' if x in ['BrkComm', 'CBlock', 'Stone', 'AsphShn', 'ImStucc'] else x)\n",
    "housingtest['Exterior 2nd'] = housingtest['Exterior 2nd'].map(lambda x: 'other' if x in ['Brk Cmn', 'Stone', 'CBlock', 'AsphShn', 'ImStucc'] else x)\n",
    "housingtest['Mas Vnr Type'] = housingtest['Mas Vnr Type'].map(lambda x: x if x in ['None', 'BrkFace'] else 'Other')\n",
    "housingtest['Garage Type'] = housingtest['Garage Type'].map(lambda x: 'other' if x in ['CarPort', '2Types'] else x)  \n",
    "housingtest['Sale Type'] = housingtest['Sale Type'].map(lambda x: 1 if x == 'WD ' else 0)\n",
    "housingtest['Foundation'] = housingtest['Foundation'].map(lambda x: 'other' if x in ['Slab', 'Stone', 'Wood'] else x)  \n",
    "# adding total square footage column\n",
    "housingtest['total_sf'] = housingtest['Gr Liv Area'] + housingtest['Total Bsmt SF']\n",
    "# recently built column\n",
    "housingtest['recently built'] = (housingtest['Year Built'] > 2000).astype(int)\n",
    "\n"
   ]
  },
  {
   "cell_type": "markdown",
   "metadata": {},
   "source": [
    "Using all the same transformations on the test data to make sure it is consistent. "
   ]
  },
  {
   "cell_type": "markdown",
   "metadata": {},
   "source": [
    "# EDA "
   ]
  },
  {
   "cell_type": "code",
   "execution_count": 100,
   "metadata": {
    "ExecuteTime": {
     "end_time": "2021-04-17T01:57:47.684383Z",
     "start_time": "2021-04-17T01:57:47.389112Z"
    },
    "scrolled": false
   },
   "outputs": [
    {
     "data": {
      "image/png": "[encoded data removed]",
      "text/plain": [
       "<Figure size 360x360 with 1 Axes>"
      ]
     },
     "metadata": {
      "needs_background": "light"
     },
     "output_type": "display_data"
    }
   ],
   "source": [
    "sns.displot(housing['total_sf'])\n",
    "plt.title(\"Histogram of total Square Footage\")\n",
    "plt.xlabel('total Square Footage');"
   ]
  },
  {
   "cell_type": "markdown",
   "metadata": {},
   "source": [
    "In this histogram we can see what I believe to be one of the key predictors, the total square footage of the house. This data is pretty close to normal, although there seems to be a pretty big platuea on top, pulling it away from normal."
   ]
  },
  {
   "cell_type": "code",
   "execution_count": 101,
   "metadata": {
    "ExecuteTime": {
     "end_time": "2021-04-17T01:57:47.967633Z",
     "start_time": "2021-04-17T01:57:47.685373Z"
    },
    "scrolled": false
   },
   "outputs": [
    {
     "data": {
      "image/png": "[encoded data removed]",
      "text/plain": [
       "<Figure size 360x360 with 1 Axes>"
      ]
     },
     "metadata": {
      "needs_background": "light"
     },
     "output_type": "display_data"
    }
   ],
   "source": [
    "sns.displot(np.log(housing['total_sf']))\n",
    "plt.title(\" Log Scaled Histogram of Total Square Feet\")\n",
    "plt.xlabel('Total Square Feet (log scaled)');"
   ]
  },
  {
   "cell_type": "markdown",
   "metadata": {},
   "source": [
    "Log scaling this data didnt seem to provide very much impact on the normalcy of it, but shows the effect of a few especially low outliers on the data. "
   ]
  },
  {
   "cell_type": "code",
   "execution_count": 102,
   "metadata": {
    "ExecuteTime": {
     "end_time": "2021-04-17T01:57:51.232284Z",
     "start_time": "2021-04-17T01:57:47.968633Z"
    }
   },
   "outputs": [
    {
     "data": {
      "image/png": "[encoded data removed]",
      "text/plain": [
       "<Figure size 3600x180 with 20 Axes>"
      ]
     },
     "metadata": {
      "needs_background": "light"
     },
     "output_type": "display_data"
    }
   ],
   "source": [
    "sns.pairplot(data= housing,\n",
    "            y_vars= 'SalePrice',\n",
    "            x_vars= thirty_corr,\n",
    "            diag_kind = None);"
   ]
  },
  {
   "cell_type": "markdown",
   "metadata": {},
   "source": [
    "models will likely see a lot of success using features that are mostly linear and have a good linear relationship with sale price. The year built, overall quality, year remodeled and most of the square footage measurements all seem to be good fits. "
   ]
  },
  {
   "cell_type": "code",
   "execution_count": 103,
   "metadata": {
    "ExecuteTime": {
     "end_time": "2021-04-17T01:57:51.467554Z",
     "start_time": "2021-04-17T01:57:51.234275Z"
    },
    "scrolled": false
   },
   "outputs": [
    {
     "data": {
      "text/plain": [
       "<Figure size 864x720 with 0 Axes>"
      ]
     },
     "metadata": {},
     "output_type": "display_data"
    },
    {
     "data": {
      "image/png": "[encoded data removed]",
      "text/plain": [
       "<Figure size 432x288 with 2 Axes>"
      ]
     },
     "metadata": {
      "needs_background": "light"
     },
     "output_type": "display_data"
    }
   ],
   "source": [
    "plt.figure(figsize=(12,10))\n",
    "\n",
    "fig, axs = plt.subplots(2)\n",
    "fig.suptitle(\"Box Plots Showing Spread of Total Square Footage \")\n",
    "axs[0].boxplot(housing['total_sf'], vert=False)\n",
    "axs[1].boxplot(housing['Lot Area'], vert=False)\n",
    "axs[1].set_xlabel(\"Total Area in Square Feet\")\n",
    "axs[1].set_ylabel(\"Total house Square Footage\")\n",
    "axs[0].set_ylabel(\"Lot Area\")\n",
    "axs[1].set = (\"ACT Composite Score\");"
   ]
  },
  {
   "cell_type": "markdown",
   "metadata": {},
   "source": [
    "These box plots show the spread of the lot area and the total square footage, these box plots helped in the identifying of outliers that were removed in EDA."
   ]
  },
  {
   "cell_type": "markdown",
   "metadata": {},
   "source": [
    "creating dummied data frames for use in models:"
   ]
  },
  {
   "cell_type": "code",
   "execution_count": 104,
   "metadata": {
    "ExecuteTime": {
     "end_time": "2021-04-17T01:57:51.514493Z",
     "start_time": "2021-04-17T01:57:51.469546Z"
    }
   },
   "outputs": [],
   "source": [
    "housing_dummied = pd.get_dummies(housing, drop_first=True)\n",
    "housingtest_dummied = pd.get_dummies(housingtest, drop_first=True)"
   ]
  },
  {
   "cell_type": "code",
   "execution_count": 105,
   "metadata": {
    "ExecuteTime": {
     "end_time": "2021-04-17T01:57:51.530539Z",
     "start_time": "2021-04-17T01:57:51.516501Z"
    }
   },
   "outputs": [],
   "source": [
    "sns.set_style('darkgrid')"
   ]
  },
  {
   "cell_type": "markdown",
   "metadata": {},
   "source": [
    "## DUMMY MODEL"
   ]
  },
  {
   "cell_type": "code",
   "execution_count": 106,
   "metadata": {
    "ExecuteTime": {
     "end_time": "2021-04-17T01:57:51.546567Z",
     "start_time": "2021-04-17T01:57:51.532531Z"
    }
   },
   "outputs": [],
   "source": [
    "X = housing.drop(columns = 'SalePrice')\n",
    "y = housing['SalePrice']"
   ]
  },
  {
   "cell_type": "code",
   "execution_count": 107,
   "metadata": {
    "ExecuteTime": {
     "end_time": "2021-04-17T01:57:51.562674Z",
     "start_time": "2021-04-17T01:57:51.548571Z"
    }
   },
   "outputs": [],
   "source": [
    "X_train, X_test, y_train, y_test = train_test_split(X, y, random_state = 12)"
   ]
  },
  {
   "cell_type": "code",
   "execution_count": 108,
   "metadata": {
    "ExecuteTime": {
     "end_time": "2021-04-17T01:57:51.577920Z",
     "start_time": "2021-04-17T01:57:51.563666Z"
    }
   },
   "outputs": [],
   "source": [
    "dummy_model = DummyRegressor()"
   ]
  },
  {
   "cell_type": "code",
   "execution_count": 109,
   "metadata": {
    "ExecuteTime": {
     "end_time": "2021-04-17T01:57:51.593156Z",
     "start_time": "2021-04-17T01:57:51.579912Z"
    }
   },
   "outputs": [
    {
     "data": {
      "text/plain": [
       "DummyRegressor()"
      ]
     },
     "execution_count": 109,
     "metadata": {},
     "output_type": "execute_result"
    }
   ],
   "source": [
    "dummy_model.fit(X_train,y_train)"
   ]
  },
  {
   "cell_type": "code",
   "execution_count": 110,
   "metadata": {
    "ExecuteTime": {
     "end_time": "2021-04-17T01:57:51.609175Z",
     "start_time": "2021-04-17T01:57:51.594147Z"
    }
   },
   "outputs": [
    {
     "data": {
      "text/plain": [
       "(0.0, -0.0003123229343455769)"
      ]
     },
     "execution_count": 110,
     "metadata": {},
     "output_type": "execute_result"
    }
   ],
   "source": [
    "r2_score(y_train, dummy_model.predict(y_train)), r2_score(y_test, dummy_model.predict(y_test))"
   ]
  },
  {
   "cell_type": "code",
   "execution_count": 111,
   "metadata": {
    "ExecuteTime": {
     "end_time": "2021-04-17T01:57:51.625179Z",
     "start_time": "2021-04-17T01:57:51.611168Z"
    }
   },
   "outputs": [
    {
     "data": {
      "text/plain": [
       "(49863.30691961956, 59691.474849518)"
      ]
     },
     "execution_count": 111,
     "metadata": {},
     "output_type": "execute_result"
    }
   ],
   "source": [
    "mean_squared_error(y_train, dummy_model.predict(y_train), squared=False), mean_squared_error(y_test, dummy_model.predict(y_test), squared=False)"
   ]
  },
  {
   "cell_type": "markdown",
   "metadata": {},
   "source": [
    "The dummy model just using the mean for the data has very very low R2 scores, and RMSE scores around 50,000 dollars. These will be the baseline numbers to compare our models too.  "
   ]
  },
  {
   "cell_type": "markdown",
   "metadata": {},
   "source": [
    "## some simple more intereptable models to answer problem statement:"
   ]
  },
  {
   "cell_type": "markdown",
   "metadata": {},
   "source": [
    "single linear regression using the total square footage. "
   ]
  },
  {
   "cell_type": "code",
   "execution_count": 112,
   "metadata": {
    "ExecuteTime": {
     "end_time": "2021-04-17T01:57:51.641207Z",
     "start_time": "2021-04-17T01:57:51.627188Z"
    }
   },
   "outputs": [],
   "source": [
    "X = housing[['total_sf']]\n",
    "y = housing['SalePrice']"
   ]
  },
  {
   "cell_type": "code",
   "execution_count": 113,
   "metadata": {
    "ExecuteTime": {
     "end_time": "2021-04-17T01:57:51.656268Z",
     "start_time": "2021-04-17T01:57:51.643208Z"
    }
   },
   "outputs": [],
   "source": [
    "X_train, X_test, y_train, y_test = train_test_split(X,y,random_state = 12)"
   ]
  },
  {
   "cell_type": "code",
   "execution_count": 114,
   "metadata": {
    "ExecuteTime": {
     "end_time": "2021-04-17T01:57:51.672253Z",
     "start_time": "2021-04-17T01:57:51.658235Z"
    }
   },
   "outputs": [],
   "source": [
    "basic_regression = LinearRegression()"
   ]
  },
  {
   "cell_type": "code",
   "execution_count": 115,
   "metadata": {
    "ExecuteTime": {
     "end_time": "2021-04-17T01:57:51.719298Z",
     "start_time": "2021-04-17T01:57:51.674254Z"
    }
   },
   "outputs": [
    {
     "data": {
      "text/plain": [
       "0.6332712484778161"
      ]
     },
     "execution_count": 115,
     "metadata": {},
     "output_type": "execute_result"
    }
   ],
   "source": [
    "cross_val_score(basic_regression,X_train,y_train).mean()"
   ]
  },
  {
   "cell_type": "code",
   "execution_count": 116,
   "metadata": {
    "ExecuteTime": {
     "end_time": "2021-04-17T01:57:51.735313Z",
     "start_time": "2021-04-17T01:57:51.720301Z"
    }
   },
   "outputs": [
    {
     "data": {
      "text/plain": [
       "LinearRegression()"
      ]
     },
     "execution_count": 116,
     "metadata": {},
     "output_type": "execute_result"
    }
   ],
   "source": [
    "basic_regression.fit(X_train,y_train)"
   ]
  },
  {
   "cell_type": "code",
   "execution_count": 117,
   "metadata": {
    "ExecuteTime": {
     "end_time": "2021-04-17T01:57:51.750327Z",
     "start_time": "2021-04-17T01:57:51.737315Z"
    },
    "scrolled": true
   },
   "outputs": [
    {
     "data": {
      "text/plain": [
       "(0.6501316400668001, 0.5481076343828685)"
      ]
     },
     "execution_count": 117,
     "metadata": {},
     "output_type": "execute_result"
    }
   ],
   "source": [
    "basic_regression.score(X_train,y_train), basic_regression.score(X_test,y_test)"
   ]
  },
  {
   "cell_type": "markdown",
   "metadata": {},
   "source": [
    "this is definitely an overfitted model with significantly better performance on the train data than on the test data."
   ]
  },
  {
   "cell_type": "code",
   "execution_count": 118,
   "metadata": {
    "ExecuteTime": {
     "end_time": "2021-04-17T01:57:51.766341Z",
     "start_time": "2021-04-17T01:57:51.751328Z"
    }
   },
   "outputs": [],
   "source": [
    "charting_preds = basic_regression.predict(X)"
   ]
  },
  {
   "cell_type": "code",
   "execution_count": 119,
   "metadata": {
    "ExecuteTime": {
     "end_time": "2021-04-17T01:57:51.782355Z",
     "start_time": "2021-04-17T01:57:51.767341Z"
    }
   },
   "outputs": [],
   "source": [
    "internal_testpreds_totalsf = basic_regression.predict(X_test)"
   ]
  },
  {
   "cell_type": "code",
   "execution_count": 120,
   "metadata": {
    "ExecuteTime": {
     "end_time": "2021-04-17T01:57:51.797332Z",
     "start_time": "2021-04-17T01:57:51.784357Z"
    }
   },
   "outputs": [
    {
     "data": {
      "text/plain": [
       "40120.099571750616"
      ]
     },
     "execution_count": 120,
     "metadata": {},
     "output_type": "execute_result"
    }
   ],
   "source": [
    "mean_squared_error(y_test,internal_testpreds_totalsf, squared=False)"
   ]
  },
  {
   "cell_type": "markdown",
   "metadata": {},
   "source": [
    "A pretty approachable mean squared error, its not great but it definitely out performs the dummy model. With our weaker R2 scores from before the model definitely has some limitation, but does show that there can be some predictive value with a linear regression. "
   ]
  },
  {
   "cell_type": "code",
   "execution_count": 121,
   "metadata": {
    "ExecuteTime": {
     "end_time": "2021-04-17T01:57:52.153647Z",
     "start_time": "2021-04-17T01:57:51.799335Z"
    },
    "scrolled": true
   },
   "outputs": [
    {
     "data": {
      "image/png": "[encoded data removed]",
      "text/plain": [
       "<Figure size 1080x720 with 1 Axes>"
      ]
     },
     "metadata": {},
     "output_type": "display_data"
    }
   ],
   "source": [
    "fig = plt.figure(figsize=(15,10))\n",
    "ax1 = fig.add_subplot(111)\n",
    "\n",
    "ax1.scatter(housing['total_sf'], housing_dummied['SalePrice'],  marker=\"s\", label='Actual')\n",
    "ax1.scatter(housing['total_sf'], charting_preds,  marker=\"o\", label='Predicted')\n",
    "plt.legend(loc='upper left')\n",
    "plt.title(\"Actual vs Predicted Values for Total Square Footage\", size = 20)\n",
    "plt.xlabel(\"Square Footage of Home\", size = 15)\n",
    "plt.ylabel('Price (USD)', size = 15);\n",
    "plt.show()"
   ]
  },
  {
   "cell_type": "markdown",
   "metadata": {},
   "source": [
    "This graph shows the actual values of sale price and the predicted values of sale price for the train data. It shows that there is some correlation between a homes square footage and with its sale price, with that linear relationship getting harder to predict as houses get bigger. "
   ]
  },
  {
   "cell_type": "code",
   "execution_count": 122,
   "metadata": {
    "ExecuteTime": {
     "end_time": "2021-04-17T01:57:52.169671Z",
     "start_time": "2021-04-17T01:57:52.155649Z"
    }
   },
   "outputs": [
    {
     "name": "stdout",
     "output_type": "stream",
     "text": [
      "[78.80586709]\n"
     ]
    }
   ],
   "source": [
    "print(basic_regression.coef_)"
   ]
  },
  {
   "cell_type": "markdown",
   "metadata": {},
   "source": [
    "This coefficient of 80.8 shows the amount of increase in price based on increase in square footage. The assumptions we need to make to trust this value are not very strong, as with an RMSE of 40,000 we are barely outperforming the baseline model."
   ]
  },
  {
   "cell_type": "markdown",
   "metadata": {},
   "source": [
    "single linear regression using the year the house was built."
   ]
  },
  {
   "cell_type": "code",
   "execution_count": 123,
   "metadata": {
    "ExecuteTime": {
     "end_time": "2021-04-17T01:57:52.185677Z",
     "start_time": "2021-04-17T01:57:52.171663Z"
    }
   },
   "outputs": [],
   "source": [
    "X = housing[['Year Built']]\n",
    "y = housing['SalePrice']"
   ]
  },
  {
   "cell_type": "code",
   "execution_count": 124,
   "metadata": {
    "ExecuteTime": {
     "end_time": "2021-04-17T01:57:52.200699Z",
     "start_time": "2021-04-17T01:57:52.187688Z"
    }
   },
   "outputs": [],
   "source": [
    "X_train, X_test, y_train, y_test = train_test_split(X,y,random_state = 12)"
   ]
  },
  {
   "cell_type": "code",
   "execution_count": 125,
   "metadata": {
    "ExecuteTime": {
     "end_time": "2021-04-17T01:57:52.215705Z",
     "start_time": "2021-04-17T01:57:52.202701Z"
    }
   },
   "outputs": [],
   "source": [
    "basic_regression = LinearRegression()"
   ]
  },
  {
   "cell_type": "code",
   "execution_count": 126,
   "metadata": {
    "ExecuteTime": {
     "end_time": "2021-04-17T01:57:52.262742Z",
     "start_time": "2021-04-17T01:57:52.217704Z"
    }
   },
   "outputs": [
    {
     "data": {
      "text/plain": [
       "0.34877001281711034"
      ]
     },
     "execution_count": 126,
     "metadata": {},
     "output_type": "execute_result"
    }
   ],
   "source": [
    "cross_val_score(basic_regression,X_train,y_train).mean()"
   ]
  },
  {
   "cell_type": "code",
   "execution_count": 127,
   "metadata": {
    "ExecuteTime": {
     "end_time": "2021-04-17T01:57:52.278756Z",
     "start_time": "2021-04-17T01:57:52.264744Z"
    }
   },
   "outputs": [
    {
     "data": {
      "text/plain": [
       "LinearRegression()"
      ]
     },
     "execution_count": 127,
     "metadata": {},
     "output_type": "execute_result"
    }
   ],
   "source": [
    "basic_regression.fit(X_train,y_train)"
   ]
  },
  {
   "cell_type": "code",
   "execution_count": 128,
   "metadata": {
    "ExecuteTime": {
     "end_time": "2021-04-17T01:57:52.294770Z",
     "start_time": "2021-04-17T01:57:52.280758Z"
    },
    "scrolled": true
   },
   "outputs": [
    {
     "data": {
      "text/plain": [
       "(0.35245900365502136, 0.4254094796783392)"
      ]
     },
     "execution_count": 128,
     "metadata": {},
     "output_type": "execute_result"
    }
   ],
   "source": [
    "basic_regression.score(X_train,y_train), basic_regression.score(X_test,y_test)"
   ]
  },
  {
   "cell_type": "markdown",
   "metadata": {},
   "source": [
    "These are not the best R2 scores, showing a slight but not great correlation between the price of a house and the year it was built. The single linear regressions overall have been underwhelming both in R2 scores and MSRE."
   ]
  },
  {
   "cell_type": "code",
   "execution_count": 129,
   "metadata": {
    "ExecuteTime": {
     "end_time": "2021-04-17T01:57:52.309784Z",
     "start_time": "2021-04-17T01:57:52.296772Z"
    }
   },
   "outputs": [],
   "source": [
    "charting_preds = basic_regression.predict(X)"
   ]
  },
  {
   "cell_type": "code",
   "execution_count": 130,
   "metadata": {
    "ExecuteTime": {
     "end_time": "2021-04-17T01:57:52.324797Z",
     "start_time": "2021-04-17T01:57:52.311785Z"
    }
   },
   "outputs": [],
   "source": [
    "internal_testpreds_totalsf = basic_regression.predict(X_test)"
   ]
  },
  {
   "cell_type": "code",
   "execution_count": 131,
   "metadata": {
    "ExecuteTime": {
     "end_time": "2021-04-17T01:57:52.340812Z",
     "start_time": "2021-04-17T01:57:52.326799Z"
    },
    "scrolled": true
   },
   "outputs": [
    {
     "data": {
      "text/plain": [
       "45240.11793196158"
      ]
     },
     "execution_count": 131,
     "metadata": {},
     "output_type": "execute_result"
    }
   ],
   "source": [
    "mean_squared_error(y_test,internal_testpreds_totalsf, squared=False)"
   ]
  },
  {
   "cell_type": "markdown",
   "metadata": {},
   "source": [
    "This MSRE is barely outperforming the baseline model, hammering home the need to use multiple linear regression in order to more accurately predict the price of a house. "
   ]
  },
  {
   "cell_type": "code",
   "execution_count": 132,
   "metadata": {
    "ExecuteTime": {
     "end_time": "2021-04-17T01:57:52.671114Z",
     "start_time": "2021-04-17T01:57:52.342814Z"
    },
    "scrolled": false
   },
   "outputs": [
    {
     "data": {
      "image/png": "[encoded data removed]",
      "text/plain": [
       "<Figure size 1080x576 with 1 Axes>"
      ]
     },
     "metadata": {},
     "output_type": "display_data"
    }
   ],
   "source": [
    "fig = plt.figure(figsize=(15,8))\n",
    "ax1 = fig.add_subplot(111)\n",
    "\n",
    "ax1.scatter(housing['Year Built'], housing_dummied['SalePrice'],  marker=\"s\", label='Actual')\n",
    "ax1.scatter(housing['Year Built'], charting_preds,  marker=\"o\", label='Predicted')\n",
    "plt.legend(loc='upper left')\n",
    "plt.title(\"Actual vs Predicted Values based on Year House was Built\", size = 20)\n",
    "plt.xlabel(\"Year House was Built \", size = 15)\n",
    "plt.ylabel('Price (USD)', size = 15);\n",
    "plt.show()"
   ]
  },
  {
   "cell_type": "markdown",
   "metadata": {},
   "source": [
    "This map shows the relationship between the actual values and the predicted values for price based on the year the house was built. This chart shows a weaker correlation than the total square footage chart, but still shows a moderate linear relation. houses newer than the year 2000 seem to have a significantly harder time predicting the price with a linear model. "
   ]
  },
  {
   "cell_type": "markdown",
   "metadata": {},
   "source": [
    "# modeling"
   ]
  },
  {
   "cell_type": "markdown",
   "metadata": {},
   "source": [
    "### 30% correlation model:\n",
    "a model using all the numeric vairables with over .30 correlation with Sale Price"
   ]
  },
  {
   "cell_type": "code",
   "execution_count": 133,
   "metadata": {
    "ExecuteTime": {
     "end_time": "2021-04-17T01:57:52.687128Z",
     "start_time": "2021-04-17T01:57:52.673106Z"
    }
   },
   "outputs": [],
   "source": [
    "X = housing[thirty_corr]\n",
    "y = housing['SalePrice']"
   ]
  },
  {
   "cell_type": "code",
   "execution_count": 134,
   "metadata": {
    "ExecuteTime": {
     "end_time": "2021-04-17T01:57:52.703142Z",
     "start_time": "2021-04-17T01:57:52.689130Z"
    }
   },
   "outputs": [],
   "source": [
    "X_train, X_test, y_train, y_test = train_test_split(X,y,random_state = 12)"
   ]
  },
  {
   "cell_type": "code",
   "execution_count": 135,
   "metadata": {
    "ExecuteTime": {
     "end_time": "2021-04-17T01:57:52.719279Z",
     "start_time": "2021-04-17T01:57:52.705134Z"
    }
   },
   "outputs": [],
   "source": [
    "basic_regression = LinearRegression()"
   ]
  },
  {
   "cell_type": "code",
   "execution_count": 136,
   "metadata": {
    "ExecuteTime": {
     "end_time": "2021-04-17T01:57:52.766187Z",
     "start_time": "2021-04-17T01:57:52.721148Z"
    }
   },
   "outputs": [
    {
     "data": {
      "text/plain": [
       "0.8493917513572503"
      ]
     },
     "execution_count": 136,
     "metadata": {},
     "output_type": "execute_result"
    }
   ],
   "source": [
    "cross_val_score(basic_regression,X_train,y_train).mean()"
   ]
  },
  {
   "cell_type": "code",
   "execution_count": 137,
   "metadata": {
    "ExecuteTime": {
     "end_time": "2021-04-17T01:57:52.782200Z",
     "start_time": "2021-04-17T01:57:52.768188Z"
    }
   },
   "outputs": [
    {
     "data": {
      "text/plain": [
       "LinearRegression()"
      ]
     },
     "execution_count": 137,
     "metadata": {},
     "output_type": "execute_result"
    }
   ],
   "source": [
    "basic_regression.fit(X_train,y_train)"
   ]
  },
  {
   "cell_type": "code",
   "execution_count": 138,
   "metadata": {
    "ExecuteTime": {
     "end_time": "2021-04-17T01:57:52.797214Z",
     "start_time": "2021-04-17T01:57:52.784202Z"
    },
    "scrolled": true
   },
   "outputs": [
    {
     "data": {
      "text/plain": [
       "(0.8722337729040704, 0.8573880976717847)"
      ]
     },
     "execution_count": 138,
     "metadata": {},
     "output_type": "execute_result"
    }
   ],
   "source": [
    "basic_regression.score(X_train,y_train), basic_regression.score(X_test,y_test)"
   ]
  },
  {
   "cell_type": "markdown",
   "metadata": {},
   "source": [
    "These R2 scores are already much much better than our dummy model. This model is slightly overfit, as it performs much better on the train split than the test data. "
   ]
  },
  {
   "cell_type": "code",
   "execution_count": 139,
   "metadata": {
    "ExecuteTime": {
     "end_time": "2021-04-17T01:57:52.813229Z",
     "start_time": "2021-04-17T01:57:52.799219Z"
    }
   },
   "outputs": [],
   "source": [
    "internal_testpreds = basic_regression.predict(X_test)"
   ]
  },
  {
   "cell_type": "code",
   "execution_count": 140,
   "metadata": {
    "ExecuteTime": {
     "end_time": "2021-04-17T01:57:52.828242Z",
     "start_time": "2021-04-17T01:57:52.815230Z"
    },
    "scrolled": true
   },
   "outputs": [
    {
     "data": {
      "text/plain": [
       "22538.36389632929"
      ]
     },
     "execution_count": 140,
     "metadata": {},
     "output_type": "execute_result"
    }
   ],
   "source": [
    "mean_squared_error(y_test,internal_testpreds, squared=False)"
   ]
  },
  {
   "cell_type": "markdown",
   "metadata": {},
   "source": [
    "This RMSE value is also significantly higher than the dummy model. This model is already serving as an improved model that can be used to better predict the housing prices than the dummy model. Now I will try several more models to try and find ones that fit the data even better. "
   ]
  },
  {
   "cell_type": "code",
   "execution_count": 141,
   "metadata": {
    "ExecuteTime": {
     "end_time": "2021-04-17T01:57:53.079464Z",
     "start_time": "2021-04-17T01:57:52.831245Z"
    },
    "scrolled": true
   },
   "outputs": [
    {
     "data": {
      "text/plain": [
       "''"
      ]
     },
     "execution_count": 141,
     "metadata": {},
     "output_type": "execute_result"
    },
    {
     "data": {
      "image/png": "[encoded data removed]",
      "text/plain": [
       "<Figure size 720x432 with 1 Axes>"
      ]
     },
     "metadata": {},
     "output_type": "display_data"
    }
   ],
   "source": [
    "fig = plt.figure(figsize=(10,6))\n",
    "plt.scatter(internal_testpreds, y_test)\n",
    "plt.title('Actual Values vs Predicted Values')\n",
    "plt.xlabel('Actual values')\n",
    "plt.ylabel('Predicted values')\n",
    ";"
   ]
  },
  {
   "cell_type": "markdown",
   "metadata": {},
   "source": [
    "Plotting the predicted values vs the mean is a good way to visually evaulate the performance of a model. The close the model is to predicting as an exact straght line the better it is performing. This model is struggling with a few values, and hasa a relatively big spread, but it generally linear. "
   ]
  },
  {
   "cell_type": "markdown",
   "metadata": {},
   "source": [
    "kaggle submission:"
   ]
  },
  {
   "cell_type": "code",
   "execution_count": 142,
   "metadata": {
    "ExecuteTime": {
     "end_time": "2021-04-17T01:57:53.095478Z",
     "start_time": "2021-04-17T01:57:53.080467Z"
    }
   },
   "outputs": [],
   "source": [
    "testpreds = basic_regression.predict(housingtest[thirty_corr])"
   ]
  },
  {
   "cell_type": "code",
   "execution_count": 143,
   "metadata": {
    "ExecuteTime": {
     "end_time": "2021-04-17T01:57:53.111502Z",
     "start_time": "2021-04-17T01:57:53.097481Z"
    }
   },
   "outputs": [],
   "source": [
    "kaggle_submission = {\n",
    "    'Id': test_ids,\n",
    "    'SalePrice': testpreds\n",
    "}\n",
    "\n",
    "kaggle_submission = pd.DataFrame(kaggle_submission)"
   ]
  },
  {
   "cell_type": "code",
   "execution_count": 144,
   "metadata": {
    "ExecuteTime": {
     "end_time": "2021-04-17T01:57:53.127516Z",
     "start_time": "2021-04-17T01:57:53.113494Z"
    }
   },
   "outputs": [
    {
     "data": {
      "text/html": [
       "<div>\n",
       "<style scoped>\n",
       "    .dataframe tbody tr th:only-of-type {\n",
       "        vertical-align: middle;\n",
       "    }\n",
       "\n",
       "    .dataframe tbody tr th {\n",
       "        vertical-align: top;\n",
       "    }\n",
       "\n",
       "    .dataframe thead th {\n",
       "        text-align: right;\n",
       "    }\n",
       "</style>\n",
       "<table border=\"1\" class=\"dataframe\">\n",
       "  <thead>\n",
       "    <tr style=\"text-align: right;\">\n",
       "      <th></th>\n",
       "      <th>Id</th>\n",
       "      <th>SalePrice</th>\n",
       "    </tr>\n",
       "  </thead>\n",
       "  <tbody>\n",
       "    <tr>\n",
       "      <th>0</th>\n",
       "      <td>2658</td>\n",
       "      <td>153577.638413</td>\n",
       "    </tr>\n",
       "    <tr>\n",
       "      <th>1</th>\n",
       "      <td>2718</td>\n",
       "      <td>197096.027253</td>\n",
       "    </tr>\n",
       "    <tr>\n",
       "      <th>2</th>\n",
       "      <td>2414</td>\n",
       "      <td>166413.273618</td>\n",
       "    </tr>\n",
       "    <tr>\n",
       "      <th>3</th>\n",
       "      <td>1989</td>\n",
       "      <td>104110.646670</td>\n",
       "    </tr>\n",
       "    <tr>\n",
       "      <th>4</th>\n",
       "      <td>625</td>\n",
       "      <td>177677.471998</td>\n",
       "    </tr>\n",
       "  </tbody>\n",
       "</table>\n",
       "</div>"
      ],
      "text/plain": [
       "     Id      SalePrice\n",
       "0  2658  153577.638413\n",
       "1  2718  197096.027253\n",
       "2  2414  166413.273618\n",
       "3  1989  104110.646670\n",
       "4   625  177677.471998"
      ]
     },
     "execution_count": 144,
     "metadata": {},
     "output_type": "execute_result"
    }
   ],
   "source": [
    "kaggle_submission.head()"
   ]
  },
  {
   "cell_type": "code",
   "execution_count": 145,
   "metadata": {
    "ExecuteTime": {
     "end_time": "2021-04-17T01:57:53.143530Z",
     "start_time": "2021-04-17T01:57:53.129510Z"
    }
   },
   "outputs": [],
   "source": [
    "kaggle_submission.to_csv('./kaggle_submissions/kaggle_submission_friday 2.csv', index=False)"
   ]
  },
  {
   "cell_type": "markdown",
   "metadata": {},
   "source": [
    "Time to try the same model with the dummied version, adding in categorical columns as well. Dropped the Mas Vnr Type_other column from the train data because it wasn't in the test data, and it was already a bin of multiple types, and it didn't have the highest correlation scores. "
   ]
  },
  {
   "cell_type": "code",
   "execution_count": 146,
   "metadata": {
    "ExecuteTime": {
     "end_time": "2021-04-17T01:57:53.159545Z",
     "start_time": "2021-04-17T01:57:53.145525Z"
    }
   },
   "outputs": [],
   "source": [
    "thirty_corr_dumm.remove('Mas Vnr Type_other')"
   ]
  },
  {
   "cell_type": "code",
   "execution_count": 147,
   "metadata": {
    "ExecuteTime": {
     "end_time": "2021-04-17T01:57:53.174548Z",
     "start_time": "2021-04-17T01:57:53.161546Z"
    }
   },
   "outputs": [],
   "source": [
    "X = housing_dummied[thirty_corr_dumm]\n",
    "y = housing_dummied['SalePrice']"
   ]
  },
  {
   "cell_type": "code",
   "execution_count": 148,
   "metadata": {
    "ExecuteTime": {
     "end_time": "2021-04-17T01:57:53.190573Z",
     "start_time": "2021-04-17T01:57:53.176552Z"
    }
   },
   "outputs": [],
   "source": [
    "X_train, X_test, y_train, y_test = train_test_split(X,y,random_state = 12)"
   ]
  },
  {
   "cell_type": "code",
   "execution_count": 149,
   "metadata": {
    "ExecuteTime": {
     "end_time": "2021-04-17T01:57:53.205577Z",
     "start_time": "2021-04-17T01:57:53.192564Z"
    }
   },
   "outputs": [],
   "source": [
    "basic_regression = LinearRegression()"
   ]
  },
  {
   "cell_type": "code",
   "execution_count": 150,
   "metadata": {
    "ExecuteTime": {
     "end_time": "2021-04-17T01:57:53.252617Z",
     "start_time": "2021-04-17T01:57:53.207578Z"
    }
   },
   "outputs": [
    {
     "data": {
      "text/plain": [
       "0.8450451902593477"
      ]
     },
     "execution_count": 150,
     "metadata": {},
     "output_type": "execute_result"
    }
   ],
   "source": [
    "cross_val_score(basic_regression,X_train,y_train).mean()"
   ]
  },
  {
   "cell_type": "code",
   "execution_count": 151,
   "metadata": {
    "ExecuteTime": {
     "end_time": "2021-04-17T01:57:53.267629Z",
     "start_time": "2021-04-17T01:57:53.254618Z"
    }
   },
   "outputs": [
    {
     "data": {
      "text/plain": [
       "LinearRegression()"
      ]
     },
     "execution_count": 151,
     "metadata": {},
     "output_type": "execute_result"
    }
   ],
   "source": [
    "basic_regression.fit(X_train,y_train)"
   ]
  },
  {
   "cell_type": "code",
   "execution_count": 152,
   "metadata": {
    "ExecuteTime": {
     "end_time": "2021-04-17T01:57:53.282643Z",
     "start_time": "2021-04-17T01:57:53.269631Z"
    }
   },
   "outputs": [
    {
     "data": {
      "text/plain": [
       "(0.8801104726767028, 0.8651482000065327)"
      ]
     },
     "execution_count": 152,
     "metadata": {},
     "output_type": "execute_result"
    }
   ],
   "source": [
    "basic_regression.score(X_train,y_train), basic_regression.score(X_test,y_test)"
   ]
  },
  {
   "cell_type": "markdown",
   "metadata": {},
   "source": [
    "These R2 scores are pretty similar to the previous R2 scores, with a slight improvement. The two scores are getting closer together which is good, and they still have a pretty good fit for the model. "
   ]
  },
  {
   "cell_type": "code",
   "execution_count": 153,
   "metadata": {
    "ExecuteTime": {
     "end_time": "2021-04-17T01:57:53.297656Z",
     "start_time": "2021-04-17T01:57:53.284644Z"
    }
   },
   "outputs": [],
   "source": [
    "internal_testpreds = basic_regression.predict(X_test)"
   ]
  },
  {
   "cell_type": "code",
   "execution_count": 154,
   "metadata": {
    "ExecuteTime": {
     "end_time": "2021-04-17T01:57:53.312669Z",
     "start_time": "2021-04-17T01:57:53.299657Z"
    },
    "scrolled": true
   },
   "outputs": [
    {
     "data": {
      "text/plain": [
       "21916.58448372291"
      ]
     },
     "execution_count": 154,
     "metadata": {},
     "output_type": "execute_result"
    }
   ],
   "source": [
    "mean_squared_error(y_test,internal_testpreds, squared=False)"
   ]
  },
  {
   "cell_type": "markdown",
   "metadata": {},
   "source": [
    "This is also a slight improvement on the RMSE from the slightly more naive model, and still a massive improvement on the dummy model. Both of these models would make for pretty good models of the toal sale price. "
   ]
  },
  {
   "cell_type": "code",
   "execution_count": 155,
   "metadata": {
    "ExecuteTime": {
     "end_time": "2021-04-17T01:57:53.562900Z",
     "start_time": "2021-04-17T01:57:53.314672Z"
    },
    "scrolled": true
   },
   "outputs": [
    {
     "data": {
      "text/plain": [
       "''"
      ]
     },
     "execution_count": 155,
     "metadata": {},
     "output_type": "execute_result"
    },
    {
     "data": {
      "image/png": "[encoded data removed]",
      "text/plain": [
       "<Figure size 720x432 with 1 Axes>"
      ]
     },
     "metadata": {},
     "output_type": "display_data"
    }
   ],
   "source": [
    "fig = plt.figure(figsize=(10,6))\n",
    "plt.scatter(internal_testpreds, y_test)\n",
    "plt.title('Actual Values vs Predicted Values')\n",
    "plt.xlabel('Actual values')\n",
    "plt.ylabel('Predicted values')\n",
    ";"
   ]
  },
  {
   "cell_type": "markdown",
   "metadata": {},
   "source": [
    "This graph shows an improvement in our model. The points are all much closer together and it forms a clear linear shape. There are still a few outliers but not as far out as before."
   ]
  },
  {
   "cell_type": "markdown",
   "metadata": {},
   "source": [
    "kaggle submission"
   ]
  },
  {
   "cell_type": "code",
   "execution_count": 156,
   "metadata": {
    "ExecuteTime": {
     "end_time": "2021-04-17T01:57:53.578915Z",
     "start_time": "2021-04-17T01:57:53.563902Z"
    }
   },
   "outputs": [],
   "source": [
    "testpreds = basic_regression.predict(housingtest_dummied[thirty_corr_dumm])"
   ]
  },
  {
   "cell_type": "code",
   "execution_count": 157,
   "metadata": {
    "ExecuteTime": {
     "end_time": "2021-04-17T01:57:53.593928Z",
     "start_time": "2021-04-17T01:57:53.579915Z"
    }
   },
   "outputs": [],
   "source": [
    "kaggle_submission = {\n",
    "    'Id': test_ids,\n",
    "    'SalePrice': testpreds\n",
    "}\n",
    "\n",
    "kaggle_submission = pd.DataFrame(kaggle_submission)"
   ]
  },
  {
   "cell_type": "code",
   "execution_count": 158,
   "metadata": {
    "ExecuteTime": {
     "end_time": "2021-04-17T01:57:53.609942Z",
     "start_time": "2021-04-17T01:57:53.595921Z"
    }
   },
   "outputs": [
    {
     "data": {
      "text/html": [
       "<div>\n",
       "<style scoped>\n",
       "    .dataframe tbody tr th:only-of-type {\n",
       "        vertical-align: middle;\n",
       "    }\n",
       "\n",
       "    .dataframe tbody tr th {\n",
       "        vertical-align: top;\n",
       "    }\n",
       "\n",
       "    .dataframe thead th {\n",
       "        text-align: right;\n",
       "    }\n",
       "</style>\n",
       "<table border=\"1\" class=\"dataframe\">\n",
       "  <thead>\n",
       "    <tr style=\"text-align: right;\">\n",
       "      <th></th>\n",
       "      <th>Id</th>\n",
       "      <th>SalePrice</th>\n",
       "    </tr>\n",
       "  </thead>\n",
       "  <tbody>\n",
       "    <tr>\n",
       "      <th>0</th>\n",
       "      <td>2658</td>\n",
       "      <td>148728.469779</td>\n",
       "    </tr>\n",
       "    <tr>\n",
       "      <th>1</th>\n",
       "      <td>2718</td>\n",
       "      <td>196371.191463</td>\n",
       "    </tr>\n",
       "    <tr>\n",
       "      <th>2</th>\n",
       "      <td>2414</td>\n",
       "      <td>155078.578626</td>\n",
       "    </tr>\n",
       "    <tr>\n",
       "      <th>3</th>\n",
       "      <td>1989</td>\n",
       "      <td>103986.641119</td>\n",
       "    </tr>\n",
       "    <tr>\n",
       "      <th>4</th>\n",
       "      <td>625</td>\n",
       "      <td>183132.783838</td>\n",
       "    </tr>\n",
       "  </tbody>\n",
       "</table>\n",
       "</div>"
      ],
      "text/plain": [
       "     Id      SalePrice\n",
       "0  2658  148728.469779\n",
       "1  2718  196371.191463\n",
       "2  2414  155078.578626\n",
       "3  1989  103986.641119\n",
       "4   625  183132.783838"
      ]
     },
     "execution_count": 158,
     "metadata": {},
     "output_type": "execute_result"
    }
   ],
   "source": [
    "kaggle_submission.head()"
   ]
  },
  {
   "cell_type": "code",
   "execution_count": 159,
   "metadata": {
    "ExecuteTime": {
     "end_time": "2021-04-17T01:57:53.625957Z",
     "start_time": "2021-04-17T01:57:53.610933Z"
    }
   },
   "outputs": [],
   "source": [
    "kaggle_submission.to_csv('./kaggle_submissions/kaggle_submission_friday_2.csv', index=False)"
   ]
  },
  {
   "cell_type": "markdown",
   "metadata": {},
   "source": [
    "Ridge method on 30% correlation dummied data. "
   ]
  },
  {
   "cell_type": "code",
   "execution_count": 160,
   "metadata": {
    "ExecuteTime": {
     "end_time": "2021-04-17T01:57:53.641962Z",
     "start_time": "2021-04-17T01:57:53.626958Z"
    }
   },
   "outputs": [],
   "source": [
    "X = housing_dummied[thirty_corr_dumm]\n",
    "y = housing_dummied['SalePrice']"
   ]
  },
  {
   "cell_type": "code",
   "execution_count": 161,
   "metadata": {
    "ExecuteTime": {
     "end_time": "2021-04-17T01:57:53.657975Z",
     "start_time": "2021-04-17T01:57:53.643965Z"
    }
   },
   "outputs": [],
   "source": [
    "X_train, X_test, y_train, y_test = train_test_split(X,y,random_state = 12)"
   ]
  },
  {
   "cell_type": "code",
   "execution_count": 162,
   "metadata": {
    "ExecuteTime": {
     "end_time": "2021-04-17T01:57:53.673989Z",
     "start_time": "2021-04-17T01:57:53.659981Z"
    }
   },
   "outputs": [],
   "source": [
    "sc = StandardScaler()\n",
    "Z_train = sc.fit_transform(X_train)\n",
    "Z_test = sc.transform(X_test)"
   ]
  },
  {
   "cell_type": "code",
   "execution_count": 163,
   "metadata": {
    "ExecuteTime": {
     "end_time": "2021-04-17T01:57:53.690004Z",
     "start_time": "2021-04-17T01:57:53.676992Z"
    }
   },
   "outputs": [
    {
     "data": {
      "text/plain": [
       "Ridge(alpha=10.0)"
      ]
     },
     "execution_count": 163,
     "metadata": {},
     "output_type": "execute_result"
    }
   ],
   "source": [
    "ridge = Ridge(alpha=10.0)\n",
    "\n",
    "ridge.fit(Z_train,y_train)"
   ]
  },
  {
   "cell_type": "code",
   "execution_count": 164,
   "metadata": {
    "ExecuteTime": {
     "end_time": "2021-04-17T01:57:53.706016Z",
     "start_time": "2021-04-17T01:57:53.692006Z"
    }
   },
   "outputs": [
    {
     "data": {
      "text/plain": [
       "(0.879396376094733, 0.8658119348942126)"
      ]
     },
     "execution_count": 164,
     "metadata": {},
     "output_type": "execute_result"
    }
   ],
   "source": [
    "ridge.score(Z_train,y_train), ridge.score(Z_test,y_test)"
   ]
  },
  {
   "cell_type": "markdown",
   "metadata": {},
   "source": [
    "Use Ridge CV to try and determine the best value to use for alpha."
   ]
  },
  {
   "cell_type": "code",
   "execution_count": 165,
   "metadata": {
    "ExecuteTime": {
     "end_time": "2021-04-17T01:58:02.592880Z",
     "start_time": "2021-04-17T01:57:53.709021Z"
    }
   },
   "outputs": [
    {
     "data": {
      "text/plain": [
       "RidgeCV(alphas=array([1.00000000e+00, 1.01159111e+00, 1.02331658e+00, 1.03517796e+00,\n",
       "       1.04717682e+00, 1.05931476e+00, 1.07159340e+00, 1.08401436e+00,\n",
       "       1.09657929e+00, 1.10928986e+00, 1.12214777e+00, 1.13515471e+00,\n",
       "       1.14831241e+00, 1.16162263e+00, 1.17508713e+00, 1.18870770e+00,\n",
       "       1.20248614e+00, 1.21642429e+00, 1.23052400e+00, 1.24478715e+00,\n",
       "       1.25921561e+00, 1.27381132e+0...\n",
       "       7.67158118e+04, 7.76050334e+04, 7.85045620e+04, 7.94145172e+04,\n",
       "       8.03350198e+04, 8.12661920e+04, 8.22081576e+04, 8.31610415e+04,\n",
       "       8.41249705e+04, 8.51000725e+04, 8.60864770e+04, 8.70843150e+04,\n",
       "       8.80937190e+04, 8.91148232e+04, 9.01477631e+04, 9.11926760e+04,\n",
       "       9.22497005e+04, 9.33189772e+04, 9.44006479e+04, 9.54948564e+04,\n",
       "       9.66017480e+04, 9.77214697e+04, 9.88541702e+04, 1.00000000e+05]),\n",
       "        cv=5, scoring='r2')"
      ]
     },
     "execution_count": 165,
     "metadata": {},
     "output_type": "execute_result"
    }
   ],
   "source": [
    "r_alphas = np.logspace(0,5,1000)\n",
    "ridge_cv = RidgeCV(alphas=r_alphas, scoring= 'r2', cv=5)\n",
    "ridge_cv.fit(Z_train,y_train)"
   ]
  },
  {
   "cell_type": "code",
   "execution_count": 166,
   "metadata": {
    "ExecuteTime": {
     "end_time": "2021-04-17T01:58:02.607893Z",
     "start_time": "2021-04-17T01:58:02.594883Z"
    }
   },
   "outputs": [
    {
     "data": {
      "text/plain": [
       "51.48867450137495"
      ]
     },
     "execution_count": 166,
     "metadata": {},
     "output_type": "execute_result"
    }
   ],
   "source": [
    "ridge_cv.alpha_"
   ]
  },
  {
   "cell_type": "code",
   "execution_count": 167,
   "metadata": {
    "ExecuteTime": {
     "end_time": "2021-04-17T01:58:02.623908Z",
     "start_time": "2021-04-17T01:58:02.609896Z"
    }
   },
   "outputs": [
    {
     "data": {
      "text/plain": [
       "(0.87443244619757, 0.8635635529305529)"
      ]
     },
     "execution_count": 167,
     "metadata": {},
     "output_type": "execute_result"
    }
   ],
   "source": [
    "ridge_cv.score(Z_train,y_train), ridge_cv.score(Z_test,y_test)"
   ]
  },
  {
   "cell_type": "markdown",
   "metadata": {},
   "source": [
    "These scroes are very very slightly better than our first fit, using the alpha of 10. "
   ]
  },
  {
   "cell_type": "code",
   "execution_count": 168,
   "metadata": {
    "ExecuteTime": {
     "end_time": "2021-04-17T01:58:02.639922Z",
     "start_time": "2021-04-17T01:58:02.625911Z"
    }
   },
   "outputs": [],
   "source": [
    "internal_testpreds = ridge_cv.predict(Z_test)"
   ]
  },
  {
   "cell_type": "code",
   "execution_count": 169,
   "metadata": {
    "ExecuteTime": {
     "end_time": "2021-04-17T01:58:02.655936Z",
     "start_time": "2021-04-17T01:58:02.641923Z"
    },
    "scrolled": true
   },
   "outputs": [
    {
     "data": {
      "text/plain": [
       "22044.979574418416"
      ]
     },
     "execution_count": 169,
     "metadata": {},
     "output_type": "execute_result"
    }
   ],
   "source": [
    "mean_squared_error(y_test,internal_testpreds, squared=False)"
   ]
  },
  {
   "cell_type": "markdown",
   "metadata": {},
   "source": [
    "This RMSE is slightly worse than our normal linear model, although it is close. With more features to allow for ridge to determine what factors have the biggest impact on the model. "
   ]
  },
  {
   "cell_type": "code",
   "execution_count": 170,
   "metadata": {
    "ExecuteTime": {
     "end_time": "2021-04-17T01:58:02.911173Z",
     "start_time": "2021-04-17T01:58:02.657938Z"
    },
    "scrolled": false
   },
   "outputs": [
    {
     "data": {
      "text/plain": [
       "''"
      ]
     },
     "execution_count": 170,
     "metadata": {},
     "output_type": "execute_result"
    },
    {
     "data": {
      "image/png": "[encoded data removed]",
      "text/plain": [
       "<Figure size 720x432 with 1 Axes>"
      ]
     },
     "metadata": {},
     "output_type": "display_data"
    }
   ],
   "source": [
    "fig = plt.figure(figsize=(10,6))\n",
    "plt.scatter(internal_testpreds, y_test)\n",
    "plt.title('Actual Values vs Predicted Values')\n",
    "plt.xlabel('Actual values')\n",
    "plt.ylabel('Predicted values')\n",
    ";"
   ]
  },
  {
   "cell_type": "markdown",
   "metadata": {},
   "source": [
    "These data points are slightly more spread out than the previous model. The general linear structure of our predictions has been mostly kept, just the spread of the data around the line seems to change with the models. "
   ]
  },
  {
   "cell_type": "markdown",
   "metadata": {},
   "source": [
    "creating a new data frame to graphically look at the Ridge coefficients and make recommendations as to what features are impacting the model. (see extra graphs section) "
   ]
  },
  {
   "cell_type": "code",
   "execution_count": 171,
   "metadata": {
    "ExecuteTime": {
     "end_time": "2021-04-17T01:58:02.927186Z",
     "start_time": "2021-04-17T01:58:02.913174Z"
    }
   },
   "outputs": [],
   "source": [
    "ridgedf = pd.DataFrame(list(zip(X.columns, ridge_cv.coef_)))"
   ]
  },
  {
   "cell_type": "code",
   "execution_count": 172,
   "metadata": {
    "ExecuteTime": {
     "end_time": "2021-04-17T01:58:02.943200Z",
     "start_time": "2021-04-17T01:58:02.929180Z"
    },
    "scrolled": true
   },
   "outputs": [
    {
     "data": {
      "text/html": [
       "<div>\n",
       "<style scoped>\n",
       "    .dataframe tbody tr th:only-of-type {\n",
       "        vertical-align: middle;\n",
       "    }\n",
       "\n",
       "    .dataframe tbody tr th {\n",
       "        vertical-align: top;\n",
       "    }\n",
       "\n",
       "    .dataframe thead th {\n",
       "        text-align: right;\n",
       "    }\n",
       "</style>\n",
       "<table border=\"1\" class=\"dataframe\">\n",
       "  <thead>\n",
       "    <tr style=\"text-align: right;\">\n",
       "      <th></th>\n",
       "      <th>0</th>\n",
       "      <th>1</th>\n",
       "    </tr>\n",
       "  </thead>\n",
       "  <tbody>\n",
       "    <tr>\n",
       "      <th>2</th>\n",
       "      <td>Overall Qual</td>\n",
       "      <td>9116.998491</td>\n",
       "    </tr>\n",
       "    <tr>\n",
       "      <th>9</th>\n",
       "      <td>Gr Liv Area</td>\n",
       "      <td>6924.410762</td>\n",
       "    </tr>\n",
       "    <tr>\n",
       "      <th>6</th>\n",
       "      <td>BsmtFin SF 1</td>\n",
       "      <td>6733.964563</td>\n",
       "    </tr>\n",
       "    <tr>\n",
       "      <th>8</th>\n",
       "      <td>1st Flr SF</td>\n",
       "      <td>6132.043803</td>\n",
       "    </tr>\n",
       "    <tr>\n",
       "      <th>18</th>\n",
       "      <td>total_sf</td>\n",
       "      <td>6090.752273</td>\n",
       "    </tr>\n",
       "    <tr>\n",
       "      <th>1</th>\n",
       "      <td>Neighborhood</td>\n",
       "      <td>5147.064922</td>\n",
       "    </tr>\n",
       "    <tr>\n",
       "      <th>12</th>\n",
       "      <td>Fireplaces</td>\n",
       "      <td>4293.384090</td>\n",
       "    </tr>\n",
       "    <tr>\n",
       "      <th>20</th>\n",
       "      <td>MS Zoning_FV</td>\n",
       "      <td>4023.481517</td>\n",
       "    </tr>\n",
       "    <tr>\n",
       "      <th>16</th>\n",
       "      <td>Garage Area</td>\n",
       "      <td>3491.223934</td>\n",
       "    </tr>\n",
       "    <tr>\n",
       "      <th>7</th>\n",
       "      <td>Total Bsmt SF</td>\n",
       "      <td>3283.825436</td>\n",
       "    </tr>\n",
       "    <tr>\n",
       "      <th>14</th>\n",
       "      <td>Garage Finish</td>\n",
       "      <td>3223.804192</td>\n",
       "    </tr>\n",
       "    <tr>\n",
       "      <th>10</th>\n",
       "      <td>Bsmt Full Bath</td>\n",
       "      <td>2177.387714</td>\n",
       "    </tr>\n",
       "    <tr>\n",
       "      <th>4</th>\n",
       "      <td>Year Remod/Add</td>\n",
       "      <td>2139.167008</td>\n",
       "    </tr>\n",
       "    <tr>\n",
       "      <th>5</th>\n",
       "      <td>BsmtFin Type 1</td>\n",
       "      <td>1639.539992</td>\n",
       "    </tr>\n",
       "    <tr>\n",
       "      <th>27</th>\n",
       "      <td>Central Air_Y</td>\n",
       "      <td>1349.910121</td>\n",
       "    </tr>\n",
       "    <tr>\n",
       "      <th>26</th>\n",
       "      <td>Foundation_PConc</td>\n",
       "      <td>1061.899294</td>\n",
       "    </tr>\n",
       "    <tr>\n",
       "      <th>3</th>\n",
       "      <td>Year Built</td>\n",
       "      <td>670.331072</td>\n",
       "    </tr>\n",
       "    <tr>\n",
       "      <th>13</th>\n",
       "      <td>Garage Yr Blt</td>\n",
       "      <td>630.160065</td>\n",
       "    </tr>\n",
       "    <tr>\n",
       "      <th>22</th>\n",
       "      <td>Bldg Type_TwnhsE</td>\n",
       "      <td>508.408203</td>\n",
       "    </tr>\n",
       "    <tr>\n",
       "      <th>19</th>\n",
       "      <td>recently built</td>\n",
       "      <td>501.090705</td>\n",
       "    </tr>\n",
       "    <tr>\n",
       "      <th>17</th>\n",
       "      <td>Paved Drive</td>\n",
       "      <td>124.805776</td>\n",
       "    </tr>\n",
       "    <tr>\n",
       "      <th>11</th>\n",
       "      <td>Full Bath</td>\n",
       "      <td>-39.414858</td>\n",
       "    </tr>\n",
       "    <tr>\n",
       "      <th>23</th>\n",
       "      <td>House Style_1Story</td>\n",
       "      <td>-605.617229</td>\n",
       "    </tr>\n",
       "    <tr>\n",
       "      <th>25</th>\n",
       "      <td>Foundation_CBlock</td>\n",
       "      <td>-999.367851</td>\n",
       "    </tr>\n",
       "    <tr>\n",
       "      <th>21</th>\n",
       "      <td>MS Zoning_RM</td>\n",
       "      <td>-1058.942425</td>\n",
       "    </tr>\n",
       "    <tr>\n",
       "      <th>24</th>\n",
       "      <td>Mas Vnr Type_None</td>\n",
       "      <td>-1304.845293</td>\n",
       "    </tr>\n",
       "    <tr>\n",
       "      <th>0</th>\n",
       "      <td>Lot Shape</td>\n",
       "      <td>-2042.111094</td>\n",
       "    </tr>\n",
       "    <tr>\n",
       "      <th>15</th>\n",
       "      <td>Garage Cars</td>\n",
       "      <td>-2064.653154</td>\n",
       "    </tr>\n",
       "  </tbody>\n",
       "</table>\n",
       "</div>"
      ],
      "text/plain": [
       "                     0            1\n",
       "2         Overall Qual  9116.998491\n",
       "9          Gr Liv Area  6924.410762\n",
       "6         BsmtFin SF 1  6733.964563\n",
       "8           1st Flr SF  6132.043803\n",
       "18            total_sf  6090.752273\n",
       "1         Neighborhood  5147.064922\n",
       "12          Fireplaces  4293.384090\n",
       "20        MS Zoning_FV  4023.481517\n",
       "16         Garage Area  3491.223934\n",
       "7        Total Bsmt SF  3283.825436\n",
       "14       Garage Finish  3223.804192\n",
       "10      Bsmt Full Bath  2177.387714\n",
       "4       Year Remod/Add  2139.167008\n",
       "5       BsmtFin Type 1  1639.539992\n",
       "27       Central Air_Y  1349.910121\n",
       "26    Foundation_PConc  1061.899294\n",
       "3           Year Built   670.331072\n",
       "13       Garage Yr Blt   630.160065\n",
       "22    Bldg Type_TwnhsE   508.408203\n",
       "19      recently built   501.090705\n",
       "17         Paved Drive   124.805776\n",
       "11           Full Bath   -39.414858\n",
       "23  House Style_1Story  -605.617229\n",
       "25   Foundation_CBlock  -999.367851\n",
       "21        MS Zoning_RM -1058.942425\n",
       "24   Mas Vnr Type_None -1304.845293\n",
       "0            Lot Shape -2042.111094\n",
       "15         Garage Cars -2064.653154"
      ]
     },
     "execution_count": 172,
     "metadata": {},
     "output_type": "execute_result"
    }
   ],
   "source": [
    "ridgedf.sort_values(1, ascending=False)"
   ]
  },
  {
   "cell_type": "markdown",
   "metadata": {},
   "source": [
    "After standardizing and looking at punishment, it seems we should run the model with only the most impactful correlations, meaning we want to keep values further away from zero. Will create a new list that can be used to do correlations on a new linear model to try and create the most efficient model. "
   ]
  },
  {
   "cell_type": "code",
   "execution_count": 173,
   "metadata": {
    "ExecuteTime": {
     "end_time": "2021-04-17T01:58:02.959215Z",
     "start_time": "2021-04-17T01:58:02.944201Z"
    }
   },
   "outputs": [],
   "source": [
    "keepdf = ridgedf[(ridgedf[1] > 5000)| (ridgedf[1]< -1000)].copy()"
   ]
  },
  {
   "cell_type": "code",
   "execution_count": 174,
   "metadata": {
    "ExecuteTime": {
     "end_time": "2021-04-17T01:58:02.974219Z",
     "start_time": "2021-04-17T01:58:02.961207Z"
    },
    "scrolled": true
   },
   "outputs": [
    {
     "data": {
      "text/html": [
       "<div>\n",
       "<style scoped>\n",
       "    .dataframe tbody tr th:only-of-type {\n",
       "        vertical-align: middle;\n",
       "    }\n",
       "\n",
       "    .dataframe tbody tr th {\n",
       "        vertical-align: top;\n",
       "    }\n",
       "\n",
       "    .dataframe thead th {\n",
       "        text-align: right;\n",
       "    }\n",
       "</style>\n",
       "<table border=\"1\" class=\"dataframe\">\n",
       "  <thead>\n",
       "    <tr style=\"text-align: right;\">\n",
       "      <th></th>\n",
       "      <th>0</th>\n",
       "      <th>1</th>\n",
       "    </tr>\n",
       "  </thead>\n",
       "  <tbody>\n",
       "    <tr>\n",
       "      <th>0</th>\n",
       "      <td>Lot Shape</td>\n",
       "      <td>-2042.111094</td>\n",
       "    </tr>\n",
       "    <tr>\n",
       "      <th>1</th>\n",
       "      <td>Neighborhood</td>\n",
       "      <td>5147.064922</td>\n",
       "    </tr>\n",
       "    <tr>\n",
       "      <th>2</th>\n",
       "      <td>Overall Qual</td>\n",
       "      <td>9116.998491</td>\n",
       "    </tr>\n",
       "    <tr>\n",
       "      <th>6</th>\n",
       "      <td>BsmtFin SF 1</td>\n",
       "      <td>6733.964563</td>\n",
       "    </tr>\n",
       "    <tr>\n",
       "      <th>8</th>\n",
       "      <td>1st Flr SF</td>\n",
       "      <td>6132.043803</td>\n",
       "    </tr>\n",
       "    <tr>\n",
       "      <th>9</th>\n",
       "      <td>Gr Liv Area</td>\n",
       "      <td>6924.410762</td>\n",
       "    </tr>\n",
       "    <tr>\n",
       "      <th>15</th>\n",
       "      <td>Garage Cars</td>\n",
       "      <td>-2064.653154</td>\n",
       "    </tr>\n",
       "    <tr>\n",
       "      <th>18</th>\n",
       "      <td>total_sf</td>\n",
       "      <td>6090.752273</td>\n",
       "    </tr>\n",
       "    <tr>\n",
       "      <th>21</th>\n",
       "      <td>MS Zoning_RM</td>\n",
       "      <td>-1058.942425</td>\n",
       "    </tr>\n",
       "    <tr>\n",
       "      <th>24</th>\n",
       "      <td>Mas Vnr Type_None</td>\n",
       "      <td>-1304.845293</td>\n",
       "    </tr>\n",
       "  </tbody>\n",
       "</table>\n",
       "</div>"
      ],
      "text/plain": [
       "                    0            1\n",
       "0           Lot Shape -2042.111094\n",
       "1        Neighborhood  5147.064922\n",
       "2        Overall Qual  9116.998491\n",
       "6        BsmtFin SF 1  6733.964563\n",
       "8          1st Flr SF  6132.043803\n",
       "9         Gr Liv Area  6924.410762\n",
       "15        Garage Cars -2064.653154\n",
       "18           total_sf  6090.752273\n",
       "21       MS Zoning_RM -1058.942425\n",
       "24  Mas Vnr Type_None -1304.845293"
      ]
     },
     "execution_count": 174,
     "metadata": {},
     "output_type": "execute_result"
    }
   ],
   "source": [
    "keepdf"
   ]
  },
  {
   "cell_type": "code",
   "execution_count": 175,
   "metadata": {
    "ExecuteTime": {
     "end_time": "2021-04-17T01:58:02.990242Z",
     "start_time": "2021-04-17T01:58:02.976221Z"
    }
   },
   "outputs": [],
   "source": [
    "newlist = [x for x in keepdf[0]]"
   ]
  },
  {
   "cell_type": "code",
   "execution_count": 176,
   "metadata": {
    "ExecuteTime": {
     "end_time": "2021-04-17T01:58:03.006247Z",
     "start_time": "2021-04-17T01:58:02.992244Z"
    }
   },
   "outputs": [
    {
     "data": {
      "text/plain": [
       "['Lot Shape',\n",
       " 'Neighborhood',\n",
       " 'Overall Qual',\n",
       " 'BsmtFin SF 1',\n",
       " '1st Flr SF',\n",
       " 'Gr Liv Area',\n",
       " 'Garage Cars',\n",
       " 'total_sf',\n",
       " 'MS Zoning_RM',\n",
       " 'Mas Vnr Type_None']"
      ]
     },
     "execution_count": 176,
     "metadata": {},
     "output_type": "execute_result"
    }
   ],
   "source": [
    "newlist"
   ]
  },
  {
   "cell_type": "markdown",
   "metadata": {},
   "source": [
    "Linear model using the adjusted list from ridge:"
   ]
  },
  {
   "cell_type": "code",
   "execution_count": 177,
   "metadata": {
    "ExecuteTime": {
     "end_time": "2021-04-17T01:58:03.022261Z",
     "start_time": "2021-04-17T01:58:03.008248Z"
    }
   },
   "outputs": [
    {
     "data": {
      "text/plain": [
       "['Lot Shape',\n",
       " 'Neighborhood',\n",
       " 'Overall Qual',\n",
       " 'BsmtFin SF 1',\n",
       " '1st Flr SF',\n",
       " 'Gr Liv Area',\n",
       " 'Garage Cars',\n",
       " 'total_sf',\n",
       " 'MS Zoning_RM',\n",
       " 'Mas Vnr Type_None']"
      ]
     },
     "execution_count": 177,
     "metadata": {},
     "output_type": "execute_result"
    }
   ],
   "source": [
    "newlist"
   ]
  },
  {
   "cell_type": "code",
   "execution_count": 178,
   "metadata": {
    "ExecuteTime": {
     "end_time": "2021-04-17T01:58:03.037283Z",
     "start_time": "2021-04-17T01:58:03.024262Z"
    }
   },
   "outputs": [],
   "source": [
    "X = housing_dummied[newlist]\n",
    "y = housing_dummied['SalePrice']"
   ]
  },
  {
   "cell_type": "code",
   "execution_count": 179,
   "metadata": {
    "ExecuteTime": {
     "end_time": "2021-04-17T01:58:03.053298Z",
     "start_time": "2021-04-17T01:58:03.039277Z"
    }
   },
   "outputs": [],
   "source": [
    "X_train, X_test, y_train, y_test = train_test_split(X,y,random_state = 12)"
   ]
  },
  {
   "cell_type": "code",
   "execution_count": 180,
   "metadata": {
    "ExecuteTime": {
     "end_time": "2021-04-17T01:58:03.069311Z",
     "start_time": "2021-04-17T01:58:03.055289Z"
    }
   },
   "outputs": [],
   "source": [
    "basic_regression = LinearRegression()"
   ]
  },
  {
   "cell_type": "code",
   "execution_count": 181,
   "metadata": {
    "ExecuteTime": {
     "end_time": "2021-04-17T01:58:03.116342Z",
     "start_time": "2021-04-17T01:58:03.071303Z"
    }
   },
   "outputs": [
    {
     "data": {
      "text/plain": [
       "0.8373048279576313"
      ]
     },
     "execution_count": 181,
     "metadata": {},
     "output_type": "execute_result"
    }
   ],
   "source": [
    "cross_val_score(basic_regression,X_train,y_train).mean()"
   ]
  },
  {
   "cell_type": "code",
   "execution_count": 182,
   "metadata": {
    "ExecuteTime": {
     "end_time": "2021-04-17T01:58:03.132356Z",
     "start_time": "2021-04-17T01:58:03.118346Z"
    }
   },
   "outputs": [
    {
     "data": {
      "text/plain": [
       "LinearRegression()"
      ]
     },
     "execution_count": 182,
     "metadata": {},
     "output_type": "execute_result"
    }
   ],
   "source": [
    "basic_regression.fit(X_train,y_train)"
   ]
  },
  {
   "cell_type": "code",
   "execution_count": 183,
   "metadata": {
    "ExecuteTime": {
     "end_time": "2021-04-17T01:58:03.147370Z",
     "start_time": "2021-04-17T01:58:03.134358Z"
    }
   },
   "outputs": [
    {
     "data": {
      "text/plain": [
       "(0.85296487188055, 0.8244488251899609)"
      ]
     },
     "execution_count": 183,
     "metadata": {},
     "output_type": "execute_result"
    }
   ],
   "source": [
    "basic_regression.score(X_train,y_train), basic_regression.score(X_test,y_test)"
   ]
  },
  {
   "cell_type": "code",
   "execution_count": 184,
   "metadata": {
    "ExecuteTime": {
     "end_time": "2021-04-17T01:58:03.163384Z",
     "start_time": "2021-04-17T01:58:03.148370Z"
    }
   },
   "outputs": [],
   "source": [
    "internal_testpreds = basic_regression.predict(X_test)"
   ]
  },
  {
   "cell_type": "code",
   "execution_count": 185,
   "metadata": {
    "ExecuteTime": {
     "end_time": "2021-04-17T01:58:03.178397Z",
     "start_time": "2021-04-17T01:58:03.165386Z"
    },
    "scrolled": true
   },
   "outputs": [
    {
     "data": {
      "text/plain": [
       "25006.1234071968"
      ]
     },
     "execution_count": 185,
     "metadata": {},
     "output_type": "execute_result"
    }
   ],
   "source": [
    "mean_squared_error(y_test,internal_testpreds, squared=False)"
   ]
  },
  {
   "cell_type": "markdown",
   "metadata": {},
   "source": [
    "Unfortuantely, despite pruning the model performed the worst yet, perhaps indicating that the model is too simple, and Ridge cant perform as effectively as it wanted too with the small amount of features being used. "
   ]
  },
  {
   "cell_type": "code",
   "execution_count": 186,
   "metadata": {
    "ExecuteTime": {
     "end_time": "2021-04-17T01:58:03.194411Z",
     "start_time": "2021-04-17T01:58:03.180398Z"
    }
   },
   "outputs": [],
   "source": [
    "testpreds =basic_regression.predict(housingtest_dummied[newlist])"
   ]
  },
  {
   "cell_type": "code",
   "execution_count": 187,
   "metadata": {
    "ExecuteTime": {
     "end_time": "2021-04-17T01:58:03.430621Z",
     "start_time": "2021-04-17T01:58:03.196414Z"
    },
    "scrolled": true
   },
   "outputs": [
    {
     "data": {
      "text/plain": [
       "''"
      ]
     },
     "execution_count": 187,
     "metadata": {},
     "output_type": "execute_result"
    },
    {
     "data": {
      "image/png": "[encoded data removed]",
      "text/plain": [
       "<Figure size 720x432 with 1 Axes>"
      ]
     },
     "metadata": {},
     "output_type": "display_data"
    }
   ],
   "source": [
    "fig = plt.figure(figsize=(10,6))\n",
    "plt.scatter(internal_testpreds, y_test)\n",
    "plt.title('Actual Values vs Predicted Values')\n",
    "plt.xlabel('Actual values')\n",
    "plt.ylabel('Predicted values')\n",
    ";"
   ]
  },
  {
   "cell_type": "markdown",
   "metadata": {},
   "source": [
    "This is by far the worst of the models we have made besides the baseline. the data points are pretty spread out, and it has the least line-like shape of any of the models we have made so far."
   ]
  },
  {
   "cell_type": "markdown",
   "metadata": {},
   "source": [
    "Lasso method on 30% correlated columns that are polynomialized. "
   ]
  },
  {
   "cell_type": "code",
   "execution_count": 188,
   "metadata": {
    "ExecuteTime": {
     "end_time": "2021-04-17T01:58:03.446636Z",
     "start_time": "2021-04-17T01:58:03.431621Z"
    }
   },
   "outputs": [],
   "source": [
    "X = housing_dummied[thirty_corr_dumm]\n",
    "y = housing_dummied['SalePrice']"
   ]
  },
  {
   "cell_type": "code",
   "execution_count": 189,
   "metadata": {
    "ExecuteTime": {
     "end_time": "2021-04-17T01:58:03.462649Z",
     "start_time": "2021-04-17T01:58:03.448637Z"
    }
   },
   "outputs": [],
   "source": [
    "poly = PolynomialFeatures(include_bias=False)"
   ]
  },
  {
   "cell_type": "code",
   "execution_count": 190,
   "metadata": {
    "ExecuteTime": {
     "end_time": "2021-04-17T01:58:03.478663Z",
     "start_time": "2021-04-17T01:58:03.464651Z"
    }
   },
   "outputs": [],
   "source": [
    "X_train, X_test, y_train, y_test = train_test_split(X,y,random_state = 12)"
   ]
  },
  {
   "cell_type": "code",
   "execution_count": 191,
   "metadata": {
    "ExecuteTime": {
     "end_time": "2021-04-17T01:58:03.494679Z",
     "start_time": "2021-04-17T01:58:03.480666Z"
    }
   },
   "outputs": [],
   "source": [
    "X_train_poly = poly.fit_transform(X_train)\n",
    "X_test_poly = poly.transform(X_test)"
   ]
  },
  {
   "cell_type": "code",
   "execution_count": 192,
   "metadata": {
    "ExecuteTime": {
     "end_time": "2021-04-17T01:58:03.509691Z",
     "start_time": "2021-04-17T01:58:03.496681Z"
    }
   },
   "outputs": [],
   "source": [
    "sc = StandardScaler()\n",
    "Z_train = sc.fit_transform(X_train_poly)\n",
    "Z_test = sc.transform(X_test_poly)"
   ]
  },
  {
   "cell_type": "code",
   "execution_count": 193,
   "metadata": {
    "ExecuteTime": {
     "end_time": "2021-04-17T01:59:08.734923Z",
     "start_time": "2021-04-17T01:58:03.511693Z"
    }
   },
   "outputs": [
    {
     "name": "stderr",
     "output_type": "stream",
     "text": [
      "C:\\Users\\DanAn\\anaconda3secondinstall\\lib\\site-packages\\sklearn\\linear_model\\_coordinate_descent.py:529: ConvergenceWarning: Objective did not converge. You might want to increase the number of iterations. Duality gap: 8278652668.69005, tolerance: 63431686.70723919\n",
      "  model = cd_fast.enet_coordinate_descent(\n",
      "C:\\Users\\DanAn\\anaconda3secondinstall\\lib\\site-packages\\sklearn\\linear_model\\_coordinate_descent.py:529: ConvergenceWarning: Objective did not converge. You might want to increase the number of iterations. Duality gap: 7125624795.846079, tolerance: 63431686.70723919\n",
      "  model = cd_fast.enet_coordinate_descent(\n",
      "C:\\Users\\DanAn\\anaconda3secondinstall\\lib\\site-packages\\sklearn\\linear_model\\_coordinate_descent.py:529: ConvergenceWarning: Objective did not converge. You might want to increase the number of iterations. Duality gap: 6594456489.090547, tolerance: 63431686.70723919\n",
      "  model = cd_fast.enet_coordinate_descent(\n",
      "C:\\Users\\DanAn\\anaconda3secondinstall\\lib\\site-packages\\sklearn\\linear_model\\_coordinate_descent.py:529: ConvergenceWarning: Objective did not converge. You might want to increase the number of iterations. Duality gap: 6280773302.473105, tolerance: 63431686.70723919\n",
      "  model = cd_fast.enet_coordinate_descent(\n",
      "C:\\Users\\DanAn\\anaconda3secondinstall\\lib\\site-packages\\sklearn\\linear_model\\_coordinate_descent.py:529: ConvergenceWarning: Objective did not converge. You might want to increase the number of iterations. Duality gap: 5941942164.07285, tolerance: 63431686.70723919\n",
      "  model = cd_fast.enet_coordinate_descent(\n",
      "C:\\Users\\DanAn\\anaconda3secondinstall\\lib\\site-packages\\sklearn\\linear_model\\_coordinate_descent.py:529: ConvergenceWarning: Objective did not converge. You might want to increase the number of iterations. Duality gap: 5675462658.970222, tolerance: 63431686.70723919\n",
      "  model = cd_fast.enet_coordinate_descent(\n",
      "C:\\Users\\DanAn\\anaconda3secondinstall\\lib\\site-packages\\sklearn\\linear_model\\_coordinate_descent.py:529: ConvergenceWarning: Objective did not converge. You might want to increase the number of iterations. Duality gap: 5430067772.63987, tolerance: 63431686.70723919\n",
      "  model = cd_fast.enet_coordinate_descent(\n",
      "C:\\Users\\DanAn\\anaconda3secondinstall\\lib\\site-packages\\sklearn\\linear_model\\_coordinate_descent.py:529: ConvergenceWarning: Objective did not converge. You might want to increase the number of iterations. Duality gap: 5222628701.884852, tolerance: 63431686.70723919\n",
      "  model = cd_fast.enet_coordinate_descent(\n",
      "C:\\Users\\DanAn\\anaconda3secondinstall\\lib\\site-packages\\sklearn\\linear_model\\_coordinate_descent.py:529: ConvergenceWarning: Objective did not converge. You might want to increase the number of iterations. Duality gap: 5116536716.589397, tolerance: 63431686.70723919\n",
      "  model = cd_fast.enet_coordinate_descent(\n",
      "C:\\Users\\DanAn\\anaconda3secondinstall\\lib\\site-packages\\sklearn\\linear_model\\_coordinate_descent.py:529: ConvergenceWarning: Objective did not converge. You might want to increase the number of iterations. Duality gap: 5125623671.920822, tolerance: 63431686.70723919\n",
      "  model = cd_fast.enet_coordinate_descent(\n",
      "C:\\Users\\DanAn\\anaconda3secondinstall\\lib\\site-packages\\sklearn\\linear_model\\_coordinate_descent.py:529: ConvergenceWarning: Objective did not converge. You might want to increase the number of iterations. Duality gap: 5069389843.411341, tolerance: 63431686.70723919\n",
      "  model = cd_fast.enet_coordinate_descent(\n",
      "C:\\Users\\DanAn\\anaconda3secondinstall\\lib\\site-packages\\sklearn\\linear_model\\_coordinate_descent.py:529: ConvergenceWarning: Objective did not converge. You might want to increase the number of iterations. Duality gap: 5005081803.992617, tolerance: 63431686.70723919\n",
      "  model = cd_fast.enet_coordinate_descent(\n",
      "C:\\Users\\DanAn\\anaconda3secondinstall\\lib\\site-packages\\sklearn\\linear_model\\_coordinate_descent.py:529: ConvergenceWarning: Objective did not converge. You might want to increase the number of iterations. Duality gap: 4898317733.959055, tolerance: 63431686.70723919\n",
      "  model = cd_fast.enet_coordinate_descent(\n",
      "C:\\Users\\DanAn\\anaconda3secondinstall\\lib\\site-packages\\sklearn\\linear_model\\_coordinate_descent.py:529: ConvergenceWarning: Objective did not converge. You might want to increase the number of iterations. Duality gap: 4894142229.24353, tolerance: 63431686.70723919\n",
      "  model = cd_fast.enet_coordinate_descent(\n",
      "C:\\Users\\DanAn\\anaconda3secondinstall\\lib\\site-packages\\sklearn\\linear_model\\_coordinate_descent.py:529: ConvergenceWarning: Objective did not converge. You might want to increase the number of iterations. Duality gap: 4920830325.379617, tolerance: 63431686.70723919\n",
      "  model = cd_fast.enet_coordinate_descent(\n",
      "C:\\Users\\DanAn\\anaconda3secondinstall\\lib\\site-packages\\sklearn\\linear_model\\_coordinate_descent.py:529: ConvergenceWarning: Objective did not converge. You might want to increase the number of iterations. Duality gap: 4959765632.889635, tolerance: 63431686.70723919\n",
      "  model = cd_fast.enet_coordinate_descent(\n",
      "C:\\Users\\DanAn\\anaconda3secondinstall\\lib\\site-packages\\sklearn\\linear_model\\_coordinate_descent.py:529: ConvergenceWarning: Objective did not converge. You might want to increase the number of iterations. Duality gap: 4904756994.635622, tolerance: 63431686.70723919\n",
      "  model = cd_fast.enet_coordinate_descent(\n",
      "C:\\Users\\DanAn\\anaconda3secondinstall\\lib\\site-packages\\sklearn\\linear_model\\_coordinate_descent.py:529: ConvergenceWarning: Objective did not converge. You might want to increase the number of iterations. Duality gap: 5121970415.54153, tolerance: 63431686.70723919\n",
      "  model = cd_fast.enet_coordinate_descent(\n",
      "C:\\Users\\DanAn\\anaconda3secondinstall\\lib\\site-packages\\sklearn\\linear_model\\_coordinate_descent.py:529: ConvergenceWarning: Objective did not converge. You might want to increase the number of iterations. Duality gap: 5110858382.7094, tolerance: 63431686.70723919\n",
      "  model = cd_fast.enet_coordinate_descent(\n",
      "C:\\Users\\DanAn\\anaconda3secondinstall\\lib\\site-packages\\sklearn\\linear_model\\_coordinate_descent.py:529: ConvergenceWarning: Objective did not converge. You might want to increase the number of iterations. Duality gap: 5093343518.020682, tolerance: 63431686.70723919\n",
      "  model = cd_fast.enet_coordinate_descent(\n",
      "C:\\Users\\DanAn\\anaconda3secondinstall\\lib\\site-packages\\sklearn\\linear_model\\_coordinate_descent.py:529: ConvergenceWarning: Objective did not converge. You might want to increase the number of iterations. Duality gap: 5134851104.675243, tolerance: 63431686.70723919\n",
      "  model = cd_fast.enet_coordinate_descent(\n",
      "C:\\Users\\DanAn\\anaconda3secondinstall\\lib\\site-packages\\sklearn\\linear_model\\_coordinate_descent.py:529: ConvergenceWarning: Objective did not converge. You might want to increase the number of iterations. Duality gap: 5222329236.560876, tolerance: 63431686.70723919\n",
      "  model = cd_fast.enet_coordinate_descent(\n",
      "C:\\Users\\DanAn\\anaconda3secondinstall\\lib\\site-packages\\sklearn\\linear_model\\_coordinate_descent.py:529: ConvergenceWarning: Objective did not converge. You might want to increase the number of iterations. Duality gap: 5246812069.679937, tolerance: 63431686.70723919\n",
      "  model = cd_fast.enet_coordinate_descent(\n",
      "C:\\Users\\DanAn\\anaconda3secondinstall\\lib\\site-packages\\sklearn\\linear_model\\_coordinate_descent.py:529: ConvergenceWarning: Objective did not converge. You might want to increase the number of iterations. Duality gap: 5291614656.679993, tolerance: 63431686.70723919\n",
      "  model = cd_fast.enet_coordinate_descent(\n",
      "C:\\Users\\DanAn\\anaconda3secondinstall\\lib\\site-packages\\sklearn\\linear_model\\_coordinate_descent.py:529: ConvergenceWarning: Objective did not converge. You might want to increase the number of iterations. Duality gap: 5327786967.142312, tolerance: 63431686.70723919\n",
      "  model = cd_fast.enet_coordinate_descent(\n",
      "C:\\Users\\DanAn\\anaconda3secondinstall\\lib\\site-packages\\sklearn\\linear_model\\_coordinate_descent.py:529: ConvergenceWarning: Objective did not converge. You might want to increase the number of iterations. Duality gap: 5390776433.168193, tolerance: 63431686.70723919\n",
      "  model = cd_fast.enet_coordinate_descent(\n",
      "C:\\Users\\DanAn\\anaconda3secondinstall\\lib\\site-packages\\sklearn\\linear_model\\_coordinate_descent.py:529: ConvergenceWarning: Objective did not converge. You might want to increase the number of iterations. Duality gap: 5447538014.472416, tolerance: 63431686.70723919\n",
      "  model = cd_fast.enet_coordinate_descent(\n",
      "C:\\Users\\DanAn\\anaconda3secondinstall\\lib\\site-packages\\sklearn\\linear_model\\_coordinate_descent.py:529: ConvergenceWarning: Objective did not converge. You might want to increase the number of iterations. Duality gap: 5494874984.909876, tolerance: 63431686.70723919\n",
      "  model = cd_fast.enet_coordinate_descent(\n"
     ]
    },
    {
     "name": "stderr",
     "output_type": "stream",
     "text": [
      "C:\\Users\\DanAn\\anaconda3secondinstall\\lib\\site-packages\\sklearn\\linear_model\\_coordinate_descent.py:529: ConvergenceWarning: Objective did not converge. You might want to increase the number of iterations. Duality gap: 5541040242.072369, tolerance: 63431686.70723919\n",
      "  model = cd_fast.enet_coordinate_descent(\n",
      "C:\\Users\\DanAn\\anaconda3secondinstall\\lib\\site-packages\\sklearn\\linear_model\\_coordinate_descent.py:529: ConvergenceWarning: Objective did not converge. You might want to increase the number of iterations. Duality gap: 5584668758.258665, tolerance: 63431686.70723919\n",
      "  model = cd_fast.enet_coordinate_descent(\n",
      "C:\\Users\\DanAn\\anaconda3secondinstall\\lib\\site-packages\\sklearn\\linear_model\\_coordinate_descent.py:529: ConvergenceWarning: Objective did not converge. You might want to increase the number of iterations. Duality gap: 5591417590.449027, tolerance: 63431686.70723919\n",
      "  model = cd_fast.enet_coordinate_descent(\n",
      "C:\\Users\\DanAn\\anaconda3secondinstall\\lib\\site-packages\\sklearn\\linear_model\\_coordinate_descent.py:529: ConvergenceWarning: Objective did not converge. You might want to increase the number of iterations. Duality gap: 5635947131.954604, tolerance: 63431686.70723919\n",
      "  model = cd_fast.enet_coordinate_descent(\n",
      "C:\\Users\\DanAn\\anaconda3secondinstall\\lib\\site-packages\\sklearn\\linear_model\\_coordinate_descent.py:529: ConvergenceWarning: Objective did not converge. You might want to increase the number of iterations. Duality gap: 5676542470.891109, tolerance: 63431686.70723919\n",
      "  model = cd_fast.enet_coordinate_descent(\n",
      "C:\\Users\\DanAn\\anaconda3secondinstall\\lib\\site-packages\\sklearn\\linear_model\\_coordinate_descent.py:529: ConvergenceWarning: Objective did not converge. You might want to increase the number of iterations. Duality gap: 5728172977.33651, tolerance: 63431686.70723919\n",
      "  model = cd_fast.enet_coordinate_descent(\n",
      "C:\\Users\\DanAn\\anaconda3secondinstall\\lib\\site-packages\\sklearn\\linear_model\\_coordinate_descent.py:529: ConvergenceWarning: Objective did not converge. You might want to increase the number of iterations. Duality gap: 5768699790.111543, tolerance: 63431686.70723919\n",
      "  model = cd_fast.enet_coordinate_descent(\n",
      "C:\\Users\\DanAn\\anaconda3secondinstall\\lib\\site-packages\\sklearn\\linear_model\\_coordinate_descent.py:529: ConvergenceWarning: Objective did not converge. You might want to increase the number of iterations. Duality gap: 5808174171.856373, tolerance: 63431686.70723919\n",
      "  model = cd_fast.enet_coordinate_descent(\n",
      "C:\\Users\\DanAn\\anaconda3secondinstall\\lib\\site-packages\\sklearn\\linear_model\\_coordinate_descent.py:529: ConvergenceWarning: Objective did not converge. You might want to increase the number of iterations. Duality gap: 5846249387.454566, tolerance: 63431686.70723919\n",
      "  model = cd_fast.enet_coordinate_descent(\n",
      "C:\\Users\\DanAn\\anaconda3secondinstall\\lib\\site-packages\\sklearn\\linear_model\\_coordinate_descent.py:529: ConvergenceWarning: Objective did not converge. You might want to increase the number of iterations. Duality gap: 5889328324.44106, tolerance: 63431686.70723919\n",
      "  model = cd_fast.enet_coordinate_descent(\n",
      "C:\\Users\\DanAn\\anaconda3secondinstall\\lib\\site-packages\\sklearn\\linear_model\\_coordinate_descent.py:529: ConvergenceWarning: Objective did not converge. You might want to increase the number of iterations. Duality gap: 5925273274.170086, tolerance: 63431686.70723919\n",
      "  model = cd_fast.enet_coordinate_descent(\n",
      "C:\\Users\\DanAn\\anaconda3secondinstall\\lib\\site-packages\\sklearn\\linear_model\\_coordinate_descent.py:529: ConvergenceWarning: Objective did not converge. You might want to increase the number of iterations. Duality gap: 5959256849.636131, tolerance: 63431686.70723919\n",
      "  model = cd_fast.enet_coordinate_descent(\n",
      "C:\\Users\\DanAn\\anaconda3secondinstall\\lib\\site-packages\\sklearn\\linear_model\\_coordinate_descent.py:529: ConvergenceWarning: Objective did not converge. You might want to increase the number of iterations. Duality gap: 5992004749.394227, tolerance: 63431686.70723919\n",
      "  model = cd_fast.enet_coordinate_descent(\n",
      "C:\\Users\\DanAn\\anaconda3secondinstall\\lib\\site-packages\\sklearn\\linear_model\\_coordinate_descent.py:529: ConvergenceWarning: Objective did not converge. You might want to increase the number of iterations. Duality gap: 6026685071.452547, tolerance: 63431686.70723919\n",
      "  model = cd_fast.enet_coordinate_descent(\n",
      "C:\\Users\\DanAn\\anaconda3secondinstall\\lib\\site-packages\\sklearn\\linear_model\\_coordinate_descent.py:529: ConvergenceWarning: Objective did not converge. You might want to increase the number of iterations. Duality gap: 6049902408.637697, tolerance: 63431686.70723919\n",
      "  model = cd_fast.enet_coordinate_descent(\n",
      "C:\\Users\\DanAn\\anaconda3secondinstall\\lib\\site-packages\\sklearn\\linear_model\\_coordinate_descent.py:529: ConvergenceWarning: Objective did not converge. You might want to increase the number of iterations. Duality gap: 6080643795.952054, tolerance: 63431686.70723919\n",
      "  model = cd_fast.enet_coordinate_descent(\n",
      "C:\\Users\\DanAn\\anaconda3secondinstall\\lib\\site-packages\\sklearn\\linear_model\\_coordinate_descent.py:529: ConvergenceWarning: Objective did not converge. You might want to increase the number of iterations. Duality gap: 6111728292.179269, tolerance: 63431686.70723919\n",
      "  model = cd_fast.enet_coordinate_descent(\n",
      "C:\\Users\\DanAn\\anaconda3secondinstall\\lib\\site-packages\\sklearn\\linear_model\\_coordinate_descent.py:529: ConvergenceWarning: Objective did not converge. You might want to increase the number of iterations. Duality gap: 6139576628.123399, tolerance: 63431686.70723919\n",
      "  model = cd_fast.enet_coordinate_descent(\n",
      "C:\\Users\\DanAn\\anaconda3secondinstall\\lib\\site-packages\\sklearn\\linear_model\\_coordinate_descent.py:529: ConvergenceWarning: Objective did not converge. You might want to increase the number of iterations. Duality gap: 6163804934.59766, tolerance: 63431686.70723919\n",
      "  model = cd_fast.enet_coordinate_descent(\n",
      "C:\\Users\\DanAn\\anaconda3secondinstall\\lib\\site-packages\\sklearn\\linear_model\\_coordinate_descent.py:529: ConvergenceWarning: Objective did not converge. You might want to increase the number of iterations. Duality gap: 6192358878.83124, tolerance: 63431686.70723919\n",
      "  model = cd_fast.enet_coordinate_descent(\n",
      "C:\\Users\\DanAn\\anaconda3secondinstall\\lib\\site-packages\\sklearn\\linear_model\\_coordinate_descent.py:529: ConvergenceWarning: Objective did not converge. You might want to increase the number of iterations. Duality gap: 6222684777.521624, tolerance: 63431686.70723919\n",
      "  model = cd_fast.enet_coordinate_descent(\n",
      "C:\\Users\\DanAn\\anaconda3secondinstall\\lib\\site-packages\\sklearn\\linear_model\\_coordinate_descent.py:529: ConvergenceWarning: Objective did not converge. You might want to increase the number of iterations. Duality gap: 6250455866.284109, tolerance: 63431686.70723919\n",
      "  model = cd_fast.enet_coordinate_descent(\n",
      "C:\\Users\\DanAn\\anaconda3secondinstall\\lib\\site-packages\\sklearn\\linear_model\\_coordinate_descent.py:529: ConvergenceWarning: Objective did not converge. You might want to increase the number of iterations. Duality gap: 6276077256.332417, tolerance: 63431686.70723919\n",
      "  model = cd_fast.enet_coordinate_descent(\n",
      "C:\\Users\\DanAn\\anaconda3secondinstall\\lib\\site-packages\\sklearn\\linear_model\\_coordinate_descent.py:529: ConvergenceWarning: Objective did not converge. You might want to increase the number of iterations. Duality gap: 6299401760.39306, tolerance: 63431686.70723919\n",
      "  model = cd_fast.enet_coordinate_descent(\n",
      "C:\\Users\\DanAn\\anaconda3secondinstall\\lib\\site-packages\\sklearn\\linear_model\\_coordinate_descent.py:529: ConvergenceWarning: Objective did not converge. You might want to increase the number of iterations. Duality gap: 6321946362.739689, tolerance: 63431686.70723919\n",
      "  model = cd_fast.enet_coordinate_descent(\n",
      "C:\\Users\\DanAn\\anaconda3secondinstall\\lib\\site-packages\\sklearn\\linear_model\\_coordinate_descent.py:529: ConvergenceWarning: Objective did not converge. You might want to increase the number of iterations. Duality gap: 6342378653.278419, tolerance: 63431686.70723919\n",
      "  model = cd_fast.enet_coordinate_descent(\n",
      "C:\\Users\\DanAn\\anaconda3secondinstall\\lib\\site-packages\\sklearn\\linear_model\\_coordinate_descent.py:529: ConvergenceWarning: Objective did not converge. You might want to increase the number of iterations. Duality gap: 6360801669.860855, tolerance: 63431686.70723919\n",
      "  model = cd_fast.enet_coordinate_descent(\n",
      "C:\\Users\\DanAn\\anaconda3secondinstall\\lib\\site-packages\\sklearn\\linear_model\\_coordinate_descent.py:529: ConvergenceWarning: Objective did not converge. You might want to increase the number of iterations. Duality gap: 6379911902.055496, tolerance: 63431686.70723919\n",
      "  model = cd_fast.enet_coordinate_descent(\n"
     ]
    },
    {
     "name": "stderr",
     "output_type": "stream",
     "text": [
      "C:\\Users\\DanAn\\anaconda3secondinstall\\lib\\site-packages\\sklearn\\linear_model\\_coordinate_descent.py:529: ConvergenceWarning: Objective did not converge. You might want to increase the number of iterations. Duality gap: 6394967416.0113735, tolerance: 63431686.70723919\n",
      "  model = cd_fast.enet_coordinate_descent(\n",
      "C:\\Users\\DanAn\\anaconda3secondinstall\\lib\\site-packages\\sklearn\\linear_model\\_coordinate_descent.py:529: ConvergenceWarning: Objective did not converge. You might want to increase the number of iterations. Duality gap: 6408750419.993288, tolerance: 63431686.70723919\n",
      "  model = cd_fast.enet_coordinate_descent(\n",
      "C:\\Users\\DanAn\\anaconda3secondinstall\\lib\\site-packages\\sklearn\\linear_model\\_coordinate_descent.py:529: ConvergenceWarning: Objective did not converge. You might want to increase the number of iterations. Duality gap: 6422208090.285402, tolerance: 63431686.70723919\n",
      "  model = cd_fast.enet_coordinate_descent(\n",
      "C:\\Users\\DanAn\\anaconda3secondinstall\\lib\\site-packages\\sklearn\\linear_model\\_coordinate_descent.py:529: ConvergenceWarning: Objective did not converge. You might want to increase the number of iterations. Duality gap: 6436180995.627208, tolerance: 63431686.70723919\n",
      "  model = cd_fast.enet_coordinate_descent(\n",
      "C:\\Users\\DanAn\\anaconda3secondinstall\\lib\\site-packages\\sklearn\\linear_model\\_coordinate_descent.py:529: ConvergenceWarning: Objective did not converge. You might want to increase the number of iterations. Duality gap: 6448910537.200927, tolerance: 63431686.70723919\n",
      "  model = cd_fast.enet_coordinate_descent(\n",
      "C:\\Users\\DanAn\\anaconda3secondinstall\\lib\\site-packages\\sklearn\\linear_model\\_coordinate_descent.py:529: ConvergenceWarning: Objective did not converge. You might want to increase the number of iterations. Duality gap: 6460349615.505996, tolerance: 63431686.70723919\n",
      "  model = cd_fast.enet_coordinate_descent(\n",
      "C:\\Users\\DanAn\\anaconda3secondinstall\\lib\\site-packages\\sklearn\\linear_model\\_coordinate_descent.py:529: ConvergenceWarning: Objective did not converge. You might want to increase the number of iterations. Duality gap: 6470711505.14202, tolerance: 63431686.70723919\n",
      "  model = cd_fast.enet_coordinate_descent(\n",
      "C:\\Users\\DanAn\\anaconda3secondinstall\\lib\\site-packages\\sklearn\\linear_model\\_coordinate_descent.py:529: ConvergenceWarning: Objective did not converge. You might want to increase the number of iterations. Duality gap: 6480015838.356028, tolerance: 63431686.70723919\n",
      "  model = cd_fast.enet_coordinate_descent(\n",
      "C:\\Users\\DanAn\\anaconda3secondinstall\\lib\\site-packages\\sklearn\\linear_model\\_coordinate_descent.py:529: ConvergenceWarning: Objective did not converge. You might want to increase the number of iterations. Duality gap: 6488041116.892601, tolerance: 63431686.70723919\n",
      "  model = cd_fast.enet_coordinate_descent(\n",
      "C:\\Users\\DanAn\\anaconda3secondinstall\\lib\\site-packages\\sklearn\\linear_model\\_coordinate_descent.py:529: ConvergenceWarning: Objective did not converge. You might want to increase the number of iterations. Duality gap: 6495714382.690524, tolerance: 63431686.70723919\n",
      "  model = cd_fast.enet_coordinate_descent(\n",
      "C:\\Users\\DanAn\\anaconda3secondinstall\\lib\\site-packages\\sklearn\\linear_model\\_coordinate_descent.py:529: ConvergenceWarning: Objective did not converge. You might want to increase the number of iterations. Duality gap: 6503123311.322667, tolerance: 63431686.70723919\n",
      "  model = cd_fast.enet_coordinate_descent(\n",
      "C:\\Users\\DanAn\\anaconda3secondinstall\\lib\\site-packages\\sklearn\\linear_model\\_coordinate_descent.py:529: ConvergenceWarning: Objective did not converge. You might want to increase the number of iterations. Duality gap: 6509669250.010205, tolerance: 63431686.70723919\n",
      "  model = cd_fast.enet_coordinate_descent(\n",
      "C:\\Users\\DanAn\\anaconda3secondinstall\\lib\\site-packages\\sklearn\\linear_model\\_coordinate_descent.py:529: ConvergenceWarning: Objective did not converge. You might want to increase the number of iterations. Duality gap: 6515288459.2417755, tolerance: 63431686.70723919\n",
      "  model = cd_fast.enet_coordinate_descent(\n",
      "C:\\Users\\DanAn\\anaconda3secondinstall\\lib\\site-packages\\sklearn\\linear_model\\_coordinate_descent.py:529: ConvergenceWarning: Objective did not converge. You might want to increase the number of iterations. Duality gap: 6520624004.141396, tolerance: 63431686.70723919\n",
      "  model = cd_fast.enet_coordinate_descent(\n",
      "C:\\Users\\DanAn\\anaconda3secondinstall\\lib\\site-packages\\sklearn\\linear_model\\_coordinate_descent.py:529: ConvergenceWarning: Objective did not converge. You might want to increase the number of iterations. Duality gap: 6525262186.909153, tolerance: 63431686.70723919\n",
      "  model = cd_fast.enet_coordinate_descent(\n",
      "C:\\Users\\DanAn\\anaconda3secondinstall\\lib\\site-packages\\sklearn\\linear_model\\_coordinate_descent.py:529: ConvergenceWarning: Objective did not converge. You might want to increase the number of iterations. Duality gap: 6529307656.361619, tolerance: 63431686.70723919\n",
      "  model = cd_fast.enet_coordinate_descent(\n",
      "C:\\Users\\DanAn\\anaconda3secondinstall\\lib\\site-packages\\sklearn\\linear_model\\_coordinate_descent.py:529: ConvergenceWarning: Objective did not converge. You might want to increase the number of iterations. Duality gap: 6532941000.92815, tolerance: 63431686.70723919\n",
      "  model = cd_fast.enet_coordinate_descent(\n",
      "C:\\Users\\DanAn\\anaconda3secondinstall\\lib\\site-packages\\sklearn\\linear_model\\_coordinate_descent.py:529: ConvergenceWarning: Objective did not converge. You might want to increase the number of iterations. Duality gap: 6536180020.822261, tolerance: 63431686.70723919\n",
      "  model = cd_fast.enet_coordinate_descent(\n",
      "C:\\Users\\DanAn\\anaconda3secondinstall\\lib\\site-packages\\sklearn\\linear_model\\_coordinate_descent.py:529: ConvergenceWarning: Objective did not converge. You might want to increase the number of iterations. Duality gap: 6538835770.212682, tolerance: 63431686.70723919\n",
      "  model = cd_fast.enet_coordinate_descent(\n",
      "C:\\Users\\DanAn\\anaconda3secondinstall\\lib\\site-packages\\sklearn\\linear_model\\_coordinate_descent.py:529: ConvergenceWarning: Objective did not converge. You might want to increase the number of iterations. Duality gap: 6541240882.118698, tolerance: 63431686.70723919\n",
      "  model = cd_fast.enet_coordinate_descent(\n",
      "C:\\Users\\DanAn\\anaconda3secondinstall\\lib\\site-packages\\sklearn\\linear_model\\_coordinate_descent.py:529: ConvergenceWarning: Objective did not converge. You might want to increase the number of iterations. Duality gap: 6543219745.970795, tolerance: 63431686.70723919\n",
      "  model = cd_fast.enet_coordinate_descent(\n",
      "C:\\Users\\DanAn\\anaconda3secondinstall\\lib\\site-packages\\sklearn\\linear_model\\_coordinate_descent.py:529: ConvergenceWarning: Objective did not converge. You might want to increase the number of iterations. Duality gap: 6544953389.694755, tolerance: 63431686.70723919\n",
      "  model = cd_fast.enet_coordinate_descent(\n",
      "C:\\Users\\DanAn\\anaconda3secondinstall\\lib\\site-packages\\sklearn\\linear_model\\_coordinate_descent.py:529: ConvergenceWarning: Objective did not converge. You might want to increase the number of iterations. Duality gap: 6546365326.708534, tolerance: 63431686.70723919\n",
      "  model = cd_fast.enet_coordinate_descent(\n",
      "C:\\Users\\DanAn\\anaconda3secondinstall\\lib\\site-packages\\sklearn\\linear_model\\_coordinate_descent.py:529: ConvergenceWarning: Objective did not converge. You might want to increase the number of iterations. Duality gap: 6547301128.876064, tolerance: 63431686.70723919\n",
      "  model = cd_fast.enet_coordinate_descent(\n",
      "C:\\Users\\DanAn\\anaconda3secondinstall\\lib\\site-packages\\sklearn\\linear_model\\_coordinate_descent.py:529: ConvergenceWarning: Objective did not converge. You might want to increase the number of iterations. Duality gap: 6548136502.73534, tolerance: 63431686.70723919\n",
      "  model = cd_fast.enet_coordinate_descent(\n",
      "C:\\Users\\DanAn\\anaconda3secondinstall\\lib\\site-packages\\sklearn\\linear_model\\_coordinate_descent.py:529: ConvergenceWarning: Objective did not converge. You might want to increase the number of iterations. Duality gap: 6548760855.940507, tolerance: 63431686.70723919\n",
      "  model = cd_fast.enet_coordinate_descent(\n",
      "C:\\Users\\DanAn\\anaconda3secondinstall\\lib\\site-packages\\sklearn\\linear_model\\_coordinate_descent.py:529: ConvergenceWarning: Objective did not converge. You might want to increase the number of iterations. Duality gap: 6549189842.286439, tolerance: 63431686.70723919\n",
      "  model = cd_fast.enet_coordinate_descent(\n",
      "C:\\Users\\DanAn\\anaconda3secondinstall\\lib\\site-packages\\sklearn\\linear_model\\_coordinate_descent.py:529: ConvergenceWarning: Objective did not converge. You might want to increase the number of iterations. Duality gap: 6549403905.199976, tolerance: 63431686.70723919\n",
      "  model = cd_fast.enet_coordinate_descent(\n"
     ]
    },
    {
     "name": "stderr",
     "output_type": "stream",
     "text": [
      "C:\\Users\\DanAn\\anaconda3secondinstall\\lib\\site-packages\\sklearn\\linear_model\\_coordinate_descent.py:529: ConvergenceWarning: Objective did not converge. You might want to increase the number of iterations. Duality gap: 6549429412.217337, tolerance: 63431686.70723919\n",
      "  model = cd_fast.enet_coordinate_descent(\n",
      "C:\\Users\\DanAn\\anaconda3secondinstall\\lib\\site-packages\\sklearn\\linear_model\\_coordinate_descent.py:529: ConvergenceWarning: Objective did not converge. You might want to increase the number of iterations. Duality gap: 6549265836.238412, tolerance: 63431686.70723919\n",
      "  model = cd_fast.enet_coordinate_descent(\n",
      "C:\\Users\\DanAn\\anaconda3secondinstall\\lib\\site-packages\\sklearn\\linear_model\\_coordinate_descent.py:529: ConvergenceWarning: Objective did not converge. You might want to increase the number of iterations. Duality gap: 6548932584.330234, tolerance: 63431686.70723919\n",
      "  model = cd_fast.enet_coordinate_descent(\n",
      "C:\\Users\\DanAn\\anaconda3secondinstall\\lib\\site-packages\\sklearn\\linear_model\\_coordinate_descent.py:529: ConvergenceWarning: Objective did not converge. You might want to increase the number of iterations. Duality gap: 6548420864.2351465, tolerance: 63431686.70723919\n",
      "  model = cd_fast.enet_coordinate_descent(\n",
      "C:\\Users\\DanAn\\anaconda3secondinstall\\lib\\site-packages\\sklearn\\linear_model\\_coordinate_descent.py:529: ConvergenceWarning: Objective did not converge. You might want to increase the number of iterations. Duality gap: 6547792073.897991, tolerance: 63431686.70723919\n",
      "  model = cd_fast.enet_coordinate_descent(\n",
      "C:\\Users\\DanAn\\anaconda3secondinstall\\lib\\site-packages\\sklearn\\linear_model\\_coordinate_descent.py:529: ConvergenceWarning: Objective did not converge. You might want to increase the number of iterations. Duality gap: 6547014487.776174, tolerance: 63431686.70723919\n",
      "  model = cd_fast.enet_coordinate_descent(\n",
      "C:\\Users\\DanAn\\anaconda3secondinstall\\lib\\site-packages\\sklearn\\linear_model\\_coordinate_descent.py:529: ConvergenceWarning: Objective did not converge. You might want to increase the number of iterations. Duality gap: 6546112101.046621, tolerance: 63431686.70723919\n",
      "  model = cd_fast.enet_coordinate_descent(\n",
      "C:\\Users\\DanAn\\anaconda3secondinstall\\lib\\site-packages\\sklearn\\linear_model\\_coordinate_descent.py:529: ConvergenceWarning: Objective did not converge. You might want to increase the number of iterations. Duality gap: 6545086821.186633, tolerance: 63431686.70723919\n",
      "  model = cd_fast.enet_coordinate_descent(\n",
      "C:\\Users\\DanAn\\anaconda3secondinstall\\lib\\site-packages\\sklearn\\linear_model\\_coordinate_descent.py:529: ConvergenceWarning: Objective did not converge. You might want to increase the number of iterations. Duality gap: 6543955271.667721, tolerance: 63431686.70723919\n",
      "  model = cd_fast.enet_coordinate_descent(\n",
      "C:\\Users\\DanAn\\anaconda3secondinstall\\lib\\site-packages\\sklearn\\linear_model\\_coordinate_descent.py:529: ConvergenceWarning: Objective did not converge. You might want to increase the number of iterations. Duality gap: 6542719405.175535, tolerance: 63431686.70723919\n",
      "  model = cd_fast.enet_coordinate_descent(\n",
      "C:\\Users\\DanAn\\anaconda3secondinstall\\lib\\site-packages\\sklearn\\linear_model\\_coordinate_descent.py:529: ConvergenceWarning: Objective did not converge. You might want to increase the number of iterations. Duality gap: 6541393721.61531, tolerance: 63431686.70723919\n",
      "  model = cd_fast.enet_coordinate_descent(\n",
      "C:\\Users\\DanAn\\anaconda3secondinstall\\lib\\site-packages\\sklearn\\linear_model\\_coordinate_descent.py:529: ConvergenceWarning: Objective did not converge. You might want to increase the number of iterations. Duality gap: 6539980836.753364, tolerance: 63431686.70723919\n",
      "  model = cd_fast.enet_coordinate_descent(\n",
      "C:\\Users\\DanAn\\anaconda3secondinstall\\lib\\site-packages\\sklearn\\linear_model\\_coordinate_descent.py:529: ConvergenceWarning: Objective did not converge. You might want to increase the number of iterations. Duality gap: 6538494277.208731, tolerance: 63431686.70723919\n",
      "  model = cd_fast.enet_coordinate_descent(\n",
      "C:\\Users\\DanAn\\anaconda3secondinstall\\lib\\site-packages\\sklearn\\linear_model\\_coordinate_descent.py:529: ConvergenceWarning: Objective did not converge. You might want to increase the number of iterations. Duality gap: 6536926921.339203, tolerance: 63431686.70723919\n",
      "  model = cd_fast.enet_coordinate_descent(\n",
      "C:\\Users\\DanAn\\anaconda3secondinstall\\lib\\site-packages\\sklearn\\linear_model\\_coordinate_descent.py:529: ConvergenceWarning: Objective did not converge. You might want to increase the number of iterations. Duality gap: 6535291219.029935, tolerance: 63431686.70723919\n",
      "  model = cd_fast.enet_coordinate_descent(\n",
      "C:\\Users\\DanAn\\anaconda3secondinstall\\lib\\site-packages\\sklearn\\linear_model\\_coordinate_descent.py:529: ConvergenceWarning: Objective did not converge. You might want to increase the number of iterations. Duality gap: 6533593061.071494, tolerance: 63431686.70723919\n",
      "  model = cd_fast.enet_coordinate_descent(\n",
      "C:\\Users\\DanAn\\anaconda3secondinstall\\lib\\site-packages\\sklearn\\linear_model\\_coordinate_descent.py:529: ConvergenceWarning: Objective did not converge. You might want to increase the number of iterations. Duality gap: 2792157510.312442, tolerance: 54081865.59743102\n",
      "  model = cd_fast.enet_coordinate_descent(\n",
      "C:\\Users\\DanAn\\anaconda3secondinstall\\lib\\site-packages\\sklearn\\linear_model\\_coordinate_descent.py:529: ConvergenceWarning: Objective did not converge. You might want to increase the number of iterations. Duality gap: 2058414738.4779644, tolerance: 54081865.59743102\n",
      "  model = cd_fast.enet_coordinate_descent(\n",
      "C:\\Users\\DanAn\\anaconda3secondinstall\\lib\\site-packages\\sklearn\\linear_model\\_coordinate_descent.py:529: ConvergenceWarning: Objective did not converge. You might want to increase the number of iterations. Duality gap: 1732180912.4300175, tolerance: 54081865.59743102\n",
      "  model = cd_fast.enet_coordinate_descent(\n",
      "C:\\Users\\DanAn\\anaconda3secondinstall\\lib\\site-packages\\sklearn\\linear_model\\_coordinate_descent.py:529: ConvergenceWarning: Objective did not converge. You might want to increase the number of iterations. Duality gap: 1570469591.3544536, tolerance: 54081865.59743102\n",
      "  model = cd_fast.enet_coordinate_descent(\n",
      "C:\\Users\\DanAn\\anaconda3secondinstall\\lib\\site-packages\\sklearn\\linear_model\\_coordinate_descent.py:529: ConvergenceWarning: Objective did not converge. You might want to increase the number of iterations. Duality gap: 1431264697.2632523, tolerance: 54081865.59743102\n",
      "  model = cd_fast.enet_coordinate_descent(\n",
      "C:\\Users\\DanAn\\anaconda3secondinstall\\lib\\site-packages\\sklearn\\linear_model\\_coordinate_descent.py:529: ConvergenceWarning: Objective did not converge. You might want to increase the number of iterations. Duality gap: 1324295112.1748493, tolerance: 54081865.59743102\n",
      "  model = cd_fast.enet_coordinate_descent(\n",
      "C:\\Users\\DanAn\\anaconda3secondinstall\\lib\\site-packages\\sklearn\\linear_model\\_coordinate_descent.py:529: ConvergenceWarning: Objective did not converge. You might want to increase the number of iterations. Duality gap: 1272802339.9181254, tolerance: 54081865.59743102\n",
      "  model = cd_fast.enet_coordinate_descent(\n",
      "C:\\Users\\DanAn\\anaconda3secondinstall\\lib\\site-packages\\sklearn\\linear_model\\_coordinate_descent.py:529: ConvergenceWarning: Objective did not converge. You might want to increase the number of iterations. Duality gap: 1179779531.7694983, tolerance: 54081865.59743102\n",
      "  model = cd_fast.enet_coordinate_descent(\n",
      "C:\\Users\\DanAn\\anaconda3secondinstall\\lib\\site-packages\\sklearn\\linear_model\\_coordinate_descent.py:529: ConvergenceWarning: Objective did not converge. You might want to increase the number of iterations. Duality gap: 1110971891.8675725, tolerance: 54081865.59743102\n",
      "  model = cd_fast.enet_coordinate_descent(\n",
      "C:\\Users\\DanAn\\anaconda3secondinstall\\lib\\site-packages\\sklearn\\linear_model\\_coordinate_descent.py:529: ConvergenceWarning: Objective did not converge. You might want to increase the number of iterations. Duality gap: 1056775114.0228405, tolerance: 54081865.59743102\n",
      "  model = cd_fast.enet_coordinate_descent(\n",
      "C:\\Users\\DanAn\\anaconda3secondinstall\\lib\\site-packages\\sklearn\\linear_model\\_coordinate_descent.py:529: ConvergenceWarning: Objective did not converge. You might want to increase the number of iterations. Duality gap: 1007913899.2145553, tolerance: 54081865.59743102\n",
      "  model = cd_fast.enet_coordinate_descent(\n",
      "C:\\Users\\DanAn\\anaconda3secondinstall\\lib\\site-packages\\sklearn\\linear_model\\_coordinate_descent.py:529: ConvergenceWarning: Objective did not converge. You might want to increase the number of iterations. Duality gap: 967564288.7281711, tolerance: 54081865.59743102\n",
      "  model = cd_fast.enet_coordinate_descent(\n"
     ]
    },
    {
     "name": "stderr",
     "output_type": "stream",
     "text": [
      "C:\\Users\\DanAn\\anaconda3secondinstall\\lib\\site-packages\\sklearn\\linear_model\\_coordinate_descent.py:529: ConvergenceWarning: Objective did not converge. You might want to increase the number of iterations. Duality gap: 936140985.506845, tolerance: 54081865.59743102\n",
      "  model = cd_fast.enet_coordinate_descent(\n",
      "C:\\Users\\DanAn\\anaconda3secondinstall\\lib\\site-packages\\sklearn\\linear_model\\_coordinate_descent.py:529: ConvergenceWarning: Objective did not converge. You might want to increase the number of iterations. Duality gap: 899937991.6749122, tolerance: 54081865.59743102\n",
      "  model = cd_fast.enet_coordinate_descent(\n",
      "C:\\Users\\DanAn\\anaconda3secondinstall\\lib\\site-packages\\sklearn\\linear_model\\_coordinate_descent.py:529: ConvergenceWarning: Objective did not converge. You might want to increase the number of iterations. Duality gap: 859985162.4106585, tolerance: 54081865.59743102\n",
      "  model = cd_fast.enet_coordinate_descent(\n",
      "C:\\Users\\DanAn\\anaconda3secondinstall\\lib\\site-packages\\sklearn\\linear_model\\_coordinate_descent.py:529: ConvergenceWarning: Objective did not converge. You might want to increase the number of iterations. Duality gap: 820679311.1501302, tolerance: 54081865.59743102\n",
      "  model = cd_fast.enet_coordinate_descent(\n",
      "C:\\Users\\DanAn\\anaconda3secondinstall\\lib\\site-packages\\sklearn\\linear_model\\_coordinate_descent.py:529: ConvergenceWarning: Objective did not converge. You might want to increase the number of iterations. Duality gap: 804038696.5181737, tolerance: 54081865.59743102\n",
      "  model = cd_fast.enet_coordinate_descent(\n",
      "C:\\Users\\DanAn\\anaconda3secondinstall\\lib\\site-packages\\sklearn\\linear_model\\_coordinate_descent.py:529: ConvergenceWarning: Objective did not converge. You might want to increase the number of iterations. Duality gap: 774366066.6207088, tolerance: 54081865.59743102\n",
      "  model = cd_fast.enet_coordinate_descent(\n",
      "C:\\Users\\DanAn\\anaconda3secondinstall\\lib\\site-packages\\sklearn\\linear_model\\_coordinate_descent.py:529: ConvergenceWarning: Objective did not converge. You might want to increase the number of iterations. Duality gap: 747596890.3783216, tolerance: 54081865.59743102\n",
      "  model = cd_fast.enet_coordinate_descent(\n",
      "C:\\Users\\DanAn\\anaconda3secondinstall\\lib\\site-packages\\sklearn\\linear_model\\_coordinate_descent.py:529: ConvergenceWarning: Objective did not converge. You might want to increase the number of iterations. Duality gap: 728122912.7304968, tolerance: 54081865.59743102\n",
      "  model = cd_fast.enet_coordinate_descent(\n",
      "C:\\Users\\DanAn\\anaconda3secondinstall\\lib\\site-packages\\sklearn\\linear_model\\_coordinate_descent.py:529: ConvergenceWarning: Objective did not converge. You might want to increase the number of iterations. Duality gap: 705275508.2893242, tolerance: 54081865.59743102\n",
      "  model = cd_fast.enet_coordinate_descent(\n",
      "C:\\Users\\DanAn\\anaconda3secondinstall\\lib\\site-packages\\sklearn\\linear_model\\_coordinate_descent.py:529: ConvergenceWarning: Objective did not converge. You might want to increase the number of iterations. Duality gap: 685046900.6542251, tolerance: 54081865.59743102\n",
      "  model = cd_fast.enet_coordinate_descent(\n",
      "C:\\Users\\DanAn\\anaconda3secondinstall\\lib\\site-packages\\sklearn\\linear_model\\_coordinate_descent.py:529: ConvergenceWarning: Objective did not converge. You might want to increase the number of iterations. Duality gap: 663264042.6826332, tolerance: 54081865.59743102\n",
      "  model = cd_fast.enet_coordinate_descent(\n",
      "C:\\Users\\DanAn\\anaconda3secondinstall\\lib\\site-packages\\sklearn\\linear_model\\_coordinate_descent.py:529: ConvergenceWarning: Objective did not converge. You might want to increase the number of iterations. Duality gap: 645110758.8580774, tolerance: 54081865.59743102\n",
      "  model = cd_fast.enet_coordinate_descent(\n",
      "C:\\Users\\DanAn\\anaconda3secondinstall\\lib\\site-packages\\sklearn\\linear_model\\_coordinate_descent.py:529: ConvergenceWarning: Objective did not converge. You might want to increase the number of iterations. Duality gap: 626081577.0390519, tolerance: 54081865.59743102\n",
      "  model = cd_fast.enet_coordinate_descent(\n",
      "C:\\Users\\DanAn\\anaconda3secondinstall\\lib\\site-packages\\sklearn\\linear_model\\_coordinate_descent.py:529: ConvergenceWarning: Objective did not converge. You might want to increase the number of iterations. Duality gap: 607898486.9586481, tolerance: 54081865.59743102\n",
      "  model = cd_fast.enet_coordinate_descent(\n",
      "C:\\Users\\DanAn\\anaconda3secondinstall\\lib\\site-packages\\sklearn\\linear_model\\_coordinate_descent.py:529: ConvergenceWarning: Objective did not converge. You might want to increase the number of iterations. Duality gap: 591795960.1721131, tolerance: 54081865.59743102\n",
      "  model = cd_fast.enet_coordinate_descent(\n",
      "C:\\Users\\DanAn\\anaconda3secondinstall\\lib\\site-packages\\sklearn\\linear_model\\_coordinate_descent.py:529: ConvergenceWarning: Objective did not converge. You might want to increase the number of iterations. Duality gap: 574875189.182214, tolerance: 54081865.59743102\n",
      "  model = cd_fast.enet_coordinate_descent(\n",
      "C:\\Users\\DanAn\\anaconda3secondinstall\\lib\\site-packages\\sklearn\\linear_model\\_coordinate_descent.py:529: ConvergenceWarning: Objective did not converge. You might want to increase the number of iterations. Duality gap: 560382573.4081808, tolerance: 54081865.59743102\n",
      "  model = cd_fast.enet_coordinate_descent(\n",
      "C:\\Users\\DanAn\\anaconda3secondinstall\\lib\\site-packages\\sklearn\\linear_model\\_coordinate_descent.py:529: ConvergenceWarning: Objective did not converge. You might want to increase the number of iterations. Duality gap: 548088720.7123097, tolerance: 54081865.59743102\n",
      "  model = cd_fast.enet_coordinate_descent(\n",
      "C:\\Users\\DanAn\\anaconda3secondinstall\\lib\\site-packages\\sklearn\\linear_model\\_coordinate_descent.py:529: ConvergenceWarning: Objective did not converge. You might want to increase the number of iterations. Duality gap: 537392665.0672681, tolerance: 54081865.59743102\n",
      "  model = cd_fast.enet_coordinate_descent(\n",
      "C:\\Users\\DanAn\\anaconda3secondinstall\\lib\\site-packages\\sklearn\\linear_model\\_coordinate_descent.py:529: ConvergenceWarning: Objective did not converge. You might want to increase the number of iterations. Duality gap: 525332326.9218124, tolerance: 54081865.59743102\n",
      "  model = cd_fast.enet_coordinate_descent(\n",
      "C:\\Users\\DanAn\\anaconda3secondinstall\\lib\\site-packages\\sklearn\\linear_model\\_coordinate_descent.py:529: ConvergenceWarning: Objective did not converge. You might want to increase the number of iterations. Duality gap: 511545728.3601541, tolerance: 54081865.59743102\n",
      "  model = cd_fast.enet_coordinate_descent(\n",
      "C:\\Users\\DanAn\\anaconda3secondinstall\\lib\\site-packages\\sklearn\\linear_model\\_coordinate_descent.py:529: ConvergenceWarning: Objective did not converge. You might want to increase the number of iterations. Duality gap: 499137626.83988404, tolerance: 54081865.59743102\n",
      "  model = cd_fast.enet_coordinate_descent(\n",
      "C:\\Users\\DanAn\\anaconda3secondinstall\\lib\\site-packages\\sklearn\\linear_model\\_coordinate_descent.py:529: ConvergenceWarning: Objective did not converge. You might want to increase the number of iterations. Duality gap: 489115842.9060465, tolerance: 54081865.59743102\n",
      "  model = cd_fast.enet_coordinate_descent(\n",
      "C:\\Users\\DanAn\\anaconda3secondinstall\\lib\\site-packages\\sklearn\\linear_model\\_coordinate_descent.py:529: ConvergenceWarning: Objective did not converge. You might want to increase the number of iterations. Duality gap: 479467249.17110914, tolerance: 54081865.59743102\n",
      "  model = cd_fast.enet_coordinate_descent(\n",
      "C:\\Users\\DanAn\\anaconda3secondinstall\\lib\\site-packages\\sklearn\\linear_model\\_coordinate_descent.py:529: ConvergenceWarning: Objective did not converge. You might want to increase the number of iterations. Duality gap: 470137771.9319769, tolerance: 54081865.59743102\n",
      "  model = cd_fast.enet_coordinate_descent(\n",
      "C:\\Users\\DanAn\\anaconda3secondinstall\\lib\\site-packages\\sklearn\\linear_model\\_coordinate_descent.py:529: ConvergenceWarning: Objective did not converge. You might want to increase the number of iterations. Duality gap: 461662488.3137397, tolerance: 54081865.59743102\n",
      "  model = cd_fast.enet_coordinate_descent(\n",
      "C:\\Users\\DanAn\\anaconda3secondinstall\\lib\\site-packages\\sklearn\\linear_model\\_coordinate_descent.py:529: ConvergenceWarning: Objective did not converge. You might want to increase the number of iterations. Duality gap: 453559974.1149426, tolerance: 54081865.59743102\n",
      "  model = cd_fast.enet_coordinate_descent(\n",
      "C:\\Users\\DanAn\\anaconda3secondinstall\\lib\\site-packages\\sklearn\\linear_model\\_coordinate_descent.py:529: ConvergenceWarning: Objective did not converge. You might want to increase the number of iterations. Duality gap: 445206860.6763897, tolerance: 54081865.59743102\n",
      "  model = cd_fast.enet_coordinate_descent(\n"
     ]
    },
    {
     "name": "stderr",
     "output_type": "stream",
     "text": [
      "C:\\Users\\DanAn\\anaconda3secondinstall\\lib\\site-packages\\sklearn\\linear_model\\_coordinate_descent.py:529: ConvergenceWarning: Objective did not converge. You might want to increase the number of iterations. Duality gap: 437164773.4312952, tolerance: 54081865.59743102\n",
      "  model = cd_fast.enet_coordinate_descent(\n",
      "C:\\Users\\DanAn\\anaconda3secondinstall\\lib\\site-packages\\sklearn\\linear_model\\_coordinate_descent.py:529: ConvergenceWarning: Objective did not converge. You might want to increase the number of iterations. Duality gap: 429288972.9131576, tolerance: 54081865.59743102\n",
      "  model = cd_fast.enet_coordinate_descent(\n",
      "C:\\Users\\DanAn\\anaconda3secondinstall\\lib\\site-packages\\sklearn\\linear_model\\_coordinate_descent.py:529: ConvergenceWarning: Objective did not converge. You might want to increase the number of iterations. Duality gap: 421727675.5155331, tolerance: 54081865.59743102\n",
      "  model = cd_fast.enet_coordinate_descent(\n",
      "C:\\Users\\DanAn\\anaconda3secondinstall\\lib\\site-packages\\sklearn\\linear_model\\_coordinate_descent.py:529: ConvergenceWarning: Objective did not converge. You might want to increase the number of iterations. Duality gap: 414471237.37469167, tolerance: 54081865.59743102\n",
      "  model = cd_fast.enet_coordinate_descent(\n",
      "C:\\Users\\DanAn\\anaconda3secondinstall\\lib\\site-packages\\sklearn\\linear_model\\_coordinate_descent.py:529: ConvergenceWarning: Objective did not converge. You might want to increase the number of iterations. Duality gap: 407633670.6233252, tolerance: 54081865.59743102\n",
      "  model = cd_fast.enet_coordinate_descent(\n",
      "C:\\Users\\DanAn\\anaconda3secondinstall\\lib\\site-packages\\sklearn\\linear_model\\_coordinate_descent.py:529: ConvergenceWarning: Objective did not converge. You might want to increase the number of iterations. Duality gap: 401068733.53767866, tolerance: 54081865.59743102\n",
      "  model = cd_fast.enet_coordinate_descent(\n",
      "C:\\Users\\DanAn\\anaconda3secondinstall\\lib\\site-packages\\sklearn\\linear_model\\_coordinate_descent.py:529: ConvergenceWarning: Objective did not converge. You might want to increase the number of iterations. Duality gap: 394697544.928403, tolerance: 54081865.59743102\n",
      "  model = cd_fast.enet_coordinate_descent(\n",
      "C:\\Users\\DanAn\\anaconda3secondinstall\\lib\\site-packages\\sklearn\\linear_model\\_coordinate_descent.py:529: ConvergenceWarning: Objective did not converge. You might want to increase the number of iterations. Duality gap: 388647729.5554106, tolerance: 54081865.59743102\n",
      "  model = cd_fast.enet_coordinate_descent(\n",
      "C:\\Users\\DanAn\\anaconda3secondinstall\\lib\\site-packages\\sklearn\\linear_model\\_coordinate_descent.py:529: ConvergenceWarning: Objective did not converge. You might want to increase the number of iterations. Duality gap: 382802796.89843494, tolerance: 54081865.59743102\n",
      "  model = cd_fast.enet_coordinate_descent(\n",
      "C:\\Users\\DanAn\\anaconda3secondinstall\\lib\\site-packages\\sklearn\\linear_model\\_coordinate_descent.py:529: ConvergenceWarning: Objective did not converge. You might want to increase the number of iterations. Duality gap: 377314479.77426434, tolerance: 54081865.59743102\n",
      "  model = cd_fast.enet_coordinate_descent(\n",
      "C:\\Users\\DanAn\\anaconda3secondinstall\\lib\\site-packages\\sklearn\\linear_model\\_coordinate_descent.py:529: ConvergenceWarning: Objective did not converge. You might want to increase the number of iterations. Duality gap: 372013546.6823952, tolerance: 54081865.59743102\n",
      "  model = cd_fast.enet_coordinate_descent(\n",
      "C:\\Users\\DanAn\\anaconda3secondinstall\\lib\\site-packages\\sklearn\\linear_model\\_coordinate_descent.py:529: ConvergenceWarning: Objective did not converge. You might want to increase the number of iterations. Duality gap: 366936475.5596672, tolerance: 54081865.59743102\n",
      "  model = cd_fast.enet_coordinate_descent(\n",
      "C:\\Users\\DanAn\\anaconda3secondinstall\\lib\\site-packages\\sklearn\\linear_model\\_coordinate_descent.py:529: ConvergenceWarning: Objective did not converge. You might want to increase the number of iterations. Duality gap: 362075213.1560349, tolerance: 54081865.59743102\n",
      "  model = cd_fast.enet_coordinate_descent(\n",
      "C:\\Users\\DanAn\\anaconda3secondinstall\\lib\\site-packages\\sklearn\\linear_model\\_coordinate_descent.py:529: ConvergenceWarning: Objective did not converge. You might want to increase the number of iterations. Duality gap: 357413989.185522, tolerance: 54081865.59743102\n",
      "  model = cd_fast.enet_coordinate_descent(\n",
      "C:\\Users\\DanAn\\anaconda3secondinstall\\lib\\site-packages\\sklearn\\linear_model\\_coordinate_descent.py:529: ConvergenceWarning: Objective did not converge. You might want to increase the number of iterations. Duality gap: 352946004.5850987, tolerance: 54081865.59743102\n",
      "  model = cd_fast.enet_coordinate_descent(\n",
      "C:\\Users\\DanAn\\anaconda3secondinstall\\lib\\site-packages\\sklearn\\linear_model\\_coordinate_descent.py:529: ConvergenceWarning: Objective did not converge. You might want to increase the number of iterations. Duality gap: 348664411.6935732, tolerance: 54081865.59743102\n",
      "  model = cd_fast.enet_coordinate_descent(\n",
      "C:\\Users\\DanAn\\anaconda3secondinstall\\lib\\site-packages\\sklearn\\linear_model\\_coordinate_descent.py:529: ConvergenceWarning: Objective did not converge. You might want to increase the number of iterations. Duality gap: 344599662.48299575, tolerance: 54081865.59743102\n",
      "  model = cd_fast.enet_coordinate_descent(\n",
      "C:\\Users\\DanAn\\anaconda3secondinstall\\lib\\site-packages\\sklearn\\linear_model\\_coordinate_descent.py:529: ConvergenceWarning: Objective did not converge. You might want to increase the number of iterations. Duality gap: 340647741.14819455, tolerance: 54081865.59743102\n",
      "  model = cd_fast.enet_coordinate_descent(\n",
      "C:\\Users\\DanAn\\anaconda3secondinstall\\lib\\site-packages\\sklearn\\linear_model\\_coordinate_descent.py:529: ConvergenceWarning: Objective did not converge. You might want to increase the number of iterations. Duality gap: 336894924.782602, tolerance: 54081865.59743102\n",
      "  model = cd_fast.enet_coordinate_descent(\n",
      "C:\\Users\\DanAn\\anaconda3secondinstall\\lib\\site-packages\\sklearn\\linear_model\\_coordinate_descent.py:529: ConvergenceWarning: Objective did not converge. You might want to increase the number of iterations. Duality gap: 333290680.1489739, tolerance: 54081865.59743102\n",
      "  model = cd_fast.enet_coordinate_descent(\n",
      "C:\\Users\\DanAn\\anaconda3secondinstall\\lib\\site-packages\\sklearn\\linear_model\\_coordinate_descent.py:529: ConvergenceWarning: Objective did not converge. You might want to increase the number of iterations. Duality gap: 329833024.1782029, tolerance: 54081865.59743102\n",
      "  model = cd_fast.enet_coordinate_descent(\n",
      "C:\\Users\\DanAn\\anaconda3secondinstall\\lib\\site-packages\\sklearn\\linear_model\\_coordinate_descent.py:529: ConvergenceWarning: Objective did not converge. You might want to increase the number of iterations. Duality gap: 326526725.82383895, tolerance: 54081865.59743102\n",
      "  model = cd_fast.enet_coordinate_descent(\n",
      "C:\\Users\\DanAn\\anaconda3secondinstall\\lib\\site-packages\\sklearn\\linear_model\\_coordinate_descent.py:529: ConvergenceWarning: Objective did not converge. You might want to increase the number of iterations. Duality gap: 323372664.95689106, tolerance: 54081865.59743102\n",
      "  model = cd_fast.enet_coordinate_descent(\n",
      "C:\\Users\\DanAn\\anaconda3secondinstall\\lib\\site-packages\\sklearn\\linear_model\\_coordinate_descent.py:529: ConvergenceWarning: Objective did not converge. You might want to increase the number of iterations. Duality gap: 320392544.79633206, tolerance: 54081865.59743102\n",
      "  model = cd_fast.enet_coordinate_descent(\n",
      "C:\\Users\\DanAn\\anaconda3secondinstall\\lib\\site-packages\\sklearn\\linear_model\\_coordinate_descent.py:529: ConvergenceWarning: Objective did not converge. You might want to increase the number of iterations. Duality gap: 317516397.3680448, tolerance: 54081865.59743102\n",
      "  model = cd_fast.enet_coordinate_descent(\n",
      "C:\\Users\\DanAn\\anaconda3secondinstall\\lib\\site-packages\\sklearn\\linear_model\\_coordinate_descent.py:529: ConvergenceWarning: Objective did not converge. You might want to increase the number of iterations. Duality gap: 314753909.7148398, tolerance: 54081865.59743102\n",
      "  model = cd_fast.enet_coordinate_descent(\n",
      "C:\\Users\\DanAn\\anaconda3secondinstall\\lib\\site-packages\\sklearn\\linear_model\\_coordinate_descent.py:529: ConvergenceWarning: Objective did not converge. You might want to increase the number of iterations. Duality gap: 312084256.57496244, tolerance: 54081865.59743102\n",
      "  model = cd_fast.enet_coordinate_descent(\n",
      "C:\\Users\\DanAn\\anaconda3secondinstall\\lib\\site-packages\\sklearn\\linear_model\\_coordinate_descent.py:529: ConvergenceWarning: Objective did not converge. You might want to increase the number of iterations. Duality gap: 309515169.2199342, tolerance: 54081865.59743102\n",
      "  model = cd_fast.enet_coordinate_descent(\n"
     ]
    },
    {
     "name": "stderr",
     "output_type": "stream",
     "text": [
      "C:\\Users\\DanAn\\anaconda3secondinstall\\lib\\site-packages\\sklearn\\linear_model\\_coordinate_descent.py:529: ConvergenceWarning: Objective did not converge. You might want to increase the number of iterations. Duality gap: 307057900.7083397, tolerance: 54081865.59743102\n",
      "  model = cd_fast.enet_coordinate_descent(\n",
      "C:\\Users\\DanAn\\anaconda3secondinstall\\lib\\site-packages\\sklearn\\linear_model\\_coordinate_descent.py:529: ConvergenceWarning: Objective did not converge. You might want to increase the number of iterations. Duality gap: 304693815.4956151, tolerance: 54081865.59743102\n",
      "  model = cd_fast.enet_coordinate_descent(\n",
      "C:\\Users\\DanAn\\anaconda3secondinstall\\lib\\site-packages\\sklearn\\linear_model\\_coordinate_descent.py:529: ConvergenceWarning: Objective did not converge. You might want to increase the number of iterations. Duality gap: 302422679.76464695, tolerance: 54081865.59743102\n",
      "  model = cd_fast.enet_coordinate_descent(\n",
      "C:\\Users\\DanAn\\anaconda3secondinstall\\lib\\site-packages\\sklearn\\linear_model\\_coordinate_descent.py:529: ConvergenceWarning: Objective did not converge. You might want to increase the number of iterations. Duality gap: 300240454.22931117, tolerance: 54081865.59743102\n",
      "  model = cd_fast.enet_coordinate_descent(\n",
      "C:\\Users\\DanAn\\anaconda3secondinstall\\lib\\site-packages\\sklearn\\linear_model\\_coordinate_descent.py:529: ConvergenceWarning: Objective did not converge. You might want to increase the number of iterations. Duality gap: 298144494.690866, tolerance: 54081865.59743102\n",
      "  model = cd_fast.enet_coordinate_descent(\n",
      "C:\\Users\\DanAn\\anaconda3secondinstall\\lib\\site-packages\\sklearn\\linear_model\\_coordinate_descent.py:529: ConvergenceWarning: Objective did not converge. You might want to increase the number of iterations. Duality gap: 296127315.2157773, tolerance: 54081865.59743102\n",
      "  model = cd_fast.enet_coordinate_descent(\n",
      "C:\\Users\\DanAn\\anaconda3secondinstall\\lib\\site-packages\\sklearn\\linear_model\\_coordinate_descent.py:529: ConvergenceWarning: Objective did not converge. You might want to increase the number of iterations. Duality gap: 294187185.7111924, tolerance: 54081865.59743102\n",
      "  model = cd_fast.enet_coordinate_descent(\n",
      "C:\\Users\\DanAn\\anaconda3secondinstall\\lib\\site-packages\\sklearn\\linear_model\\_coordinate_descent.py:529: ConvergenceWarning: Objective did not converge. You might want to increase the number of iterations. Duality gap: 292321781.38945407, tolerance: 54081865.59743102\n",
      "  model = cd_fast.enet_coordinate_descent(\n",
      "C:\\Users\\DanAn\\anaconda3secondinstall\\lib\\site-packages\\sklearn\\linear_model\\_coordinate_descent.py:529: ConvergenceWarning: Objective did not converge. You might want to increase the number of iterations. Duality gap: 290526574.76611173, tolerance: 54081865.59743102\n",
      "  model = cd_fast.enet_coordinate_descent(\n",
      "C:\\Users\\DanAn\\anaconda3secondinstall\\lib\\site-packages\\sklearn\\linear_model\\_coordinate_descent.py:529: ConvergenceWarning: Objective did not converge. You might want to increase the number of iterations. Duality gap: 288798073.4715514, tolerance: 54081865.59743102\n",
      "  model = cd_fast.enet_coordinate_descent(\n",
      "C:\\Users\\DanAn\\anaconda3secondinstall\\lib\\site-packages\\sklearn\\linear_model\\_coordinate_descent.py:529: ConvergenceWarning: Objective did not converge. You might want to increase the number of iterations. Duality gap: 287133936.557295, tolerance: 54081865.59743102\n",
      "  model = cd_fast.enet_coordinate_descent(\n",
      "C:\\Users\\DanAn\\anaconda3secondinstall\\lib\\site-packages\\sklearn\\linear_model\\_coordinate_descent.py:529: ConvergenceWarning: Objective did not converge. You might want to increase the number of iterations. Duality gap: 285530680.6719938, tolerance: 54081865.59743102\n",
      "  model = cd_fast.enet_coordinate_descent(\n",
      "C:\\Users\\DanAn\\anaconda3secondinstall\\lib\\site-packages\\sklearn\\linear_model\\_coordinate_descent.py:529: ConvergenceWarning: Objective did not converge. You might want to increase the number of iterations. Duality gap: 283985444.2012371, tolerance: 54081865.59743102\n",
      "  model = cd_fast.enet_coordinate_descent(\n",
      "C:\\Users\\DanAn\\anaconda3secondinstall\\lib\\site-packages\\sklearn\\linear_model\\_coordinate_descent.py:529: ConvergenceWarning: Objective did not converge. You might want to increase the number of iterations. Duality gap: 282495512.78538406, tolerance: 54081865.59743102\n",
      "  model = cd_fast.enet_coordinate_descent(\n",
      "C:\\Users\\DanAn\\anaconda3secondinstall\\lib\\site-packages\\sklearn\\linear_model\\_coordinate_descent.py:529: ConvergenceWarning: Objective did not converge. You might want to increase the number of iterations. Duality gap: 281057148.83358413, tolerance: 54081865.59743102\n",
      "  model = cd_fast.enet_coordinate_descent(\n",
      "C:\\Users\\DanAn\\anaconda3secondinstall\\lib\\site-packages\\sklearn\\linear_model\\_coordinate_descent.py:529: ConvergenceWarning: Objective did not converge. You might want to increase the number of iterations. Duality gap: 279668847.3850688, tolerance: 54081865.59743102\n",
      "  model = cd_fast.enet_coordinate_descent(\n",
      "C:\\Users\\DanAn\\anaconda3secondinstall\\lib\\site-packages\\sklearn\\linear_model\\_coordinate_descent.py:529: ConvergenceWarning: Objective did not converge. You might want to increase the number of iterations. Duality gap: 278329689.6647279, tolerance: 54081865.59743102\n",
      "  model = cd_fast.enet_coordinate_descent(\n",
      "C:\\Users\\DanAn\\anaconda3secondinstall\\lib\\site-packages\\sklearn\\linear_model\\_coordinate_descent.py:529: ConvergenceWarning: Objective did not converge. You might want to increase the number of iterations. Duality gap: 277036610.740888, tolerance: 54081865.59743102\n",
      "  model = cd_fast.enet_coordinate_descent(\n",
      "C:\\Users\\DanAn\\anaconda3secondinstall\\lib\\site-packages\\sklearn\\linear_model\\_coordinate_descent.py:529: ConvergenceWarning: Objective did not converge. You might want to increase the number of iterations. Duality gap: 275787070.20481056, tolerance: 54081865.59743102\n",
      "  model = cd_fast.enet_coordinate_descent(\n",
      "C:\\Users\\DanAn\\anaconda3secondinstall\\lib\\site-packages\\sklearn\\linear_model\\_coordinate_descent.py:529: ConvergenceWarning: Objective did not converge. You might want to increase the number of iterations. Duality gap: 274579560.3917683, tolerance: 54081865.59743102\n",
      "  model = cd_fast.enet_coordinate_descent(\n",
      "C:\\Users\\DanAn\\anaconda3secondinstall\\lib\\site-packages\\sklearn\\linear_model\\_coordinate_descent.py:529: ConvergenceWarning: Objective did not converge. You might want to increase the number of iterations. Duality gap: 273411408.81778735, tolerance: 54081865.59743102\n",
      "  model = cd_fast.enet_coordinate_descent(\n",
      "C:\\Users\\DanAn\\anaconda3secondinstall\\lib\\site-packages\\sklearn\\linear_model\\_coordinate_descent.py:529: ConvergenceWarning: Objective did not converge. You might want to increase the number of iterations. Duality gap: 272281811.25822145, tolerance: 54081865.59743102\n",
      "  model = cd_fast.enet_coordinate_descent(\n",
      "C:\\Users\\DanAn\\anaconda3secondinstall\\lib\\site-packages\\sklearn\\linear_model\\_coordinate_descent.py:529: ConvergenceWarning: Objective did not converge. You might want to increase the number of iterations. Duality gap: 271188741.1209573, tolerance: 54081865.59743102\n",
      "  model = cd_fast.enet_coordinate_descent(\n",
      "C:\\Users\\DanAn\\anaconda3secondinstall\\lib\\site-packages\\sklearn\\linear_model\\_coordinate_descent.py:529: ConvergenceWarning: Objective did not converge. You might want to increase the number of iterations. Duality gap: 270130432.61535054, tolerance: 54081865.59743102\n",
      "  model = cd_fast.enet_coordinate_descent(\n",
      "C:\\Users\\DanAn\\anaconda3secondinstall\\lib\\site-packages\\sklearn\\linear_model\\_coordinate_descent.py:529: ConvergenceWarning: Objective did not converge. You might want to increase the number of iterations. Duality gap: 269105244.40951294, tolerance: 54081865.59743102\n",
      "  model = cd_fast.enet_coordinate_descent(\n",
      "C:\\Users\\DanAn\\anaconda3secondinstall\\lib\\site-packages\\sklearn\\linear_model\\_coordinate_descent.py:529: ConvergenceWarning: Objective did not converge. You might want to increase the number of iterations. Duality gap: 268111910.24361026, tolerance: 54081865.59743102\n",
      "  model = cd_fast.enet_coordinate_descent(\n",
      "C:\\Users\\DanAn\\anaconda3secondinstall\\lib\\site-packages\\sklearn\\linear_model\\_coordinate_descent.py:529: ConvergenceWarning: Objective did not converge. You might want to increase the number of iterations. Duality gap: 267148898.9252946, tolerance: 54081865.59743102\n",
      "  model = cd_fast.enet_coordinate_descent(\n",
      "C:\\Users\\DanAn\\anaconda3secondinstall\\lib\\site-packages\\sklearn\\linear_model\\_coordinate_descent.py:529: ConvergenceWarning: Objective did not converge. You might want to increase the number of iterations. Duality gap: 266214938.77331582, tolerance: 54081865.59743102\n",
      "  model = cd_fast.enet_coordinate_descent(\n"
     ]
    },
    {
     "name": "stderr",
     "output_type": "stream",
     "text": [
      "C:\\Users\\DanAn\\anaconda3secondinstall\\lib\\site-packages\\sklearn\\linear_model\\_coordinate_descent.py:529: ConvergenceWarning: Objective did not converge. You might want to increase the number of iterations. Duality gap: 265308811.96410128, tolerance: 54081865.59743102\n",
      "  model = cd_fast.enet_coordinate_descent(\n",
      "C:\\Users\\DanAn\\anaconda3secondinstall\\lib\\site-packages\\sklearn\\linear_model\\_coordinate_descent.py:529: ConvergenceWarning: Objective did not converge. You might want to increase the number of iterations. Duality gap: 264429210.11908996, tolerance: 54081865.59743102\n",
      "  model = cd_fast.enet_coordinate_descent(\n",
      "C:\\Users\\DanAn\\anaconda3secondinstall\\lib\\site-packages\\sklearn\\linear_model\\_coordinate_descent.py:529: ConvergenceWarning: Objective did not converge. You might want to increase the number of iterations. Duality gap: 263575071.06995603, tolerance: 54081865.59743102\n",
      "  model = cd_fast.enet_coordinate_descent(\n",
      "C:\\Users\\DanAn\\anaconda3secondinstall\\lib\\site-packages\\sklearn\\linear_model\\_coordinate_descent.py:529: ConvergenceWarning: Objective did not converge. You might want to increase the number of iterations. Duality gap: 262745323.13980365, tolerance: 54081865.59743102\n",
      "  model = cd_fast.enet_coordinate_descent(\n",
      "C:\\Users\\DanAn\\anaconda3secondinstall\\lib\\site-packages\\sklearn\\linear_model\\_coordinate_descent.py:529: ConvergenceWarning: Objective did not converge. You might want to increase the number of iterations. Duality gap: 8195814763.623405, tolerance: 65836856.977909364\n",
      "  model = cd_fast.enet_coordinate_descent(\n",
      "C:\\Users\\DanAn\\anaconda3secondinstall\\lib\\site-packages\\sklearn\\linear_model\\_coordinate_descent.py:529: ConvergenceWarning: Objective did not converge. You might want to increase the number of iterations. Duality gap: 7225542086.050333, tolerance: 65836856.977909364\n",
      "  model = cd_fast.enet_coordinate_descent(\n",
      "C:\\Users\\DanAn\\anaconda3secondinstall\\lib\\site-packages\\sklearn\\linear_model\\_coordinate_descent.py:529: ConvergenceWarning: Objective did not converge. You might want to increase the number of iterations. Duality gap: 6638977145.104403, tolerance: 65836856.977909364\n",
      "  model = cd_fast.enet_coordinate_descent(\n",
      "C:\\Users\\DanAn\\anaconda3secondinstall\\lib\\site-packages\\sklearn\\linear_model\\_coordinate_descent.py:529: ConvergenceWarning: Objective did not converge. You might want to increase the number of iterations. Duality gap: 6291390400.399072, tolerance: 65836856.977909364\n",
      "  model = cd_fast.enet_coordinate_descent(\n",
      "C:\\Users\\DanAn\\anaconda3secondinstall\\lib\\site-packages\\sklearn\\linear_model\\_coordinate_descent.py:529: ConvergenceWarning: Objective did not converge. You might want to increase the number of iterations. Duality gap: 6092565834.281449, tolerance: 65836856.977909364\n",
      "  model = cd_fast.enet_coordinate_descent(\n",
      "C:\\Users\\DanAn\\anaconda3secondinstall\\lib\\site-packages\\sklearn\\linear_model\\_coordinate_descent.py:529: ConvergenceWarning: Objective did not converge. You might want to increase the number of iterations. Duality gap: 5904562190.297379, tolerance: 65836856.977909364\n",
      "  model = cd_fast.enet_coordinate_descent(\n",
      "C:\\Users\\DanAn\\anaconda3secondinstall\\lib\\site-packages\\sklearn\\linear_model\\_coordinate_descent.py:529: ConvergenceWarning: Objective did not converge. You might want to increase the number of iterations. Duality gap: 5728932761.071842, tolerance: 65836856.977909364\n",
      "  model = cd_fast.enet_coordinate_descent(\n",
      "C:\\Users\\DanAn\\anaconda3secondinstall\\lib\\site-packages\\sklearn\\linear_model\\_coordinate_descent.py:529: ConvergenceWarning: Objective did not converge. You might want to increase the number of iterations. Duality gap: 5658491294.132484, tolerance: 65836856.977909364\n",
      "  model = cd_fast.enet_coordinate_descent(\n",
      "C:\\Users\\DanAn\\anaconda3secondinstall\\lib\\site-packages\\sklearn\\linear_model\\_coordinate_descent.py:529: ConvergenceWarning: Objective did not converge. You might want to increase the number of iterations. Duality gap: 5569015067.064007, tolerance: 65836856.977909364\n",
      "  model = cd_fast.enet_coordinate_descent(\n",
      "C:\\Users\\DanAn\\anaconda3secondinstall\\lib\\site-packages\\sklearn\\linear_model\\_coordinate_descent.py:529: ConvergenceWarning: Objective did not converge. You might want to increase the number of iterations. Duality gap: 5539798146.5107975, tolerance: 65836856.977909364\n",
      "  model = cd_fast.enet_coordinate_descent(\n",
      "C:\\Users\\DanAn\\anaconda3secondinstall\\lib\\site-packages\\sklearn\\linear_model\\_coordinate_descent.py:529: ConvergenceWarning: Objective did not converge. You might want to increase the number of iterations. Duality gap: 5505948548.402811, tolerance: 65836856.977909364\n",
      "  model = cd_fast.enet_coordinate_descent(\n",
      "C:\\Users\\DanAn\\anaconda3secondinstall\\lib\\site-packages\\sklearn\\linear_model\\_coordinate_descent.py:529: ConvergenceWarning: Objective did not converge. You might want to increase the number of iterations. Duality gap: 5469741433.392153, tolerance: 65836856.977909364\n",
      "  model = cd_fast.enet_coordinate_descent(\n",
      "C:\\Users\\DanAn\\anaconda3secondinstall\\lib\\site-packages\\sklearn\\linear_model\\_coordinate_descent.py:529: ConvergenceWarning: Objective did not converge. You might want to increase the number of iterations. Duality gap: 5506068667.795715, tolerance: 65836856.977909364\n",
      "  model = cd_fast.enet_coordinate_descent(\n",
      "C:\\Users\\DanAn\\anaconda3secondinstall\\lib\\site-packages\\sklearn\\linear_model\\_coordinate_descent.py:529: ConvergenceWarning: Objective did not converge. You might want to increase the number of iterations. Duality gap: 5520518797.78047, tolerance: 65836856.977909364\n",
      "  model = cd_fast.enet_coordinate_descent(\n",
      "C:\\Users\\DanAn\\anaconda3secondinstall\\lib\\site-packages\\sklearn\\linear_model\\_coordinate_descent.py:529: ConvergenceWarning: Objective did not converge. You might want to increase the number of iterations. Duality gap: 5468072742.508793, tolerance: 65836856.977909364\n",
      "  model = cd_fast.enet_coordinate_descent(\n",
      "C:\\Users\\DanAn\\anaconda3secondinstall\\lib\\site-packages\\sklearn\\linear_model\\_coordinate_descent.py:529: ConvergenceWarning: Objective did not converge. You might want to increase the number of iterations. Duality gap: 5482608149.047502, tolerance: 65836856.977909364\n",
      "  model = cd_fast.enet_coordinate_descent(\n",
      "C:\\Users\\DanAn\\anaconda3secondinstall\\lib\\site-packages\\sklearn\\linear_model\\_coordinate_descent.py:529: ConvergenceWarning: Objective did not converge. You might want to increase the number of iterations. Duality gap: 5470854421.054248, tolerance: 65836856.977909364\n",
      "  model = cd_fast.enet_coordinate_descent(\n",
      "C:\\Users\\DanAn\\anaconda3secondinstall\\lib\\site-packages\\sklearn\\linear_model\\_coordinate_descent.py:529: ConvergenceWarning: Objective did not converge. You might want to increase the number of iterations. Duality gap: 5508399287.008454, tolerance: 65836856.977909364\n",
      "  model = cd_fast.enet_coordinate_descent(\n",
      "C:\\Users\\DanAn\\anaconda3secondinstall\\lib\\site-packages\\sklearn\\linear_model\\_coordinate_descent.py:529: ConvergenceWarning: Objective did not converge. You might want to increase the number of iterations. Duality gap: 5529055926.319286, tolerance: 65836856.977909364\n",
      "  model = cd_fast.enet_coordinate_descent(\n",
      "C:\\Users\\DanAn\\anaconda3secondinstall\\lib\\site-packages\\sklearn\\linear_model\\_coordinate_descent.py:529: ConvergenceWarning: Objective did not converge. You might want to increase the number of iterations. Duality gap: 5572044377.767153, tolerance: 65836856.977909364\n",
      "  model = cd_fast.enet_coordinate_descent(\n",
      "C:\\Users\\DanAn\\anaconda3secondinstall\\lib\\site-packages\\sklearn\\linear_model\\_coordinate_descent.py:529: ConvergenceWarning: Objective did not converge. You might want to increase the number of iterations. Duality gap: 5620021434.471108, tolerance: 65836856.977909364\n",
      "  model = cd_fast.enet_coordinate_descent(\n",
      "C:\\Users\\DanAn\\anaconda3secondinstall\\lib\\site-packages\\sklearn\\linear_model\\_coordinate_descent.py:529: ConvergenceWarning: Objective did not converge. You might want to increase the number of iterations. Duality gap: 5651551608.36824, tolerance: 65836856.977909364\n",
      "  model = cd_fast.enet_coordinate_descent(\n",
      "C:\\Users\\DanAn\\anaconda3secondinstall\\lib\\site-packages\\sklearn\\linear_model\\_coordinate_descent.py:529: ConvergenceWarning: Objective did not converge. You might want to increase the number of iterations. Duality gap: 5663353547.641393, tolerance: 65836856.977909364\n",
      "  model = cd_fast.enet_coordinate_descent(\n"
     ]
    },
    {
     "name": "stderr",
     "output_type": "stream",
     "text": [
      "C:\\Users\\DanAn\\anaconda3secondinstall\\lib\\site-packages\\sklearn\\linear_model\\_coordinate_descent.py:529: ConvergenceWarning: Objective did not converge. You might want to increase the number of iterations. Duality gap: 5682452785.110666, tolerance: 65836856.977909364\n",
      "  model = cd_fast.enet_coordinate_descent(\n",
      "C:\\Users\\DanAn\\anaconda3secondinstall\\lib\\site-packages\\sklearn\\linear_model\\_coordinate_descent.py:529: ConvergenceWarning: Objective did not converge. You might want to increase the number of iterations. Duality gap: 5699834039.654797, tolerance: 65836856.977909364\n",
      "  model = cd_fast.enet_coordinate_descent(\n",
      "C:\\Users\\DanAn\\anaconda3secondinstall\\lib\\site-packages\\sklearn\\linear_model\\_coordinate_descent.py:529: ConvergenceWarning: Objective did not converge. You might want to increase the number of iterations. Duality gap: 5723336206.039408, tolerance: 65836856.977909364\n",
      "  model = cd_fast.enet_coordinate_descent(\n",
      "C:\\Users\\DanAn\\anaconda3secondinstall\\lib\\site-packages\\sklearn\\linear_model\\_coordinate_descent.py:529: ConvergenceWarning: Objective did not converge. You might want to increase the number of iterations. Duality gap: 5724467747.514422, tolerance: 65836856.977909364\n",
      "  model = cd_fast.enet_coordinate_descent(\n",
      "C:\\Users\\DanAn\\anaconda3secondinstall\\lib\\site-packages\\sklearn\\linear_model\\_coordinate_descent.py:529: ConvergenceWarning: Objective did not converge. You might want to increase the number of iterations. Duality gap: 5746554014.593085, tolerance: 65836856.977909364\n",
      "  model = cd_fast.enet_coordinate_descent(\n",
      "C:\\Users\\DanAn\\anaconda3secondinstall\\lib\\site-packages\\sklearn\\linear_model\\_coordinate_descent.py:529: ConvergenceWarning: Objective did not converge. You might want to increase the number of iterations. Duality gap: 5766821338.510229, tolerance: 65836856.977909364\n",
      "  model = cd_fast.enet_coordinate_descent(\n",
      "C:\\Users\\DanAn\\anaconda3secondinstall\\lib\\site-packages\\sklearn\\linear_model\\_coordinate_descent.py:529: ConvergenceWarning: Objective did not converge. You might want to increase the number of iterations. Duality gap: 5794785660.617864, tolerance: 65836856.977909364\n",
      "  model = cd_fast.enet_coordinate_descent(\n",
      "C:\\Users\\DanAn\\anaconda3secondinstall\\lib\\site-packages\\sklearn\\linear_model\\_coordinate_descent.py:529: ConvergenceWarning: Objective did not converge. You might want to increase the number of iterations. Duality gap: 5850805869.034769, tolerance: 65836856.977909364\n",
      "  model = cd_fast.enet_coordinate_descent(\n",
      "C:\\Users\\DanAn\\anaconda3secondinstall\\lib\\site-packages\\sklearn\\linear_model\\_coordinate_descent.py:529: ConvergenceWarning: Objective did not converge. You might want to increase the number of iterations. Duality gap: 5905892220.24927, tolerance: 65836856.977909364\n",
      "  model = cd_fast.enet_coordinate_descent(\n",
      "C:\\Users\\DanAn\\anaconda3secondinstall\\lib\\site-packages\\sklearn\\linear_model\\_coordinate_descent.py:529: ConvergenceWarning: Objective did not converge. You might want to increase the number of iterations. Duality gap: 5941865266.547416, tolerance: 65836856.977909364\n",
      "  model = cd_fast.enet_coordinate_descent(\n",
      "C:\\Users\\DanAn\\anaconda3secondinstall\\lib\\site-packages\\sklearn\\linear_model\\_coordinate_descent.py:529: ConvergenceWarning: Objective did not converge. You might want to increase the number of iterations. Duality gap: 5989201164.844377, tolerance: 65836856.977909364\n",
      "  model = cd_fast.enet_coordinate_descent(\n",
      "C:\\Users\\DanAn\\anaconda3secondinstall\\lib\\site-packages\\sklearn\\linear_model\\_coordinate_descent.py:529: ConvergenceWarning: Objective did not converge. You might want to increase the number of iterations. Duality gap: 6039635701.751865, tolerance: 65836856.977909364\n",
      "  model = cd_fast.enet_coordinate_descent(\n",
      "C:\\Users\\DanAn\\anaconda3secondinstall\\lib\\site-packages\\sklearn\\linear_model\\_coordinate_descent.py:529: ConvergenceWarning: Objective did not converge. You might want to increase the number of iterations. Duality gap: 6073871292.405927, tolerance: 65836856.977909364\n",
      "  model = cd_fast.enet_coordinate_descent(\n",
      "C:\\Users\\DanAn\\anaconda3secondinstall\\lib\\site-packages\\sklearn\\linear_model\\_coordinate_descent.py:529: ConvergenceWarning: Objective did not converge. You might want to increase the number of iterations. Duality gap: 6133038405.749695, tolerance: 65836856.977909364\n",
      "  model = cd_fast.enet_coordinate_descent(\n",
      "C:\\Users\\DanAn\\anaconda3secondinstall\\lib\\site-packages\\sklearn\\linear_model\\_coordinate_descent.py:529: ConvergenceWarning: Objective did not converge. You might want to increase the number of iterations. Duality gap: 6172523852.232607, tolerance: 65836856.977909364\n",
      "  model = cd_fast.enet_coordinate_descent(\n",
      "C:\\Users\\DanAn\\anaconda3secondinstall\\lib\\site-packages\\sklearn\\linear_model\\_coordinate_descent.py:529: ConvergenceWarning: Objective did not converge. You might want to increase the number of iterations. Duality gap: 6209539323.9337015, tolerance: 65836856.977909364\n",
      "  model = cd_fast.enet_coordinate_descent(\n",
      "C:\\Users\\DanAn\\anaconda3secondinstall\\lib\\site-packages\\sklearn\\linear_model\\_coordinate_descent.py:529: ConvergenceWarning: Objective did not converge. You might want to increase the number of iterations. Duality gap: 6238944672.824064, tolerance: 65836856.977909364\n",
      "  model = cd_fast.enet_coordinate_descent(\n",
      "C:\\Users\\DanAn\\anaconda3secondinstall\\lib\\site-packages\\sklearn\\linear_model\\_coordinate_descent.py:529: ConvergenceWarning: Objective did not converge. You might want to increase the number of iterations. Duality gap: 6273153498.777946, tolerance: 65836856.977909364\n",
      "  model = cd_fast.enet_coordinate_descent(\n",
      "C:\\Users\\DanAn\\anaconda3secondinstall\\lib\\site-packages\\sklearn\\linear_model\\_coordinate_descent.py:529: ConvergenceWarning: Objective did not converge. You might want to increase the number of iterations. Duality gap: 6304110088.964231, tolerance: 65836856.977909364\n",
      "  model = cd_fast.enet_coordinate_descent(\n",
      "C:\\Users\\DanAn\\anaconda3secondinstall\\lib\\site-packages\\sklearn\\linear_model\\_coordinate_descent.py:529: ConvergenceWarning: Objective did not converge. You might want to increase the number of iterations. Duality gap: 6327553928.427066, tolerance: 65836856.977909364\n",
      "  model = cd_fast.enet_coordinate_descent(\n",
      "C:\\Users\\DanAn\\anaconda3secondinstall\\lib\\site-packages\\sklearn\\linear_model\\_coordinate_descent.py:529: ConvergenceWarning: Objective did not converge. You might want to increase the number of iterations. Duality gap: 6350358125.1904335, tolerance: 65836856.977909364\n",
      "  model = cd_fast.enet_coordinate_descent(\n",
      "C:\\Users\\DanAn\\anaconda3secondinstall\\lib\\site-packages\\sklearn\\linear_model\\_coordinate_descent.py:529: ConvergenceWarning: Objective did not converge. You might want to increase the number of iterations. Duality gap: 6370734029.686958, tolerance: 65836856.977909364\n",
      "  model = cd_fast.enet_coordinate_descent(\n",
      "C:\\Users\\DanAn\\anaconda3secondinstall\\lib\\site-packages\\sklearn\\linear_model\\_coordinate_descent.py:529: ConvergenceWarning: Objective did not converge. You might want to increase the number of iterations. Duality gap: 6391169542.687217, tolerance: 65836856.977909364\n",
      "  model = cd_fast.enet_coordinate_descent(\n",
      "C:\\Users\\DanAn\\anaconda3secondinstall\\lib\\site-packages\\sklearn\\linear_model\\_coordinate_descent.py:529: ConvergenceWarning: Objective did not converge. You might want to increase the number of iterations. Duality gap: 6410034265.8937645, tolerance: 65836856.977909364\n",
      "  model = cd_fast.enet_coordinate_descent(\n",
      "C:\\Users\\DanAn\\anaconda3secondinstall\\lib\\site-packages\\sklearn\\linear_model\\_coordinate_descent.py:529: ConvergenceWarning: Objective did not converge. You might want to increase the number of iterations. Duality gap: 6428099206.626487, tolerance: 65836856.977909364\n",
      "  model = cd_fast.enet_coordinate_descent(\n",
      "C:\\Users\\DanAn\\anaconda3secondinstall\\lib\\site-packages\\sklearn\\linear_model\\_coordinate_descent.py:529: ConvergenceWarning: Objective did not converge. You might want to increase the number of iterations. Duality gap: 6444817974.955909, tolerance: 65836856.977909364\n",
      "  model = cd_fast.enet_coordinate_descent(\n",
      "C:\\Users\\DanAn\\anaconda3secondinstall\\lib\\site-packages\\sklearn\\linear_model\\_coordinate_descent.py:529: ConvergenceWarning: Objective did not converge. You might want to increase the number of iterations. Duality gap: 6459887398.961896, tolerance: 65836856.977909364\n",
      "  model = cd_fast.enet_coordinate_descent(\n",
      "C:\\Users\\DanAn\\anaconda3secondinstall\\lib\\site-packages\\sklearn\\linear_model\\_coordinate_descent.py:529: ConvergenceWarning: Objective did not converge. You might want to increase the number of iterations. Duality gap: 6473737501.450229, tolerance: 65836856.977909364\n",
      "  model = cd_fast.enet_coordinate_descent(\n"
     ]
    },
    {
     "name": "stderr",
     "output_type": "stream",
     "text": [
      "C:\\Users\\DanAn\\anaconda3secondinstall\\lib\\site-packages\\sklearn\\linear_model\\_coordinate_descent.py:529: ConvergenceWarning: Objective did not converge. You might want to increase the number of iterations. Duality gap: 6486452069.348782, tolerance: 65836856.977909364\n",
      "  model = cd_fast.enet_coordinate_descent(\n",
      "C:\\Users\\DanAn\\anaconda3secondinstall\\lib\\site-packages\\sklearn\\linear_model\\_coordinate_descent.py:529: ConvergenceWarning: Objective did not converge. You might want to increase the number of iterations. Duality gap: 6497689246.082815, tolerance: 65836856.977909364\n",
      "  model = cd_fast.enet_coordinate_descent(\n",
      "C:\\Users\\DanAn\\anaconda3secondinstall\\lib\\site-packages\\sklearn\\linear_model\\_coordinate_descent.py:529: ConvergenceWarning: Objective did not converge. You might want to increase the number of iterations. Duality gap: 6507832078.487824, tolerance: 65836856.977909364\n",
      "  model = cd_fast.enet_coordinate_descent(\n",
      "C:\\Users\\DanAn\\anaconda3secondinstall\\lib\\site-packages\\sklearn\\linear_model\\_coordinate_descent.py:529: ConvergenceWarning: Objective did not converge. You might want to increase the number of iterations. Duality gap: 6517627544.107776, tolerance: 65836856.977909364\n",
      "  model = cd_fast.enet_coordinate_descent(\n",
      "C:\\Users\\DanAn\\anaconda3secondinstall\\lib\\site-packages\\sklearn\\linear_model\\_coordinate_descent.py:529: ConvergenceWarning: Objective did not converge. You might want to increase the number of iterations. Duality gap: 6526666348.979558, tolerance: 65836856.977909364\n",
      "  model = cd_fast.enet_coordinate_descent(\n",
      "C:\\Users\\DanAn\\anaconda3secondinstall\\lib\\site-packages\\sklearn\\linear_model\\_coordinate_descent.py:529: ConvergenceWarning: Objective did not converge. You might want to increase the number of iterations. Duality gap: 6535006175.3736925, tolerance: 65836856.977909364\n",
      "  model = cd_fast.enet_coordinate_descent(\n",
      "C:\\Users\\DanAn\\anaconda3secondinstall\\lib\\site-packages\\sklearn\\linear_model\\_coordinate_descent.py:529: ConvergenceWarning: Objective did not converge. You might want to increase the number of iterations. Duality gap: 6542650851.015109, tolerance: 65836856.977909364\n",
      "  model = cd_fast.enet_coordinate_descent(\n",
      "C:\\Users\\DanAn\\anaconda3secondinstall\\lib\\site-packages\\sklearn\\linear_model\\_coordinate_descent.py:529: ConvergenceWarning: Objective did not converge. You might want to increase the number of iterations. Duality gap: 6549511648.171046, tolerance: 65836856.977909364\n",
      "  model = cd_fast.enet_coordinate_descent(\n",
      "C:\\Users\\DanAn\\anaconda3secondinstall\\lib\\site-packages\\sklearn\\linear_model\\_coordinate_descent.py:529: ConvergenceWarning: Objective did not converge. You might want to increase the number of iterations. Duality gap: 6555589919.656912, tolerance: 65836856.977909364\n",
      "  model = cd_fast.enet_coordinate_descent(\n",
      "C:\\Users\\DanAn\\anaconda3secondinstall\\lib\\site-packages\\sklearn\\linear_model\\_coordinate_descent.py:529: ConvergenceWarning: Objective did not converge. You might want to increase the number of iterations. Duality gap: 6561434420.994635, tolerance: 65836856.977909364\n",
      "  model = cd_fast.enet_coordinate_descent(\n",
      "C:\\Users\\DanAn\\anaconda3secondinstall\\lib\\site-packages\\sklearn\\linear_model\\_coordinate_descent.py:529: ConvergenceWarning: Objective did not converge. You might want to increase the number of iterations. Duality gap: 6566641174.154766, tolerance: 65836856.977909364\n",
      "  model = cd_fast.enet_coordinate_descent(\n",
      "C:\\Users\\DanAn\\anaconda3secondinstall\\lib\\site-packages\\sklearn\\linear_model\\_coordinate_descent.py:529: ConvergenceWarning: Objective did not converge. You might want to increase the number of iterations. Duality gap: 6571553448.043351, tolerance: 65836856.977909364\n",
      "  model = cd_fast.enet_coordinate_descent(\n",
      "C:\\Users\\DanAn\\anaconda3secondinstall\\lib\\site-packages\\sklearn\\linear_model\\_coordinate_descent.py:529: ConvergenceWarning: Objective did not converge. You might want to increase the number of iterations. Duality gap: 6575565400.441051, tolerance: 65836856.977909364\n",
      "  model = cd_fast.enet_coordinate_descent(\n",
      "C:\\Users\\DanAn\\anaconda3secondinstall\\lib\\site-packages\\sklearn\\linear_model\\_coordinate_descent.py:529: ConvergenceWarning: Objective did not converge. You might want to increase the number of iterations. Duality gap: 6579181309.205494, tolerance: 65836856.977909364\n",
      "  model = cd_fast.enet_coordinate_descent(\n",
      "C:\\Users\\DanAn\\anaconda3secondinstall\\lib\\site-packages\\sklearn\\linear_model\\_coordinate_descent.py:529: ConvergenceWarning: Objective did not converge. You might want to increase the number of iterations. Duality gap: 6582359106.980913, tolerance: 65836856.977909364\n",
      "  model = cd_fast.enet_coordinate_descent(\n",
      "C:\\Users\\DanAn\\anaconda3secondinstall\\lib\\site-packages\\sklearn\\linear_model\\_coordinate_descent.py:529: ConvergenceWarning: Objective did not converge. You might want to increase the number of iterations. Duality gap: 6585119971.342651, tolerance: 65836856.977909364\n",
      "  model = cd_fast.enet_coordinate_descent(\n",
      "C:\\Users\\DanAn\\anaconda3secondinstall\\lib\\site-packages\\sklearn\\linear_model\\_coordinate_descent.py:529: ConvergenceWarning: Objective did not converge. You might want to increase the number of iterations. Duality gap: 6587527213.25353, tolerance: 65836856.977909364\n",
      "  model = cd_fast.enet_coordinate_descent(\n",
      "C:\\Users\\DanAn\\anaconda3secondinstall\\lib\\site-packages\\sklearn\\linear_model\\_coordinate_descent.py:529: ConvergenceWarning: Objective did not converge. You might want to increase the number of iterations. Duality gap: 6589592805.037352, tolerance: 65836856.977909364\n",
      "  model = cd_fast.enet_coordinate_descent(\n",
      "C:\\Users\\DanAn\\anaconda3secondinstall\\lib\\site-packages\\sklearn\\linear_model\\_coordinate_descent.py:529: ConvergenceWarning: Objective did not converge. You might want to increase the number of iterations. Duality gap: 6591305102.293928, tolerance: 65836856.977909364\n",
      "  model = cd_fast.enet_coordinate_descent(\n",
      "C:\\Users\\DanAn\\anaconda3secondinstall\\lib\\site-packages\\sklearn\\linear_model\\_coordinate_descent.py:529: ConvergenceWarning: Objective did not converge. You might want to increase the number of iterations. Duality gap: 6592679278.525946, tolerance: 65836856.977909364\n",
      "  model = cd_fast.enet_coordinate_descent(\n",
      "C:\\Users\\DanAn\\anaconda3secondinstall\\lib\\site-packages\\sklearn\\linear_model\\_coordinate_descent.py:529: ConvergenceWarning: Objective did not converge. You might want to increase the number of iterations. Duality gap: 6593840358.168546, tolerance: 65836856.977909364\n",
      "  model = cd_fast.enet_coordinate_descent(\n",
      "C:\\Users\\DanAn\\anaconda3secondinstall\\lib\\site-packages\\sklearn\\linear_model\\_coordinate_descent.py:529: ConvergenceWarning: Objective did not converge. You might want to increase the number of iterations. Duality gap: 6594752161.905872, tolerance: 65836856.977909364\n",
      "  model = cd_fast.enet_coordinate_descent(\n",
      "C:\\Users\\DanAn\\anaconda3secondinstall\\lib\\site-packages\\sklearn\\linear_model\\_coordinate_descent.py:529: ConvergenceWarning: Objective did not converge. You might want to increase the number of iterations. Duality gap: 6595420526.748948, tolerance: 65836856.977909364\n",
      "  model = cd_fast.enet_coordinate_descent(\n",
      "C:\\Users\\DanAn\\anaconda3secondinstall\\lib\\site-packages\\sklearn\\linear_model\\_coordinate_descent.py:529: ConvergenceWarning: Objective did not converge. You might want to increase the number of iterations. Duality gap: 6595859113.297865, tolerance: 65836856.977909364\n",
      "  model = cd_fast.enet_coordinate_descent(\n",
      "C:\\Users\\DanAn\\anaconda3secondinstall\\lib\\site-packages\\sklearn\\linear_model\\_coordinate_descent.py:529: ConvergenceWarning: Objective did not converge. You might want to increase the number of iterations. Duality gap: 6596083159.912737, tolerance: 65836856.977909364\n",
      "  model = cd_fast.enet_coordinate_descent(\n",
      "C:\\Users\\DanAn\\anaconda3secondinstall\\lib\\site-packages\\sklearn\\linear_model\\_coordinate_descent.py:529: ConvergenceWarning: Objective did not converge. You might want to increase the number of iterations. Duality gap: 6596094780.224687, tolerance: 65836856.977909364\n",
      "  model = cd_fast.enet_coordinate_descent(\n",
      "C:\\Users\\DanAn\\anaconda3secondinstall\\lib\\site-packages\\sklearn\\linear_model\\_coordinate_descent.py:529: ConvergenceWarning: Objective did not converge. You might want to increase the number of iterations. Duality gap: 6595933607.791343, tolerance: 65836856.977909364\n",
      "  model = cd_fast.enet_coordinate_descent(\n",
      "C:\\Users\\DanAn\\anaconda3secondinstall\\lib\\site-packages\\sklearn\\linear_model\\_coordinate_descent.py:529: ConvergenceWarning: Objective did not converge. You might want to increase the number of iterations. Duality gap: 6595591671.380986, tolerance: 65836856.977909364\n",
      "  model = cd_fast.enet_coordinate_descent(\n"
     ]
    },
    {
     "name": "stderr",
     "output_type": "stream",
     "text": [
      "C:\\Users\\DanAn\\anaconda3secondinstall\\lib\\site-packages\\sklearn\\linear_model\\_coordinate_descent.py:529: ConvergenceWarning: Objective did not converge. You might want to increase the number of iterations. Duality gap: 6595118272.823275, tolerance: 65836856.977909364\n",
      "  model = cd_fast.enet_coordinate_descent(\n",
      "C:\\Users\\DanAn\\anaconda3secondinstall\\lib\\site-packages\\sklearn\\linear_model\\_coordinate_descent.py:529: ConvergenceWarning: Objective did not converge. You might want to increase the number of iterations. Duality gap: 6594483321.505364, tolerance: 65836856.977909364\n",
      "  model = cd_fast.enet_coordinate_descent(\n",
      "C:\\Users\\DanAn\\anaconda3secondinstall\\lib\\site-packages\\sklearn\\linear_model\\_coordinate_descent.py:529: ConvergenceWarning: Objective did not converge. You might want to increase the number of iterations. Duality gap: 6593707243.334766, tolerance: 65836856.977909364\n",
      "  model = cd_fast.enet_coordinate_descent(\n",
      "C:\\Users\\DanAn\\anaconda3secondinstall\\lib\\site-packages\\sklearn\\linear_model\\_coordinate_descent.py:529: ConvergenceWarning: Objective did not converge. You might want to increase the number of iterations. Duality gap: 6592786278.534717, tolerance: 65836856.977909364\n",
      "  model = cd_fast.enet_coordinate_descent(\n",
      "C:\\Users\\DanAn\\anaconda3secondinstall\\lib\\site-packages\\sklearn\\linear_model\\_coordinate_descent.py:529: ConvergenceWarning: Objective did not converge. You might want to increase the number of iterations. Duality gap: 6591725717.405247, tolerance: 65836856.977909364\n",
      "  model = cd_fast.enet_coordinate_descent(\n",
      "C:\\Users\\DanAn\\anaconda3secondinstall\\lib\\site-packages\\sklearn\\linear_model\\_coordinate_descent.py:529: ConvergenceWarning: Objective did not converge. You might want to increase the number of iterations. Duality gap: 6590594928.521256, tolerance: 65836856.977909364\n",
      "  model = cd_fast.enet_coordinate_descent(\n",
      "C:\\Users\\DanAn\\anaconda3secondinstall\\lib\\site-packages\\sklearn\\linear_model\\_coordinate_descent.py:529: ConvergenceWarning: Objective did not converge. You might want to increase the number of iterations. Duality gap: 6589361048.759082, tolerance: 65836856.977909364\n",
      "  model = cd_fast.enet_coordinate_descent(\n",
      "C:\\Users\\DanAn\\anaconda3secondinstall\\lib\\site-packages\\sklearn\\linear_model\\_coordinate_descent.py:529: ConvergenceWarning: Objective did not converge. You might want to increase the number of iterations. Duality gap: 6588023768.209024, tolerance: 65836856.977909364\n",
      "  model = cd_fast.enet_coordinate_descent(\n",
      "C:\\Users\\DanAn\\anaconda3secondinstall\\lib\\site-packages\\sklearn\\linear_model\\_coordinate_descent.py:529: ConvergenceWarning: Objective did not converge. You might want to increase the number of iterations. Duality gap: 6586594267.479316, tolerance: 65836856.977909364\n",
      "  model = cd_fast.enet_coordinate_descent(\n",
      "C:\\Users\\DanAn\\anaconda3secondinstall\\lib\\site-packages\\sklearn\\linear_model\\_coordinate_descent.py:529: ConvergenceWarning: Objective did not converge. You might want to increase the number of iterations. Duality gap: 6585082564.948717, tolerance: 65836856.977909364\n",
      "  model = cd_fast.enet_coordinate_descent(\n",
      "C:\\Users\\DanAn\\anaconda3secondinstall\\lib\\site-packages\\sklearn\\linear_model\\_coordinate_descent.py:529: ConvergenceWarning: Objective did not converge. You might want to increase the number of iterations. Duality gap: 6583477057.288876, tolerance: 65836856.977909364\n",
      "  model = cd_fast.enet_coordinate_descent(\n",
      "C:\\Users\\DanAn\\anaconda3secondinstall\\lib\\site-packages\\sklearn\\linear_model\\_coordinate_descent.py:529: ConvergenceWarning: Objective did not converge. You might want to increase the number of iterations. Duality gap: 6581820107.007982, tolerance: 65836856.977909364\n",
      "  model = cd_fast.enet_coordinate_descent(\n",
      "C:\\Users\\DanAn\\anaconda3secondinstall\\lib\\site-packages\\sklearn\\linear_model\\_coordinate_descent.py:529: ConvergenceWarning: Objective did not converge. You might want to increase the number of iterations. Duality gap: 6580096353.069084, tolerance: 65836856.977909364\n",
      "  model = cd_fast.enet_coordinate_descent(\n",
      "C:\\Users\\DanAn\\anaconda3secondinstall\\lib\\site-packages\\sklearn\\linear_model\\_coordinate_descent.py:529: ConvergenceWarning: Objective did not converge. You might want to increase the number of iterations. Duality gap: 6578310406.880145, tolerance: 65836856.977909364\n",
      "  model = cd_fast.enet_coordinate_descent(\n",
      "C:\\Users\\DanAn\\anaconda3secondinstall\\lib\\site-packages\\sklearn\\linear_model\\_coordinate_descent.py:529: ConvergenceWarning: Objective did not converge. You might want to increase the number of iterations. Duality gap: 6576468695.520615, tolerance: 65836856.977909364\n",
      "  model = cd_fast.enet_coordinate_descent(\n",
      "C:\\Users\\DanAn\\anaconda3secondinstall\\lib\\site-packages\\sklearn\\linear_model\\_coordinate_descent.py:529: ConvergenceWarning: Objective did not converge. You might want to increase the number of iterations. Duality gap: 6574571521.010749, tolerance: 65836856.977909364\n",
      "  model = cd_fast.enet_coordinate_descent(\n",
      "C:\\Users\\DanAn\\anaconda3secondinstall\\lib\\site-packages\\sklearn\\linear_model\\_coordinate_descent.py:529: ConvergenceWarning: Objective did not converge. You might want to increase the number of iterations. Duality gap: 6572628125.942906, tolerance: 65836856.977909364\n",
      "  model = cd_fast.enet_coordinate_descent(\n",
      "C:\\Users\\DanAn\\anaconda3secondinstall\\lib\\site-packages\\sklearn\\linear_model\\_coordinate_descent.py:529: ConvergenceWarning: Objective did not converge. You might want to increase the number of iterations. Duality gap: 6570640265.641617, tolerance: 65836856.977909364\n",
      "  model = cd_fast.enet_coordinate_descent(\n",
      "C:\\Users\\DanAn\\anaconda3secondinstall\\lib\\site-packages\\sklearn\\linear_model\\_coordinate_descent.py:529: ConvergenceWarning: Objective did not converge. You might want to increase the number of iterations. Duality gap: 6568611830.753013, tolerance: 65836856.977909364\n",
      "  model = cd_fast.enet_coordinate_descent(\n",
      "C:\\Users\\DanAn\\anaconda3secondinstall\\lib\\site-packages\\sklearn\\linear_model\\_coordinate_descent.py:529: ConvergenceWarning: Objective did not converge. You might want to increase the number of iterations. Duality gap: 6566545874.800749, tolerance: 65836856.977909364\n",
      "  model = cd_fast.enet_coordinate_descent(\n",
      "C:\\Users\\DanAn\\anaconda3secondinstall\\lib\\site-packages\\sklearn\\linear_model\\_coordinate_descent.py:529: ConvergenceWarning: Objective did not converge. You might want to increase the number of iterations. Duality gap: 6564445265.643727, tolerance: 65836856.977909364\n",
      "  model = cd_fast.enet_coordinate_descent(\n",
      "C:\\Users\\DanAn\\anaconda3secondinstall\\lib\\site-packages\\sklearn\\linear_model\\_coordinate_descent.py:529: ConvergenceWarning: Objective did not converge. You might want to increase the number of iterations. Duality gap: 7959812913.687938, tolerance: 59898258.89075936\n",
      "  model = cd_fast.enet_coordinate_descent(\n",
      "C:\\Users\\DanAn\\anaconda3secondinstall\\lib\\site-packages\\sklearn\\linear_model\\_coordinate_descent.py:529: ConvergenceWarning: Objective did not converge. You might want to increase the number of iterations. Duality gap: 7223472138.657011, tolerance: 59898258.89075936\n",
      "  model = cd_fast.enet_coordinate_descent(\n",
      "C:\\Users\\DanAn\\anaconda3secondinstall\\lib\\site-packages\\sklearn\\linear_model\\_coordinate_descent.py:529: ConvergenceWarning: Objective did not converge. You might want to increase the number of iterations. Duality gap: 6779157552.228202, tolerance: 59898258.89075936\n",
      "  model = cd_fast.enet_coordinate_descent(\n",
      "C:\\Users\\DanAn\\anaconda3secondinstall\\lib\\site-packages\\sklearn\\linear_model\\_coordinate_descent.py:529: ConvergenceWarning: Objective did not converge. You might want to increase the number of iterations. Duality gap: 6441635288.982542, tolerance: 59898258.89075936\n",
      "  model = cd_fast.enet_coordinate_descent(\n",
      "C:\\Users\\DanAn\\anaconda3secondinstall\\lib\\site-packages\\sklearn\\linear_model\\_coordinate_descent.py:529: ConvergenceWarning: Objective did not converge. You might want to increase the number of iterations. Duality gap: 6197100742.54135, tolerance: 59898258.89075936\n",
      "  model = cd_fast.enet_coordinate_descent(\n",
      "C:\\Users\\DanAn\\anaconda3secondinstall\\lib\\site-packages\\sklearn\\linear_model\\_coordinate_descent.py:529: ConvergenceWarning: Objective did not converge. You might want to increase the number of iterations. Duality gap: 5850756857.240625, tolerance: 59898258.89075936\n",
      "  model = cd_fast.enet_coordinate_descent(\n",
      "C:\\Users\\DanAn\\anaconda3secondinstall\\lib\\site-packages\\sklearn\\linear_model\\_coordinate_descent.py:529: ConvergenceWarning: Objective did not converge. You might want to increase the number of iterations. Duality gap: 5628248454.806272, tolerance: 59898258.89075936\n",
      "  model = cd_fast.enet_coordinate_descent(\n"
     ]
    },
    {
     "name": "stderr",
     "output_type": "stream",
     "text": [
      "C:\\Users\\DanAn\\anaconda3secondinstall\\lib\\site-packages\\sklearn\\linear_model\\_coordinate_descent.py:529: ConvergenceWarning: Objective did not converge. You might want to increase the number of iterations. Duality gap: 5510275946.742463, tolerance: 59898258.89075936\n",
      "  model = cd_fast.enet_coordinate_descent(\n",
      "C:\\Users\\DanAn\\anaconda3secondinstall\\lib\\site-packages\\sklearn\\linear_model\\_coordinate_descent.py:529: ConvergenceWarning: Objective did not converge. You might want to increase the number of iterations. Duality gap: 5400832245.086563, tolerance: 59898258.89075936\n",
      "  model = cd_fast.enet_coordinate_descent(\n",
      "C:\\Users\\DanAn\\anaconda3secondinstall\\lib\\site-packages\\sklearn\\linear_model\\_coordinate_descent.py:529: ConvergenceWarning: Objective did not converge. You might want to increase the number of iterations. Duality gap: 5326624681.059625, tolerance: 59898258.89075936\n",
      "  model = cd_fast.enet_coordinate_descent(\n",
      "C:\\Users\\DanAn\\anaconda3secondinstall\\lib\\site-packages\\sklearn\\linear_model\\_coordinate_descent.py:529: ConvergenceWarning: Objective did not converge. You might want to increase the number of iterations. Duality gap: 5290848362.591091, tolerance: 59898258.89075936\n",
      "  model = cd_fast.enet_coordinate_descent(\n",
      "C:\\Users\\DanAn\\anaconda3secondinstall\\lib\\site-packages\\sklearn\\linear_model\\_coordinate_descent.py:529: ConvergenceWarning: Objective did not converge. You might want to increase the number of iterations. Duality gap: 5301996000.56849, tolerance: 59898258.89075936\n",
      "  model = cd_fast.enet_coordinate_descent(\n",
      "C:\\Users\\DanAn\\anaconda3secondinstall\\lib\\site-packages\\sklearn\\linear_model\\_coordinate_descent.py:529: ConvergenceWarning: Objective did not converge. You might want to increase the number of iterations. Duality gap: 5328196866.232636, tolerance: 59898258.89075936\n",
      "  model = cd_fast.enet_coordinate_descent(\n",
      "C:\\Users\\DanAn\\anaconda3secondinstall\\lib\\site-packages\\sklearn\\linear_model\\_coordinate_descent.py:529: ConvergenceWarning: Objective did not converge. You might want to increase the number of iterations. Duality gap: 5345132147.229059, tolerance: 59898258.89075936\n",
      "  model = cd_fast.enet_coordinate_descent(\n",
      "C:\\Users\\DanAn\\anaconda3secondinstall\\lib\\site-packages\\sklearn\\linear_model\\_coordinate_descent.py:529: ConvergenceWarning: Objective did not converge. You might want to increase the number of iterations. Duality gap: 5379752729.269991, tolerance: 59898258.89075936\n",
      "  model = cd_fast.enet_coordinate_descent(\n",
      "C:\\Users\\DanAn\\anaconda3secondinstall\\lib\\site-packages\\sklearn\\linear_model\\_coordinate_descent.py:529: ConvergenceWarning: Objective did not converge. You might want to increase the number of iterations. Duality gap: 5421640315.378698, tolerance: 59898258.89075936\n",
      "  model = cd_fast.enet_coordinate_descent(\n",
      "C:\\Users\\DanAn\\anaconda3secondinstall\\lib\\site-packages\\sklearn\\linear_model\\_coordinate_descent.py:529: ConvergenceWarning: Objective did not converge. You might want to increase the number of iterations. Duality gap: 5502134239.130007, tolerance: 59898258.89075936\n",
      "  model = cd_fast.enet_coordinate_descent(\n",
      "C:\\Users\\DanAn\\anaconda3secondinstall\\lib\\site-packages\\sklearn\\linear_model\\_coordinate_descent.py:529: ConvergenceWarning: Objective did not converge. You might want to increase the number of iterations. Duality gap: 5565762855.085746, tolerance: 59898258.89075936\n",
      "  model = cd_fast.enet_coordinate_descent(\n",
      "C:\\Users\\DanAn\\anaconda3secondinstall\\lib\\site-packages\\sklearn\\linear_model\\_coordinate_descent.py:529: ConvergenceWarning: Objective did not converge. You might want to increase the number of iterations. Duality gap: 5608396264.2959, tolerance: 59898258.89075936\n",
      "  model = cd_fast.enet_coordinate_descent(\n",
      "C:\\Users\\DanAn\\anaconda3secondinstall\\lib\\site-packages\\sklearn\\linear_model\\_coordinate_descent.py:529: ConvergenceWarning: Objective did not converge. You might want to increase the number of iterations. Duality gap: 5668644411.076477, tolerance: 59898258.89075936\n",
      "  model = cd_fast.enet_coordinate_descent(\n",
      "C:\\Users\\DanAn\\anaconda3secondinstall\\lib\\site-packages\\sklearn\\linear_model\\_coordinate_descent.py:529: ConvergenceWarning: Objective did not converge. You might want to increase the number of iterations. Duality gap: 5716955458.735624, tolerance: 59898258.89075936\n",
      "  model = cd_fast.enet_coordinate_descent(\n",
      "C:\\Users\\DanAn\\anaconda3secondinstall\\lib\\site-packages\\sklearn\\linear_model\\_coordinate_descent.py:529: ConvergenceWarning: Objective did not converge. You might want to increase the number of iterations. Duality gap: 5758196741.9999, tolerance: 59898258.89075936\n",
      "  model = cd_fast.enet_coordinate_descent(\n",
      "C:\\Users\\DanAn\\anaconda3secondinstall\\lib\\site-packages\\sklearn\\linear_model\\_coordinate_descent.py:529: ConvergenceWarning: Objective did not converge. You might want to increase the number of iterations. Duality gap: 5843922243.729356, tolerance: 59898258.89075936\n",
      "  model = cd_fast.enet_coordinate_descent(\n",
      "C:\\Users\\DanAn\\anaconda3secondinstall\\lib\\site-packages\\sklearn\\linear_model\\_coordinate_descent.py:529: ConvergenceWarning: Objective did not converge. You might want to increase the number of iterations. Duality gap: 5886963057.474468, tolerance: 59898258.89075936\n",
      "  model = cd_fast.enet_coordinate_descent(\n",
      "C:\\Users\\DanAn\\anaconda3secondinstall\\lib\\site-packages\\sklearn\\linear_model\\_coordinate_descent.py:529: ConvergenceWarning: Objective did not converge. You might want to increase the number of iterations. Duality gap: 5904759252.958337, tolerance: 59898258.89075936\n",
      "  model = cd_fast.enet_coordinate_descent(\n",
      "C:\\Users\\DanAn\\anaconda3secondinstall\\lib\\site-packages\\sklearn\\linear_model\\_coordinate_descent.py:529: ConvergenceWarning: Objective did not converge. You might want to increase the number of iterations. Duality gap: 5957359856.642576, tolerance: 59898258.89075936\n",
      "  model = cd_fast.enet_coordinate_descent(\n",
      "C:\\Users\\DanAn\\anaconda3secondinstall\\lib\\site-packages\\sklearn\\linear_model\\_coordinate_descent.py:529: ConvergenceWarning: Objective did not converge. You might want to increase the number of iterations. Duality gap: 5979395158.4176445, tolerance: 59898258.89075936\n",
      "  model = cd_fast.enet_coordinate_descent(\n",
      "C:\\Users\\DanAn\\anaconda3secondinstall\\lib\\site-packages\\sklearn\\linear_model\\_coordinate_descent.py:529: ConvergenceWarning: Objective did not converge. You might want to increase the number of iterations. Duality gap: 6014180668.600387, tolerance: 59898258.89075936\n",
      "  model = cd_fast.enet_coordinate_descent(\n",
      "C:\\Users\\DanAn\\anaconda3secondinstall\\lib\\site-packages\\sklearn\\linear_model\\_coordinate_descent.py:529: ConvergenceWarning: Objective did not converge. You might want to increase the number of iterations. Duality gap: 6039438993.660091, tolerance: 59898258.89075936\n",
      "  model = cd_fast.enet_coordinate_descent(\n",
      "C:\\Users\\DanAn\\anaconda3secondinstall\\lib\\site-packages\\sklearn\\linear_model\\_coordinate_descent.py:529: ConvergenceWarning: Objective did not converge. You might want to increase the number of iterations. Duality gap: 6068975251.988813, tolerance: 59898258.89075936\n",
      "  model = cd_fast.enet_coordinate_descent(\n",
      "C:\\Users\\DanAn\\anaconda3secondinstall\\lib\\site-packages\\sklearn\\linear_model\\_coordinate_descent.py:529: ConvergenceWarning: Objective did not converge. You might want to increase the number of iterations. Duality gap: 6090070033.098963, tolerance: 59898258.89075936\n",
      "  model = cd_fast.enet_coordinate_descent(\n",
      "C:\\Users\\DanAn\\anaconda3secondinstall\\lib\\site-packages\\sklearn\\linear_model\\_coordinate_descent.py:529: ConvergenceWarning: Objective did not converge. You might want to increase the number of iterations. Duality gap: 6125444940.196617, tolerance: 59898258.89075936\n",
      "  model = cd_fast.enet_coordinate_descent(\n",
      "C:\\Users\\DanAn\\anaconda3secondinstall\\lib\\site-packages\\sklearn\\linear_model\\_coordinate_descent.py:529: ConvergenceWarning: Objective did not converge. You might want to increase the number of iterations. Duality gap: 6142584918.778096, tolerance: 59898258.89075936\n",
      "  model = cd_fast.enet_coordinate_descent(\n",
      "C:\\Users\\DanAn\\anaconda3secondinstall\\lib\\site-packages\\sklearn\\linear_model\\_coordinate_descent.py:529: ConvergenceWarning: Objective did not converge. You might want to increase the number of iterations. Duality gap: 6166884325.90178, tolerance: 59898258.89075936\n",
      "  model = cd_fast.enet_coordinate_descent(\n",
      "C:\\Users\\DanAn\\anaconda3secondinstall\\lib\\site-packages\\sklearn\\linear_model\\_coordinate_descent.py:529: ConvergenceWarning: Objective did not converge. You might want to increase the number of iterations. Duality gap: 6190297316.494728, tolerance: 59898258.89075936\n",
      "  model = cd_fast.enet_coordinate_descent(\n"
     ]
    },
    {
     "name": "stderr",
     "output_type": "stream",
     "text": [
      "C:\\Users\\DanAn\\anaconda3secondinstall\\lib\\site-packages\\sklearn\\linear_model\\_coordinate_descent.py:529: ConvergenceWarning: Objective did not converge. You might want to increase the number of iterations. Duality gap: 6212585258.304839, tolerance: 59898258.89075936\n",
      "  model = cd_fast.enet_coordinate_descent(\n",
      "C:\\Users\\DanAn\\anaconda3secondinstall\\lib\\site-packages\\sklearn\\linear_model\\_coordinate_descent.py:529: ConvergenceWarning: Objective did not converge. You might want to increase the number of iterations. Duality gap: 6234081060.752471, tolerance: 59898258.89075936\n",
      "  model = cd_fast.enet_coordinate_descent(\n",
      "C:\\Users\\DanAn\\anaconda3secondinstall\\lib\\site-packages\\sklearn\\linear_model\\_coordinate_descent.py:529: ConvergenceWarning: Objective did not converge. You might want to increase the number of iterations. Duality gap: 6257482155.319099, tolerance: 59898258.89075936\n",
      "  model = cd_fast.enet_coordinate_descent(\n",
      "C:\\Users\\DanAn\\anaconda3secondinstall\\lib\\site-packages\\sklearn\\linear_model\\_coordinate_descent.py:529: ConvergenceWarning: Objective did not converge. You might want to increase the number of iterations. Duality gap: 6278802398.136321, tolerance: 59898258.89075936\n",
      "  model = cd_fast.enet_coordinate_descent(\n",
      "C:\\Users\\DanAn\\anaconda3secondinstall\\lib\\site-packages\\sklearn\\linear_model\\_coordinate_descent.py:529: ConvergenceWarning: Objective did not converge. You might want to increase the number of iterations. Duality gap: 6296230283.971603, tolerance: 59898258.89075936\n",
      "  model = cd_fast.enet_coordinate_descent(\n",
      "C:\\Users\\DanAn\\anaconda3secondinstall\\lib\\site-packages\\sklearn\\linear_model\\_coordinate_descent.py:529: ConvergenceWarning: Objective did not converge. You might want to increase the number of iterations. Duality gap: 6312931365.491043, tolerance: 59898258.89075936\n",
      "  model = cd_fast.enet_coordinate_descent(\n",
      "C:\\Users\\DanAn\\anaconda3secondinstall\\lib\\site-packages\\sklearn\\linear_model\\_coordinate_descent.py:529: ConvergenceWarning: Objective did not converge. You might want to increase the number of iterations. Duality gap: 6329448101.304786, tolerance: 59898258.89075936\n",
      "  model = cd_fast.enet_coordinate_descent(\n",
      "C:\\Users\\DanAn\\anaconda3secondinstall\\lib\\site-packages\\sklearn\\linear_model\\_coordinate_descent.py:529: ConvergenceWarning: Objective did not converge. You might want to increase the number of iterations. Duality gap: 6344521113.982611, tolerance: 59898258.89075936\n",
      "  model = cd_fast.enet_coordinate_descent(\n",
      "C:\\Users\\DanAn\\anaconda3secondinstall\\lib\\site-packages\\sklearn\\linear_model\\_coordinate_descent.py:529: ConvergenceWarning: Objective did not converge. You might want to increase the number of iterations. Duality gap: 6359074337.889073, tolerance: 59898258.89075936\n",
      "  model = cd_fast.enet_coordinate_descent(\n",
      "C:\\Users\\DanAn\\anaconda3secondinstall\\lib\\site-packages\\sklearn\\linear_model\\_coordinate_descent.py:529: ConvergenceWarning: Objective did not converge. You might want to increase the number of iterations. Duality gap: 6373008564.15595, tolerance: 59898258.89075936\n",
      "  model = cd_fast.enet_coordinate_descent(\n",
      "C:\\Users\\DanAn\\anaconda3secondinstall\\lib\\site-packages\\sklearn\\linear_model\\_coordinate_descent.py:529: ConvergenceWarning: Objective did not converge. You might want to increase the number of iterations. Duality gap: 6386939667.582163, tolerance: 59898258.89075936\n",
      "  model = cd_fast.enet_coordinate_descent(\n",
      "C:\\Users\\DanAn\\anaconda3secondinstall\\lib\\site-packages\\sklearn\\linear_model\\_coordinate_descent.py:529: ConvergenceWarning: Objective did not converge. You might want to increase the number of iterations. Duality gap: 6400018653.836923, tolerance: 59898258.89075936\n",
      "  model = cd_fast.enet_coordinate_descent(\n",
      "C:\\Users\\DanAn\\anaconda3secondinstall\\lib\\site-packages\\sklearn\\linear_model\\_coordinate_descent.py:529: ConvergenceWarning: Objective did not converge. You might want to increase the number of iterations. Duality gap: 6412737136.512754, tolerance: 59898258.89075936\n",
      "  model = cd_fast.enet_coordinate_descent(\n",
      "C:\\Users\\DanAn\\anaconda3secondinstall\\lib\\site-packages\\sklearn\\linear_model\\_coordinate_descent.py:529: ConvergenceWarning: Objective did not converge. You might want to increase the number of iterations. Duality gap: 6423796018.074633, tolerance: 59898258.89075936\n",
      "  model = cd_fast.enet_coordinate_descent(\n",
      "C:\\Users\\DanAn\\anaconda3secondinstall\\lib\\site-packages\\sklearn\\linear_model\\_coordinate_descent.py:529: ConvergenceWarning: Objective did not converge. You might want to increase the number of iterations. Duality gap: 6434681888.422923, tolerance: 59898258.89075936\n",
      "  model = cd_fast.enet_coordinate_descent(\n",
      "C:\\Users\\DanAn\\anaconda3secondinstall\\lib\\site-packages\\sklearn\\linear_model\\_coordinate_descent.py:529: ConvergenceWarning: Objective did not converge. You might want to increase the number of iterations. Duality gap: 6445123104.002647, tolerance: 59898258.89075936\n",
      "  model = cd_fast.enet_coordinate_descent(\n",
      "C:\\Users\\DanAn\\anaconda3secondinstall\\lib\\site-packages\\sklearn\\linear_model\\_coordinate_descent.py:529: ConvergenceWarning: Objective did not converge. You might want to increase the number of iterations. Duality gap: 6454890232.191964, tolerance: 59898258.89075936\n",
      "  model = cd_fast.enet_coordinate_descent(\n",
      "C:\\Users\\DanAn\\anaconda3secondinstall\\lib\\site-packages\\sklearn\\linear_model\\_coordinate_descent.py:529: ConvergenceWarning: Objective did not converge. You might want to increase the number of iterations. Duality gap: 6464085782.019397, tolerance: 59898258.89075936\n",
      "  model = cd_fast.enet_coordinate_descent(\n",
      "C:\\Users\\DanAn\\anaconda3secondinstall\\lib\\site-packages\\sklearn\\linear_model\\_coordinate_descent.py:529: ConvergenceWarning: Objective did not converge. You might want to increase the number of iterations. Duality gap: 6471528483.674707, tolerance: 59898258.89075936\n",
      "  model = cd_fast.enet_coordinate_descent(\n",
      "C:\\Users\\DanAn\\anaconda3secondinstall\\lib\\site-packages\\sklearn\\linear_model\\_coordinate_descent.py:529: ConvergenceWarning: Objective did not converge. You might want to increase the number of iterations. Duality gap: 6480458523.113187, tolerance: 59898258.89075936\n",
      "  model = cd_fast.enet_coordinate_descent(\n",
      "C:\\Users\\DanAn\\anaconda3secondinstall\\lib\\site-packages\\sklearn\\linear_model\\_coordinate_descent.py:529: ConvergenceWarning: Objective did not converge. You might want to increase the number of iterations. Duality gap: 6488147104.800262, tolerance: 59898258.89075936\n",
      "  model = cd_fast.enet_coordinate_descent(\n",
      "C:\\Users\\DanAn\\anaconda3secondinstall\\lib\\site-packages\\sklearn\\linear_model\\_coordinate_descent.py:529: ConvergenceWarning: Objective did not converge. You might want to increase the number of iterations. Duality gap: 6495658462.632991, tolerance: 59898258.89075936\n",
      "  model = cd_fast.enet_coordinate_descent(\n",
      "C:\\Users\\DanAn\\anaconda3secondinstall\\lib\\site-packages\\sklearn\\linear_model\\_coordinate_descent.py:529: ConvergenceWarning: Objective did not converge. You might want to increase the number of iterations. Duality gap: 6502334723.289379, tolerance: 59898258.89075936\n",
      "  model = cd_fast.enet_coordinate_descent(\n",
      "C:\\Users\\DanAn\\anaconda3secondinstall\\lib\\site-packages\\sklearn\\linear_model\\_coordinate_descent.py:529: ConvergenceWarning: Objective did not converge. You might want to increase the number of iterations. Duality gap: 6508476754.48386, tolerance: 59898258.89075936\n",
      "  model = cd_fast.enet_coordinate_descent(\n",
      "C:\\Users\\DanAn\\anaconda3secondinstall\\lib\\site-packages\\sklearn\\linear_model\\_coordinate_descent.py:529: ConvergenceWarning: Objective did not converge. You might want to increase the number of iterations. Duality gap: 6514167317.38259, tolerance: 59898258.89075936\n",
      "  model = cd_fast.enet_coordinate_descent(\n",
      "C:\\Users\\DanAn\\anaconda3secondinstall\\lib\\site-packages\\sklearn\\linear_model\\_coordinate_descent.py:529: ConvergenceWarning: Objective did not converge. You might want to increase the number of iterations. Duality gap: 6519406908.000513, tolerance: 59898258.89075936\n",
      "  model = cd_fast.enet_coordinate_descent(\n",
      "C:\\Users\\DanAn\\anaconda3secondinstall\\lib\\site-packages\\sklearn\\linear_model\\_coordinate_descent.py:529: ConvergenceWarning: Objective did not converge. You might want to increase the number of iterations. Duality gap: 6524211496.699608, tolerance: 59898258.89075936\n",
      "  model = cd_fast.enet_coordinate_descent(\n",
      "C:\\Users\\DanAn\\anaconda3secondinstall\\lib\\site-packages\\sklearn\\linear_model\\_coordinate_descent.py:529: ConvergenceWarning: Objective did not converge. You might want to increase the number of iterations. Duality gap: 6528601460.786412, tolerance: 59898258.89075936\n",
      "  model = cd_fast.enet_coordinate_descent(\n"
     ]
    },
    {
     "name": "stderr",
     "output_type": "stream",
     "text": [
      "C:\\Users\\DanAn\\anaconda3secondinstall\\lib\\site-packages\\sklearn\\linear_model\\_coordinate_descent.py:529: ConvergenceWarning: Objective did not converge. You might want to increase the number of iterations. Duality gap: 6532214309.7315035, tolerance: 59898258.89075936\n",
      "  model = cd_fast.enet_coordinate_descent(\n",
      "C:\\Users\\DanAn\\anaconda3secondinstall\\lib\\site-packages\\sklearn\\linear_model\\_coordinate_descent.py:529: ConvergenceWarning: Objective did not converge. You might want to increase the number of iterations. Duality gap: 6535901301.777639, tolerance: 59898258.89075936\n",
      "  model = cd_fast.enet_coordinate_descent(\n",
      "C:\\Users\\DanAn\\anaconda3secondinstall\\lib\\site-packages\\sklearn\\linear_model\\_coordinate_descent.py:529: ConvergenceWarning: Objective did not converge. You might want to increase the number of iterations. Duality gap: 6539050590.029213, tolerance: 59898258.89075936\n",
      "  model = cd_fast.enet_coordinate_descent(\n",
      "C:\\Users\\DanAn\\anaconda3secondinstall\\lib\\site-packages\\sklearn\\linear_model\\_coordinate_descent.py:529: ConvergenceWarning: Objective did not converge. You might want to increase the number of iterations. Duality gap: 6542033212.404306, tolerance: 59898258.89075936\n",
      "  model = cd_fast.enet_coordinate_descent(\n",
      "C:\\Users\\DanAn\\anaconda3secondinstall\\lib\\site-packages\\sklearn\\linear_model\\_coordinate_descent.py:529: ConvergenceWarning: Objective did not converge. You might want to increase the number of iterations. Duality gap: 6544709784.824113, tolerance: 59898258.89075936\n",
      "  model = cd_fast.enet_coordinate_descent(\n",
      "C:\\Users\\DanAn\\anaconda3secondinstall\\lib\\site-packages\\sklearn\\linear_model\\_coordinate_descent.py:529: ConvergenceWarning: Objective did not converge. You might want to increase the number of iterations. Duality gap: 6547029822.106426, tolerance: 59898258.89075936\n",
      "  model = cd_fast.enet_coordinate_descent(\n",
      "C:\\Users\\DanAn\\anaconda3secondinstall\\lib\\site-packages\\sklearn\\linear_model\\_coordinate_descent.py:529: ConvergenceWarning: Objective did not converge. You might want to increase the number of iterations. Duality gap: 6549016754.388349, tolerance: 59898258.89075936\n",
      "  model = cd_fast.enet_coordinate_descent(\n",
      "C:\\Users\\DanAn\\anaconda3secondinstall\\lib\\site-packages\\sklearn\\linear_model\\_coordinate_descent.py:529: ConvergenceWarning: Objective did not converge. You might want to increase the number of iterations. Duality gap: 6550726778.9235935, tolerance: 59898258.89075936\n",
      "  model = cd_fast.enet_coordinate_descent(\n",
      "C:\\Users\\DanAn\\anaconda3secondinstall\\lib\\site-packages\\sklearn\\linear_model\\_coordinate_descent.py:529: ConvergenceWarning: Objective did not converge. You might want to increase the number of iterations. Duality gap: 6552228672.155279, tolerance: 59898258.89075936\n",
      "  model = cd_fast.enet_coordinate_descent(\n",
      "C:\\Users\\DanAn\\anaconda3secondinstall\\lib\\site-packages\\sklearn\\linear_model\\_coordinate_descent.py:529: ConvergenceWarning: Objective did not converge. You might want to increase the number of iterations. Duality gap: 6553061643.546995, tolerance: 59898258.89075936\n",
      "  model = cd_fast.enet_coordinate_descent(\n",
      "C:\\Users\\DanAn\\anaconda3secondinstall\\lib\\site-packages\\sklearn\\linear_model\\_coordinate_descent.py:529: ConvergenceWarning: Objective did not converge. You might want to increase the number of iterations. Duality gap: 6554109523.405249, tolerance: 59898258.89075936\n",
      "  model = cd_fast.enet_coordinate_descent(\n",
      "C:\\Users\\DanAn\\anaconda3secondinstall\\lib\\site-packages\\sklearn\\linear_model\\_coordinate_descent.py:529: ConvergenceWarning: Objective did not converge. You might want to increase the number of iterations. Duality gap: 6554975703.410386, tolerance: 59898258.89075936\n",
      "  model = cd_fast.enet_coordinate_descent(\n",
      "C:\\Users\\DanAn\\anaconda3secondinstall\\lib\\site-packages\\sklearn\\linear_model\\_coordinate_descent.py:529: ConvergenceWarning: Objective did not converge. You might want to increase the number of iterations. Duality gap: 6555484113.859398, tolerance: 59898258.89075936\n",
      "  model = cd_fast.enet_coordinate_descent(\n",
      "C:\\Users\\DanAn\\anaconda3secondinstall\\lib\\site-packages\\sklearn\\linear_model\\_coordinate_descent.py:529: ConvergenceWarning: Objective did not converge. You might want to increase the number of iterations. Duality gap: 6555777119.060694, tolerance: 59898258.89075936\n",
      "  model = cd_fast.enet_coordinate_descent(\n",
      "C:\\Users\\DanAn\\anaconda3secondinstall\\lib\\site-packages\\sklearn\\linear_model\\_coordinate_descent.py:529: ConvergenceWarning: Objective did not converge. You might want to increase the number of iterations. Duality gap: 6555956002.021351, tolerance: 59898258.89075936\n",
      "  model = cd_fast.enet_coordinate_descent(\n",
      "C:\\Users\\DanAn\\anaconda3secondinstall\\lib\\site-packages\\sklearn\\linear_model\\_coordinate_descent.py:529: ConvergenceWarning: Objective did not converge. You might want to increase the number of iterations. Duality gap: 6555907889.892332, tolerance: 59898258.89075936\n",
      "  model = cd_fast.enet_coordinate_descent(\n",
      "C:\\Users\\DanAn\\anaconda3secondinstall\\lib\\site-packages\\sklearn\\linear_model\\_coordinate_descent.py:529: ConvergenceWarning: Objective did not converge. You might want to increase the number of iterations. Duality gap: 6555694174.747445, tolerance: 59898258.89075936\n",
      "  model = cd_fast.enet_coordinate_descent(\n",
      "C:\\Users\\DanAn\\anaconda3secondinstall\\lib\\site-packages\\sklearn\\linear_model\\_coordinate_descent.py:529: ConvergenceWarning: Objective did not converge. You might want to increase the number of iterations. Duality gap: 6555332826.171178, tolerance: 59898258.89075936\n",
      "  model = cd_fast.enet_coordinate_descent(\n",
      "C:\\Users\\DanAn\\anaconda3secondinstall\\lib\\site-packages\\sklearn\\linear_model\\_coordinate_descent.py:529: ConvergenceWarning: Objective did not converge. You might want to increase the number of iterations. Duality gap: 6554774926.424877, tolerance: 59898258.89075936\n",
      "  model = cd_fast.enet_coordinate_descent(\n",
      "C:\\Users\\DanAn\\anaconda3secondinstall\\lib\\site-packages\\sklearn\\linear_model\\_coordinate_descent.py:529: ConvergenceWarning: Objective did not converge. You might want to increase the number of iterations. Duality gap: 6554105955.2667675, tolerance: 59898258.89075936\n",
      "  model = cd_fast.enet_coordinate_descent(\n",
      "C:\\Users\\DanAn\\anaconda3secondinstall\\lib\\site-packages\\sklearn\\linear_model\\_coordinate_descent.py:529: ConvergenceWarning: Objective did not converge. You might want to increase the number of iterations. Duality gap: 6553304653.113378, tolerance: 59898258.89075936\n",
      "  model = cd_fast.enet_coordinate_descent(\n",
      "C:\\Users\\DanAn\\anaconda3secondinstall\\lib\\site-packages\\sklearn\\linear_model\\_coordinate_descent.py:529: ConvergenceWarning: Objective did not converge. You might want to increase the number of iterations. Duality gap: 6552373089.9471855, tolerance: 59898258.89075936\n",
      "  model = cd_fast.enet_coordinate_descent(\n",
      "C:\\Users\\DanAn\\anaconda3secondinstall\\lib\\site-packages\\sklearn\\linear_model\\_coordinate_descent.py:529: ConvergenceWarning: Objective did not converge. You might want to increase the number of iterations. Duality gap: 6551304644.700294, tolerance: 59898258.89075936\n",
      "  model = cd_fast.enet_coordinate_descent(\n",
      "C:\\Users\\DanAn\\anaconda3secondinstall\\lib\\site-packages\\sklearn\\linear_model\\_coordinate_descent.py:529: ConvergenceWarning: Objective did not converge. You might want to increase the number of iterations. Duality gap: 6550134372.043375, tolerance: 59898258.89075936\n",
      "  model = cd_fast.enet_coordinate_descent(\n",
      "C:\\Users\\DanAn\\anaconda3secondinstall\\lib\\site-packages\\sklearn\\linear_model\\_coordinate_descent.py:529: ConvergenceWarning: Objective did not converge. You might want to increase the number of iterations. Duality gap: 6548855773.737165, tolerance: 59898258.89075936\n",
      "  model = cd_fast.enet_coordinate_descent(\n",
      "C:\\Users\\DanAn\\anaconda3secondinstall\\lib\\site-packages\\sklearn\\linear_model\\_coordinate_descent.py:529: ConvergenceWarning: Objective did not converge. You might want to increase the number of iterations. Duality gap: 6547474143.213215, tolerance: 59898258.89075936\n",
      "  model = cd_fast.enet_coordinate_descent(\n",
      "C:\\Users\\DanAn\\anaconda3secondinstall\\lib\\site-packages\\sklearn\\linear_model\\_coordinate_descent.py:529: ConvergenceWarning: Objective did not converge. You might want to increase the number of iterations. Duality gap: 6545994474.230349, tolerance: 59898258.89075936\n",
      "  model = cd_fast.enet_coordinate_descent(\n",
      "C:\\Users\\DanAn\\anaconda3secondinstall\\lib\\site-packages\\sklearn\\linear_model\\_coordinate_descent.py:529: ConvergenceWarning: Objective did not converge. You might want to increase the number of iterations. Duality gap: 6544425284.356702, tolerance: 59898258.89075936\n",
      "  model = cd_fast.enet_coordinate_descent(\n"
     ]
    },
    {
     "name": "stderr",
     "output_type": "stream",
     "text": [
      "C:\\Users\\DanAn\\anaconda3secondinstall\\lib\\site-packages\\sklearn\\linear_model\\_coordinate_descent.py:529: ConvergenceWarning: Objective did not converge. You might want to increase the number of iterations. Duality gap: 6542771302.969337, tolerance: 59898258.89075936\n",
      "  model = cd_fast.enet_coordinate_descent(\n",
      "C:\\Users\\DanAn\\anaconda3secondinstall\\lib\\site-packages\\sklearn\\linear_model\\_coordinate_descent.py:529: ConvergenceWarning: Objective did not converge. You might want to increase the number of iterations. Duality gap: 6541024890.08915, tolerance: 59898258.89075936\n",
      "  model = cd_fast.enet_coordinate_descent(\n",
      "C:\\Users\\DanAn\\anaconda3secondinstall\\lib\\site-packages\\sklearn\\linear_model\\_coordinate_descent.py:529: ConvergenceWarning: Objective did not converge. You might want to increase the number of iterations. Duality gap: 6539217472.918248, tolerance: 59898258.89075936\n",
      "  model = cd_fast.enet_coordinate_descent(\n",
      "C:\\Users\\DanAn\\anaconda3secondinstall\\lib\\site-packages\\sklearn\\linear_model\\_coordinate_descent.py:529: ConvergenceWarning: Objective did not converge. You might want to increase the number of iterations. Duality gap: 6537343748.799904, tolerance: 59898258.89075936\n",
      "  model = cd_fast.enet_coordinate_descent(\n",
      "C:\\Users\\DanAn\\anaconda3secondinstall\\lib\\site-packages\\sklearn\\linear_model\\_coordinate_descent.py:529: ConvergenceWarning: Objective did not converge. You might want to increase the number of iterations. Duality gap: 6535402630.092151, tolerance: 59898258.89075936\n",
      "  model = cd_fast.enet_coordinate_descent(\n",
      "C:\\Users\\DanAn\\anaconda3secondinstall\\lib\\site-packages\\sklearn\\linear_model\\_coordinate_descent.py:529: ConvergenceWarning: Objective did not converge. You might want to increase the number of iterations. Duality gap: 6533401475.997164, tolerance: 59898258.89075936\n",
      "  model = cd_fast.enet_coordinate_descent(\n",
      "C:\\Users\\DanAn\\anaconda3secondinstall\\lib\\site-packages\\sklearn\\linear_model\\_coordinate_descent.py:529: ConvergenceWarning: Objective did not converge. You might want to increase the number of iterations. Duality gap: 6531344963.149051, tolerance: 59898258.89075936\n",
      "  model = cd_fast.enet_coordinate_descent(\n",
      "C:\\Users\\DanAn\\anaconda3secondinstall\\lib\\site-packages\\sklearn\\linear_model\\_coordinate_descent.py:529: ConvergenceWarning: Objective did not converge. You might want to increase the number of iterations. Duality gap: 6529233521.458009, tolerance: 59898258.89075936\n",
      "  model = cd_fast.enet_coordinate_descent(\n",
      "C:\\Users\\DanAn\\anaconda3secondinstall\\lib\\site-packages\\sklearn\\linear_model\\_coordinate_descent.py:529: ConvergenceWarning: Objective did not converge. You might want to increase the number of iterations. Duality gap: 6527071703.807619, tolerance: 59898258.89075936\n",
      "  model = cd_fast.enet_coordinate_descent(\n",
      "C:\\Users\\DanAn\\anaconda3secondinstall\\lib\\site-packages\\sklearn\\linear_model\\_coordinate_descent.py:529: ConvergenceWarning: Objective did not converge. You might want to increase the number of iterations. Duality gap: 4115917712.643951, tolerance: 61913487.79326342\n",
      "  model = cd_fast.enet_coordinate_descent(\n",
      "C:\\Users\\DanAn\\anaconda3secondinstall\\lib\\site-packages\\sklearn\\linear_model\\_coordinate_descent.py:529: ConvergenceWarning: Objective did not converge. You might want to increase the number of iterations. Duality gap: 3153623339.42963, tolerance: 61913487.79326342\n",
      "  model = cd_fast.enet_coordinate_descent(\n",
      "C:\\Users\\DanAn\\anaconda3secondinstall\\lib\\site-packages\\sklearn\\linear_model\\_coordinate_descent.py:529: ConvergenceWarning: Objective did not converge. You might want to increase the number of iterations. Duality gap: 2616642071.654719, tolerance: 61913487.79326342\n",
      "  model = cd_fast.enet_coordinate_descent(\n",
      "C:\\Users\\DanAn\\anaconda3secondinstall\\lib\\site-packages\\sklearn\\linear_model\\_coordinate_descent.py:529: ConvergenceWarning: Objective did not converge. You might want to increase the number of iterations. Duality gap: 2319483355.0216446, tolerance: 61913487.79326342\n",
      "  model = cd_fast.enet_coordinate_descent(\n",
      "C:\\Users\\DanAn\\anaconda3secondinstall\\lib\\site-packages\\sklearn\\linear_model\\_coordinate_descent.py:529: ConvergenceWarning: Objective did not converge. You might want to increase the number of iterations. Duality gap: 2059074418.6987813, tolerance: 61913487.79326342\n",
      "  model = cd_fast.enet_coordinate_descent(\n",
      "C:\\Users\\DanAn\\anaconda3secondinstall\\lib\\site-packages\\sklearn\\linear_model\\_coordinate_descent.py:529: ConvergenceWarning: Objective did not converge. You might want to increase the number of iterations. Duality gap: 1880166553.6913524, tolerance: 61913487.79326342\n",
      "  model = cd_fast.enet_coordinate_descent(\n",
      "C:\\Users\\DanAn\\anaconda3secondinstall\\lib\\site-packages\\sklearn\\linear_model\\_coordinate_descent.py:529: ConvergenceWarning: Objective did not converge. You might want to increase the number of iterations. Duality gap: 1697975251.8372145, tolerance: 61913487.79326342\n",
      "  model = cd_fast.enet_coordinate_descent(\n",
      "C:\\Users\\DanAn\\anaconda3secondinstall\\lib\\site-packages\\sklearn\\linear_model\\_coordinate_descent.py:529: ConvergenceWarning: Objective did not converge. You might want to increase the number of iterations. Duality gap: 1559838511.2245078, tolerance: 61913487.79326342\n",
      "  model = cd_fast.enet_coordinate_descent(\n",
      "C:\\Users\\DanAn\\anaconda3secondinstall\\lib\\site-packages\\sklearn\\linear_model\\_coordinate_descent.py:529: ConvergenceWarning: Objective did not converge. You might want to increase the number of iterations. Duality gap: 1444874782.9841332, tolerance: 61913487.79326342\n",
      "  model = cd_fast.enet_coordinate_descent(\n",
      "C:\\Users\\DanAn\\anaconda3secondinstall\\lib\\site-packages\\sklearn\\linear_model\\_coordinate_descent.py:529: ConvergenceWarning: Objective did not converge. You might want to increase the number of iterations. Duality gap: 1339828365.9630551, tolerance: 61913487.79326342\n",
      "  model = cd_fast.enet_coordinate_descent(\n",
      "C:\\Users\\DanAn\\anaconda3secondinstall\\lib\\site-packages\\sklearn\\linear_model\\_coordinate_descent.py:529: ConvergenceWarning: Objective did not converge. You might want to increase the number of iterations. Duality gap: 1236080235.8283603, tolerance: 61913487.79326342\n",
      "  model = cd_fast.enet_coordinate_descent(\n",
      "C:\\Users\\DanAn\\anaconda3secondinstall\\lib\\site-packages\\sklearn\\linear_model\\_coordinate_descent.py:529: ConvergenceWarning: Objective did not converge. You might want to increase the number of iterations. Duality gap: 1139797567.9541936, tolerance: 61913487.79326342\n",
      "  model = cd_fast.enet_coordinate_descent(\n",
      "C:\\Users\\DanAn\\anaconda3secondinstall\\lib\\site-packages\\sklearn\\linear_model\\_coordinate_descent.py:529: ConvergenceWarning: Objective did not converge. You might want to increase the number of iterations. Duality gap: 1052874718.3646164, tolerance: 61913487.79326342\n",
      "  model = cd_fast.enet_coordinate_descent(\n",
      "C:\\Users\\DanAn\\anaconda3secondinstall\\lib\\site-packages\\sklearn\\linear_model\\_coordinate_descent.py:529: ConvergenceWarning: Objective did not converge. You might want to increase the number of iterations. Duality gap: 987053021.2299268, tolerance: 61913487.79326342\n",
      "  model = cd_fast.enet_coordinate_descent(\n",
      "C:\\Users\\DanAn\\anaconda3secondinstall\\lib\\site-packages\\sklearn\\linear_model\\_coordinate_descent.py:529: ConvergenceWarning: Objective did not converge. You might want to increase the number of iterations. Duality gap: 943026844.1226368, tolerance: 61913487.79326342\n",
      "  model = cd_fast.enet_coordinate_descent(\n",
      "C:\\Users\\DanAn\\anaconda3secondinstall\\lib\\site-packages\\sklearn\\linear_model\\_coordinate_descent.py:529: ConvergenceWarning: Objective did not converge. You might want to increase the number of iterations. Duality gap: 901853141.0229244, tolerance: 61913487.79326342\n",
      "  model = cd_fast.enet_coordinate_descent(\n",
      "C:\\Users\\DanAn\\anaconda3secondinstall\\lib\\site-packages\\sklearn\\linear_model\\_coordinate_descent.py:529: ConvergenceWarning: Objective did not converge. You might want to increase the number of iterations. Duality gap: 845569859.380123, tolerance: 61913487.79326342\n",
      "  model = cd_fast.enet_coordinate_descent(\n",
      "C:\\Users\\DanAn\\anaconda3secondinstall\\lib\\site-packages\\sklearn\\linear_model\\_coordinate_descent.py:529: ConvergenceWarning: Objective did not converge. You might want to increase the number of iterations. Duality gap: 796872816.0764937, tolerance: 61913487.79326342\n",
      "  model = cd_fast.enet_coordinate_descent(\n",
      "C:\\Users\\DanAn\\anaconda3secondinstall\\lib\\site-packages\\sklearn\\linear_model\\_coordinate_descent.py:529: ConvergenceWarning: Objective did not converge. You might want to increase the number of iterations. Duality gap: 750813689.7699839, tolerance: 61913487.79326342\n",
      "  model = cd_fast.enet_coordinate_descent(\n"
     ]
    },
    {
     "name": "stderr",
     "output_type": "stream",
     "text": [
      "C:\\Users\\DanAn\\anaconda3secondinstall\\lib\\site-packages\\sklearn\\linear_model\\_coordinate_descent.py:529: ConvergenceWarning: Objective did not converge. You might want to increase the number of iterations. Duality gap: 713841201.8288343, tolerance: 61913487.79326342\n",
      "  model = cd_fast.enet_coordinate_descent(\n",
      "C:\\Users\\DanAn\\anaconda3secondinstall\\lib\\site-packages\\sklearn\\linear_model\\_coordinate_descent.py:529: ConvergenceWarning: Objective did not converge. You might want to increase the number of iterations. Duality gap: 677610205.6381565, tolerance: 61913487.79326342\n",
      "  model = cd_fast.enet_coordinate_descent(\n",
      "C:\\Users\\DanAn\\anaconda3secondinstall\\lib\\site-packages\\sklearn\\linear_model\\_coordinate_descent.py:529: ConvergenceWarning: Objective did not converge. You might want to increase the number of iterations. Duality gap: 644809369.3484714, tolerance: 61913487.79326342\n",
      "  model = cd_fast.enet_coordinate_descent(\n",
      "C:\\Users\\DanAn\\anaconda3secondinstall\\lib\\site-packages\\sklearn\\linear_model\\_coordinate_descent.py:529: ConvergenceWarning: Objective did not converge. You might want to increase the number of iterations. Duality gap: 611601898.4852214, tolerance: 61913487.79326342\n",
      "  model = cd_fast.enet_coordinate_descent(\n",
      "C:\\Users\\DanAn\\anaconda3secondinstall\\lib\\site-packages\\sklearn\\linear_model\\_coordinate_descent.py:529: ConvergenceWarning: Objective did not converge. You might want to increase the number of iterations. Duality gap: 580937472.8660088, tolerance: 61913487.79326342\n",
      "  model = cd_fast.enet_coordinate_descent(\n",
      "C:\\Users\\DanAn\\anaconda3secondinstall\\lib\\site-packages\\sklearn\\linear_model\\_coordinate_descent.py:529: ConvergenceWarning: Objective did not converge. You might want to increase the number of iterations. Duality gap: 551563303.3110279, tolerance: 61913487.79326342\n",
      "  model = cd_fast.enet_coordinate_descent(\n",
      "C:\\Users\\DanAn\\anaconda3secondinstall\\lib\\site-packages\\sklearn\\linear_model\\_coordinate_descent.py:529: ConvergenceWarning: Objective did not converge. You might want to increase the number of iterations. Duality gap: 524533069.2282654, tolerance: 61913487.79326342\n",
      "  model = cd_fast.enet_coordinate_descent(\n",
      "C:\\Users\\DanAn\\anaconda3secondinstall\\lib\\site-packages\\sklearn\\linear_model\\_coordinate_descent.py:529: ConvergenceWarning: Objective did not converge. You might want to increase the number of iterations. Duality gap: 499806748.0977279, tolerance: 61913487.79326342\n",
      "  model = cd_fast.enet_coordinate_descent(\n",
      "C:\\Users\\DanAn\\anaconda3secondinstall\\lib\\site-packages\\sklearn\\linear_model\\_coordinate_descent.py:529: ConvergenceWarning: Objective did not converge. You might want to increase the number of iterations. Duality gap: 476514886.7341033, tolerance: 61913487.79326342\n",
      "  model = cd_fast.enet_coordinate_descent(\n",
      "C:\\Users\\DanAn\\anaconda3secondinstall\\lib\\site-packages\\sklearn\\linear_model\\_coordinate_descent.py:529: ConvergenceWarning: Objective did not converge. You might want to increase the number of iterations. Duality gap: 453559464.42226726, tolerance: 61913487.79326342\n",
      "  model = cd_fast.enet_coordinate_descent(\n",
      "C:\\Users\\DanAn\\anaconda3secondinstall\\lib\\site-packages\\sklearn\\linear_model\\_coordinate_descent.py:529: ConvergenceWarning: Objective did not converge. You might want to increase the number of iterations. Duality gap: 432173767.43448734, tolerance: 61913487.79326342\n",
      "  model = cd_fast.enet_coordinate_descent(\n",
      "C:\\Users\\DanAn\\anaconda3secondinstall\\lib\\site-packages\\sklearn\\linear_model\\_coordinate_descent.py:529: ConvergenceWarning: Objective did not converge. You might want to increase the number of iterations. Duality gap: 415278621.97635007, tolerance: 61913487.79326342\n",
      "  model = cd_fast.enet_coordinate_descent(\n",
      "C:\\Users\\DanAn\\anaconda3secondinstall\\lib\\site-packages\\sklearn\\linear_model\\_coordinate_descent.py:529: ConvergenceWarning: Objective did not converge. You might want to increase the number of iterations. Duality gap: 399388827.62737656, tolerance: 61913487.79326342\n",
      "  model = cd_fast.enet_coordinate_descent(\n",
      "C:\\Users\\DanAn\\anaconda3secondinstall\\lib\\site-packages\\sklearn\\linear_model\\_coordinate_descent.py:529: ConvergenceWarning: Objective did not converge. You might want to increase the number of iterations. Duality gap: 384000420.6384361, tolerance: 61913487.79326342\n",
      "  model = cd_fast.enet_coordinate_descent(\n",
      "C:\\Users\\DanAn\\anaconda3secondinstall\\lib\\site-packages\\sklearn\\linear_model\\_coordinate_descent.py:529: ConvergenceWarning: Objective did not converge. You might want to increase the number of iterations. Duality gap: 368690788.40909624, tolerance: 61913487.79326342\n",
      "  model = cd_fast.enet_coordinate_descent(\n",
      "C:\\Users\\DanAn\\anaconda3secondinstall\\lib\\site-packages\\sklearn\\linear_model\\_coordinate_descent.py:529: ConvergenceWarning: Objective did not converge. You might want to increase the number of iterations. Duality gap: 354905982.04506326, tolerance: 61913487.79326342\n",
      "  model = cd_fast.enet_coordinate_descent(\n",
      "C:\\Users\\DanAn\\anaconda3secondinstall\\lib\\site-packages\\sklearn\\linear_model\\_coordinate_descent.py:529: ConvergenceWarning: Objective did not converge. You might want to increase the number of iterations. Duality gap: 340957560.1814049, tolerance: 61913487.79326342\n",
      "  model = cd_fast.enet_coordinate_descent(\n",
      "C:\\Users\\DanAn\\anaconda3secondinstall\\lib\\site-packages\\sklearn\\linear_model\\_coordinate_descent.py:529: ConvergenceWarning: Objective did not converge. You might want to increase the number of iterations. Duality gap: 328656859.2653173, tolerance: 61913487.79326342\n",
      "  model = cd_fast.enet_coordinate_descent(\n",
      "C:\\Users\\DanAn\\anaconda3secondinstall\\lib\\site-packages\\sklearn\\linear_model\\_coordinate_descent.py:529: ConvergenceWarning: Objective did not converge. You might want to increase the number of iterations. Duality gap: 317792281.6470269, tolerance: 61913487.79326342\n",
      "  model = cd_fast.enet_coordinate_descent(\n",
      "C:\\Users\\DanAn\\anaconda3secondinstall\\lib\\site-packages\\sklearn\\linear_model\\_coordinate_descent.py:529: ConvergenceWarning: Objective did not converge. You might want to increase the number of iterations. Duality gap: 306925382.2758926, tolerance: 61913487.79326342\n",
      "  model = cd_fast.enet_coordinate_descent(\n",
      "C:\\Users\\DanAn\\anaconda3secondinstall\\lib\\site-packages\\sklearn\\linear_model\\_coordinate_descent.py:529: ConvergenceWarning: Objective did not converge. You might want to increase the number of iterations. Duality gap: 296227626.8001487, tolerance: 61913487.79326342\n",
      "  model = cd_fast.enet_coordinate_descent(\n",
      "C:\\Users\\DanAn\\anaconda3secondinstall\\lib\\site-packages\\sklearn\\linear_model\\_coordinate_descent.py:529: ConvergenceWarning: Objective did not converge. You might want to increase the number of iterations. Duality gap: 286328006.2941904, tolerance: 61913487.79326342\n",
      "  model = cd_fast.enet_coordinate_descent(\n",
      "C:\\Users\\DanAn\\anaconda3secondinstall\\lib\\site-packages\\sklearn\\linear_model\\_coordinate_descent.py:529: ConvergenceWarning: Objective did not converge. You might want to increase the number of iterations. Duality gap: 276906981.85984755, tolerance: 61913487.79326342\n",
      "  model = cd_fast.enet_coordinate_descent(\n",
      "C:\\Users\\DanAn\\anaconda3secondinstall\\lib\\site-packages\\sklearn\\linear_model\\_coordinate_descent.py:529: ConvergenceWarning: Objective did not converge. You might want to increase the number of iterations. Duality gap: 267812277.70820725, tolerance: 61913487.79326342\n",
      "  model = cd_fast.enet_coordinate_descent(\n",
      "C:\\Users\\DanAn\\anaconda3secondinstall\\lib\\site-packages\\sklearn\\linear_model\\_coordinate_descent.py:529: ConvergenceWarning: Objective did not converge. You might want to increase the number of iterations. Duality gap: 259532745.48016948, tolerance: 61913487.79326342\n",
      "  model = cd_fast.enet_coordinate_descent(\n",
      "C:\\Users\\DanAn\\anaconda3secondinstall\\lib\\site-packages\\sklearn\\linear_model\\_coordinate_descent.py:529: ConvergenceWarning: Objective did not converge. You might want to increase the number of iterations. Duality gap: 251454657.97922897, tolerance: 61913487.79326342\n",
      "  model = cd_fast.enet_coordinate_descent(\n",
      "C:\\Users\\DanAn\\anaconda3secondinstall\\lib\\site-packages\\sklearn\\linear_model\\_coordinate_descent.py:529: ConvergenceWarning: Objective did not converge. You might want to increase the number of iterations. Duality gap: 243744224.77125028, tolerance: 61913487.79326342\n",
      "  model = cd_fast.enet_coordinate_descent(\n",
      "C:\\Users\\DanAn\\anaconda3secondinstall\\lib\\site-packages\\sklearn\\linear_model\\_coordinate_descent.py:529: ConvergenceWarning: Objective did not converge. You might want to increase the number of iterations. Duality gap: 236448576.69454226, tolerance: 61913487.79326342\n",
      "  model = cd_fast.enet_coordinate_descent(\n"
     ]
    },
    {
     "name": "stderr",
     "output_type": "stream",
     "text": [
      "C:\\Users\\DanAn\\anaconda3secondinstall\\lib\\site-packages\\sklearn\\linear_model\\_coordinate_descent.py:529: ConvergenceWarning: Objective did not converge. You might want to increase the number of iterations. Duality gap: 229465998.83042192, tolerance: 61913487.79326342\n",
      "  model = cd_fast.enet_coordinate_descent(\n",
      "C:\\Users\\DanAn\\anaconda3secondinstall\\lib\\site-packages\\sklearn\\linear_model\\_coordinate_descent.py:529: ConvergenceWarning: Objective did not converge. You might want to increase the number of iterations. Duality gap: 222833959.2891209, tolerance: 61913487.79326342\n",
      "  model = cd_fast.enet_coordinate_descent(\n",
      "C:\\Users\\DanAn\\anaconda3secondinstall\\lib\\site-packages\\sklearn\\linear_model\\_coordinate_descent.py:529: ConvergenceWarning: Objective did not converge. You might want to increase the number of iterations. Duality gap: 216541576.4934067, tolerance: 61913487.79326342\n",
      "  model = cd_fast.enet_coordinate_descent(\n",
      "C:\\Users\\DanAn\\anaconda3secondinstall\\lib\\site-packages\\sklearn\\linear_model\\_coordinate_descent.py:529: ConvergenceWarning: Objective did not converge. You might want to increase the number of iterations. Duality gap: 210536344.74979252, tolerance: 61913487.79326342\n",
      "  model = cd_fast.enet_coordinate_descent(\n",
      "C:\\Users\\DanAn\\anaconda3secondinstall\\lib\\site-packages\\sklearn\\linear_model\\_coordinate_descent.py:529: ConvergenceWarning: Objective did not converge. You might want to increase the number of iterations. Duality gap: 204866046.4665243, tolerance: 61913487.79326342\n",
      "  model = cd_fast.enet_coordinate_descent(\n",
      "C:\\Users\\DanAn\\anaconda3secondinstall\\lib\\site-packages\\sklearn\\linear_model\\_coordinate_descent.py:529: ConvergenceWarning: Objective did not converge. You might want to increase the number of iterations. Duality gap: 199472383.04294378, tolerance: 61913487.79326342\n",
      "  model = cd_fast.enet_coordinate_descent(\n",
      "C:\\Users\\DanAn\\anaconda3secondinstall\\lib\\site-packages\\sklearn\\linear_model\\_coordinate_descent.py:529: ConvergenceWarning: Objective did not converge. You might want to increase the number of iterations. Duality gap: 194352343.00090745, tolerance: 61913487.79326342\n",
      "  model = cd_fast.enet_coordinate_descent(\n",
      "C:\\Users\\DanAn\\anaconda3secondinstall\\lib\\site-packages\\sklearn\\linear_model\\_coordinate_descent.py:529: ConvergenceWarning: Objective did not converge. You might want to increase the number of iterations. Duality gap: 189606034.4078365, tolerance: 61913487.79326342\n",
      "  model = cd_fast.enet_coordinate_descent(\n",
      "C:\\Users\\DanAn\\anaconda3secondinstall\\lib\\site-packages\\sklearn\\linear_model\\_coordinate_descent.py:529: ConvergenceWarning: Objective did not converge. You might want to increase the number of iterations. Duality gap: 184970842.20104024, tolerance: 61913487.79326342\n",
      "  model = cd_fast.enet_coordinate_descent(\n",
      "C:\\Users\\DanAn\\anaconda3secondinstall\\lib\\site-packages\\sklearn\\linear_model\\_coordinate_descent.py:529: ConvergenceWarning: Objective did not converge. You might want to increase the number of iterations. Duality gap: 180555936.90517792, tolerance: 61913487.79326342\n",
      "  model = cd_fast.enet_coordinate_descent(\n",
      "C:\\Users\\DanAn\\anaconda3secondinstall\\lib\\site-packages\\sklearn\\linear_model\\_coordinate_descent.py:529: ConvergenceWarning: Objective did not converge. You might want to increase the number of iterations. Duality gap: 176358184.45828804, tolerance: 61913487.79326342\n",
      "  model = cd_fast.enet_coordinate_descent(\n",
      "C:\\Users\\DanAn\\anaconda3secondinstall\\lib\\site-packages\\sklearn\\linear_model\\_coordinate_descent.py:529: ConvergenceWarning: Objective did not converge. You might want to increase the number of iterations. Duality gap: 172345707.53405088, tolerance: 61913487.79326342\n",
      "  model = cd_fast.enet_coordinate_descent(\n",
      "C:\\Users\\DanAn\\anaconda3secondinstall\\lib\\site-packages\\sklearn\\linear_model\\_coordinate_descent.py:529: ConvergenceWarning: Objective did not converge. You might want to increase the number of iterations. Duality gap: 168557601.61743385, tolerance: 61913487.79326342\n",
      "  model = cd_fast.enet_coordinate_descent(\n",
      "C:\\Users\\DanAn\\anaconda3secondinstall\\lib\\site-packages\\sklearn\\linear_model\\_coordinate_descent.py:529: ConvergenceWarning: Objective did not converge. You might want to increase the number of iterations. Duality gap: 164943694.9401756, tolerance: 61913487.79326342\n",
      "  model = cd_fast.enet_coordinate_descent(\n",
      "C:\\Users\\DanAn\\anaconda3secondinstall\\lib\\site-packages\\sklearn\\linear_model\\_coordinate_descent.py:529: ConvergenceWarning: Objective did not converge. You might want to increase the number of iterations. Duality gap: 161502928.66592467, tolerance: 61913487.79326342\n",
      "  model = cd_fast.enet_coordinate_descent(\n",
      "C:\\Users\\DanAn\\anaconda3secondinstall\\lib\\site-packages\\sklearn\\linear_model\\_coordinate_descent.py:529: ConvergenceWarning: Objective did not converge. You might want to increase the number of iterations. Duality gap: 158225685.83482718, tolerance: 61913487.79326342\n",
      "  model = cd_fast.enet_coordinate_descent(\n",
      "C:\\Users\\DanAn\\anaconda3secondinstall\\lib\\site-packages\\sklearn\\linear_model\\_coordinate_descent.py:529: ConvergenceWarning: Objective did not converge. You might want to increase the number of iterations. Duality gap: 155102888.33629113, tolerance: 61913487.79326342\n",
      "  model = cd_fast.enet_coordinate_descent(\n",
      "C:\\Users\\DanAn\\anaconda3secondinstall\\lib\\site-packages\\sklearn\\linear_model\\_coordinate_descent.py:529: ConvergenceWarning: Objective did not converge. You might want to increase the number of iterations. Duality gap: 152126396.28278595, tolerance: 61913487.79326342\n",
      "  model = cd_fast.enet_coordinate_descent(\n",
      "C:\\Users\\DanAn\\anaconda3secondinstall\\lib\\site-packages\\sklearn\\linear_model\\_coordinate_descent.py:529: ConvergenceWarning: Objective did not converge. You might want to increase the number of iterations. Duality gap: 149281493.13713223, tolerance: 61913487.79326342\n",
      "  model = cd_fast.enet_coordinate_descent(\n",
      "C:\\Users\\DanAn\\anaconda3secondinstall\\lib\\site-packages\\sklearn\\linear_model\\_coordinate_descent.py:529: ConvergenceWarning: Objective did not converge. You might want to increase the number of iterations. Duality gap: 146571481.8101731, tolerance: 61913487.79326342\n",
      "  model = cd_fast.enet_coordinate_descent(\n",
      "C:\\Users\\DanAn\\anaconda3secondinstall\\lib\\site-packages\\sklearn\\linear_model\\_coordinate_descent.py:529: ConvergenceWarning: Objective did not converge. You might want to increase the number of iterations. Duality gap: 143989850.83997482, tolerance: 61913487.79326342\n",
      "  model = cd_fast.enet_coordinate_descent(\n",
      "C:\\Users\\DanAn\\anaconda3secondinstall\\lib\\site-packages\\sklearn\\linear_model\\_coordinate_descent.py:529: ConvergenceWarning: Objective did not converge. You might want to increase the number of iterations. Duality gap: 141526587.0921848, tolerance: 61913487.79326342\n",
      "  model = cd_fast.enet_coordinate_descent(\n",
      "C:\\Users\\DanAn\\anaconda3secondinstall\\lib\\site-packages\\sklearn\\linear_model\\_coordinate_descent.py:529: ConvergenceWarning: Objective did not converge. You might want to increase the number of iterations. Duality gap: 139175012.6192236, tolerance: 61913487.79326342\n",
      "  model = cd_fast.enet_coordinate_descent(\n",
      "C:\\Users\\DanAn\\anaconda3secondinstall\\lib\\site-packages\\sklearn\\linear_model\\_coordinate_descent.py:529: ConvergenceWarning: Objective did not converge. You might want to increase the number of iterations. Duality gap: 136929091.25079703, tolerance: 61913487.79326342\n",
      "  model = cd_fast.enet_coordinate_descent(\n",
      "C:\\Users\\DanAn\\anaconda3secondinstall\\lib\\site-packages\\sklearn\\linear_model\\_coordinate_descent.py:529: ConvergenceWarning: Objective did not converge. You might want to increase the number of iterations. Duality gap: 134783264.38810316, tolerance: 61913487.79326342\n",
      "  model = cd_fast.enet_coordinate_descent(\n",
      "C:\\Users\\DanAn\\anaconda3secondinstall\\lib\\site-packages\\sklearn\\linear_model\\_coordinate_descent.py:529: ConvergenceWarning: Objective did not converge. You might want to increase the number of iterations. Duality gap: 132731991.70631962, tolerance: 61913487.79326342\n",
      "  model = cd_fast.enet_coordinate_descent(\n",
      "C:\\Users\\DanAn\\anaconda3secondinstall\\lib\\site-packages\\sklearn\\linear_model\\_coordinate_descent.py:529: ConvergenceWarning: Objective did not converge. You might want to increase the number of iterations. Duality gap: 130771818.17933312, tolerance: 61913487.79326342\n",
      "  model = cd_fast.enet_coordinate_descent(\n",
      "C:\\Users\\DanAn\\anaconda3secondinstall\\lib\\site-packages\\sklearn\\linear_model\\_coordinate_descent.py:529: ConvergenceWarning: Objective did not converge. You might want to increase the number of iterations. Duality gap: 128900705.78587833, tolerance: 61913487.79326342\n",
      "  model = cd_fast.enet_coordinate_descent(\n"
     ]
    },
    {
     "name": "stderr",
     "output_type": "stream",
     "text": [
      "C:\\Users\\DanAn\\anaconda3secondinstall\\lib\\site-packages\\sklearn\\linear_model\\_coordinate_descent.py:529: ConvergenceWarning: Objective did not converge. You might want to increase the number of iterations. Duality gap: 127107874.31745695, tolerance: 61913487.79326342\n",
      "  model = cd_fast.enet_coordinate_descent(\n",
      "C:\\Users\\DanAn\\anaconda3secondinstall\\lib\\site-packages\\sklearn\\linear_model\\_coordinate_descent.py:529: ConvergenceWarning: Objective did not converge. You might want to increase the number of iterations. Duality gap: 125391208.04102519, tolerance: 61913487.79326342\n",
      "  model = cd_fast.enet_coordinate_descent(\n",
      "C:\\Users\\DanAn\\anaconda3secondinstall\\lib\\site-packages\\sklearn\\linear_model\\_coordinate_descent.py:529: ConvergenceWarning: Objective did not converge. You might want to increase the number of iterations. Duality gap: 123747368.16118023, tolerance: 61913487.79326342\n",
      "  model = cd_fast.enet_coordinate_descent(\n",
      "C:\\Users\\DanAn\\anaconda3secondinstall\\lib\\site-packages\\sklearn\\linear_model\\_coordinate_descent.py:529: ConvergenceWarning: Objective did not converge. You might want to increase the number of iterations. Duality gap: 122172720.81223899, tolerance: 61913487.79326342\n",
      "  model = cd_fast.enet_coordinate_descent(\n",
      "C:\\Users\\DanAn\\anaconda3secondinstall\\lib\\site-packages\\sklearn\\linear_model\\_coordinate_descent.py:529: ConvergenceWarning: Objective did not converge. You might want to increase the number of iterations. Duality gap: 120663689.61894718, tolerance: 61913487.79326342\n",
      "  model = cd_fast.enet_coordinate_descent(\n",
      "C:\\Users\\DanAn\\anaconda3secondinstall\\lib\\site-packages\\sklearn\\linear_model\\_coordinate_descent.py:529: ConvergenceWarning: Objective did not converge. You might want to increase the number of iterations. Duality gap: 119216901.55685993, tolerance: 61913487.79326342\n",
      "  model = cd_fast.enet_coordinate_descent(\n",
      "C:\\Users\\DanAn\\anaconda3secondinstall\\lib\\site-packages\\sklearn\\linear_model\\_coordinate_descent.py:529: ConvergenceWarning: Objective did not converge. You might want to increase the number of iterations. Duality gap: 117830004.24753825, tolerance: 61913487.79326342\n",
      "  model = cd_fast.enet_coordinate_descent(\n",
      "C:\\Users\\DanAn\\anaconda3secondinstall\\lib\\site-packages\\sklearn\\linear_model\\_coordinate_descent.py:529: ConvergenceWarning: Objective did not converge. You might want to increase the number of iterations. Duality gap: 116498043.36427861, tolerance: 61913487.79326342\n",
      "  model = cd_fast.enet_coordinate_descent(\n",
      "C:\\Users\\DanAn\\anaconda3secondinstall\\lib\\site-packages\\sklearn\\linear_model\\_coordinate_descent.py:529: ConvergenceWarning: Objective did not converge. You might want to increase the number of iterations. Duality gap: 115219346.90420471, tolerance: 61913487.79326342\n",
      "  model = cd_fast.enet_coordinate_descent(\n",
      "C:\\Users\\DanAn\\anaconda3secondinstall\\lib\\site-packages\\sklearn\\linear_model\\_coordinate_descent.py:529: ConvergenceWarning: Objective did not converge. You might want to increase the number of iterations. Duality gap: 113991260.8391223, tolerance: 61913487.79326342\n",
      "  model = cd_fast.enet_coordinate_descent(\n",
      "C:\\Users\\DanAn\\anaconda3secondinstall\\lib\\site-packages\\sklearn\\linear_model\\_coordinate_descent.py:529: ConvergenceWarning: Objective did not converge. You might want to increase the number of iterations. Duality gap: 112811494.02567232, tolerance: 61913487.79326342\n",
      "  model = cd_fast.enet_coordinate_descent(\n",
      "C:\\Users\\DanAn\\anaconda3secondinstall\\lib\\site-packages\\sklearn\\linear_model\\_coordinate_descent.py:529: ConvergenceWarning: Objective did not converge. You might want to increase the number of iterations. Duality gap: 111686042.21352711, tolerance: 61913487.79326342\n",
      "  model = cd_fast.enet_coordinate_descent(\n",
      "C:\\Users\\DanAn\\anaconda3secondinstall\\lib\\site-packages\\sklearn\\linear_model\\_coordinate_descent.py:529: ConvergenceWarning: Objective did not converge. You might want to increase the number of iterations. Duality gap: 110599933.3192683, tolerance: 61913487.79326342\n",
      "  model = cd_fast.enet_coordinate_descent(\n",
      "C:\\Users\\DanAn\\anaconda3secondinstall\\lib\\site-packages\\sklearn\\linear_model\\_coordinate_descent.py:529: ConvergenceWarning: Objective did not converge. You might want to increase the number of iterations. Duality gap: 109557452.7189962, tolerance: 61913487.79326342\n",
      "  model = cd_fast.enet_coordinate_descent(\n",
      "C:\\Users\\DanAn\\anaconda3secondinstall\\lib\\site-packages\\sklearn\\linear_model\\_coordinate_descent.py:529: ConvergenceWarning: Objective did not converge. You might want to increase the number of iterations. Duality gap: 108553460.16413231, tolerance: 61913487.79326342\n",
      "  model = cd_fast.enet_coordinate_descent(\n",
      "C:\\Users\\DanAn\\anaconda3secondinstall\\lib\\site-packages\\sklearn\\linear_model\\_coordinate_descent.py:529: ConvergenceWarning: Objective did not converge. You might want to increase the number of iterations. Duality gap: 107586215.30597365, tolerance: 61913487.79326342\n",
      "  model = cd_fast.enet_coordinate_descent(\n",
      "C:\\Users\\DanAn\\anaconda3secondinstall\\lib\\site-packages\\sklearn\\linear_model\\_coordinate_descent.py:529: ConvergenceWarning: Objective did not converge. You might want to increase the number of iterations. Duality gap: 106654449.04997566, tolerance: 61913487.79326342\n",
      "  model = cd_fast.enet_coordinate_descent(\n",
      "C:\\Users\\DanAn\\anaconda3secondinstall\\lib\\site-packages\\sklearn\\linear_model\\_coordinate_descent.py:529: ConvergenceWarning: Objective did not converge. You might want to increase the number of iterations. Duality gap: 105755291.3147272, tolerance: 61913487.79326342\n",
      "  model = cd_fast.enet_coordinate_descent(\n",
      "C:\\Users\\DanAn\\anaconda3secondinstall\\lib\\site-packages\\sklearn\\linear_model\\_coordinate_descent.py:529: ConvergenceWarning: Objective did not converge. You might want to increase the number of iterations. Duality gap: 104887963.27138183, tolerance: 61913487.79326342\n",
      "  model = cd_fast.enet_coordinate_descent(\n",
      "C:\\Users\\DanAn\\anaconda3secondinstall\\lib\\site-packages\\sklearn\\linear_model\\_coordinate_descent.py:529: ConvergenceWarning: Objective did not converge. You might want to increase the number of iterations. Duality gap: 104050919.5978355, tolerance: 61913487.79326342\n",
      "  model = cd_fast.enet_coordinate_descent(\n",
      "C:\\Users\\DanAn\\anaconda3secondinstall\\lib\\site-packages\\sklearn\\linear_model\\_coordinate_descent.py:529: ConvergenceWarning: Objective did not converge. You might want to increase the number of iterations. Duality gap: 103242757.9111065, tolerance: 61913487.79326342\n",
      "  model = cd_fast.enet_coordinate_descent(\n",
      "C:\\Users\\DanAn\\anaconda3secondinstall\\lib\\site-packages\\sklearn\\linear_model\\_coordinate_descent.py:529: ConvergenceWarning: Objective did not converge. You might want to increase the number of iterations. Duality gap: 102462165.535271, tolerance: 61913487.79326342\n",
      "  model = cd_fast.enet_coordinate_descent(\n",
      "C:\\Users\\DanAn\\anaconda3secondinstall\\lib\\site-packages\\sklearn\\linear_model\\_coordinate_descent.py:529: ConvergenceWarning: Objective did not converge. You might want to increase the number of iterations. Duality gap: 101707797.48607501, tolerance: 61913487.79326342\n",
      "  model = cd_fast.enet_coordinate_descent(\n",
      "C:\\Users\\DanAn\\anaconda3secondinstall\\lib\\site-packages\\sklearn\\linear_model\\_coordinate_descent.py:529: ConvergenceWarning: Objective did not converge. You might want to increase the number of iterations. Duality gap: 100978712.14461431, tolerance: 61913487.79326342\n",
      "  model = cd_fast.enet_coordinate_descent(\n",
      "C:\\Users\\DanAn\\anaconda3secondinstall\\lib\\site-packages\\sklearn\\linear_model\\_coordinate_descent.py:529: ConvergenceWarning: Objective did not converge. You might want to increase the number of iterations. Duality gap: 100273659.21456598, tolerance: 61913487.79326342\n",
      "  model = cd_fast.enet_coordinate_descent(\n",
      "C:\\Users\\DanAn\\anaconda3secondinstall\\lib\\site-packages\\sklearn\\linear_model\\_coordinate_descent.py:529: ConvergenceWarning: Objective did not converge. You might want to increase the number of iterations. Duality gap: 10777178835.263725, tolerance: 76330925.87267755\n",
      "  model = cd_fast.enet_coordinate_descent(\n"
     ]
    },
    {
     "data": {
      "text/plain": [
       "LassoCV(alphas=array([0.001     , 0.00107227, 0.00114976, 0.00123285, 0.00132194,\n",
       "       0.00141747, 0.00151991, 0.00162975, 0.00174753, 0.00187382,\n",
       "       0.00200923, 0.00215443, 0.00231013, 0.00247708, 0.00265609,\n",
       "       0.00284804, 0.00305386, 0.00327455, 0.00351119, 0.00376494,\n",
       "       0.00403702, 0.00432876, 0.00464159, 0.00497702, 0.0053367 ,\n",
       "       0.00572237, 0.00613591, 0.00657933, 0.0070548 , 0.00756463,\n",
       "       0.008...\n",
       "       0.09326033, 0.1       , 0.10722672, 0.1149757 , 0.12328467,\n",
       "       0.13219411, 0.14174742, 0.15199111, 0.16297508, 0.17475284,\n",
       "       0.18738174, 0.2009233 , 0.21544347, 0.23101297, 0.24770764,\n",
       "       0.26560878, 0.28480359, 0.30538555, 0.32745492, 0.35111917,\n",
       "       0.37649358, 0.40370173, 0.43287613, 0.46415888, 0.49770236,\n",
       "       0.53366992, 0.57223677, 0.61359073, 0.65793322, 0.70548023,\n",
       "       0.75646333, 0.81113083, 0.869749  , 0.93260335, 1.        ]),\n",
       "        cv=5)"
      ]
     },
     "execution_count": 193,
     "metadata": {},
     "output_type": "execute_result"
    }
   ],
   "source": [
    "l_alphas = np.logspace(-3,0,100)\n",
    "\n",
    "lasso_cv = LassoCV(alphas=l_alphas,cv=5)\n",
    "\n",
    "lasso_cv.fit(Z_train,y_train)"
   ]
  },
  {
   "cell_type": "markdown",
   "metadata": {},
   "source": [
    "This data set might not be the best to do lasso on, as it has a lot of convergence issues, but still seems to be able to generate some alpha values and figure out the ideal alpha."
   ]
  },
  {
   "cell_type": "code",
   "execution_count": 194,
   "metadata": {
    "ExecuteTime": {
     "end_time": "2021-04-17T01:59:08.750948Z",
     "start_time": "2021-04-17T01:59:08.735935Z"
    }
   },
   "outputs": [
    {
     "data": {
      "text/plain": [
       "1.0"
      ]
     },
     "execution_count": 194,
     "metadata": {},
     "output_type": "execute_result"
    }
   ],
   "source": [
    "lasso_cv.alpha_"
   ]
  },
  {
   "cell_type": "code",
   "execution_count": 195,
   "metadata": {
    "ExecuteTime": {
     "end_time": "2021-04-17T01:59:08.766962Z",
     "start_time": "2021-04-17T01:59:08.752950Z"
    },
    "scrolled": true
   },
   "outputs": [
    {
     "name": "stdout",
     "output_type": "stream",
     "text": [
      "Training LASSO R-Squared: 0.9713654050891913\n",
      "Testing LASSO R-Squared: 0.6983973059646806\n"
     ]
    }
   ],
   "source": [
    "print(f\"Training LASSO R-Squared: {lasso_cv.score(Z_train, y_train)}\")\n",
    "print(f\"Testing LASSO R-Squared: {lasso_cv.score(Z_test, y_test)}\")"
   ]
  },
  {
   "cell_type": "markdown",
   "metadata": {},
   "source": [
    "These are our highest R squared values so far, but there some clear overfitting going on, so if we wanted to improve on the model we would want to remove the features with a weak correlation from the model.  "
   ]
  },
  {
   "cell_type": "code",
   "execution_count": 196,
   "metadata": {
    "ExecuteTime": {
     "end_time": "2021-04-17T01:59:08.782966Z",
     "start_time": "2021-04-17T01:59:08.768956Z"
    }
   },
   "outputs": [],
   "source": [
    "internal_testpreds4 = lasso_cv.predict(Z_test)"
   ]
  },
  {
   "cell_type": "code",
   "execution_count": 197,
   "metadata": {
    "ExecuteTime": {
     "end_time": "2021-04-17T01:59:08.798982Z",
     "start_time": "2021-04-17T01:59:08.784967Z"
    },
    "scrolled": true
   },
   "outputs": [
    {
     "data": {
      "text/plain": [
       "32776.46469570319"
      ]
     },
     "execution_count": 197,
     "metadata": {},
     "output_type": "execute_result"
    }
   ],
   "source": [
    "mean_squared_error(y_test,internal_testpreds4, squared=False)"
   ]
  },
  {
   "cell_type": "code",
   "execution_count": 198,
   "metadata": {
    "ExecuteTime": {
     "end_time": "2021-04-17T01:59:09.018175Z",
     "start_time": "2021-04-17T01:59:08.800984Z"
    },
    "scrolled": true
   },
   "outputs": [
    {
     "data": {
      "text/plain": [
       "''"
      ]
     },
     "execution_count": 198,
     "metadata": {},
     "output_type": "execute_result"
    },
    {
     "data": {
      "image/png": "[encoded data removed]",
      "text/plain": [
       "<Figure size 720x432 with 1 Axes>"
      ]
     },
     "metadata": {},
     "output_type": "display_data"
    }
   ],
   "source": [
    "fig = plt.figure(figsize=(10,6))\n",
    "plt.scatter(internal_testpreds, y_test)\n",
    "plt.title('Actual Values vs Predicted Values')\n",
    "plt.xlabel('Actual values')\n",
    "plt.ylabel('Predicted values')\n",
    ";"
   ]
  },
  {
   "cell_type": "markdown",
   "metadata": {},
   "source": [
    "This is also a poor performing model. It has a better line-like structure than the previous model but it is still very spread. I plan on using the lasso coefficients to try and create a model with less noise. "
   ]
  },
  {
   "cell_type": "code",
   "execution_count": 199,
   "metadata": {
    "ExecuteTime": {
     "end_time": "2021-04-17T01:59:09.033190Z",
     "start_time": "2021-04-17T01:59:09.020179Z"
    }
   },
   "outputs": [],
   "source": [
    "lassodf = pd.DataFrame(list(zip(X.columns, lasso_cv.coef_)))"
   ]
  },
  {
   "cell_type": "code",
   "execution_count": 200,
   "metadata": {
    "ExecuteTime": {
     "end_time": "2021-04-17T01:59:09.049202Z",
     "start_time": "2021-04-17T01:59:09.035190Z"
    },
    "scrolled": true
   },
   "outputs": [
    {
     "data": {
      "text/html": [
       "<div>\n",
       "<style scoped>\n",
       "    .dataframe tbody tr th:only-of-type {\n",
       "        vertical-align: middle;\n",
       "    }\n",
       "\n",
       "    .dataframe tbody tr th {\n",
       "        vertical-align: top;\n",
       "    }\n",
       "\n",
       "    .dataframe thead th {\n",
       "        text-align: right;\n",
       "    }\n",
       "</style>\n",
       "<table border=\"1\" class=\"dataframe\">\n",
       "  <thead>\n",
       "    <tr style=\"text-align: right;\">\n",
       "      <th></th>\n",
       "      <th>0</th>\n",
       "      <th>1</th>\n",
       "    </tr>\n",
       "  </thead>\n",
       "  <tbody>\n",
       "    <tr>\n",
       "      <th>1</th>\n",
       "      <td>Neighborhood</td>\n",
       "      <td>20511.334587</td>\n",
       "    </tr>\n",
       "    <tr>\n",
       "      <th>24</th>\n",
       "      <td>Mas Vnr Type_None</td>\n",
       "      <td>13963.538453</td>\n",
       "    </tr>\n",
       "    <tr>\n",
       "      <th>6</th>\n",
       "      <td>BsmtFin SF 1</td>\n",
       "      <td>13035.644105</td>\n",
       "    </tr>\n",
       "    <tr>\n",
       "      <th>17</th>\n",
       "      <td>Paved Drive</td>\n",
       "      <td>10132.028931</td>\n",
       "    </tr>\n",
       "    <tr>\n",
       "      <th>14</th>\n",
       "      <td>Garage Finish</td>\n",
       "      <td>9805.189914</td>\n",
       "    </tr>\n",
       "  </tbody>\n",
       "</table>\n",
       "</div>"
      ],
      "text/plain": [
       "                    0             1\n",
       "1        Neighborhood  20511.334587\n",
       "24  Mas Vnr Type_None  13963.538453\n",
       "6        BsmtFin SF 1  13035.644105\n",
       "17        Paved Drive  10132.028931\n",
       "14      Garage Finish   9805.189914"
      ]
     },
     "execution_count": 200,
     "metadata": {},
     "output_type": "execute_result"
    }
   ],
   "source": [
    "lassodf.sort_values(1, ascending=False).head()"
   ]
  },
  {
   "cell_type": "markdown",
   "metadata": {},
   "source": [
    "after standardizing and looking at punishment, it seems we should run the model with only the most impactful correlations, meaning we want to keep values further away from zero. Will create a new list that can be used to do correlations on a new linear model to try and create the most efficient model. "
   ]
  },
  {
   "cell_type": "code",
   "execution_count": 201,
   "metadata": {
    "ExecuteTime": {
     "end_time": "2021-04-17T01:59:09.080229Z",
     "start_time": "2021-04-17T01:59:09.063214Z"
    }
   },
   "outputs": [],
   "source": [
    "lasso_keepdf = lassodf[(lassodf[1] > 5000)| (lassodf[1]< -1000)].copy()"
   ]
  },
  {
   "cell_type": "code",
   "execution_count": 202,
   "metadata": {
    "ExecuteTime": {
     "end_time": "2021-04-17T01:59:09.095242Z",
     "start_time": "2021-04-17T01:59:09.082231Z"
    },
    "scrolled": true
   },
   "outputs": [
    {
     "data": {
      "text/html": [
       "<div>\n",
       "<style scoped>\n",
       "    .dataframe tbody tr th:only-of-type {\n",
       "        vertical-align: middle;\n",
       "    }\n",
       "\n",
       "    .dataframe tbody tr th {\n",
       "        vertical-align: top;\n",
       "    }\n",
       "\n",
       "    .dataframe thead th {\n",
       "        text-align: right;\n",
       "    }\n",
       "</style>\n",
       "<table border=\"1\" class=\"dataframe\">\n",
       "  <thead>\n",
       "    <tr style=\"text-align: right;\">\n",
       "      <th></th>\n",
       "      <th>0</th>\n",
       "      <th>1</th>\n",
       "    </tr>\n",
       "  </thead>\n",
       "  <tbody>\n",
       "    <tr>\n",
       "      <th>0</th>\n",
       "      <td>Lot Shape</td>\n",
       "      <td>-14244.255355</td>\n",
       "    </tr>\n",
       "    <tr>\n",
       "      <th>1</th>\n",
       "      <td>Neighborhood</td>\n",
       "      <td>20511.334587</td>\n",
       "    </tr>\n",
       "    <tr>\n",
       "      <th>2</th>\n",
       "      <td>Overall Qual</td>\n",
       "      <td>7918.837720</td>\n",
       "    </tr>\n",
       "    <tr>\n",
       "      <th>3</th>\n",
       "      <td>Year Built</td>\n",
       "      <td>-7941.180501</td>\n",
       "    </tr>\n",
       "    <tr>\n",
       "      <th>5</th>\n",
       "      <td>BsmtFin Type 1</td>\n",
       "      <td>5339.957958</td>\n",
       "    </tr>\n",
       "  </tbody>\n",
       "</table>\n",
       "</div>"
      ],
      "text/plain": [
       "                0             1\n",
       "0       Lot Shape -14244.255355\n",
       "1    Neighborhood  20511.334587\n",
       "2    Overall Qual   7918.837720\n",
       "3      Year Built  -7941.180501\n",
       "5  BsmtFin Type 1   5339.957958"
      ]
     },
     "execution_count": 202,
     "metadata": {},
     "output_type": "execute_result"
    }
   ],
   "source": [
    "lasso_keepdf.head()"
   ]
  },
  {
   "cell_type": "code",
   "execution_count": 203,
   "metadata": {
    "ExecuteTime": {
     "end_time": "2021-04-17T01:59:09.111256Z",
     "start_time": "2021-04-17T01:59:09.097243Z"
    }
   },
   "outputs": [],
   "source": [
    "newlist2 = [x for x in lasso_keepdf[0]]"
   ]
  },
  {
   "cell_type": "code",
   "execution_count": 204,
   "metadata": {
    "ExecuteTime": {
     "end_time": "2021-04-17T01:59:09.126269Z",
     "start_time": "2021-04-17T01:59:09.113258Z"
    }
   },
   "outputs": [
    {
     "data": {
      "text/plain": [
       "['Lot Shape',\n",
       " 'Neighborhood',\n",
       " 'Overall Qual',\n",
       " 'Year Built',\n",
       " 'BsmtFin Type 1',\n",
       " 'BsmtFin SF 1',\n",
       " '1st Flr SF',\n",
       " 'Fireplaces',\n",
       " 'Garage Yr Blt',\n",
       " 'Garage Finish',\n",
       " 'Garage Area',\n",
       " 'Paved Drive',\n",
       " 'total_sf',\n",
       " 'MS Zoning_FV',\n",
       " 'MS Zoning_RM',\n",
       " 'Bldg Type_TwnhsE',\n",
       " 'Mas Vnr Type_None',\n",
       " 'Central Air_Y']"
      ]
     },
     "execution_count": 204,
     "metadata": {},
     "output_type": "execute_result"
    }
   ],
   "source": [
    "newlist2"
   ]
  },
  {
   "cell_type": "markdown",
   "metadata": {},
   "source": [
    "The last model:"
   ]
  },
  {
   "cell_type": "code",
   "execution_count": 205,
   "metadata": {
    "ExecuteTime": {
     "end_time": "2021-04-17T01:59:09.141292Z",
     "start_time": "2021-04-17T01:59:09.128272Z"
    }
   },
   "outputs": [],
   "source": [
    "X = housing_dummied[newlist2]\n",
    "y = housing_dummied['SalePrice']"
   ]
  },
  {
   "cell_type": "code",
   "execution_count": 206,
   "metadata": {
    "ExecuteTime": {
     "end_time": "2021-04-17T01:59:09.157306Z",
     "start_time": "2021-04-17T01:59:09.143285Z"
    }
   },
   "outputs": [],
   "source": [
    "X_train, X_test, y_train, y_test = train_test_split(X,y,random_state = 12)"
   ]
  },
  {
   "cell_type": "code",
   "execution_count": 207,
   "metadata": {
    "ExecuteTime": {
     "end_time": "2021-04-17T01:59:09.173312Z",
     "start_time": "2021-04-17T01:59:09.158307Z"
    }
   },
   "outputs": [],
   "source": [
    "basic_regression = LinearRegression()"
   ]
  },
  {
   "cell_type": "code",
   "execution_count": 208,
   "metadata": {
    "ExecuteTime": {
     "end_time": "2021-04-17T01:59:09.221351Z",
     "start_time": "2021-04-17T01:59:09.175313Z"
    }
   },
   "outputs": [
    {
     "data": {
      "text/plain": [
       "0.8433651827784463"
      ]
     },
     "execution_count": 208,
     "metadata": {},
     "output_type": "execute_result"
    }
   ],
   "source": [
    "cross_val_score(basic_regression,X_train,y_train).mean()"
   ]
  },
  {
   "cell_type": "code",
   "execution_count": 209,
   "metadata": {
    "ExecuteTime": {
     "end_time": "2021-04-17T01:59:09.237366Z",
     "start_time": "2021-04-17T01:59:09.223354Z"
    }
   },
   "outputs": [
    {
     "data": {
      "text/plain": [
       "LinearRegression()"
      ]
     },
     "execution_count": 209,
     "metadata": {},
     "output_type": "execute_result"
    }
   ],
   "source": [
    "basic_regression.fit(X_train,y_train)"
   ]
  },
  {
   "cell_type": "code",
   "execution_count": 210,
   "metadata": {
    "ExecuteTime": {
     "end_time": "2021-04-17T01:59:09.253380Z",
     "start_time": "2021-04-17T01:59:09.239368Z"
    }
   },
   "outputs": [
    {
     "data": {
      "text/plain": [
       "(0.8705131877295553, 0.8639395210016633)"
      ]
     },
     "execution_count": 210,
     "metadata": {},
     "output_type": "execute_result"
    }
   ],
   "source": [
    "basic_regression.score(X_train,y_train), basic_regression.score(X_test,y_test)"
   ]
  },
  {
   "cell_type": "markdown",
   "metadata": {},
   "source": [
    "These R2 scores are pretty good and we have solved our over-fitting problem from the lasso model by removing the features that weren't helping. This model seems to be a good possible option for predicting the housing prices."
   ]
  },
  {
   "cell_type": "code",
   "execution_count": 211,
   "metadata": {
    "ExecuteTime": {
     "end_time": "2021-04-17T01:59:09.268394Z",
     "start_time": "2021-04-17T01:59:09.255382Z"
    }
   },
   "outputs": [],
   "source": [
    "internal_testpreds = basic_regression.predict(X_test)"
   ]
  },
  {
   "cell_type": "code",
   "execution_count": 212,
   "metadata": {
    "ExecuteTime": {
     "end_time": "2021-04-17T01:59:09.284409Z",
     "start_time": "2021-04-17T01:59:09.270395Z"
    },
    "scrolled": true
   },
   "outputs": [
    {
     "data": {
      "text/plain": [
       "22014.584741104056"
      ]
     },
     "execution_count": 212,
     "metadata": {},
     "output_type": "execute_result"
    }
   ],
   "source": [
    "mean_squared_error(y_test,internal_testpreds, squared=False)"
   ]
  },
  {
   "cell_type": "markdown",
   "metadata": {},
   "source": [
    "This is not our best RMSE that we have seen, but it is in the ballpark of all of our other RMSE scores and has a good R2 score. Given the data that we have worked with this seems like it could be a suitable model for predicting the housing prices in Ames, Iowa.  "
   ]
  },
  {
   "cell_type": "code",
   "execution_count": 213,
   "metadata": {
    "ExecuteTime": {
     "end_time": "2021-04-17T01:59:09.531628Z",
     "start_time": "2021-04-17T01:59:09.287411Z"
    },
    "scrolled": true
   },
   "outputs": [
    {
     "data": {
      "text/plain": [
       "''"
      ]
     },
     "execution_count": 213,
     "metadata": {},
     "output_type": "execute_result"
    },
    {
     "data": {
      "image/png": "[encoded data removed]",
      "text/plain": [
       "<Figure size 720x432 with 1 Axes>"
      ]
     },
     "metadata": {},
     "output_type": "display_data"
    }
   ],
   "source": [
    "fig = plt.figure(figsize=(10,6))\n",
    "plt.scatter(internal_testpreds, y_test)\n",
    "plt.title('Actual Values vs Predicted Values')\n",
    "plt.xlabel('Actual values')\n",
    "plt.ylabel('Predicted values')\n",
    ";"
   ]
  },
  {
   "cell_type": "markdown",
   "metadata": {},
   "source": [
    "This is definitely our most line-like graph. The points are relatively packed together and the line shape is very clear. There is really only one outlier prediction which is struggling a lot compared to the rest. "
   ]
  },
  {
   "cell_type": "markdown",
   "metadata": {},
   "source": [
    "kaggle submission:"
   ]
  },
  {
   "cell_type": "code",
   "execution_count": 221,
   "metadata": {
    "ExecuteTime": {
     "end_time": "2021-04-17T02:16:23.351131Z",
     "start_time": "2021-04-17T02:16:23.338110Z"
    }
   },
   "outputs": [],
   "source": [
    "testpreds = basic_regression.predict(housingtest_dummied[newlist2])"
   ]
  },
  {
   "cell_type": "code",
   "execution_count": 222,
   "metadata": {
    "ExecuteTime": {
     "end_time": "2021-04-17T02:16:24.051217Z",
     "start_time": "2021-04-17T02:16:24.045213Z"
    }
   },
   "outputs": [],
   "source": [
    "kaggle_submission = {\n",
    "    'Id': test_ids,\n",
    "    'SalePrice': testpreds\n",
    "}\n",
    "\n",
    "kaggle_submission = pd.DataFrame(kaggle_submission)"
   ]
  },
  {
   "cell_type": "code",
   "execution_count": 223,
   "metadata": {
    "ExecuteTime": {
     "end_time": "2021-04-17T02:16:25.126068Z",
     "start_time": "2021-04-17T02:16:25.112056Z"
    }
   },
   "outputs": [
    {
     "data": {
      "text/html": [
       "<div>\n",
       "<style scoped>\n",
       "    .dataframe tbody tr th:only-of-type {\n",
       "        vertical-align: middle;\n",
       "    }\n",
       "\n",
       "    .dataframe tbody tr th {\n",
       "        vertical-align: top;\n",
       "    }\n",
       "\n",
       "    .dataframe thead th {\n",
       "        text-align: right;\n",
       "    }\n",
       "</style>\n",
       "<table border=\"1\" class=\"dataframe\">\n",
       "  <thead>\n",
       "    <tr style=\"text-align: right;\">\n",
       "      <th></th>\n",
       "      <th>Id</th>\n",
       "      <th>SalePrice</th>\n",
       "    </tr>\n",
       "  </thead>\n",
       "  <tbody>\n",
       "    <tr>\n",
       "      <th>0</th>\n",
       "      <td>2658</td>\n",
       "      <td>140131.622270</td>\n",
       "    </tr>\n",
       "    <tr>\n",
       "      <th>1</th>\n",
       "      <td>2718</td>\n",
       "      <td>197003.277398</td>\n",
       "    </tr>\n",
       "    <tr>\n",
       "      <th>2</th>\n",
       "      <td>2414</td>\n",
       "      <td>150133.716454</td>\n",
       "    </tr>\n",
       "    <tr>\n",
       "      <th>3</th>\n",
       "      <td>1989</td>\n",
       "      <td>110760.441042</td>\n",
       "    </tr>\n",
       "    <tr>\n",
       "      <th>4</th>\n",
       "      <td>625</td>\n",
       "      <td>185672.010955</td>\n",
       "    </tr>\n",
       "  </tbody>\n",
       "</table>\n",
       "</div>"
      ],
      "text/plain": [
       "     Id      SalePrice\n",
       "0  2658  140131.622270\n",
       "1  2718  197003.277398\n",
       "2  2414  150133.716454\n",
       "3  1989  110760.441042\n",
       "4   625  185672.010955"
      ]
     },
     "execution_count": 223,
     "metadata": {},
     "output_type": "execute_result"
    }
   ],
   "source": [
    "kaggle_submission.head()"
   ]
  },
  {
   "cell_type": "code",
   "execution_count": 224,
   "metadata": {
    "ExecuteTime": {
     "end_time": "2021-04-17T02:16:31.742169Z",
     "start_time": "2021-04-17T02:16:31.721151Z"
    }
   },
   "outputs": [],
   "source": [
    "kaggle_submission.to_csv('./kaggle_submissions/kaggle_submission_friday_3.csv', index=False)"
   ]
  },
  {
   "cell_type": "markdown",
   "metadata": {},
   "source": [
    "# conclusion"
   ]
  },
  {
   "cell_type": "markdown",
   "metadata": {},
   "source": [
    "Using several models it is possible to assess the home value of all the homes Ben Seller finds himself suddenly in control of:\n",
    "\n",
    "1. The overall size of the house is a big determining factor in the price, and the age also has a moderate influence.\n",
    "\n",
    "2. Factors such as the neighborhood the house is in, the number of fireplaces, and whether or not the house has central air can play a key role in determining house prices.\n",
    "\n",
    "3. One of the most important features is the overall quality of the house.\n",
    "\n",
    "This project recommends the following going forward to Mr. Seller:\n",
    "\n",
    "1. Evaluate the size and location of all of your newly acquired houses to get an estimate of the house's value.\n",
    "\n",
    "2. With more data an effective model can be built to more accurately predict the price of the houses you are trying to sell.\n",
    "\n",
    "Evaluating the strength of our model, It is clear that is still room for improvement. Using a different slurry of features and testing other feature combinations could always result in a stronger model. The model also does not seem to be well tuned to dealing with outliers, as the train data which was cleared of outliers almost always outperforms the validation data. Stronger feature engineering could also result in a more robust final model created. Overall though the final model has a R2 score of .86 with a RMSE of 22,000. This model would work as a groundwork model to pave the way for more robust models. \n"
   ]
  },
  {
   "cell_type": "markdown",
   "metadata": {},
   "source": [
    "# extra visualizations:"
   ]
  },
  {
   "cell_type": "code",
   "execution_count": 214,
   "metadata": {
    "ExecuteTime": {
     "end_time": "2021-04-17T01:59:09.546640Z",
     "start_time": "2021-04-17T01:59:09.533629Z"
    },
    "scrolled": true
   },
   "outputs": [
    {
     "data": {
      "text/html": [
       "<div>\n",
       "<style scoped>\n",
       "    .dataframe tbody tr th:only-of-type {\n",
       "        vertical-align: middle;\n",
       "    }\n",
       "\n",
       "    .dataframe tbody tr th {\n",
       "        vertical-align: top;\n",
       "    }\n",
       "\n",
       "    .dataframe thead th {\n",
       "        text-align: right;\n",
       "    }\n",
       "</style>\n",
       "<table border=\"1\" class=\"dataframe\">\n",
       "  <thead>\n",
       "    <tr style=\"text-align: right;\">\n",
       "      <th></th>\n",
       "      <th>0</th>\n",
       "      <th>1</th>\n",
       "    </tr>\n",
       "  </thead>\n",
       "  <tbody>\n",
       "    <tr>\n",
       "      <th>0</th>\n",
       "      <td>Lot Shape</td>\n",
       "      <td>-2042.111094</td>\n",
       "    </tr>\n",
       "    <tr>\n",
       "      <th>1</th>\n",
       "      <td>Neighborhood</td>\n",
       "      <td>5147.064922</td>\n",
       "    </tr>\n",
       "    <tr>\n",
       "      <th>2</th>\n",
       "      <td>Overall Qual</td>\n",
       "      <td>9116.998491</td>\n",
       "    </tr>\n",
       "    <tr>\n",
       "      <th>3</th>\n",
       "      <td>Year Built</td>\n",
       "      <td>670.331072</td>\n",
       "    </tr>\n",
       "    <tr>\n",
       "      <th>4</th>\n",
       "      <td>Year Remod/Add</td>\n",
       "      <td>2139.167008</td>\n",
       "    </tr>\n",
       "  </tbody>\n",
       "</table>\n",
       "</div>"
      ],
      "text/plain": [
       "                0            1\n",
       "0       Lot Shape -2042.111094\n",
       "1    Neighborhood  5147.064922\n",
       "2    Overall Qual  9116.998491\n",
       "3      Year Built   670.331072\n",
       "4  Year Remod/Add  2139.167008"
      ]
     },
     "execution_count": 214,
     "metadata": {},
     "output_type": "execute_result"
    }
   ],
   "source": [
    "ridgedf.head()"
   ]
  },
  {
   "cell_type": "code",
   "execution_count": 215,
   "metadata": {
    "ExecuteTime": {
     "end_time": "2021-04-17T01:59:09.562654Z",
     "start_time": "2021-04-17T01:59:09.548642Z"
    }
   },
   "outputs": [],
   "source": [
    "renamedict = {\n",
    "    'Lot Shape': 'Lot Shape', 'Neighborhood':'Neighborhood', 'Overall Qual': 'Overall Quality', \n",
    "    'Year Built': 'Year Built', 'Year Remod/Add': 'Remodeled', 'BsmtFin Type 1': 'Finished Basement',\n",
    "    'BsmntFin SF 1': 'Size of Finshed Basement', 'Bsmt Full Bath': 'Full Baths Basement',\n",
    "    'Total Bsmt SF': 'Total basement size (finshed + unfished)', '1st Flr SF': 'First Floor Size',\n",
    "    'Gr Liv Area': 'Above ground living area', 'Full Bath': 'Full Bath Total', 'Fireplaces': 'Number of Fireplaces',\n",
    "    'Garage Yr Blt': 'Year Garage Built', 'Garage Finish': 'Interior Status of Gararage',\n",
    "    'Garage Cars': 'Garage Cars', 'Garage Area': 'Garage Area', 'Paved Drive': 'Paved Driveway',\n",
    "    'total_sf':'Total Square Footage', 'recently built': 'built after 2000', \n",
    "    'Ms Zoning_FV': 'Floating Village', 'MS Zoning_RM': 'Residental density (medium)',\n",
    "    'Bldg Type_TwnhsE': 'Townhouse', 'House Style_1Story': 'Single Story House',\n",
    "    'Mas Vnr Type_None': 'No Masonry Veneer', 'Foundation_Cblock': 'Cinder Block Foundation',\n",
    "    'Foundation_PConc' : 'Poured Concrete Foundation', 'Central Air_Y': 'Has Central Air'\n",
    "\n",
    "}"
   ]
  },
  {
   "cell_type": "code",
   "execution_count": 216,
   "metadata": {
    "ExecuteTime": {
     "end_time": "2021-04-17T01:59:09.578668Z",
     "start_time": "2021-04-17T01:59:09.564658Z"
    },
    "scrolled": true
   },
   "outputs": [],
   "source": [
    "ridgedf[0] = ridgedf[0].map(renamedict)"
   ]
  },
  {
   "cell_type": "code",
   "execution_count": 217,
   "metadata": {
    "ExecuteTime": {
     "end_time": "2021-04-17T01:59:09.594682Z",
     "start_time": "2021-04-17T01:59:09.580670Z"
    },
    "scrolled": true
   },
   "outputs": [
    {
     "data": {
      "text/html": [
       "<div>\n",
       "<style scoped>\n",
       "    .dataframe tbody tr th:only-of-type {\n",
       "        vertical-align: middle;\n",
       "    }\n",
       "\n",
       "    .dataframe tbody tr th {\n",
       "        vertical-align: top;\n",
       "    }\n",
       "\n",
       "    .dataframe thead th {\n",
       "        text-align: right;\n",
       "    }\n",
       "</style>\n",
       "<table border=\"1\" class=\"dataframe\">\n",
       "  <thead>\n",
       "    <tr style=\"text-align: right;\">\n",
       "      <th></th>\n",
       "      <th>0</th>\n",
       "      <th>1</th>\n",
       "    </tr>\n",
       "  </thead>\n",
       "  <tbody>\n",
       "    <tr>\n",
       "      <th>0</th>\n",
       "      <td>Lot Shape</td>\n",
       "      <td>-2042.111094</td>\n",
       "    </tr>\n",
       "    <tr>\n",
       "      <th>1</th>\n",
       "      <td>Neighborhood</td>\n",
       "      <td>5147.064922</td>\n",
       "    </tr>\n",
       "    <tr>\n",
       "      <th>2</th>\n",
       "      <td>Overall Quality</td>\n",
       "      <td>9116.998491</td>\n",
       "    </tr>\n",
       "    <tr>\n",
       "      <th>3</th>\n",
       "      <td>Year Built</td>\n",
       "      <td>670.331072</td>\n",
       "    </tr>\n",
       "    <tr>\n",
       "      <th>4</th>\n",
       "      <td>Remodeled</td>\n",
       "      <td>2139.167008</td>\n",
       "    </tr>\n",
       "    <tr>\n",
       "      <th>5</th>\n",
       "      <td>Finished Basement</td>\n",
       "      <td>1639.539992</td>\n",
       "    </tr>\n",
       "    <tr>\n",
       "      <th>6</th>\n",
       "      <td>NaN</td>\n",
       "      <td>6733.964563</td>\n",
       "    </tr>\n",
       "    <tr>\n",
       "      <th>7</th>\n",
       "      <td>Total basement size (finshed + unfished)</td>\n",
       "      <td>3283.825436</td>\n",
       "    </tr>\n",
       "    <tr>\n",
       "      <th>8</th>\n",
       "      <td>First Floor Size</td>\n",
       "      <td>6132.043803</td>\n",
       "    </tr>\n",
       "    <tr>\n",
       "      <th>9</th>\n",
       "      <td>Above ground living area</td>\n",
       "      <td>6924.410762</td>\n",
       "    </tr>\n",
       "    <tr>\n",
       "      <th>10</th>\n",
       "      <td>Full Baths Basement</td>\n",
       "      <td>2177.387714</td>\n",
       "    </tr>\n",
       "    <tr>\n",
       "      <th>11</th>\n",
       "      <td>Full Bath Total</td>\n",
       "      <td>-39.414858</td>\n",
       "    </tr>\n",
       "    <tr>\n",
       "      <th>12</th>\n",
       "      <td>Number of Fireplaces</td>\n",
       "      <td>4293.384090</td>\n",
       "    </tr>\n",
       "    <tr>\n",
       "      <th>13</th>\n",
       "      <td>Year Garage Built</td>\n",
       "      <td>630.160065</td>\n",
       "    </tr>\n",
       "    <tr>\n",
       "      <th>14</th>\n",
       "      <td>Interior Status of Gararage</td>\n",
       "      <td>3223.804192</td>\n",
       "    </tr>\n",
       "    <tr>\n",
       "      <th>15</th>\n",
       "      <td>Garage Cars</td>\n",
       "      <td>-2064.653154</td>\n",
       "    </tr>\n",
       "    <tr>\n",
       "      <th>16</th>\n",
       "      <td>Garage Area</td>\n",
       "      <td>3491.223934</td>\n",
       "    </tr>\n",
       "    <tr>\n",
       "      <th>17</th>\n",
       "      <td>Paved Driveway</td>\n",
       "      <td>124.805776</td>\n",
       "    </tr>\n",
       "    <tr>\n",
       "      <th>18</th>\n",
       "      <td>Total Square Footage</td>\n",
       "      <td>6090.752273</td>\n",
       "    </tr>\n",
       "    <tr>\n",
       "      <th>19</th>\n",
       "      <td>built after 2000</td>\n",
       "      <td>501.090705</td>\n",
       "    </tr>\n",
       "    <tr>\n",
       "      <th>20</th>\n",
       "      <td>NaN</td>\n",
       "      <td>4023.481517</td>\n",
       "    </tr>\n",
       "    <tr>\n",
       "      <th>21</th>\n",
       "      <td>Residental density (medium)</td>\n",
       "      <td>-1058.942425</td>\n",
       "    </tr>\n",
       "    <tr>\n",
       "      <th>22</th>\n",
       "      <td>Townhouse</td>\n",
       "      <td>508.408203</td>\n",
       "    </tr>\n",
       "    <tr>\n",
       "      <th>23</th>\n",
       "      <td>Single Story House</td>\n",
       "      <td>-605.617229</td>\n",
       "    </tr>\n",
       "    <tr>\n",
       "      <th>24</th>\n",
       "      <td>No Masonry Veneer</td>\n",
       "      <td>-1304.845293</td>\n",
       "    </tr>\n",
       "    <tr>\n",
       "      <th>25</th>\n",
       "      <td>NaN</td>\n",
       "      <td>-999.367851</td>\n",
       "    </tr>\n",
       "    <tr>\n",
       "      <th>26</th>\n",
       "      <td>Poured Concrete Foundation</td>\n",
       "      <td>1061.899294</td>\n",
       "    </tr>\n",
       "    <tr>\n",
       "      <th>27</th>\n",
       "      <td>Has Central Air</td>\n",
       "      <td>1349.910121</td>\n",
       "    </tr>\n",
       "  </tbody>\n",
       "</table>\n",
       "</div>"
      ],
      "text/plain": [
       "                                           0            1\n",
       "0                                  Lot Shape -2042.111094\n",
       "1                               Neighborhood  5147.064922\n",
       "2                            Overall Quality  9116.998491\n",
       "3                                 Year Built   670.331072\n",
       "4                                  Remodeled  2139.167008\n",
       "5                          Finished Basement  1639.539992\n",
       "6                                        NaN  6733.964563\n",
       "7   Total basement size (finshed + unfished)  3283.825436\n",
       "8                           First Floor Size  6132.043803\n",
       "9                   Above ground living area  6924.410762\n",
       "10                       Full Baths Basement  2177.387714\n",
       "11                           Full Bath Total   -39.414858\n",
       "12                      Number of Fireplaces  4293.384090\n",
       "13                         Year Garage Built   630.160065\n",
       "14               Interior Status of Gararage  3223.804192\n",
       "15                               Garage Cars -2064.653154\n",
       "16                               Garage Area  3491.223934\n",
       "17                            Paved Driveway   124.805776\n",
       "18                      Total Square Footage  6090.752273\n",
       "19                          built after 2000   501.090705\n",
       "20                                       NaN  4023.481517\n",
       "21               Residental density (medium) -1058.942425\n",
       "22                                 Townhouse   508.408203\n",
       "23                        Single Story House  -605.617229\n",
       "24                         No Masonry Veneer -1304.845293\n",
       "25                                       NaN  -999.367851\n",
       "26                Poured Concrete Foundation  1061.899294\n",
       "27                           Has Central Air  1349.910121"
      ]
     },
     "execution_count": 217,
     "metadata": {},
     "output_type": "execute_result"
    }
   ],
   "source": [
    "ridgedf"
   ]
  },
  {
   "cell_type": "code",
   "execution_count": 218,
   "metadata": {
    "ExecuteTime": {
     "end_time": "2021-04-17T01:59:09.609695Z",
     "start_time": "2021-04-17T01:59:09.596684Z"
    }
   },
   "outputs": [],
   "source": [
    "ridgedf.rename(columns={0 : 'Feature', 1: 'Ridge Coefs'}, inplace=True)"
   ]
  },
  {
   "cell_type": "code",
   "execution_count": 219,
   "metadata": {
    "ExecuteTime": {
     "end_time": "2021-04-17T01:59:09.625709Z",
     "start_time": "2021-04-17T01:59:09.611699Z"
    }
   },
   "outputs": [],
   "source": [
    "ridgedf = ridgedf.sort_values('Ridge Coefs', ascending=False).reset_index(drop=True)"
   ]
  },
  {
   "cell_type": "code",
   "execution_count": 220,
   "metadata": {
    "ExecuteTime": {
     "end_time": "2021-04-17T01:59:10.066098Z",
     "start_time": "2021-04-17T01:59:09.627711Z"
    }
   },
   "outputs": [
    {
     "data": {
      "text/plain": [
       "''"
      ]
     },
     "execution_count": 220,
     "metadata": {},
     "output_type": "execute_result"
    },
    {
     "data": {
      "image/png": "[encoded data removed]",
      "text/plain": [
       "<Figure size 720x432 with 1 Axes>"
      ]
     },
     "metadata": {},
     "output_type": "display_data"
    }
   ],
   "source": [
    "plt.figure(figsize=(10,6))\n",
    " \n",
    "ax = sns.barplot(x= 'Ridge Coefs',\n",
    "                 y= 'Feature',\n",
    "                 data= ridgedf,\n",
    "                 ci= False,\n",
    "           )\n",
    "plt.title('Ridge Coefficient for High Impact Features')\n",
    "plt.xlabel('Ridge Coefficients')\n",
    ";"
   ]
  }
 ],
 "metadata": {
  "kernelspec": {
   "display_name": "Python 3",
   "language": "python",
   "name": "python3"
  },
  "language_info": {
   "codemirror_mode": {
    "name": "ipython",
    "version": 3
   },
   "file_extension": ".py",
   "mimetype": "text/x-python",
   "name": "python",
   "nbconvert_exporter": "python",
   "pygments_lexer": "ipython3",
   "version": "3.8.5"
  }
 },
 "nbformat": 4,
 "nbformat_minor": 4
}
